{
 "cells": [
  {
   "cell_type": "code",
   "execution_count": 2,
   "id": "06306af2-2101-44a3-a1d7-4bdc7fd7b35e",
   "metadata": {},
   "outputs": [
    {
     "ename": "SyntaxError",
     "evalue": "invalid syntax (2340249249.py, line 1)",
     "output_type": "error",
     "traceback": [
      "\u001b[0;36m  Cell \u001b[0;32mIn[2], line 1\u001b[0;36m\u001b[0m\n\u001b[0;31m    1. NUMERIC -- INT,FLOAT,COMPLEX\u001b[0m\n\u001b[0m       ^\u001b[0m\n\u001b[0;31mSyntaxError\u001b[0m\u001b[0;31m:\u001b[0m invalid syntax\n"
     ]
    }
   ],
   "source": [
    "1. NUMERIC -- INT,FLOAT,COMPLEX\n",
    "2. STRING -- STR\n",
    "3. LIST \n",
    "4. TUPLE\n",
    "5. DICT\n",
    "6. SETS"
   ]
  },
  {
   "cell_type": "code",
   "execution_count": 3,
   "id": "99686b91-c47f-4e63-bfbc-e88780b11912",
   "metadata": {},
   "outputs": [],
   "source": [
    "X = 10"
   ]
  },
  {
   "cell_type": "code",
   "execution_count": 4,
   "id": "2cafa348-ade7-4310-a9d7-cc0de862b22c",
   "metadata": {},
   "outputs": [],
   "source": [
    "X = 1.34\n"
   ]
  },
  {
   "cell_type": "code",
   "execution_count": 5,
   "id": "fb9e6ba8-dd6f-46ae-842c-2b9611c7cdaf",
   "metadata": {},
   "outputs": [],
   "source": [
    "X = 'IMRAN'"
   ]
  },
  {
   "cell_type": "code",
   "execution_count": 6,
   "id": "37a454ad-9c68-4e2f-ae17-8d516cc3a252",
   "metadata": {},
   "outputs": [],
   "source": [
    "X = ['HI',1,3,]"
   ]
  },
  {
   "cell_type": "code",
   "execution_count": 7,
   "id": "f5dd09e8-43ec-493d-8002-a1ecc95904e1",
   "metadata": {},
   "outputs": [],
   "source": [
    "Y = {'NAME':'IMARAN'}"
   ]
  },
  {
   "cell_type": "code",
   "execution_count": 8,
   "id": "dc6a1dec-1c81-43eb-8e7b-3245e546a3d6",
   "metadata": {},
   "outputs": [
    {
     "data": {
      "text/plain": [
       "{0, 2, 8, 'a'}"
      ]
     },
     "execution_count": 8,
     "metadata": {},
     "output_type": "execute_result"
    }
   ],
   "source": [
    "j = {2,'a',8,0}\n",
    "j"
   ]
  },
  {
   "cell_type": "code",
   "execution_count": 9,
   "id": "432d06c3-2105-4153-b5d1-53e4bf188846",
   "metadata": {},
   "outputs": [],
   "source": [
    "H = (1,2,3,4.)"
   ]
  },
  {
   "cell_type": "code",
   "execution_count": 10,
   "id": "dcc630ed-e62e-4d1f-8703-8dfe7ce6d26f",
   "metadata": {},
   "outputs": [
    {
     "data": {
      "text/plain": [
       "dict"
      ]
     },
     "execution_count": 10,
     "metadata": {},
     "output_type": "execute_result"
    }
   ],
   "source": [
    "type(Y)"
   ]
  },
  {
   "cell_type": "code",
   "execution_count": 11,
   "id": "f399588b-3712-48ec-91e6-84aac0df1204",
   "metadata": {},
   "outputs": [
    {
     "name": "stdin",
     "output_type": "stream",
     "text": [
      "enter your name hello\n"
     ]
    },
    {
     "name": "stdout",
     "output_type": "stream",
     "text": [
      "hello\n"
     ]
    }
   ],
   "source": [
    "x = input('enter your name')\n",
    "print(x)"
   ]
  },
  {
   "cell_type": "code",
   "execution_count": 12,
   "id": "eee9e3f5-0129-4d4d-9258-95904fb4c393",
   "metadata": {},
   "outputs": [
    {
     "name": "stdout",
     "output_type": "stream",
     "text": [
      "hello\n"
     ]
    }
   ],
   "source": [
    "print(x)"
   ]
  },
  {
   "cell_type": "code",
   "execution_count": 13,
   "id": "4555cb8d-7e77-4088-bcb5-e4eb789c77de",
   "metadata": {},
   "outputs": [
    {
     "name": "stdin",
     "output_type": "stream",
     "text": [
      "enter your age 30\n"
     ]
    },
    {
     "name": "stdout",
     "output_type": "stream",
     "text": [
      "my age is:30\n"
     ]
    }
   ],
   "source": [
    "y = input('enter your age')     # take a look\n",
    "print('my age is:'+y)"
   ]
  },
  {
   "cell_type": "code",
   "execution_count": 14,
   "id": "6f0b9be4-040e-4ea2-b65f-8989a5a897ee",
   "metadata": {},
   "outputs": [
    {
     "name": "stdout",
     "output_type": "stream",
     "text": [
      "sum is:  9\n"
     ]
    }
   ],
   "source": [
    "x=5\n",
    "y=4\n",
    "print(\"sum is: \",(x+y))"
   ]
  },
  {
   "cell_type": "code",
   "execution_count": 17,
   "id": "1871f155-beeb-46f7-af50-0895818f44c0",
   "metadata": {},
   "outputs": [
    {
     "name": "stdin",
     "output_type": "stream",
     "text": [
      "enter no1 8\n",
      "enter no2 9\n"
     ]
    },
    {
     "name": "stdout",
     "output_type": "stream",
     "text": [
      "the sum is : 17\n"
     ]
    }
   ],
   "source": [
    "x = int(input(\"enter no1\"))\n",
    "y = int(input(\"enter no2\"))\n",
    "print(\"the sum is :\", x + y)"
   ]
  },
  {
   "cell_type": "markdown",
   "id": "c9b71263-29e5-48ba-8aed-8daaee63484d",
   "metadata": {},
   "source": [
    "## different formats of print"
   ]
  },
  {
   "cell_type": "code",
   "execution_count": 18,
   "id": "99ef783c-ebbc-4906-a908-658f4cad3305",
   "metadata": {},
   "outputs": [
    {
     "name": "stdout",
     "output_type": "stream",
     "text": [
      "hi whateverpwskills\n"
     ]
    }
   ],
   "source": [
    "x = \"hi\"               # f string format\n",
    "y = \"pwskills\"\n",
    "print(f\"{x} whatever{y}\")"
   ]
  },
  {
   "cell_type": "code",
   "execution_count": 19,
   "id": "03b1370f-4ed9-48cb-b82c-0e9e52454e92",
   "metadata": {},
   "outputs": [
    {
     "name": "stdout",
     "output_type": "stream",
     "text": [
      "pw\n"
     ]
    }
   ],
   "source": [
    "print(\"pw\")"
   ]
  },
  {
   "cell_type": "code",
   "execution_count": 20,
   "id": "f7725d9b-b016-463a-8aff-d447579f24ea",
   "metadata": {},
   "outputs": [
    {
     "name": "stdout",
     "output_type": "stream",
     "text": [
      "5\n"
     ]
    }
   ],
   "source": [
    "print(\"5\")"
   ]
  },
  {
   "cell_type": "code",
   "execution_count": 21,
   "id": "3cbe1642-3d6f-4f17-b166-05f5e36790f3",
   "metadata": {},
   "outputs": [
    {
     "name": "stdout",
     "output_type": "stream",
     "text": [
      "My name is haris and my age is 30\n"
     ]
    }
   ],
   "source": [
    "name = \"haris\"\n",
    "age = 30\n",
    "print(f\"My name is {name} and my age is {age}\")"
   ]
  },
  {
   "cell_type": "code",
   "execution_count": 22,
   "id": "30fd8c73-6470-49a4-9182-9385b7ae4ed6",
   "metadata": {},
   "outputs": [
    {
     "name": "stdout",
     "output_type": "stream",
     "text": [
      "haris and skills and pw\n"
     ]
    }
   ],
   "source": [
    "print(\"{2} and {1} and {0}\". format(\"pw\",\"skills\",\"haris\"))           # dot format of print function"
   ]
  },
  {
   "cell_type": "code",
   "execution_count": 23,
   "id": "30fcd3bd-fbd2-4a0a-9be3-9aa0328c7a46",
   "metadata": {},
   "outputs": [
    {
     "name": "stdout",
     "output_type": "stream",
     "text": [
      "89074562\n",
      "Hii!!\n",
      "$$Howareyou??\n",
      "10*10 = 100\n",
      "(12 > 10) and True\n"
     ]
    }
   ],
   "source": [
    "print('''89074562\n",
    "Hii!!\n",
    "$$Howareyou??\n",
    "10*10 = 100\n",
    "(12 > 10) and True''')"
   ]
  },
  {
   "cell_type": "code",
   "execution_count": 24,
   "id": "a48681ba-6de0-4e4e-90f2-72cd0770aacb",
   "metadata": {},
   "outputs": [
    {
     "name": "stdout",
     "output_type": "stream",
     "text": [
      "$\n",
      "$$\n",
      "$$$\n",
      "$$$$\n"
     ]
    }
   ],
   "source": [
    "print('''$\n",
    "$$\n",
    "$$$\n",
    "$$$$''')"
   ]
  },
  {
   "cell_type": "code",
   "execution_count": 25,
   "id": "745784c4-42e9-4351-8ace-921365f57573",
   "metadata": {},
   "outputs": [
    {
     "name": "stdin",
     "output_type": "stream",
     "text": [
      "enter the string juy\n"
     ]
    },
    {
     "name": "stdout",
     "output_type": "stream",
     "text": [
      "! juy!\n"
     ]
    }
   ],
   "source": [
    "x = input('enter the string')\n",
    "y = x \n",
    "z = \"! \" + x + \"!\"\n",
    "print(z)"
   ]
  },
  {
   "cell_type": "code",
   "execution_count": 26,
   "id": "be849f36-4090-4e8f-9437-ee8d846ecf99",
   "metadata": {},
   "outputs": [
    {
     "name": "stdin",
     "output_type": "stream",
     "text": [
      "enter the string hello\n"
     ]
    },
    {
     "name": "stdout",
     "output_type": "stream",
     "text": [
      "!hello!\n"
     ]
    }
   ],
   "source": [
    "x = input('enter the string')\n",
    "print(\"!\" + x + \"!\")"
   ]
  },
  {
   "cell_type": "markdown",
   "id": "a8f38f2b-2f18-4911-9e26-efe4f6e8b6a0",
   "metadata": {},
   "source": [
    "# operators"
   ]
  },
  {
   "cell_type": "markdown",
   "id": "9d14444d-9dfe-4e68-855e-4863e4511434",
   "metadata": {},
   "source": [
    "## arthematic operators"
   ]
  },
  {
   "cell_type": "code",
   "execution_count": 27,
   "id": "499b4801-4fb1-4b77-9022-0b2ab4c729d2",
   "metadata": {},
   "outputs": [
    {
     "data": {
      "text/plain": [
       "66"
      ]
     },
     "execution_count": 27,
     "metadata": {},
     "output_type": "execute_result"
    }
   ],
   "source": [
    "a = 10 \n",
    "b = 56\n",
    "a+b"
   ]
  },
  {
   "cell_type": "code",
   "execution_count": 28,
   "id": "e097ca67-15c1-4b59-b9ce-0eafd7626c5a",
   "metadata": {},
   "outputs": [
    {
     "data": {
      "text/plain": [
       "560"
      ]
     },
     "execution_count": 28,
     "metadata": {},
     "output_type": "execute_result"
    }
   ],
   "source": [
    "a * b"
   ]
  },
  {
   "cell_type": "code",
   "execution_count": 29,
   "id": "6da4ffb2-31a6-4ec3-92ed-4dc60645dc82",
   "metadata": {},
   "outputs": [
    {
     "data": {
      "text/plain": [
       "0.17857142857142858"
      ]
     },
     "execution_count": 29,
     "metadata": {},
     "output_type": "execute_result"
    }
   ],
   "source": [
    "a/b"
   ]
  },
  {
   "cell_type": "code",
   "execution_count": 30,
   "id": "76552f41-096c-4a95-81f2-bd870368d84a",
   "metadata": {},
   "outputs": [
    {
     "data": {
      "text/plain": [
       "5.6"
      ]
     },
     "execution_count": 30,
     "metadata": {},
     "output_type": "execute_result"
    }
   ],
   "source": [
    "b/a       # gives quotient"
   ]
  },
  {
   "cell_type": "code",
   "execution_count": 31,
   "id": "b71bec8a-7d07-4414-961f-7a5fea565d86",
   "metadata": {},
   "outputs": [
    {
     "data": {
      "text/plain": [
       "6"
      ]
     },
     "execution_count": 31,
     "metadata": {},
     "output_type": "execute_result"
    }
   ],
   "source": [
    "b%a        # gives remainder"
   ]
  },
  {
   "cell_type": "code",
   "execution_count": 43,
   "id": "cf7b4149-6a32-4740-88f8-53dde81e8bf5",
   "metadata": {},
   "outputs": [
    {
     "data": {
      "text/plain": [
       "False"
      ]
     },
     "execution_count": 43,
     "metadata": {},
     "output_type": "execute_result"
    }
   ],
   "source": [
    "a == b            # equality operator ( compares equality of objects)\n",
    "                  # '=' assignment operator\n",
    "                  # check for '==='\n",
    "a is b"
   ]
  },
  {
   "cell_type": "code",
   "execution_count": 44,
   "id": "7001a355-432b-49b4-b85e-e1a6fc0c61d7",
   "metadata": {},
   "outputs": [
    {
     "data": {
      "text/plain": [
       "True"
      ]
     },
     "execution_count": 44,
     "metadata": {},
     "output_type": "execute_result"
    }
   ],
   "source": [
    "a = b            # equality operator ( compares equality of objects)\n",
    "                  # '=' assignment operator\n",
    "                  # check for '==='\n",
    "a is b"
   ]
  },
  {
   "cell_type": "code",
   "execution_count": 45,
   "id": "5a70f218-bf28-4c07-a694-9f7b3f206d05",
   "metadata": {},
   "outputs": [
    {
     "data": {
      "text/plain": [
       "139651066070992"
      ]
     },
     "execution_count": 45,
     "metadata": {},
     "output_type": "execute_result"
    }
   ],
   "source": [
    "id(a)           # gives the memory adress"
   ]
  },
  {
   "cell_type": "code",
   "execution_count": 46,
   "id": "bd77c2ec-1b78-4e0f-a12a-305480e5865d",
   "metadata": {},
   "outputs": [
    {
     "data": {
      "text/plain": [
       "139651066070992"
      ]
     },
     "execution_count": 46,
     "metadata": {},
     "output_type": "execute_result"
    }
   ],
   "source": [
    "id(b)\n"
   ]
  },
  {
   "cell_type": "code",
   "execution_count": 47,
   "id": "ac14cc45-8f4d-4755-9206-7f4c138083cc",
   "metadata": {},
   "outputs": [
    {
     "data": {
      "text/plain": [
       "True"
      ]
     },
     "execution_count": 47,
     "metadata": {},
     "output_type": "execute_result"
    }
   ],
   "source": [
    "a is b            # identity operator  (whether they are pointing to same memory object ) checks for the memory location "
   ]
  },
  {
   "cell_type": "code",
   "execution_count": 48,
   "id": "640c30b1-831f-4d9b-a75d-e26c73b5c71f",
   "metadata": {},
   "outputs": [],
   "source": [
    "a = 23\n",
    "b = 56"
   ]
  },
  {
   "cell_type": "code",
   "execution_count": 49,
   "id": "b70bf1c0-944f-4a9e-9309-4b4adf929a76",
   "metadata": {},
   "outputs": [
    {
     "data": {
      "text/plain": [
       "True"
      ]
     },
     "execution_count": 49,
     "metadata": {},
     "output_type": "execute_result"
    }
   ],
   "source": [
    "a != b"
   ]
  },
  {
   "cell_type": "code",
   "execution_count": 50,
   "id": "c0897a70-69d8-4d3c-8e39-4fbd51acb4d6",
   "metadata": {},
   "outputs": [
    {
     "data": {
      "text/plain": [
       "True"
      ]
     },
     "execution_count": 50,
     "metadata": {},
     "output_type": "execute_result"
    }
   ],
   "source": [
    "a = [1,2,3]\n",
    "b = [1,2,3]\n",
    "a == b\n"
   ]
  },
  {
   "cell_type": "code",
   "execution_count": 51,
   "id": "a63ce948-9c0a-405c-bc65-1dd09a89baae",
   "metadata": {},
   "outputs": [
    {
     "data": {
      "text/plain": [
       "139650998745088"
      ]
     },
     "execution_count": 51,
     "metadata": {},
     "output_type": "execute_result"
    }
   ],
   "source": [
    "id(a)"
   ]
  },
  {
   "cell_type": "code",
   "execution_count": null,
   "id": "76d131b4-81fe-4594-9d33-fd5c9566e422",
   "metadata": {},
   "outputs": [],
   "source": []
  },
  {
   "cell_type": "code",
   "execution_count": 52,
   "id": "1df3e8c0-bcee-404d-9c60-c21fdc5da712",
   "metadata": {},
   "outputs": [
    {
     "data": {
      "text/plain": [
       "139650998815360"
      ]
     },
     "execution_count": 52,
     "metadata": {},
     "output_type": "execute_result"
    }
   ],
   "source": [
    "id(b)"
   ]
  },
  {
   "cell_type": "code",
   "execution_count": 53,
   "id": "2188d1ae-4944-4a2c-b862-f8cb69f11e65",
   "metadata": {},
   "outputs": [
    {
     "data": {
      "text/plain": [
       "False"
      ]
     },
     "execution_count": 53,
     "metadata": {},
     "output_type": "execute_result"
    }
   ],
   "source": [
    "a is b"
   ]
  },
  {
   "cell_type": "markdown",
   "id": "d162b714-628a-4db2-852d-eb794f0eab6a",
   "metadata": {},
   "source": [
    "## comparison operators"
   ]
  },
  {
   "cell_type": "code",
   "execution_count": 54,
   "id": "d779e50c-2586-4591-a2b7-095b6945cce1",
   "metadata": {},
   "outputs": [
    {
     "name": "stdin",
     "output_type": "stream",
     "text": [
      "enter the integer:  7\n"
     ]
    },
    {
     "name": "stdout",
     "output_type": "stream",
     "text": [
      "7147363585571387.0\n"
     ]
    }
   ],
   "source": [
    "x = int(input(\"enter the integer: \"))     # / always returns a floating-point result, even for integer operands.\n",
    "y = 3**35/x\n",
    "print(y)"
   ]
  },
  {
   "cell_type": "code",
   "execution_count": 55,
   "id": "5ac3ccf2-5e04-47bd-8531-4aebef9ac547",
   "metadata": {},
   "outputs": [
    {
     "name": "stdin",
     "output_type": "stream",
     "text": [
      "enter the integer:  7\n"
     ]
    },
    {
     "name": "stdout",
     "output_type": "stream",
     "text": [
      "7147363585571386\n"
     ]
    }
   ],
   "source": [
    "x = int(input(\"enter the integer: \"))\n",
    "base = 3\n",
    "exponent = 35\n",
    "result = pow(base, exponent)\n",
    "print(result//x)                    # // returns the floor division result, which is an integer.\n"
   ]
  },
  {
   "cell_type": "code",
   "execution_count": 56,
   "id": "007588b4-5112-41b9-a766-4f9ad9a24abe",
   "metadata": {},
   "outputs": [
    {
     "data": {
      "text/plain": [
       "1.5"
      ]
     },
     "execution_count": 56,
     "metadata": {},
     "output_type": "execute_result"
    }
   ],
   "source": [
    "3/2"
   ]
  },
  {
   "cell_type": "code",
   "execution_count": 57,
   "id": "c2261f97-8d83-477d-ba79-38cea56c791a",
   "metadata": {},
   "outputs": [
    {
     "data": {
      "text/plain": [
       "1"
      ]
     },
     "execution_count": 57,
     "metadata": {},
     "output_type": "execute_result"
    }
   ],
   "source": [
    "3//2"
   ]
  },
  {
   "cell_type": "code",
   "execution_count": 58,
   "id": "53b54eaf-ec63-4d3d-8d3f-621cce0886d1",
   "metadata": {},
   "outputs": [
    {
     "data": {
      "text/plain": [
       "False"
      ]
     },
     "execution_count": 58,
     "metadata": {},
     "output_type": "execute_result"
    }
   ],
   "source": [
    "a > b"
   ]
  },
  {
   "cell_type": "code",
   "execution_count": 59,
   "id": "637a9f1a-1bbc-45d1-aef9-7db34d573456",
   "metadata": {},
   "outputs": [
    {
     "data": {
      "text/plain": [
       "False"
      ]
     },
     "execution_count": 59,
     "metadata": {},
     "output_type": "execute_result"
    }
   ],
   "source": [
    "a < b"
   ]
  },
  {
   "cell_type": "markdown",
   "id": "9c1b1d2e-3d0b-4fe4-9e13-70708524757d",
   "metadata": {},
   "source": [
    "## logical operators"
   ]
  },
  {
   "cell_type": "code",
   "execution_count": 60,
   "id": "d00d5e8b-23b9-49fe-b770-25cb041def17",
   "metadata": {},
   "outputs": [],
   "source": [
    "a = 10"
   ]
  },
  {
   "cell_type": "code",
   "execution_count": 61,
   "id": "45673dac-b6e7-4161-a64f-ab8890a02c01",
   "metadata": {},
   "outputs": [],
   "source": [
    "b = 4"
   ]
  },
  {
   "cell_type": "code",
   "execution_count": 62,
   "id": "bebce020-2e12-4f43-928d-e11b8f2d75cd",
   "metadata": {},
   "outputs": [
    {
     "data": {
      "text/plain": [
       "'0b1010'"
      ]
     },
     "execution_count": 62,
     "metadata": {},
     "output_type": "execute_result"
    }
   ],
   "source": [
    "bin(a)"
   ]
  },
  {
   "cell_type": "code",
   "execution_count": 63,
   "id": "88d14524-1046-499f-b8ea-1c30af27d825",
   "metadata": {},
   "outputs": [
    {
     "data": {
      "text/plain": [
       "'0b100'"
      ]
     },
     "execution_count": 63,
     "metadata": {},
     "output_type": "execute_result"
    }
   ],
   "source": [
    "bin(b)"
   ]
  },
  {
   "cell_type": "code",
   "execution_count": 64,
   "id": "e502c1d8-dbbf-459d-a00a-1f48e94f18da",
   "metadata": {},
   "outputs": [
    {
     "data": {
      "text/plain": [
       "4"
      ]
     },
     "execution_count": 64,
     "metadata": {},
     "output_type": "execute_result"
    }
   ],
   "source": [
    "a and b                     \n",
    "'''and operator is a logical operator that returns the first false operand or the last operand if none are false.\n",
    "Here, you're using a and b. If both a and b are truthy values, the expression evaluates to the last truthy value, "
   ]
  },
  {
   "cell_type": "code",
   "execution_count": null,
   "id": "bf173ff6-c4a5-4aed-bc9f-185a73137603",
   "metadata": {},
   "outputs": [],
   "source": [
    "'''The integer 0: As you mentioned.\n",
    "The float 0.0: Floating-point zero is also considered falsy.\n",
    "An empty sequence or collection: This includes empty strings (''), empty lists ([]), empty tuples (()), and other\n",
    "empty collection types.\n",
    "None: The singleton object None is considered falsy.'''"
   ]
  },
  {
   "cell_type": "code",
   "execution_count": 65,
   "id": "6b09dde8-8a27-4cfb-ab97-6a9b6b9f2034",
   "metadata": {},
   "outputs": [
    {
     "data": {
      "text/plain": [
       "0"
      ]
     },
     "execution_count": 65,
     "metadata": {},
     "output_type": "execute_result"
    }
   ],
   "source": [
    "a & b                      # a & b converted to binary and then and operation done"
   ]
  },
  {
   "cell_type": "code",
   "execution_count": 66,
   "id": "9f468faa-2f11-4d95-b737-3695918f1634",
   "metadata": {},
   "outputs": [
    {
     "data": {
      "text/plain": [
       "10"
      ]
     },
     "execution_count": 66,
     "metadata": {},
     "output_type": "execute_result"
    }
   ],
   "source": [
    "a or b\n",
    "''' the or operator returns the first true operand or the last operand if all operands are false.\n",
    "If any operand is true, the expression evaluates to the true operand.'''"
   ]
  },
  {
   "cell_type": "code",
   "execution_count": 67,
   "id": "cde1577b-7eb3-4971-82af-54d6662e54af",
   "metadata": {},
   "outputs": [
    {
     "data": {
      "text/plain": [
       "14"
      ]
     },
     "execution_count": 67,
     "metadata": {},
     "output_type": "execute_result"
    }
   ],
   "source": [
    "a | b         # bitwise or"
   ]
  },
  {
   "cell_type": "code",
   "execution_count": 101,
   "id": "e1163cab-e49a-40a9-b850-e3313077432d",
   "metadata": {},
   "outputs": [
    {
     "ename": "SyntaxError",
     "evalue": "invalid syntax (1979563975.py, line 1)",
     "output_type": "error",
     "traceback": [
      "\u001b[0;36m  Cell \u001b[0;32mIn[101], line 1\u001b[0;36m\u001b[0m\n\u001b[0;31m    a XOR b\u001b[0m\n\u001b[0m      ^\u001b[0m\n\u001b[0;31mSyntaxError\u001b[0m\u001b[0;31m:\u001b[0m invalid syntax\n"
     ]
    }
   ],
   "source": [
    "a XOR b"
   ]
  },
  {
   "cell_type": "code",
   "execution_count": 68,
   "id": "4480fbbe-29c3-4eca-b01d-3694368d5b95",
   "metadata": {},
   "outputs": [
    {
     "data": {
      "text/plain": [
       "14"
      ]
     },
     "execution_count": 68,
     "metadata": {},
     "output_type": "execute_result"
    }
   ],
   "source": [
    "a ^ b    # bitwise xor"
   ]
  },
  {
   "cell_type": "code",
   "execution_count": 99,
   "id": "7202bce9-450b-47cb-b4bc-1827dc39cf5f",
   "metadata": {},
   "outputs": [
    {
     "data": {
      "text/plain": [
       "False"
      ]
     },
     "execution_count": 99,
     "metadata": {},
     "output_type": "execute_result"
    }
   ],
   "source": [
    "not a"
   ]
  },
  {
   "cell_type": "code",
   "execution_count": 102,
   "id": "d32bf51b-1544-416c-a138-c4dbe4b7acab",
   "metadata": {},
   "outputs": [
    {
     "data": {
      "text/plain": [
       "-11"
      ]
     },
     "execution_count": 102,
     "metadata": {},
     "output_type": "execute_result"
    }
   ],
   "source": [
    "~ a             # negation of the binary equivalent of 10"
   ]
  },
  {
   "cell_type": "code",
   "execution_count": 103,
   "id": "b9bc32d5-dea9-43ab-9932-51be94220c36",
   "metadata": {},
   "outputs": [
    {
     "data": {
      "text/plain": [
       "20"
      ]
     },
     "execution_count": 103,
     "metadata": {},
     "output_type": "execute_result"
    }
   ],
   "source": [
    "a = 10\n",
    "a << 1             # left shift by one place"
   ]
  },
  {
   "cell_type": "code",
   "execution_count": 104,
   "id": "0f48a393-6280-4b3d-86bf-f24c47d53765",
   "metadata": {},
   "outputs": [
    {
     "data": {
      "text/plain": [
       "5"
      ]
     },
     "execution_count": 104,
     "metadata": {},
     "output_type": "execute_result"
    }
   ],
   "source": [
    "a = 10                        # precedence is to be considered\n",
    "a >> 1"
   ]
  },
  {
   "cell_type": "code",
   "execution_count": 106,
   "id": "0553b7c1-2e59-462d-8ad2-78f26de36823",
   "metadata": {},
   "outputs": [],
   "source": [
    " a = a+3"
   ]
  },
  {
   "cell_type": "code",
   "execution_count": 107,
   "id": "d9f16ed9-518b-4ba6-80e1-acd55b9080d0",
   "metadata": {},
   "outputs": [],
   "source": [
    "a +=3"
   ]
  },
  {
   "cell_type": "markdown",
   "id": "82cf4329-72a0-44d5-a351-da080d551f5d",
   "metadata": {},
   "source": [
    "## control statements"
   ]
  },
  {
   "cell_type": "code",
   "execution_count": null,
   "id": "c73ac9f3-242b-44d8-8c1a-4066100f62f0",
   "metadata": {},
   "outputs": [],
   "source": []
  }
 ],
 "metadata": {
  "kernelspec": {
   "display_name": "Python 3 (ipykernel)",
   "language": "python",
   "name": "python3"
  },
  "language_info": {
   "codemirror_mode": {
    "name": "ipython",
    "version": 3
   },
   "file_extension": ".py",
   "mimetype": "text/x-python",
   "name": "python",
   "nbconvert_exporter": "python",
   "pygments_lexer": "ipython3",
   "version": "3.10.8"
  }
 },
 "nbformat": 4,
 "nbformat_minor": 5
}
