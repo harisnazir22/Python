{
 "cells": [
  {
   "cell_type": "markdown",
   "id": "a7f0777a-be77-400c-957f-71705d31fb89",
   "metadata": {},
   "source": [
    "# Python basic data types\n"
   ]
  },
  {
   "cell_type": "markdown",
   "id": "f6fa68e8-3d00-4d80-9af6-514609b6bf39",
   "metadata": {},
   "source": [
    "List"
   ]
  },
  {
   "cell_type": "code",
   "execution_count": 9,
   "id": "0e90faea-2e4d-4075-8f90-78f8ad71047a",
   "metadata": {},
   "outputs": [],
   "source": [
    "l = []               # List "
   ]
  },
  {
   "cell_type": "code",
   "execution_count": 10,
   "id": "29a9cf33-d612-4114-ba3d-6d37a3ffadf8",
   "metadata": {},
   "outputs": [
    {
     "data": {
      "text/plain": [
       "list"
      ]
     },
     "execution_count": 10,
     "metadata": {},
     "output_type": "execute_result"
    }
   ],
   "source": [
    "type(l)"
   ]
  },
  {
   "cell_type": "code",
   "execution_count": 11,
   "id": "0bc99eb1-24c7-435d-be2c-f256a7830d65",
   "metadata": {},
   "outputs": [
    {
     "data": {
      "text/plain": [
       "[1,\n",
       " 3,\n",
       " 5,\n",
       " 5.2,\n",
       " 'haris',\n",
       " True,\n",
       " 'adil',\n",
       " (3+5j),\n",
       " ['n', 7, 9],\n",
       " {'name': 'haris'},\n",
       " [4, 9, 67]]"
      ]
     },
     "execution_count": 11,
     "metadata": {},
     "output_type": "execute_result"
    }
   ],
   "source": [
    "l1 = [1,3,5,5.2,\"haris\",True,'adil',3+5j,['n',7,9],{'name' : 'haris'},[4,9,67]]             # can store heterogenous data types\n",
    "l1\n"
   ]
  },
  {
   "cell_type": "code",
   "execution_count": 12,
   "id": "a7570c82-ce88-4e7a-8a99-d1c5c6a979a4",
   "metadata": {},
   "outputs": [
    {
     "data": {
      "text/plain": [
       "True"
      ]
     },
     "execution_count": 12,
     "metadata": {},
     "output_type": "execute_result"
    }
   ],
   "source": [
    " l1[5]                                                # list indexing is same as string indexing"
   ]
  },
  {
   "cell_type": "code",
   "execution_count": 13,
   "id": "e28ecc4c-2455-423e-89d3-3ba6b7d79b88",
   "metadata": {},
   "outputs": [
    {
     "data": {
      "text/plain": [
       "'haris'"
      ]
     },
     "execution_count": 13,
     "metadata": {},
     "output_type": "execute_result"
    }
   ],
   "source": [
    "l1[4]"
   ]
  },
  {
   "cell_type": "code",
   "execution_count": 14,
   "id": "8098c043-3d52-4cc3-8f46-f1eb77e4876d",
   "metadata": {},
   "outputs": [
    {
     "data": {
      "text/plain": [
       "[4, 9, 67]"
      ]
     },
     "execution_count": 14,
     "metadata": {},
     "output_type": "execute_result"
    }
   ],
   "source": [
    "l1[-1]"
   ]
  },
  {
   "cell_type": "code",
   "execution_count": 15,
   "id": "a52c24ef-db23-4a85-ae04-c4fef207b6cf",
   "metadata": {},
   "outputs": [
    {
     "data": {
      "text/plain": [
       "67"
      ]
     },
     "execution_count": 15,
     "metadata": {},
     "output_type": "execute_result"
    }
   ],
   "source": [
    "l1[-1][2]"
   ]
  },
  {
   "cell_type": "code",
   "execution_count": 16,
   "id": "e37623e8-1a7d-4692-9c12-f946a9bb46ca",
   "metadata": {},
   "outputs": [
    {
     "data": {
      "text/plain": [
       "[1, 3, 5, 5.2, 'haris']"
      ]
     },
     "execution_count": 16,
     "metadata": {},
     "output_type": "execute_result"
    }
   ],
   "source": [
    "l1[:5]                          # for first 5 objects"
   ]
  },
  {
   "cell_type": "code",
   "execution_count": 17,
   "id": "1d7dc85e-2f92-4bb0-a554-74973b131050",
   "metadata": {},
   "outputs": [],
   "source": [
    "l2 = [ 34,5,'shahzan']"
   ]
  },
  {
   "cell_type": "code",
   "execution_count": 18,
   "id": "4b9406b4-36e4-44a3-87c3-10b67b8e545f",
   "metadata": {},
   "outputs": [
    {
     "data": {
      "text/plain": [
       "[1,\n",
       " 3,\n",
       " 5,\n",
       " 5.2,\n",
       " 'haris',\n",
       " True,\n",
       " 'adil',\n",
       " (3+5j),\n",
       " ['n', 7, 9],\n",
       " {'name': 'haris'},\n",
       " [4, 9, 67],\n",
       " 34,\n",
       " 5,\n",
       " 'shahzan']"
      ]
     },
     "execution_count": 18,
     "metadata": {},
     "output_type": "execute_result"
    }
   ],
   "source": [
    "l1 + l2      # both the parties should be in same format"
   ]
  },
  {
   "cell_type": "code",
   "execution_count": 20,
   "id": "fe0215c2-5fca-402e-9a67-c458f2d17b57",
   "metadata": {},
   "outputs": [
    {
     "data": {
      "text/plain": [
       "['h', 'a', 'r', 'i', 's']"
      ]
     },
     "execution_count": 20,
     "metadata": {},
     "output_type": "execute_result"
    }
   ],
   "source": [
    "list('haris')            # list as a function"
   ]
  },
  {
   "cell_type": "code",
   "execution_count": 21,
   "id": "8364925e-67e4-48a9-be4b-cdaf733dc6ce",
   "metadata": {},
   "outputs": [
    {
     "data": {
      "text/plain": [
       "[34, 5, 'shahzan', 34, 5, 'shahzan', 34, 5, 'shahzan']"
      ]
     },
     "execution_count": 21,
     "metadata": {},
     "output_type": "execute_result"
    }
   ],
   "source": [
    "l2 * 3                   # repeats elements 3 times"
   ]
  },
  {
   "cell_type": "code",
   "execution_count": 22,
   "id": "daa7b003-6a50-4a3e-a5ae-4605fc479ed6",
   "metadata": {},
   "outputs": [
    {
     "data": {
      "text/plain": [
       "[66, 5, 'shahzan']"
      ]
     },
     "execution_count": 22,
     "metadata": {},
     "output_type": "execute_result"
    }
   ],
   "source": [
    "l2[0] = 66               # List is mutable\n",
    "l2"
   ]
  },
  {
   "cell_type": "markdown",
   "id": "1e7df917-2231-4ca6-8568-c74ba9ab40e5",
   "metadata": {},
   "source": [
    "Tuples"
   ]
  },
  {
   "cell_type": "code",
   "execution_count": 23,
   "id": "7cefb91f-812c-423d-b871-b2a85c4b965e",
   "metadata": {},
   "outputs": [],
   "source": [
    "t = (1,3,'haris', 4+5j, False)           "
   ]
  },
  {
   "cell_type": "code",
   "execution_count": 24,
   "id": "2f1f9ba2-1a8f-4a0f-82a5-803c758d792b",
   "metadata": {},
   "outputs": [
    {
     "data": {
      "text/plain": [
       "tuple"
      ]
     },
     "execution_count": 24,
     "metadata": {},
     "output_type": "execute_result"
    }
   ],
   "source": [
    "type(t)"
   ]
  },
  {
   "cell_type": "code",
   "execution_count": 25,
   "id": "e0e66a73-bc16-4f35-9fef-20526b149ecc",
   "metadata": {},
   "outputs": [
    {
     "data": {
      "text/plain": [
       "'haris'"
      ]
     },
     "execution_count": 25,
     "metadata": {},
     "output_type": "execute_result"
    }
   ],
   "source": [
    "t[2]"
   ]
  },
  {
   "cell_type": "code",
   "execution_count": 26,
   "id": "567e3516-0d42-4607-ac29-54c622fba26b",
   "metadata": {},
   "outputs": [
    {
     "data": {
      "text/plain": [
       "False"
      ]
     },
     "execution_count": 26,
     "metadata": {},
     "output_type": "execute_result"
    }
   ],
   "source": [
    "t[-1]"
   ]
  },
  {
   "cell_type": "code",
   "execution_count": 27,
   "id": "4bb758cf-b29e-4061-9a4e-bb43fb71f934",
   "metadata": {},
   "outputs": [
    {
     "data": {
      "text/plain": [
       "(False, (4+5j), 'haris', 3, 1)"
      ]
     },
     "execution_count": 27,
     "metadata": {},
     "output_type": "execute_result"
    }
   ],
   "source": [
    "t[::-1]"
   ]
  },
  {
   "cell_type": "code",
   "execution_count": 28,
   "id": "6efa2eaf-6e34-41b6-a292-f7c445f9f609",
   "metadata": {},
   "outputs": [
    {
     "ename": "TypeError",
     "evalue": "'tuple' object does not support item assignment",
     "output_type": "error",
     "traceback": [
      "\u001b[0;31m---------------------------------------------------------------------------\u001b[0m",
      "\u001b[0;31mTypeError\u001b[0m                                 Traceback (most recent call last)",
      "Cell \u001b[0;32mIn[28], line 1\u001b[0m\n\u001b[0;32m----> 1\u001b[0m \u001b[43mt\u001b[49m\u001b[43m[\u001b[49m\u001b[38;5;241;43m0\u001b[39;49m\u001b[43m]\u001b[49m \u001b[38;5;241m=\u001b[39m \u001b[38;5;241m67\u001b[39m                      \u001b[38;5;66;03m# Tuple,List are immutable while list is mutable\u001b[39;00m\n\u001b[1;32m      2\u001b[0m t\n",
      "\u001b[0;31mTypeError\u001b[0m: 'tuple' object does not support item assignment"
     ]
    }
   ],
   "source": [
    "t[0] = 67                      # Tuple,List are immutable while list is mutable\n",
    "t"
   ]
  },
  {
   "cell_type": "code",
   "execution_count": 29,
   "id": "3ca91f8a-ae65-417b-9e1c-03687a38cf7d",
   "metadata": {},
   "outputs": [],
   "source": [
    "t1 = (3,7,8,0)"
   ]
  },
  {
   "cell_type": "code",
   "execution_count": 30,
   "id": "238d0e8e-d571-44b3-8c02-7358661652b0",
   "metadata": {},
   "outputs": [
    {
     "data": {
      "text/plain": [
       "(3, 7, 8, 0, 3, 7, 8, 0, 3, 7, 8, 0)"
      ]
     },
     "execution_count": 30,
     "metadata": {},
     "output_type": "execute_result"
    }
   ],
   "source": [
    "t1 = (3,7,8,0)\n",
    "t1 * 3"
   ]
  },
  {
   "cell_type": "code",
   "execution_count": 31,
   "id": "e05caacf-a2fc-4af4-80de-ea64f9c7af07",
   "metadata": {},
   "outputs": [
    {
     "data": {
      "text/plain": [
       "(1, 3, 'haris', (4+5j), False, 3, 7, 8, 0)"
      ]
     },
     "execution_count": 31,
     "metadata": {},
     "output_type": "execute_result"
    }
   ],
   "source": [
    "t + t1"
   ]
  },
  {
   "cell_type": "code",
   "execution_count": 32,
   "id": "3d56681c-485c-40c7-9926-f6b6d2cbf573",
   "metadata": {},
   "outputs": [
    {
     "data": {
      "text/plain": [
       "[1, 3, 'haris', (4+5j), False]"
      ]
     },
     "execution_count": 32,
     "metadata": {},
     "output_type": "execute_result"
    }
   ],
   "source": [
    "list(t)"
   ]
  },
  {
   "cell_type": "code",
   "execution_count": 33,
   "id": "3ed1f564-da87-4d29-8e42-c76edbe04218",
   "metadata": {},
   "outputs": [
    {
     "data": {
      "text/plain": [
       "(66, 5, 'shahzan')"
      ]
     },
     "execution_count": 33,
     "metadata": {},
     "output_type": "execute_result"
    }
   ],
   "source": [
    "tuple(l2)"
   ]
  },
  {
   "cell_type": "code",
   "execution_count": 34,
   "id": "0946fecd-b5a1-4545-97a3-ab4e3a55ec0c",
   "metadata": {},
   "outputs": [
    {
     "data": {
      "text/plain": [
       "5"
      ]
     },
     "execution_count": 34,
     "metadata": {},
     "output_type": "execute_result"
    }
   ],
   "source": [
    "len(t)"
   ]
  },
  {
   "cell_type": "code",
   "execution_count": 35,
   "id": "6e0bf5bb-4f80-44d8-bbf0-e85a71d3d8fc",
   "metadata": {},
   "outputs": [
    {
     "data": {
      "text/plain": [
       "9"
      ]
     },
     "execution_count": 35,
     "metadata": {},
     "output_type": "execute_result"
    }
   ],
   "source": [
    "len(\"hari    w\")"
   ]
  },
  {
   "cell_type": "code",
   "execution_count": 36,
   "id": "c03d92c4-1700-45bc-87b4-d1dd3189819f",
   "metadata": {},
   "outputs": [
    {
     "data": {
      "text/plain": [
       "11"
      ]
     },
     "execution_count": 36,
     "metadata": {},
     "output_type": "execute_result"
    }
   ],
   "source": [
    "len(l1)"
   ]
  },
  {
   "cell_type": "markdown",
   "id": "ccbcfa87-c734-465e-85ce-ae07575c9a0a",
   "metadata": {},
   "source": [
    "Set"
   ]
  },
  {
   "cell_type": "code",
   "execution_count": 38,
   "id": "a1402850-6502-4ebe-a3dc-4d99b1d91995",
   "metadata": {},
   "outputs": [
    {
     "data": {
      "text/plain": [
       "dict"
      ]
     },
     "execution_count": 38,
     "metadata": {},
     "output_type": "execute_result"
    }
   ],
   "source": [
    "s = {}\n",
    "type(s)"
   ]
  },
  {
   "cell_type": "code",
   "execution_count": 39,
   "id": "05d7bbe1-41f1-4c83-a4ef-820033b73e92",
   "metadata": {},
   "outputs": [
    {
     "data": {
      "text/plain": [
       "set"
      ]
     },
     "execution_count": 39,
     "metadata": {},
     "output_type": "execute_result"
    }
   ],
   "source": [
    "s = {1,2,3,4,5,3,5}\n",
    "type(s)"
   ]
  },
  {
   "cell_type": "code",
   "execution_count": 40,
   "id": "3b32e72e-a2a2-4233-b52a-dea85aea8d8b",
   "metadata": {},
   "outputs": [
    {
     "data": {
      "text/plain": [
       "{1, 2, 3, 4, 5}"
      ]
     },
     "execution_count": 40,
     "metadata": {},
     "output_type": "execute_result"
    }
   ],
   "source": [
    "s                # set removes duplicates"
   ]
  },
  {
   "cell_type": "code",
   "execution_count": 41,
   "id": "60befe0f-5514-41b4-bebe-4ae076d8d859",
   "metadata": {},
   "outputs": [
    {
     "data": {
      "text/plain": [
       "{1, 3, 5, 6, 7, 'Haris', 'haris', 'lone', 'nazir'}"
      ]
     },
     "execution_count": 41,
     "metadata": {},
     "output_type": "execute_result"
    }
   ],
   "source": [
    "s1 = {'haris', 'nazir', 'lone','Haris',1,3,3,5,5,7,6}           # python is a case sensitive language\n",
    "s1                                                            # indexing and slicing does not work with sets, as order does not matter in sets"
   ]
  },
  {
   "cell_type": "code",
   "execution_count": 42,
   "id": "4074d3b3-4dfd-4860-8e02-5260a902eafa",
   "metadata": {},
   "outputs": [
    {
     "data": {
      "text/plain": [
       "['haris', 1, 'nazir', 3, 5, 6, 7, 'Haris', 'lone']"
      ]
     },
     "execution_count": 42,
     "metadata": {},
     "output_type": "execute_result"
    }
   ],
   "source": [
    "\n",
    "ls=list(s1)\n",
    "\n",
    "ls"
   ]
  },
  {
   "cell_type": "code",
   "execution_count": 43,
   "id": "6d54f33b-bdc8-48d1-8724-c3da362e52fe",
   "metadata": {},
   "outputs": [
    {
     "data": {
      "text/plain": [
       "{1, 3, 5, 6, 7, 'Haris', 'haris', 'lone', 'nazir'}"
      ]
     },
     "execution_count": 43,
     "metadata": {},
     "output_type": "execute_result"
    }
   ],
   "source": [
    "set(ls)"
   ]
  },
  {
   "cell_type": "code",
   "execution_count": 44,
   "id": "fa0aad07-5b72-4e54-8552-0e0a73704ce3",
   "metadata": {},
   "outputs": [
    {
     "data": {
      "text/plain": [
       "('haris', 1, 'nazir', 3, 5, 6, 7, 'Haris', 'lone')"
      ]
     },
     "execution_count": 44,
     "metadata": {},
     "output_type": "execute_result"
    }
   ],
   "source": [
    "tuple(ls)"
   ]
  },
  {
   "cell_type": "code",
   "execution_count": 45,
   "id": "d78b8063-4116-4911-aeed-45c4b10e11a3",
   "metadata": {},
   "outputs": [
    {
     "data": {
      "text/plain": [
       "{1, 3, 5, 6, 7, 'Haris', 'haris', 'lone', 'nazir'}"
      ]
     },
     "execution_count": 45,
     "metadata": {},
     "output_type": "execute_result"
    }
   ],
   "source": [
    "set(s1)"
   ]
  },
  {
   "cell_type": "code",
   "execution_count": 46,
   "id": "a778a57b-a689-4e01-bb49-acdebe19bee6",
   "metadata": {},
   "outputs": [
    {
     "data": {
      "text/plain": [
       "{5, 66, 'shahzan'}"
      ]
     },
     "execution_count": 46,
     "metadata": {},
     "output_type": "execute_result"
    }
   ],
   "source": [
    "set(l2)"
   ]
  },
  {
   "cell_type": "code",
   "execution_count": 47,
   "id": "cd481c08-21c5-4bf2-9ac3-0347509d9575",
   "metadata": {},
   "outputs": [
    {
     "ename": "TypeError",
     "evalue": "unhashable type: 'list'",
     "output_type": "error",
     "traceback": [
      "\u001b[0;31m---------------------------------------------------------------------------\u001b[0m",
      "\u001b[0;31mTypeError\u001b[0m                                 Traceback (most recent call last)",
      "Cell \u001b[0;32mIn[47], line 1\u001b[0m\n\u001b[0;32m----> 1\u001b[0m \u001b[38;5;28;43mset\u001b[39;49m\u001b[43m(\u001b[49m\u001b[43ml1\u001b[49m\u001b[43m)\u001b[49m                        \u001b[38;5;66;03m# not able to create unique hashing ie it contains list within a list\u001b[39;00m\n",
      "\u001b[0;31mTypeError\u001b[0m: unhashable type: 'list'"
     ]
    }
   ],
   "source": [
    "set(l1)                        # not able to create unique hashing ie it contains list within a list"
   ]
  },
  {
   "cell_type": "code",
   "execution_count": 48,
   "id": "f956735b-8112-4373-8463-cbdab9dee88b",
   "metadata": {},
   "outputs": [
    {
     "data": {
      "text/plain": [
       "('haris', 1, 'nazir', 3, 5, 6, 7, 'Haris', 'lone')"
      ]
     },
     "execution_count": 48,
     "metadata": {},
     "output_type": "execute_result"
    }
   ],
   "source": [
    "ts = tuple(s1)\n",
    "ts"
   ]
  },
  {
   "cell_type": "code",
   "execution_count": 49,
   "id": "9d20c8aa-907e-4677-889a-88475993af83",
   "metadata": {
    "tags": []
   },
   "outputs": [
    {
     "ename": "TypeError",
     "evalue": "'set' object is not subscriptable",
     "output_type": "error",
     "traceback": [
      "\u001b[0;31m---------------------------------------------------------------------------\u001b[0m",
      "\u001b[0;31mTypeError\u001b[0m                                 Traceback (most recent call last)",
      "Cell \u001b[0;32mIn[49], line 1\u001b[0m\n\u001b[0;32m----> 1\u001b[0m \u001b[43ms1\u001b[49m\u001b[43m[\u001b[49m\u001b[38;5;241;43m0\u001b[39;49m\u001b[43m]\u001b[49m             \u001b[38;5;66;03m# context to mutability or immutability does not make sense as we are not able to access the set elements\u001b[39;00m\n\u001b[1;32m      2\u001b[0m                   \u001b[38;5;66;03m# set never supports indexing and slicing as it is unordered\u001b[39;00m\n\u001b[1;32m      3\u001b[0m                   \u001b[38;5;66;03m# lists and tuples are ordered\u001b[39;00m\n",
      "\u001b[0;31mTypeError\u001b[0m: 'set' object is not subscriptable"
     ]
    }
   ],
   "source": [
    "s1[0]             # context to mutability or immutability does not make sense as we are not able to access the set elements\n",
    "                  # set never supports indexing and slicing as it is unordered\n",
    "                  # lists and tuples are ordered"
   ]
  },
  {
   "cell_type": "code",
   "execution_count": 50,
   "id": "3808bc61-6a07-481e-9b59-4ae9cda28e85",
   "metadata": {},
   "outputs": [
    {
     "data": {
      "text/plain": [
       "'haris'"
      ]
     },
     "execution_count": 50,
     "metadata": {},
     "output_type": "execute_result"
    }
   ],
   "source": [
    "ts[0]"
   ]
  },
  {
   "cell_type": "code",
   "execution_count": 51,
   "id": "52087b6e-0703-4472-b8e8-793deb0af74c",
   "metadata": {},
   "outputs": [],
   "source": [
    "empty_set = set()\n"
   ]
  },
  {
   "cell_type": "markdown",
   "id": "ce4a8e1c-91ed-420e-8cde-20aa1350020b",
   "metadata": {},
   "source": [
    "Dictionary"
   ]
  },
  {
   "cell_type": "code",
   "execution_count": 52,
   "id": "c148c32b-11a2-4b76-b107-db16312b7b2f",
   "metadata": {},
   "outputs": [
    {
     "data": {
      "text/plain": [
       "dict"
      ]
     },
     "execution_count": 52,
     "metadata": {},
     "output_type": "execute_result"
    }
   ],
   "source": [
    "d = {}\n",
    "type(d)                               # holds data in key value pairs"
   ]
  },
  {
   "cell_type": "code",
   "execution_count": 53,
   "id": "0729d0ec-e63d-4e87-b07b-547cdf45143b",
   "metadata": {},
   "outputs": [
    {
     "data": {
      "text/plain": [
       "{'name': 'haris', 'rollno': 4, 'subject': ['math', 'science'], 'number': 56}"
      ]
     },
     "execution_count": 53,
     "metadata": {},
     "output_type": "execute_result"
    }
   ],
   "source": [
    "d1 = {'name' : 'haris', 'rollno': 4, 'subject' :[ 'math', 'science' ],'number' : 56}\n",
    "d1"
   ]
  },
  {
   "cell_type": "code",
   "execution_count": 54,
   "id": "ed44dcac-ec87-4cd6-919b-3ebbc2988dd4",
   "metadata": {},
   "outputs": [
    {
     "data": {
      "text/plain": [
       "{'name': 'aadil'}"
      ]
     },
     "execution_count": 54,
     "metadata": {},
     "output_type": "execute_result"
    }
   ],
   "source": [
    "d2 = {'name' : 'haris', 'name' : 'aadil'}                 # key (unique) is equivalent to index and is unique\n",
    "d2                                                        # key takes the latest value and overrides previous value"
   ]
  },
  {
   "cell_type": "code",
   "execution_count": 55,
   "id": "78ee1871-61e0-48e6-bc28-b5b2b071ab00",
   "metadata": {},
   "outputs": [
    {
     "ename": "TypeError",
     "evalue": "unhashable type: 'list'",
     "output_type": "error",
     "traceback": [
      "\u001b[0;31m---------------------------------------------------------------------------\u001b[0m",
      "\u001b[0;31mTypeError\u001b[0m                                 Traceback (most recent call last)",
      "Cell \u001b[0;32mIn[55], line 1\u001b[0m\n\u001b[0;32m----> 1\u001b[0m d3 \u001b[38;5;241m=\u001b[39m {[\u001b[38;5;241m1\u001b[39m,\u001b[38;5;241m3\u001b[39m]:\u001b[38;5;124m'\u001b[39m\u001b[38;5;124mharis\u001b[39m\u001b[38;5;124m'\u001b[39m}                             \u001b[38;5;66;03m# list,set cannot can be taken as key but tuple can be taken\u001b[39;00m\n",
      "\u001b[0;31mTypeError\u001b[0m: unhashable type: 'list'"
     ]
    }
   ],
   "source": [
    "d3 = {[1,3]:'haris'}                             # list,set cannot can be taken as key but tuple can be taken"
   ]
  },
  {
   "cell_type": "code",
   "execution_count": 56,
   "id": "1d6e9bb2-e48c-401e-a503-e5275320d6e8",
   "metadata": {},
   "outputs": [
    {
     "ename": "SyntaxError",
     "evalue": "invalid syntax (1873370341.py, line 1)",
     "output_type": "error",
     "traceback": [
      "\u001b[0;36m  Cell \u001b[0;32mIn[56], line 1\u001b[0;36m\u001b[0m\n\u001b[0;31m    d4 = {%fsf: 'nazir'}             # special characters are not allowed as a key\u001b[0m\n\u001b[0m          ^\u001b[0m\n\u001b[0;31mSyntaxError\u001b[0m\u001b[0;31m:\u001b[0m invalid syntax\n"
     ]
    }
   ],
   "source": [
    "d4 = {%fsf: 'nazir'}             # special characters are not allowed as a key"
   ]
  },
  {
   "cell_type": "code",
   "execution_count": 59,
   "id": "a988a0dc-8813-4264-8679-3ed9a14ae846",
   "metadata": {},
   "outputs": [
    {
     "data": {
      "text/plain": [
       "{'%fsf': 'nazir'}"
      ]
     },
     "execution_count": 59,
     "metadata": {},
     "output_type": "execute_result"
    }
   ],
   "source": [
    "d4 = {'%fsf': 'nazir'}\n",
    "d4"
   ]
  },
  {
   "cell_type": "code",
   "execution_count": 60,
   "id": "109ad532-8976-49b4-9695-061aa6cf6e50",
   "metadata": {},
   "outputs": [
    {
     "data": {
      "text/plain": [
       "{'course': ['dsa', 'java', 'pyhonn'],\n",
       " 'mentor': ['haris', 'nazir', 'lone'],\n",
       " 'price': {34, 56, 78},\n",
       " 'duration': 1,\n",
       " 'acess year': 1}"
      ]
     },
     "execution_count": 60,
     "metadata": {},
     "output_type": "execute_result"
    }
   ],
   "source": [
    "d4 = {'course' : ['dsa','java','pyhonn'],'mentor': ['haris', 'nazir', 'lone'],'price' : {34,56, 78},'duration' : 1,'acess year' : 1}\n",
    "d4                     # dictionary used where we use our own indexes (keys)"
   ]
  },
  {
   "cell_type": "code",
   "execution_count": 61,
   "id": "9bd8ce58-59ab-4496-b464-66af238d882f",
   "metadata": {},
   "outputs": [
    {
     "data": {
      "text/plain": [
       "['dsa', 'java', 'pyhonn']"
      ]
     },
     "execution_count": 61,
     "metadata": {},
     "output_type": "execute_result"
    }
   ],
   "source": [
    "d4['course']"
   ]
  },
  {
   "cell_type": "code",
   "execution_count": 62,
   "id": "32ab6c85-60c0-497f-b344-332f73142b84",
   "metadata": {},
   "outputs": [
    {
     "data": {
      "text/plain": [
       "['haris', 'nazir', 'lone']"
      ]
     },
     "execution_count": 62,
     "metadata": {},
     "output_type": "execute_result"
    }
   ],
   "source": [
    "d4['mentor']"
   ]
  },
  {
   "cell_type": "code",
   "execution_count": 63,
   "id": "4cddf95a-4290-424f-be31-e4d41d20ef89",
   "metadata": {},
   "outputs": [
    {
     "data": {
      "text/plain": [
       "dict_keys(['course', 'mentor', 'price', 'duration', 'acess year'])"
      ]
     },
     "execution_count": 63,
     "metadata": {},
     "output_type": "execute_result"
    }
   ],
   "source": [
    "d4.keys()"
   ]
  },
  {
   "cell_type": "code",
   "execution_count": 64,
   "id": "9967e177-7083-4254-ac08-7ee04524308c",
   "metadata": {},
   "outputs": [
    {
     "data": {
      "text/plain": [
       "dict_items([('course', ['dsa', 'java', 'pyhonn']), ('mentor', ['haris', 'nazir', 'lone']), ('price', {56, 34, 78}), ('duration', 1), ('acess year', 1)])"
      ]
     },
     "execution_count": 64,
     "metadata": {},
     "output_type": "execute_result"
    }
   ],
   "source": [
    "d4.items()"
   ]
  },
  {
   "cell_type": "code",
   "execution_count": 65,
   "id": "167c02db-1407-4353-9c62-b92bac35d6e0",
   "metadata": {},
   "outputs": [],
   "source": [
    "# we can use nested dictionaries"
   ]
  },
  {
   "cell_type": "code",
   "execution_count": 66,
   "id": "9032ce17-7b2f-4977-9c0e-6e67a3d0e36d",
   "metadata": {},
   "outputs": [
    {
     "data": {
      "text/plain": [
       "{'name': 'aadil', 'phone number': 123455}"
      ]
     },
     "execution_count": 66,
     "metadata": {},
     "output_type": "execute_result"
    }
   ],
   "source": [
    "d2['phone number']= 123455\n",
    "d2"
   ]
  },
  {
   "cell_type": "code",
   "execution_count": 67,
   "id": "40e82278-fbbc-4566-8e19-f22e51f53b1a",
   "metadata": {},
   "outputs": [
    {
     "data": {
      "text/plain": [
       "{'name': 'sahil', 'phone number': 123455}"
      ]
     },
     "execution_count": 67,
     "metadata": {},
     "output_type": "execute_result"
    }
   ],
   "source": [
    "d2['name'] = 'sahil'\n",
    "d2                  # Dictionary is a mutable entity"
   ]
  },
  {
   "cell_type": "code",
   "execution_count": 68,
   "id": "fbe2c25f-34aa-47f6-8a78-a7d0b0606911",
   "metadata": {},
   "outputs": [],
   "source": [
    "my_dict = {'name': 'sahil', 'phone number': 123455}"
   ]
  },
  {
   "cell_type": "code",
   "execution_count": 69,
   "id": "59071260-90c1-4553-a8e6-f349cc5c6856",
   "metadata": {},
   "outputs": [
    {
     "name": "stdout",
     "output_type": "stream",
     "text": [
      "name sahil\n",
      "phone number 123455\n"
     ]
    }
   ],
   "source": [
    "for key, value in my_dict.items():\n",
    "    print(key, value)"
   ]
  },
  {
   "cell_type": "markdown",
   "id": "d26805c7-08f8-4e23-9a9e-df5e5fa1de32",
   "metadata": {},
   "source": [
    "1.string\n",
    "2.list\n",
    "3.tuple\n",
    "4.set\n",
    "5.dictionary"
   ]
  },
  {
   "cell_type": "code",
   "execution_count": 70,
   "id": "56964dff-5e63-44d6-a7eb-48958637137f",
   "metadata": {},
   "outputs": [],
   "source": [
    "s1 = 'haris nazirlone sirnoo'"
   ]
  },
  {
   "cell_type": "code",
   "execution_count": 71,
   "id": "13f73997-2d13-42e5-acb9-862563090694",
   "metadata": {},
   "outputs": [
    {
     "data": {
      "text/plain": [
       "True"
      ]
     },
     "execution_count": 71,
     "metadata": {},
     "output_type": "execute_result"
    }
   ],
   "source": [
    "'haris' in s1"
   ]
  },
  {
   "cell_type": "code",
   "execution_count": 72,
   "id": "9c8effb0-ea54-4b0f-bb1b-26218d200193",
   "metadata": {},
   "outputs": [
    {
     "data": {
      "text/plain": [
       "1"
      ]
     },
     "execution_count": 72,
     "metadata": {},
     "output_type": "execute_result"
    }
   ],
   "source": [
    "s1.count('l')"
   ]
  },
  {
   "cell_type": "code",
   "execution_count": 73,
   "id": "7b8e53d7-3539-448f-a5ed-34dbd8571d9c",
   "metadata": {},
   "outputs": [
    {
     "data": {
      "text/plain": [
       "4"
      ]
     },
     "execution_count": 73,
     "metadata": {},
     "output_type": "execute_result"
    }
   ],
   "source": [
    "s1.find('s')              # index of first occurence\n",
    "                         # returns -1 if character is not found"
   ]
  },
  {
   "cell_type": "code",
   "execution_count": 74,
   "id": "1a9fc143-a9b7-4774-854f-852b7ad0ccbf",
   "metadata": {},
   "outputs": [
    {
     "data": {
      "text/plain": [
       "12"
      ]
     },
     "execution_count": 74,
     "metadata": {},
     "output_type": "execute_result"
    }
   ],
   "source": [
    "s1.index('o')           # gives an error if character not found"
   ]
  },
  {
   "cell_type": "code",
   "execution_count": 75,
   "id": "d1d0acd1-7572-4522-b235-d2b920d03a52",
   "metadata": {},
   "outputs": [
    {
     "data": {
      "text/plain": [
       "8"
      ]
     },
     "execution_count": 75,
     "metadata": {},
     "output_type": "execute_result"
    }
   ],
   "source": [
    "s1.index('z')"
   ]
  },
  {
   "cell_type": "code",
   "execution_count": 76,
   "id": "c9730b1d-1ba7-4e23-bbd6-d10e4d939cfc",
   "metadata": {},
   "outputs": [
    {
     "data": {
      "text/plain": [
       "'haris nazirlone sirnoo'"
      ]
     },
     "execution_count": 76,
     "metadata": {},
     "output_type": "execute_result"
    }
   ],
   "source": [
    "s1.lower()\n"
   ]
  },
  {
   "cell_type": "code",
   "execution_count": null,
   "id": "fef1602e-0205-40bb-bc4f-13c698e0f7d0",
   "metadata": {},
   "outputs": [],
   "source": []
  },
  {
   "cell_type": "code",
   "execution_count": 77,
   "id": "764a1e8b-d7d9-41ba-a1f0-1cc2cdc93963",
   "metadata": {},
   "outputs": [
    {
     "data": {
      "text/plain": [
       "'Haris Nazirlone Sirnoo'"
      ]
     },
     "execution_count": 77,
     "metadata": {},
     "output_type": "execute_result"
    }
   ],
   "source": [
    "s1.title()         # converts text into camelcase"
   ]
  },
  {
   "cell_type": "code",
   "execution_count": 78,
   "id": "0a9cf977-9891-44f9-b048-b3bdcf39fa54",
   "metadata": {},
   "outputs": [
    {
     "data": {
      "text/plain": [
       "['haris', 'nazirlone', 'sirnoo']"
      ]
     },
     "execution_count": 78,
     "metadata": {},
     "output_type": "execute_result"
    }
   ],
   "source": [
    "s1.split()              # seperator based on space and can be changes by giving an argument"
   ]
  },
  {
   "cell_type": "code",
   "execution_count": 79,
   "id": "3e0445ae-0273-4807-8dee-c23b70cf42a2",
   "metadata": {},
   "outputs": [
    {
     "data": {
      "text/plain": [
       "['ha', 'is nazi', 'lone si', 'noo']"
      ]
     },
     "execution_count": 79,
     "metadata": {},
     "output_type": "execute_result"
    }
   ],
   "source": [
    "s1.split('r')              # seperator based on space and can be changes by giving an argument and returns a List"
   ]
  },
  {
   "cell_type": "code",
   "execution_count": 80,
   "id": "d799fd67-64c8-4dc4-8d29-29d279b5eea5",
   "metadata": {},
   "outputs": [],
   "source": [
    "s4 = \"this is my fsds pro class . i am attending the class\""
   ]
  },
  {
   "cell_type": "code",
   "execution_count": 81,
   "id": "9e08f210-cb15-459c-ab82-9cd795b6a8c3",
   "metadata": {},
   "outputs": [
    {
     "data": {
      "text/plain": [
       "['this is my fsds pro class ', ' i am attending the class']"
      ]
     },
     "execution_count": 81,
     "metadata": {},
     "output_type": "execute_result"
    }
   ],
   "source": [
    "s4.split('.')"
   ]
  },
  {
   "cell_type": "code",
   "execution_count": 82,
   "id": "94ed62dd-c48b-4c0e-b8c0-eda1be69d898",
   "metadata": {},
   "outputs": [
    {
     "data": {
      "text/plain": [
       "'this is my fsds pro class '"
      ]
     },
     "execution_count": 82,
     "metadata": {},
     "output_type": "execute_result"
    }
   ],
   "source": [
    "s4.split('.')[0]"
   ]
  },
  {
   "cell_type": "code",
   "execution_count": 83,
   "id": "0cc0381e-d73d-4fdd-af98-fe5aeda24c4f",
   "metadata": {},
   "outputs": [
    {
     "data": {
      "text/plain": [
       "' i am attending the class'"
      ]
     },
     "execution_count": 83,
     "metadata": {},
     "output_type": "execute_result"
    }
   ],
   "source": [
    "s4.split('.')[1]"
   ]
  },
  {
   "cell_type": "code",
   "execution_count": 84,
   "id": "59f66358-7bd8-44d1-9b4e-25632d06cf09",
   "metadata": {},
   "outputs": [
    {
     "data": {
      "text/plain": [
       "'Haris nazirlone sirnoo'"
      ]
     },
     "execution_count": 84,
     "metadata": {},
     "output_type": "execute_result"
    }
   ],
   "source": [
    "s1.capitalize()    # only first letter is capitalized"
   ]
  },
  {
   "cell_type": "code",
   "execution_count": 85,
   "id": "c5886f50-ea29-478b-8f8c-04a322e5e288",
   "metadata": {},
   "outputs": [
    {
     "data": {
      "text/plain": [
       "'hyris nyzirlone sirnoo'"
      ]
     },
     "execution_count": 85,
     "metadata": {},
     "output_type": "execute_result"
    }
   ],
   "source": [
    "s1.replace('a','y')        # string is immutable but can create a new refrence using replace()"
   ]
  },
  {
   "cell_type": "code",
   "execution_count": 86,
   "id": "34af1d85-6201-4279-850b-8adddf02ac08",
   "metadata": {},
   "outputs": [
    {
     "data": {
      "text/plain": [
       "'haris nazirlone sirnoo'"
      ]
     },
     "execution_count": 86,
     "metadata": {},
     "output_type": "execute_result"
    }
   ],
   "source": [
    "s1\n"
   ]
  },
  {
   "cell_type": "code",
   "execution_count": 87,
   "id": "5df0c548-56e1-4ceb-984a-1d1dce9e2355",
   "metadata": {},
   "outputs": [
    {
     "data": {
      "text/plain": [
       "'fffffffffharis nazirlone sirnoofffffffff'"
      ]
     },
     "execution_count": 87,
     "metadata": {},
     "output_type": "execute_result"
    }
   ],
   "source": [
    "s1.center(40,'f')        # centralises the test and uses fillers for rest"
   ]
  },
  {
   "cell_type": "code",
   "execution_count": 88,
   "id": "68fe2f25-6b64-4d71-8db5-aac2786f9150",
   "metadata": {},
   "outputs": [],
   "source": [
    "s5 = \"     hairs nazir   \""
   ]
  },
  {
   "cell_type": "code",
   "execution_count": 89,
   "id": "4a45c643-01ea-4f0f-b2c6-e0d45174e9a3",
   "metadata": {},
   "outputs": [
    {
     "data": {
      "text/plain": [
       "'     hairs nazir'"
      ]
     },
     "execution_count": 89,
     "metadata": {},
     "output_type": "execute_result"
    }
   ],
   "source": [
    "s5.rstrip()         # strips off spaces"
   ]
  },
  {
   "cell_type": "code",
   "execution_count": 90,
   "id": "f3e9a581-40c1-43c0-a350-bd4af7d19212",
   "metadata": {},
   "outputs": [
    {
     "data": {
      "text/plain": [
       "'hairs nazir   '"
      ]
     },
     "execution_count": 90,
     "metadata": {},
     "output_type": "execute_result"
    }
   ],
   "source": [
    "s5.lstrip()"
   ]
  },
  {
   "cell_type": "code",
   "execution_count": 91,
   "id": "6707dad5-3e4a-4034-94f1-c4a4d635301f",
   "metadata": {},
   "outputs": [
    {
     "data": {
      "text/plain": [
       "'hairs nazir'"
      ]
     },
     "execution_count": 91,
     "metadata": {},
     "output_type": "execute_result"
    }
   ],
   "source": [
    "s5.strip()"
   ]
  },
  {
   "cell_type": "code",
   "execution_count": 92,
   "id": "c5c2fff1-0bdb-4714-a1e2-34a767fdbc51",
   "metadata": {},
   "outputs": [],
   "source": [
    "s1 = \"Pwskills\""
   ]
  },
  {
   "cell_type": "code",
   "execution_count": 93,
   "id": "32129df8-9fef-435d-9d05-8835335813ec",
   "metadata": {},
   "outputs": [
    {
     "data": {
      "text/plain": [
       "True"
      ]
     },
     "execution_count": 93,
     "metadata": {},
     "output_type": "execute_result"
    }
   ],
   "source": [
    "s1.isalnum()       # is based function returns a boolean value\n"
   ]
  },
  {
   "cell_type": "code",
   "execution_count": 94,
   "id": "b93fa193-3864-4c40-a891-5bc1907336be",
   "metadata": {},
   "outputs": [
    {
     "data": {
      "text/plain": [
       "True"
      ]
     },
     "execution_count": 94,
     "metadata": {},
     "output_type": "execute_result"
    }
   ],
   "source": [
    "s1.isalpha()"
   ]
  },
  {
   "cell_type": "code",
   "execution_count": 95,
   "id": "f2f6b609-c563-4c66-afaf-c0742a8d1040",
   "metadata": {},
   "outputs": [
    {
     "data": {
      "text/plain": [
       "False"
      ]
     },
     "execution_count": 95,
     "metadata": {},
     "output_type": "execute_result"
    }
   ],
   "source": [
    "s1.isnumeric()"
   ]
  },
  {
   "cell_type": "code",
   "execution_count": 96,
   "id": "78d25ba0-1bef-418f-b9d7-47316470fe2d",
   "metadata": {},
   "outputs": [
    {
     "data": {
      "text/plain": [
       "False"
      ]
     },
     "execution_count": 96,
     "metadata": {},
     "output_type": "execute_result"
    }
   ],
   "source": [
    "s1.islower()"
   ]
  },
  {
   "cell_type": "code",
   "execution_count": 97,
   "id": "cb3c4eea-1c3c-4e73-8b7a-a3361fa50562",
   "metadata": {},
   "outputs": [
    {
     "data": {
      "text/plain": [
       "[1,\n",
       " 3,\n",
       " 5,\n",
       " 5.2,\n",
       " 'haris',\n",
       " True,\n",
       " 'adil',\n",
       " (3+5j),\n",
       " ['n', 7, 9],\n",
       " {'name': 'haris'},\n",
       " [4, 9, 67]]"
      ]
     },
     "execution_count": 97,
     "metadata": {},
     "output_type": "execute_result"
    }
   ],
   "source": [
    "l1\n"
   ]
  },
  {
   "cell_type": "code",
   "execution_count": 98,
   "id": "0bb8b2b9-d6d8-4952-b9e3-0acf92517574",
   "metadata": {},
   "outputs": [],
   "source": [
    "l1.append(\"suhail\")      # appends at last"
   ]
  },
  {
   "cell_type": "code",
   "execution_count": 99,
   "id": "d8f1010a-8ce2-4dd0-86dc-69bbf3b7ae40",
   "metadata": {},
   "outputs": [
    {
     "data": {
      "text/plain": [
       "[1,\n",
       " 3,\n",
       " 5,\n",
       " 5.2,\n",
       " 'haris',\n",
       " True,\n",
       " 'adil',\n",
       " (3+5j),\n",
       " ['n', 7, 9],\n",
       " {'name': 'haris'},\n",
       " [4, 9, 67],\n",
       " 'suhail']"
      ]
     },
     "execution_count": 99,
     "metadata": {},
     "output_type": "execute_result"
    }
   ],
   "source": [
    "l1"
   ]
  },
  {
   "cell_type": "code",
   "execution_count": 100,
   "id": "07246823-1c08-443c-9c94-37ba177d62d1",
   "metadata": {},
   "outputs": [
    {
     "data": {
      "text/plain": [
       "[1,\n",
       " 3,\n",
       " 5,\n",
       " 'love',\n",
       " 5.2,\n",
       " 'haris',\n",
       " True,\n",
       " 'adil',\n",
       " (3+5j),\n",
       " ['n', 7, 9],\n",
       " {'name': 'haris'},\n",
       " [4, 9, 67],\n",
       " 'suhail']"
      ]
     },
     "execution_count": 100,
     "metadata": {},
     "output_type": "execute_result"
    }
   ],
   "source": [
    "l1.insert(3,\"love\")     # insert at index \n",
    "l1"
   ]
  },
  {
   "cell_type": "code",
   "execution_count": 101,
   "id": "cfd565d1-c554-45b6-aaf5-1d2b0f79f7a4",
   "metadata": {},
   "outputs": [
    {
     "data": {
      "text/plain": [
       "[1,\n",
       " 3,\n",
       " 5,\n",
       " 'love',\n",
       " 5.2,\n",
       " 'haris',\n",
       " True,\n",
       " 'adil',\n",
       " (3+5j),\n",
       " ['n', 7, 9],\n",
       " {'name': 'haris'},\n",
       " [4, 9, 67],\n",
       " 'suhail',\n",
       " 'p',\n",
       " 'r',\n",
       " 'i',\n",
       " 'n',\n",
       " 't']"
      ]
     },
     "execution_count": 101,
     "metadata": {},
     "output_type": "execute_result"
    }
   ],
   "source": [
    "l1.extend(\"print\")       # Extend list by appending elements from the iterable.\n",
    "l1"
   ]
  },
  {
   "cell_type": "code",
   "execution_count": 102,
   "id": "5617c84f-740f-48e9-9307-2ebf154f3676",
   "metadata": {},
   "outputs": [
    {
     "data": {
      "text/plain": [
       "[1,\n",
       " 3,\n",
       " 5,\n",
       " 'love',\n",
       " 5.2,\n",
       " 'haris',\n",
       " True,\n",
       " 'adil',\n",
       " (3+5j),\n",
       " ['n', 7, 9],\n",
       " {'name': 'haris'},\n",
       " [4, 9, 67],\n",
       " 'suhail',\n",
       " 'p',\n",
       " 'r',\n",
       " 'i',\n",
       " 'n',\n",
       " 't']"
      ]
     },
     "execution_count": 102,
     "metadata": {},
     "output_type": "execute_result"
    }
   ],
   "source": [
    "l1"
   ]
  },
  {
   "cell_type": "code",
   "execution_count": 103,
   "id": "95ed2bde-eadf-4679-aa5b-7eb6ca7124d9",
   "metadata": {},
   "outputs": [
    {
     "data": {
      "text/plain": [
       "'t'"
      ]
     },
     "execution_count": 103,
     "metadata": {},
     "output_type": "execute_result"
    }
   ],
   "source": [
    "l1.pop()"
   ]
  },
  {
   "cell_type": "code",
   "execution_count": 104,
   "id": "728d1331-0079-4139-8110-ab6d340ead3c",
   "metadata": {},
   "outputs": [
    {
     "data": {
      "text/plain": [
       "5.2"
      ]
     },
     "execution_count": 104,
     "metadata": {},
     "output_type": "execute_result"
    }
   ],
   "source": [
    "l1.pop(4)"
   ]
  },
  {
   "cell_type": "code",
   "execution_count": 105,
   "id": "9875c67b-3bc2-4d42-ac70-29ab28fc17c8",
   "metadata": {},
   "outputs": [
    {
     "data": {
      "text/plain": [
       "[1,\n",
       " 3,\n",
       " 5,\n",
       " 'love',\n",
       " 'haris',\n",
       " True,\n",
       " 'adil',\n",
       " (3+5j),\n",
       " ['n', 7, 9],\n",
       " {'name': 'haris'},\n",
       " [4, 9, 67],\n",
       " 'suhail',\n",
       " 'p',\n",
       " 'r',\n",
       " 'i',\n",
       " 'n']"
      ]
     },
     "execution_count": 105,
     "metadata": {},
     "output_type": "execute_result"
    }
   ],
   "source": [
    "l1\n"
   ]
  },
  {
   "cell_type": "code",
   "execution_count": 106,
   "id": "be5ee106-b069-4f36-888d-c1a6cabf35ff",
   "metadata": {
    "tags": []
   },
   "outputs": [
    {
     "ename": "NameError",
     "evalue": "name 'l8' is not defined",
     "output_type": "error",
     "traceback": [
      "\u001b[0;31m---------------------------------------------------------------------------\u001b[0m",
      "\u001b[0;31mNameError\u001b[0m                                 Traceback (most recent call last)",
      "Cell \u001b[0;32mIn[106], line 1\u001b[0m\n\u001b[0;32m----> 1\u001b[0m \u001b[38;5;28;01mdel\u001b[39;00m l8      \u001b[38;5;66;03m# deletes(any entity created)the list l8\u001b[39;00m\n",
      "\u001b[0;31mNameError\u001b[0m: name 'l8' is not defined"
     ]
    }
   ],
   "source": [
    "del l8      # deletes(any entity created)the list l8"
   ]
  },
  {
   "cell_type": "code",
   "execution_count": 107,
   "id": "993abc58-02e9-45c8-b708-fda9978052a6",
   "metadata": {},
   "outputs": [],
   "source": [
    "l1.remove('p')          # removes the first instance"
   ]
  },
  {
   "cell_type": "code",
   "execution_count": 108,
   "id": "1edf742f-3dd5-4c0d-bb21-1c3778e30320",
   "metadata": {},
   "outputs": [
    {
     "data": {
      "text/plain": [
       "[1,\n",
       " 3,\n",
       " 5,\n",
       " 'love',\n",
       " 'haris',\n",
       " True,\n",
       " 'adil',\n",
       " (3+5j),\n",
       " ['n', 7, 9],\n",
       " {'name': 'haris'},\n",
       " [4, 9, 67],\n",
       " 'suhail',\n",
       " 'r',\n",
       " 'i',\n",
       " 'n']"
      ]
     },
     "execution_count": 108,
     "metadata": {},
     "output_type": "execute_result"
    }
   ],
   "source": [
    "l1"
   ]
  },
  {
   "cell_type": "code",
   "execution_count": 109,
   "id": "87687eb6-03fc-4e06-a1a1-3f7833c7384f",
   "metadata": {},
   "outputs": [
    {
     "data": {
      "text/plain": [
       "True"
      ]
     },
     "execution_count": 109,
     "metadata": {},
     "output_type": "execute_result"
    }
   ],
   "source": [
    "l1.pop(5)"
   ]
  },
  {
   "cell_type": "code",
   "execution_count": 110,
   "id": "50af3b46-1201-4f87-904f-b4fbf972bb9e",
   "metadata": {},
   "outputs": [
    {
     "ename": "IndexError",
     "evalue": "pop index out of range",
     "output_type": "error",
     "traceback": [
      "\u001b[0;31m---------------------------------------------------------------------------\u001b[0m",
      "\u001b[0;31mIndexError\u001b[0m                                Traceback (most recent call last)",
      "Cell \u001b[0;32mIn[110], line 1\u001b[0m\n\u001b[0;32m----> 1\u001b[0m \u001b[43ml1\u001b[49m\u001b[38;5;241;43m.\u001b[39;49m\u001b[43mpop\u001b[49m\u001b[43m(\u001b[49m\u001b[38;5;241;43m100\u001b[39;49m\u001b[43m)\u001b[49m\n",
      "\u001b[0;31mIndexError\u001b[0m: pop index out of range"
     ]
    }
   ],
   "source": [
    "l1.pop(100)"
   ]
  },
  {
   "cell_type": "code",
   "execution_count": 111,
   "id": "10b7e2f9-a385-440c-8401-76a881cb7f54",
   "metadata": {},
   "outputs": [
    {
     "data": {
      "text/plain": [
       "[1, 2, 3]"
      ]
     },
     "execution_count": 111,
     "metadata": {},
     "output_type": "execute_result"
    }
   ],
   "source": [
    "l9 = [1,2,3]\n",
    "l9"
   ]
  },
  {
   "cell_type": "code",
   "execution_count": 112,
   "id": "a1f48aee-bbe3-4d17-9a9a-db191cff272e",
   "metadata": {},
   "outputs": [
    {
     "data": {
      "text/plain": [
       "[]"
      ]
     },
     "execution_count": 112,
     "metadata": {},
     "output_type": "execute_result"
    }
   ],
   "source": [
    "l9.clear()             # clears the list\n",
    "l9"
   ]
  },
  {
   "cell_type": "code",
   "execution_count": 113,
   "id": "ac676262-13e5-4383-a048-dc68f253e28e",
   "metadata": {},
   "outputs": [
    {
     "data": {
      "text/plain": [
       "0"
      ]
     },
     "execution_count": 113,
     "metadata": {},
     "output_type": "execute_result"
    }
   ],
   "source": [
    "l1.count('y')"
   ]
  },
  {
   "cell_type": "code",
   "execution_count": 114,
   "id": "d83681e3-e71a-46c7-b00e-72f1e31dbdc1",
   "metadata": {},
   "outputs": [
    {
     "data": {
      "text/plain": [
       "[1,\n",
       " 3,\n",
       " 5,\n",
       " 'love',\n",
       " 'haris',\n",
       " 'adil',\n",
       " (3+5j),\n",
       " ['n', 7, 9],\n",
       " {'name': 'haris'},\n",
       " [4, 9, 67],\n",
       " 'suhail',\n",
       " 'r',\n",
       " 'i',\n",
       " 'n']"
      ]
     },
     "execution_count": 114,
     "metadata": {},
     "output_type": "execute_result"
    }
   ],
   "source": [
    "l1"
   ]
  },
  {
   "cell_type": "code",
   "execution_count": 115,
   "id": "14f4de13-0593-4dac-b1d0-f37d5497b336",
   "metadata": {},
   "outputs": [
    {
     "ename": "ValueError",
     "evalue": "'true' is not in list",
     "output_type": "error",
     "traceback": [
      "\u001b[0;31m---------------------------------------------------------------------------\u001b[0m",
      "\u001b[0;31mValueError\u001b[0m                                Traceback (most recent call last)",
      "Cell \u001b[0;32mIn[115], line 1\u001b[0m\n\u001b[0;32m----> 1\u001b[0m \u001b[43ml1\u001b[49m\u001b[38;5;241;43m.\u001b[39;49m\u001b[43mindex\u001b[49m\u001b[43m(\u001b[49m\u001b[38;5;124;43m\"\u001b[39;49m\u001b[38;5;124;43mtrue\u001b[39;49m\u001b[38;5;124;43m\"\u001b[39;49m\u001b[43m)\u001b[49m\n",
      "\u001b[0;31mValueError\u001b[0m: 'true' is not in list"
     ]
    }
   ],
   "source": [
    "l1.index(\"true\")"
   ]
  },
  {
   "cell_type": "code",
   "execution_count": 116,
   "id": "461c89be-1937-4c7b-80db-8069338cc28c",
   "metadata": {},
   "outputs": [
    {
     "data": {
      "text/plain": [
       "3"
      ]
     },
     "execution_count": 116,
     "metadata": {},
     "output_type": "execute_result"
    }
   ],
   "source": [
    "l1.index(\"love\")"
   ]
  },
  {
   "cell_type": "code",
   "execution_count": 117,
   "id": "f035256d-5b2a-4cca-8f50-b4fbca237dac",
   "metadata": {},
   "outputs": [
    {
     "data": {
      "text/plain": [
       "['n',\n",
       " 'i',\n",
       " 'r',\n",
       " 'suhail',\n",
       " [4, 9, 67],\n",
       " {'name': 'haris'},\n",
       " ['n', 7, 9],\n",
       " (3+5j),\n",
       " 'adil',\n",
       " 'haris',\n",
       " 'love',\n",
       " 5,\n",
       " 3,\n",
       " 1]"
      ]
     },
     "execution_count": 117,
     "metadata": {},
     "output_type": "execute_result"
    }
   ],
   "source": [
    "l1.reverse()\n",
    "l1"
   ]
  },
  {
   "cell_type": "code",
   "execution_count": 118,
   "id": "74ddea4b-0e21-497a-b383-41a25d71b196",
   "metadata": {},
   "outputs": [
    {
     "ename": "TypeError",
     "evalue": "'<' not supported between instances of 'list' and 'str'",
     "output_type": "error",
     "traceback": [
      "\u001b[0;31m---------------------------------------------------------------------------\u001b[0m",
      "\u001b[0;31mTypeError\u001b[0m                                 Traceback (most recent call last)",
      "Cell \u001b[0;32mIn[118], line 1\u001b[0m\n\u001b[0;32m----> 1\u001b[0m \u001b[43ml1\u001b[49m\u001b[38;5;241;43m.\u001b[39;49m\u001b[43msort\u001b[49m\u001b[43m(\u001b[49m\u001b[43m)\u001b[49m        \u001b[38;5;66;03m# data must be homogenous\u001b[39;00m\n",
      "\u001b[0;31mTypeError\u001b[0m: '<' not supported between instances of 'list' and 'str'"
     ]
    }
   ],
   "source": [
    "l1.sort()        # data must be homogenous"
   ]
  },
  {
   "cell_type": "code",
   "execution_count": 119,
   "id": "d611708a-eae2-409a-9b7d-0e5454fbbf97",
   "metadata": {},
   "outputs": [
    {
     "data": {
      "text/plain": [
       "[1, 2, 5, 8, 9]"
      ]
     },
     "execution_count": 119,
     "metadata": {},
     "output_type": "execute_result"
    }
   ],
   "source": [
    "l0 = [5,2,9,1,8]\n",
    "l0.sort()\n",
    "l0"
   ]
  },
  {
   "cell_type": "code",
   "execution_count": 120,
   "id": "637086b9-c2ed-4824-a342-6bcfe869c884",
   "metadata": {},
   "outputs": [
    {
     "data": {
      "text/plain": [
       "['haris', 'lone', 'nazir']"
      ]
     },
     "execution_count": 120,
     "metadata": {},
     "output_type": "execute_result"
    }
   ],
   "source": [
    "l7 = ['haris','nazir','lone']\n",
    "l7.sort()\n",
    "l7"
   ]
  },
  {
   "cell_type": "code",
   "execution_count": 121,
   "id": "780ad08b-5b19-417b-be29-97e89b6998b3",
   "metadata": {},
   "outputs": [
    {
     "data": {
      "text/plain": [
       "['nazir', 'lone', 'haris']"
      ]
     },
     "execution_count": 121,
     "metadata": {},
     "output_type": "execute_result"
    }
   ],
   "source": [
    "l7.sort(reverse = True)\n",
    "l7"
   ]
  },
  {
   "cell_type": "code",
   "execution_count": 116,
   "id": "9c88dd21-f64b-4e0e-a103-33fb295f37ef",
   "metadata": {},
   "outputs": [
    {
     "data": {
      "text/plain": [
       "[1, 2, 5, 8, 9]"
      ]
     },
     "execution_count": 116,
     "metadata": {},
     "output_type": "execute_result"
    }
   ],
   "source": [
    "l0"
   ]
  },
  {
   "cell_type": "code",
   "execution_count": 122,
   "id": "9a900e7f-fdac-4e46-8c27-e5050b6524dd",
   "metadata": {},
   "outputs": [],
   "source": [
    "l3 = l0         # both refering same memory\n",
    "                # shallow copy"
   ]
  },
  {
   "cell_type": "code",
   "execution_count": 123,
   "id": "55f61ffd-ef6a-44d4-b745-2a96e2554a8e",
   "metadata": {},
   "outputs": [
    {
     "data": {
      "text/plain": [
       "[1, 2, 5, 8, 9]"
      ]
     },
     "execution_count": 123,
     "metadata": {},
     "output_type": "execute_result"
    }
   ],
   "source": [
    "l3"
   ]
  },
  {
   "cell_type": "code",
   "execution_count": 124,
   "id": "c54f16ce-9428-4d4e-8ce6-ca0e21974a51",
   "metadata": {},
   "outputs": [],
   "source": [
    "l0[0] = 65"
   ]
  },
  {
   "cell_type": "code",
   "execution_count": 125,
   "id": "811eb140-61f5-4f29-a89a-2ede65118b29",
   "metadata": {},
   "outputs": [
    {
     "data": {
      "text/plain": [
       "[65, 2, 5, 8, 9]"
      ]
     },
     "execution_count": 125,
     "metadata": {},
     "output_type": "execute_result"
    }
   ],
   "source": [
    "l0"
   ]
  },
  {
   "cell_type": "code",
   "execution_count": 126,
   "id": "72fa4072-b585-45e0-93cc-0b27074504ff",
   "metadata": {},
   "outputs": [
    {
     "data": {
      "text/plain": [
       "[65, 2, 5, 8, 9]"
      ]
     },
     "execution_count": 126,
     "metadata": {},
     "output_type": "execute_result"
    }
   ],
   "source": [
    "l3"
   ]
  },
  {
   "cell_type": "code",
   "execution_count": 127,
   "id": "a0d045a2-a49d-408d-aaee-0da15fe3f5a9",
   "metadata": {},
   "outputs": [],
   "source": [
    "l4 = l0.copy()      # another space is created\n",
    "                    # deep copy"
   ]
  },
  {
   "cell_type": "code",
   "execution_count": 128,
   "id": "2860d60a-d5b0-486c-b379-266e6d80fcee",
   "metadata": {},
   "outputs": [
    {
     "data": {
      "text/plain": [
       "[65, 2, 5, 8, 9]"
      ]
     },
     "execution_count": 128,
     "metadata": {},
     "output_type": "execute_result"
    }
   ],
   "source": [
    "l4"
   ]
  },
  {
   "cell_type": "code",
   "execution_count": 129,
   "id": "cdc339b0-7ea7-4029-ba0c-17f4be0cc865",
   "metadata": {},
   "outputs": [
    {
     "data": {
      "text/plain": [
       "[99, 2, 5, 8, 9]"
      ]
     },
     "execution_count": 129,
     "metadata": {},
     "output_type": "execute_result"
    }
   ],
   "source": [
    "l0[0] = 99\n",
    "l0"
   ]
  },
  {
   "cell_type": "code",
   "execution_count": 130,
   "id": "8a5cf22e-abf6-47e6-bea0-54424ea36185",
   "metadata": {},
   "outputs": [
    {
     "data": {
      "text/plain": [
       "[65, 2, 5, 8, 9]"
      ]
     },
     "execution_count": 130,
     "metadata": {},
     "output_type": "execute_result"
    }
   ],
   "source": [
    "l4"
   ]
  },
  {
   "cell_type": "code",
   "execution_count": 131,
   "id": "83af42a5-a78d-4474-b8e2-aaaf9d4ded08",
   "metadata": {},
   "outputs": [
    {
     "data": {
      "text/plain": [
       "[99, 2, 5, 8, 9]"
      ]
     },
     "execution_count": 131,
     "metadata": {},
     "output_type": "execute_result"
    }
   ],
   "source": [
    "l3"
   ]
  },
  {
   "cell_type": "code",
   "execution_count": 132,
   "id": "b4d3ea46-acbe-4475-9643-e8abc7cd6053",
   "metadata": {},
   "outputs": [
    {
     "data": {
      "text/plain": [
       "(1, 3, 'haris', (4+5j), False)"
      ]
     },
     "execution_count": 132,
     "metadata": {},
     "output_type": "execute_result"
    }
   ],
   "source": [
    "t"
   ]
  },
  {
   "cell_type": "code",
   "execution_count": 133,
   "id": "1cccfdb7-6bc4-49bd-9ec0-8fab73ee82f5",
   "metadata": {},
   "outputs": [
    {
     "data": {
      "text/plain": [
       "1"
      ]
     },
     "execution_count": 133,
     "metadata": {},
     "output_type": "execute_result"
    }
   ],
   "source": [
    "t.count(3)"
   ]
  },
  {
   "cell_type": "code",
   "execution_count": 134,
   "id": "542589ec-a892-4d68-a8db-002bf3469fa0",
   "metadata": {},
   "outputs": [
    {
     "data": {
      "text/plain": [
       "2"
      ]
     },
     "execution_count": 134,
     "metadata": {},
     "output_type": "execute_result"
    }
   ],
   "source": [
    "t.index('haris')"
   ]
  },
  {
   "cell_type": "code",
   "execution_count": 135,
   "id": "f30dee01-378b-47b4-a97b-bdd1d4af25aa",
   "metadata": {},
   "outputs": [],
   "source": [
    "s = {3,4,3,4,1,2}"
   ]
  },
  {
   "cell_type": "code",
   "execution_count": 136,
   "id": "5f3add60-9d2a-405c-a3ab-e5086276f180",
   "metadata": {},
   "outputs": [
    {
     "data": {
      "text/plain": [
       "{1, 2, 3, 4, 76}"
      ]
     },
     "execution_count": 136,
     "metadata": {},
     "output_type": "execute_result"
    }
   ],
   "source": [
    "s.add(76)\n",
    "s"
   ]
  },
  {
   "cell_type": "code",
   "execution_count": 137,
   "id": "5a35d68d-2472-4bab-9525-2cb88ab8bf3e",
   "metadata": {},
   "outputs": [
    {
     "data": {
      "text/plain": [
       "{1, 2, 3, 4, 76}"
      ]
     },
     "execution_count": 137,
     "metadata": {},
     "output_type": "execute_result"
    }
   ],
   "source": [
    "s.add(4)\n",
    "s"
   ]
  },
  {
   "cell_type": "code",
   "execution_count": 138,
   "id": "eb3925d6-073f-4afb-a939-8b1d87cf9274",
   "metadata": {},
   "outputs": [
    {
     "data": {
      "text/plain": [
       "set()"
      ]
     },
     "execution_count": 138,
     "metadata": {},
     "output_type": "execute_result"
    }
   ],
   "source": [
    "s.clear()\n",
    "s"
   ]
  },
  {
   "cell_type": "code",
   "execution_count": 139,
   "id": "ea368edb-5838-4409-aa51-a9ba6ad3dec2",
   "metadata": {},
   "outputs": [],
   "source": [
    "s = {3,4,3,4,1,2}"
   ]
  },
  {
   "cell_type": "code",
   "execution_count": 140,
   "id": "a5182cb7-c2bc-4dbf-972f-17d1d02bf263",
   "metadata": {},
   "outputs": [
    {
     "data": {
      "text/plain": [
       "{1, 2, 3}"
      ]
     },
     "execution_count": 140,
     "metadata": {},
     "output_type": "execute_result"
    }
   ],
   "source": [
    "s.discard(4)\n",
    "s"
   ]
  },
  {
   "cell_type": "code",
   "execution_count": 141,
   "id": "c4639bc5-1a34-4b1c-a8dc-c9169ace5f82",
   "metadata": {},
   "outputs": [
    {
     "data": {
      "text/plain": [
       "1"
      ]
     },
     "execution_count": 141,
     "metadata": {},
     "output_type": "execute_result"
    }
   ],
   "source": [
    "s.pop()             # no concept of indexing in set so pop pops out from begining"
   ]
  },
  {
   "cell_type": "code",
   "execution_count": 142,
   "id": "76f7fb83-2ad8-4b86-ad41-99a259483792",
   "metadata": {},
   "outputs": [
    {
     "data": {
      "text/plain": [
       "{2}"
      ]
     },
     "execution_count": 142,
     "metadata": {},
     "output_type": "execute_result"
    }
   ],
   "source": [
    "s.remove(3)             # removes the first instance of 3\n",
    "s"
   ]
  },
  {
   "cell_type": "code",
   "execution_count": 143,
   "id": "b4bdcdb4-9b7d-4532-963a-10a573121e7a",
   "metadata": {},
   "outputs": [
    {
     "data": {
      "text/plain": [
       "{'name': 'haris', 'rollno': 4, 'subject': ['math', 'science'], 'number': 56}"
      ]
     },
     "execution_count": 143,
     "metadata": {},
     "output_type": "execute_result"
    }
   ],
   "source": [
    "d1"
   ]
  },
  {
   "cell_type": "code",
   "execution_count": 144,
   "id": "a2764c66-a0a4-42dc-9635-952297fa6585",
   "metadata": {},
   "outputs": [
    {
     "data": {
      "text/plain": [
       "dict_keys(['name', 'rollno', 'subject', 'number'])"
      ]
     },
     "execution_count": 144,
     "metadata": {},
     "output_type": "execute_result"
    }
   ],
   "source": [
    "d1.keys()"
   ]
  },
  {
   "cell_type": "code",
   "execution_count": 145,
   "id": "e601a2ae-83df-4002-9504-860025132282",
   "metadata": {},
   "outputs": [
    {
     "data": {
      "text/plain": [
       "dict_values(['haris', 4, ['math', 'science'], 56])"
      ]
     },
     "execution_count": 145,
     "metadata": {},
     "output_type": "execute_result"
    }
   ],
   "source": [
    "d1.values()"
   ]
  },
  {
   "cell_type": "code",
   "execution_count": 146,
   "id": "637d6451-9749-413f-8303-fb9978fbc04a",
   "metadata": {},
   "outputs": [
    {
     "data": {
      "text/plain": [
       "['haris', 4, ['math', 'science'], 56]"
      ]
     },
     "execution_count": 146,
     "metadata": {},
     "output_type": "execute_result"
    }
   ],
   "source": [
    "list(d1.values())"
   ]
  },
  {
   "cell_type": "code",
   "execution_count": 147,
   "id": "ec051e13-7774-410f-9dac-efadedca0ca5",
   "metadata": {},
   "outputs": [
    {
     "data": {
      "text/plain": [
       "dict_items([('name', 'haris'), ('rollno', 4), ('subject', ['math', 'science']), ('number', 56)])"
      ]
     },
     "execution_count": 147,
     "metadata": {},
     "output_type": "execute_result"
    }
   ],
   "source": [
    "d1.items()         # key value as tuple"
   ]
  },
  {
   "cell_type": "code",
   "execution_count": 148,
   "id": "06d5b05b-7e40-4f72-af44-bd701ba9d4ff",
   "metadata": {},
   "outputs": [
    {
     "data": {
      "text/plain": [
       "[('name', 'haris'),\n",
       " ('rollno', 4),\n",
       " ('subject', ['math', 'science']),\n",
       " ('number', 56)]"
      ]
     },
     "execution_count": 148,
     "metadata": {},
     "output_type": "execute_result"
    }
   ],
   "source": [
    "list(d1.items())"
   ]
  },
  {
   "cell_type": "code",
   "execution_count": 149,
   "id": "9a089f5a-820f-4dad-be44-0c9e3349baa5",
   "metadata": {},
   "outputs": [
    {
     "data": {
      "text/plain": [
       "'haris'"
      ]
     },
     "execution_count": 149,
     "metadata": {},
     "output_type": "execute_result"
    }
   ],
   "source": [
    "d1.get('name')"
   ]
  },
  {
   "cell_type": "code",
   "execution_count": 150,
   "id": "88094179-f685-4cd9-9fec-e7bde8f350c4",
   "metadata": {},
   "outputs": [
    {
     "data": {
      "text/plain": [
       "'haris'"
      ]
     },
     "execution_count": 150,
     "metadata": {},
     "output_type": "execute_result"
    }
   ],
   "source": [
    "d1['name']"
   ]
  },
  {
   "cell_type": "code",
   "execution_count": 151,
   "id": "b2ee3065-6825-411a-89e0-4f270e0a11d1",
   "metadata": {},
   "outputs": [
    {
     "data": {
      "text/plain": [
       "'haris'"
      ]
     },
     "execution_count": 151,
     "metadata": {},
     "output_type": "execute_result"
    }
   ],
   "source": [
    "d1.pop('name')       # removes key value pair name:haris"
   ]
  },
  {
   "cell_type": "code",
   "execution_count": 152,
   "id": "89a7e3b6-dc96-4fea-a802-f8ad15bfb4f4",
   "metadata": {},
   "outputs": [
    {
     "data": {
      "text/plain": [
       "{'rollno': 4, 'subject': ['math', 'science'], 'number': 56}"
      ]
     },
     "execution_count": 152,
     "metadata": {},
     "output_type": "execute_result"
    }
   ],
   "source": [
    "d1"
   ]
  },
  {
   "cell_type": "code",
   "execution_count": 153,
   "id": "7f2d9ce4-c827-4000-9719-9bc353926611",
   "metadata": {},
   "outputs": [
    {
     "data": {
      "text/plain": [
       "{'rollno': 4, 'subject': ['math', 'science'], 'number': 56, 'test': 'done'}"
      ]
     },
     "execution_count": 153,
     "metadata": {},
     "output_type": "execute_result"
    }
   ],
   "source": [
    "d1['test'] = 'done'\n",
    "d1"
   ]
  },
  {
   "cell_type": "code",
   "execution_count": 1,
   "id": "90e69fcf-6c45-477f-acf2-8b53edfe26df",
   "metadata": {},
   "outputs": [
    {
     "name": "stdout",
     "output_type": "stream",
     "text": [
      "1\n",
      "2\n",
      "3\n"
     ]
    }
   ],
   "source": [
    "# Packing\n",
    "my_tuple = 1, 2, 3\n",
    "print(\n",
    "\n",
    "# Unpacking\n",
    "a, b, c = my_tuple\n",
    "\n",
    "print(a)  # Output: 1\n",
    "print(b)  # Output: 2\n",
    "print(c)  # Output: 3\n"
   ]
  },
  {
   "cell_type": "code",
   "execution_count": null,
   "id": "f2785ca7-db8d-4c7b-b924-df872531b5b5",
   "metadata": {},
   "outputs": [],
   "source": []
  }
 ],
 "metadata": {
  "kernelspec": {
   "display_name": "Python 3 (ipykernel)",
   "language": "python",
   "name": "python3"
  },
  "language_info": {
   "codemirror_mode": {
    "name": "ipython",
    "version": 3
   },
   "file_extension": ".py",
   "mimetype": "text/x-python",
   "name": "python",
   "nbconvert_exporter": "python",
   "pygments_lexer": "ipython3",
   "version": "3.10.8"
  }
 },
 "nbformat": 4,
 "nbformat_minor": 5
}
