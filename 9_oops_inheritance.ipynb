{
 "cells": [
  {
   "cell_type": "markdown",
   "id": "37d19915-31a8-48c0-9504-431ec73d6eed",
   "metadata": {},
   "source": [
    "## inheritance"
   ]
  },
  {
   "cell_type": "code",
   "execution_count": 1,
   "id": "ea8ad032-dc26-447b-9a85-1040b3425e8a",
   "metadata": {},
   "outputs": [],
   "source": [
    "class a:\n",
    "    \n",
    "    def test(self):\n",
    "        print('this test method is a part of class a')\n",
    "        \n",
    "    def test1(self):\n",
    "        print('this is test1 from class a')\n",
    "        "
   ]
  },
  {
   "cell_type": "code",
   "execution_count": 2,
   "id": "5e4be17b-323a-4251-afcf-bf1121940659",
   "metadata": {},
   "outputs": [],
   "source": [
    "obj_a = a()"
   ]
  },
  {
   "cell_type": "code",
   "execution_count": 3,
   "id": "deabb7dd-9e14-404b-be1e-b7c7285b162d",
   "metadata": {},
   "outputs": [
    {
     "name": "stdout",
     "output_type": "stream",
     "text": [
      "this test method is a part of class a\n"
     ]
    }
   ],
   "source": [
    "obj_a.test()"
   ]
  },
  {
   "cell_type": "code",
   "execution_count": 4,
   "id": "231c93f1-3ecf-4211-9b62-dff17f4e7730",
   "metadata": {},
   "outputs": [],
   "source": [
    "class b:           # for using the same function as used in class a\n",
    "    \n",
    "     def test(self):\n",
    "        print('this test method is a part of class a')"
   ]
  },
  {
   "cell_type": "code",
   "execution_count": 5,
   "id": "fb695a9f-40d1-40bd-bd13-bc08c55e776c",
   "metadata": {},
   "outputs": [],
   "source": [
    "# best way is to use inheritance\n",
    "class b(a):\n",
    "    def test1b(self):\n",
    "        print('this is testb1 from class b')\n",
    "    "
   ]
  },
  {
   "cell_type": "code",
   "execution_count": 6,
   "id": "9bebc348-b021-482f-96e5-bc44b9193912",
   "metadata": {},
   "outputs": [],
   "source": [
    "obj_b = b()"
   ]
  },
  {
   "cell_type": "code",
   "execution_count": 7,
   "id": "988df65c-b73a-4caf-8b01-9b365c0d6920",
   "metadata": {},
   "outputs": [
    {
     "name": "stdout",
     "output_type": "stream",
     "text": [
      "this test method is a part of class a\n"
     ]
    }
   ],
   "source": [
    "obj_b.test()"
   ]
  },
  {
   "cell_type": "code",
   "execution_count": 8,
   "id": "db967c2f-0627-4b9e-9352-a1025ab3d58c",
   "metadata": {},
   "outputs": [
    {
     "name": "stdout",
     "output_type": "stream",
     "text": [
      "this is test1 from class a\n"
     ]
    }
   ],
   "source": [
    "obj_b.test1()"
   ]
  },
  {
   "cell_type": "code",
   "execution_count": 9,
   "id": "8da19e9b-7d6f-42e1-918f-6254b8b57976",
   "metadata": {},
   "outputs": [
    {
     "name": "stdout",
     "output_type": "stream",
     "text": [
      "this is testb1 from class b\n"
     ]
    }
   ],
   "source": [
    "obj_b.test1b()"
   ]
  },
  {
   "cell_type": "code",
   "execution_count": 10,
   "id": "57ea1a31-267e-44ce-866a-4e6308d88324",
   "metadata": {},
   "outputs": [],
   "source": [
    "class lecture:\n",
    "    \n",
    "    def topic(self):\n",
    "        print('todays class we are discussing about inheritance concept in oops')\n",
    "        \n",
    "    def timing(self):\n",
    "        print('timing for todays class is 9 am')\n",
    "        \n",
    "    def end_time(self):\n",
    "        print('today i will try to end class bit early')"
   ]
  },
  {
   "cell_type": "code",
   "execution_count": 11,
   "id": "a85a664b-18e8-4a31-ae46-09098c794f36",
   "metadata": {},
   "outputs": [],
   "source": [
    "class student(lecture):\n",
    "    \n",
    "    def student_details(self):\n",
    "        print('this class will give you student details')\n",
    "        \n",
    "    "
   ]
  },
  {
   "cell_type": "code",
   "execution_count": 12,
   "id": "b615e9dd-3abb-45d5-923b-0a2f9141829d",
   "metadata": {},
   "outputs": [],
   "source": [
    "haris = student()"
   ]
  },
  {
   "cell_type": "code",
   "execution_count": 13,
   "id": "43a3b4c7-a781-4810-bb7f-70e17b349277",
   "metadata": {},
   "outputs": [
    {
     "name": "stdout",
     "output_type": "stream",
     "text": [
      "todays class we are discussing about inheritance concept in oops\n"
     ]
    }
   ],
   "source": [
    "haris.topic()"
   ]
  },
  {
   "cell_type": "code",
   "execution_count": 14,
   "id": "f6899951-8db0-4896-828a-bbf0bc7b9280",
   "metadata": {},
   "outputs": [],
   "source": [
    "suresh = student()"
   ]
  },
  {
   "cell_type": "code",
   "execution_count": 15,
   "id": "4a8ba1bd-e075-4d30-b7f5-461d00bff78b",
   "metadata": {},
   "outputs": [
    {
     "name": "stdout",
     "output_type": "stream",
     "text": [
      "timing for todays class is 9 am\n"
     ]
    }
   ],
   "source": [
    "suresh.timing()"
   ]
  },
  {
   "cell_type": "markdown",
   "id": "950d984e-511b-45ef-9698-392fdd9d2b81",
   "metadata": {},
   "source": [
    "#### multi level inheritance"
   ]
  },
  {
   "cell_type": "code",
   "execution_count": 16,
   "id": "59befd09-6230-4148-b27c-522f0dd8f08e",
   "metadata": {},
   "outputs": [],
   "source": [
    "class teacher(student):\n",
    "    \n",
    "    def details(self):\n",
    "        print('this will give you a details about teacher')"
   ]
  },
  {
   "cell_type": "code",
   "execution_count": 17,
   "id": "664903cb-4627-42a7-8008-06aa75531526",
   "metadata": {},
   "outputs": [],
   "source": [
    "sudh = teacher()"
   ]
  },
  {
   "cell_type": "code",
   "execution_count": 18,
   "id": "7256bb3d-3d84-4ecc-b02f-26f73fd5fadf",
   "metadata": {},
   "outputs": [
    {
     "name": "stdout",
     "output_type": "stream",
     "text": [
      "timing for todays class is 9 am\n"
     ]
    },
    {
     "data": {
      "text/plain": [
       "'here student class inherits from lecture class and teacher inherits from student class hence \\n   the lecture class methods and variables are avalaible in teacher class'"
      ]
     },
     "execution_count": 18,
     "metadata": {},
     "output_type": "execute_result"
    }
   ],
   "source": [
    "sudh.timing()\n",
    "'''here student class inherits from lecture class and teacher inherits from student class hence \n",
    "   the lecture class methods and variables are avalaible in teacher class'''"
   ]
  },
  {
   "cell_type": "markdown",
   "id": "1a910064-94ae-41b5-8a85-c0c435e09388",
   "metadata": {},
   "source": [
    "#### multiple inheritance"
   ]
  },
  {
   "cell_type": "code",
   "execution_count": 19,
   "id": "0e2a392a-f02b-4913-a887-af88ec3cfbe9",
   "metadata": {},
   "outputs": [],
   "source": [
    "class lecture:\n",
    "    \n",
    "    def topic(self):\n",
    "        print('todays class we are discussing about inheritance concept in oops')\n",
    "        \n",
    "    def timing(self):\n",
    "        print('timing for todays class is 9 am')\n",
    "        \n",
    "    def end_time(self):\n",
    "        print('today i will try to end class bit early')"
   ]
  },
  {
   "cell_type": "code",
   "execution_count": 20,
   "id": "d65632b5-b0ae-4249-8f39-5d2f799eb38c",
   "metadata": {},
   "outputs": [],
   "source": [
    "class student:\n",
    "    \n",
    "    def student_details(self):\n",
    "        print('this class will give you student details')\n",
    "        \n",
    "    def timing(self):\n",
    "        print('this is fun time')\n",
    "        "
   ]
  },
  {
   "cell_type": "code",
   "execution_count": 21,
   "id": "fb6e5eab-ab18-4068-a7b0-1334010a4a99",
   "metadata": {},
   "outputs": [],
   "source": [
    "class teacher(student,lecture):\n",
    "    \n",
    "    def details(self):\n",
    "        print('this will give you a details about teacher')"
   ]
  },
  {
   "cell_type": "code",
   "execution_count": 22,
   "id": "08f2ee85-b3ae-4d12-a331-f24bb0bc603d",
   "metadata": {},
   "outputs": [],
   "source": [
    "krish = teacher()"
   ]
  },
  {
   "cell_type": "code",
   "execution_count": 23,
   "id": "bed05e2f-dd28-4fa6-9cb4-26e1c3dc86ee",
   "metadata": {},
   "outputs": [
    {
     "name": "stdout",
     "output_type": "stream",
     "text": [
      "this class will give you student details\n"
     ]
    }
   ],
   "source": [
    "krish.student_details()"
   ]
  },
  {
   "cell_type": "code",
   "execution_count": 24,
   "id": "8e7e0504-854e-4549-b00f-1404d1ec9bca",
   "metadata": {},
   "outputs": [
    {
     "name": "stdout",
     "output_type": "stream",
     "text": [
      "this is fun time\n"
     ]
    }
   ],
   "source": [
    "krish.timing()"
   ]
  },
  {
   "cell_type": "code",
   "execution_count": 25,
   "id": "90d71be8-f71e-4b95-8519-f7d16b86a1e2",
   "metadata": {},
   "outputs": [],
   "source": [
    "class teacher(lecture,student):         # in case of a conflict the method given in the first class is executed\n",
    "                                        # so ordering of the classes during the conflict in inheritance is important\n",
    "    def details(self):\n",
    "        print('this will give you a details about teacher')"
   ]
  },
  {
   "cell_type": "code",
   "execution_count": 26,
   "id": "9d074dc4-0675-4287-864d-713b53d694a4",
   "metadata": {},
   "outputs": [],
   "source": [
    "krish = teacher()"
   ]
  },
  {
   "cell_type": "code",
   "execution_count": 27,
   "id": "a0d11290-b502-49f0-9d34-0ef0e011f8c2",
   "metadata": {},
   "outputs": [
    {
     "name": "stdout",
     "output_type": "stream",
     "text": [
      "timing for todays class is 9 am\n"
     ]
    }
   ],
   "source": [
    "krish.timing()"
   ]
  },
  {
   "cell_type": "code",
   "execution_count": null,
   "id": "e2b95f23-f1d5-4c8f-b2e5-1dae66f9296d",
   "metadata": {},
   "outputs": [],
   "source": []
  },
  {
   "cell_type": "code",
   "execution_count": null,
   "id": "570631f4-4090-4af3-b21d-ca1c363ceedb",
   "metadata": {},
   "outputs": [],
   "source": []
  }
 ],
 "metadata": {
  "kernelspec": {
   "display_name": "Python 3 (ipykernel)",
   "language": "python",
   "name": "python3"
  },
  "language_info": {
   "codemirror_mode": {
    "name": "ipython",
    "version": 3
   },
   "file_extension": ".py",
   "mimetype": "text/x-python",
   "name": "python",
   "nbconvert_exporter": "python",
   "pygments_lexer": "ipython3",
   "version": "3.10.8"
  }
 },
 "nbformat": 4,
 "nbformat_minor": 5
}
