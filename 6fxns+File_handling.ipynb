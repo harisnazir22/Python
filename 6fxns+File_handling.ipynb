{
 "cells": [
  {
   "cell_type": "code",
   "execution_count": null,
   "id": "f1208d9c-0a15-4f5d-8555-cfe718a4107b",
   "metadata": {},
   "outputs": [],
   "source": [
    "17.Accept a string as input. Your task is to determine if the input string is a valid password or not. For a \n",
    "string to be a valid password, it must satisfy all the conditions given below:\n",
    "(1) It should have at least 8 and at most 32 characters\n",
    "(2) It should start with an uppercase or lowercase letter\n",
    "(3) It should not have any of these characters: / \\ = ' \"\n",
    "(4) It should not have spaces\n",
    "It could have any character that is not mentioned in the list of characters to be avoided (points 3 and \n",
    "4). Output True if the string forms a valid password and False otherwise"
   ]
  },
  {
   "cell_type": "code",
   "execution_count": 1,
   "id": "ee4c8995-7d33-4be7-abeb-2c0ba05bd2aa",
   "metadata": {},
   "outputs": [
    {
     "data": {
      "text/plain": [
       "'In Python, the all() function is a built-in function that takes an iterable as an argument and returns True\\n   if all elements of the iterable are true (or if the iterable is empty). If any element of the iterable is false,\\n   it returns False'"
      ]
     },
     "execution_count": 1,
     "metadata": {},
     "output_type": "execute_result"
    }
   ],
   "source": [
    "def validPassword(pwd: str):\n",
    "    if 8 <= len(pwd) <= 32 and pwd[0].isalpha() and all(char not in pwd for char in [\" \", \"'\", \"/\", \"=\", '\"', '\\\\']):\n",
    "        return True\n",
    "    else:\n",
    "        return False\n",
    "'''In Python, the all() function is a built-in function that takes an iterable as an argument and returns True\n",
    "   if all elements of the iterable are true (or if the iterable is empty). If any element of the iterable is false,\n",
    "   it returns False'''"
   ]
  },
  {
   "cell_type": "code",
   "execution_count": 2,
   "id": "9dabbfa8-6b28-4e01-a768-f13a29c16463",
   "metadata": {},
   "outputs": [
    {
     "data": {
      "text/plain": [
       "False"
      ]
     },
     "execution_count": 2,
     "metadata": {},
     "output_type": "execute_result"
    }
   ],
   "source": [
    "validPassword('123hggkhG')"
   ]
  },
  {
   "cell_type": "code",
   "execution_count": 3,
   "id": "9c1e2215-e45a-4f54-84d5-8dd05fd4c7e6",
   "metadata": {},
   "outputs": [],
   "source": [
    "def greet():\n",
    "    \n",
    "    message='Hello'\n",
    "    \n",
    "    print(\"local\",message)"
   ]
  },
  {
   "cell_type": "code",
   "execution_count": null,
   "id": "9ae945d1-4b65-4ca5-a1c6-cd9959c47d8a",
   "metadata": {},
   "outputs": [],
   "source": []
  },
  {
   "cell_type": "code",
   "execution_count": 4,
   "id": "c296fd6f-81e5-40c0-86ab-4950b6cb7e96",
   "metadata": {},
   "outputs": [
    {
     "name": "stdout",
     "output_type": "stream",
     "text": [
      "local Hello\n"
     ]
    }
   ],
   "source": [
    "greet()"
   ]
  },
  {
   "cell_type": "code",
   "execution_count": 5,
   "id": "b38712f4-30e3-4e02-96ef-f2c7ac69316e",
   "metadata": {},
   "outputs": [
    {
     "ename": "NameError",
     "evalue": "name 'message' is not defined",
     "output_type": "error",
     "traceback": [
      "\u001b[0;31m---------------------------------------------------------------------------\u001b[0m",
      "\u001b[0;31mNameError\u001b[0m                                 Traceback (most recent call last)",
      "Cell \u001b[0;32mIn[5], line 7\u001b[0m\n\u001b[1;32m      3\u001b[0m     message\u001b[38;5;241m=\u001b[39m\u001b[38;5;124m'\u001b[39m\u001b[38;5;124mHello\u001b[39m\u001b[38;5;124m'\u001b[39m\n\u001b[1;32m      5\u001b[0m     \u001b[38;5;28mprint\u001b[39m(\u001b[38;5;124m\"\u001b[39m\u001b[38;5;124mlocal\u001b[39m\u001b[38;5;124m\"\u001b[39m,message)\n\u001b[0;32m----> 7\u001b[0m \u001b[38;5;28mprint\u001b[39m(\u001b[43mmessage\u001b[49m)\n\u001b[1;32m      8\u001b[0m \u001b[38;5;66;03m#greet()\u001b[39;00m\n",
      "\u001b[0;31mNameError\u001b[0m: name 'message' is not defined"
     ]
    }
   ],
   "source": [
    "def greet():\n",
    "    \n",
    "    message='Hello'\n",
    "    \n",
    "    print(\"local\",message)\n",
    "    \n",
    "print(message)\n",
    "#greet()"
   ]
  },
  {
   "cell_type": "code",
   "execution_count": 6,
   "id": "6e26a30c-8726-4bdb-ba27-677fcf0729a3",
   "metadata": {},
   "outputs": [
    {
     "ename": "NameError",
     "evalue": "name 'x' is not defined",
     "output_type": "error",
     "traceback": [
      "\u001b[0;31m---------------------------------------------------------------------------\u001b[0m",
      "\u001b[0;31mNameError\u001b[0m                                 Traceback (most recent call last)",
      "Cell \u001b[0;32mIn[6], line 5\u001b[0m\n\u001b[1;32m      3\u001b[0m     y\u001b[38;5;241m=\u001b[39m\u001b[38;5;241m30\u001b[39m\n\u001b[1;32m      4\u001b[0m     \u001b[38;5;28mprint\u001b[39m(x\u001b[38;5;241m+\u001b[39my)\n\u001b[0;32m----> 5\u001b[0m \u001b[38;5;28mprint\u001b[39m(\u001b[43mx\u001b[49m)\n\u001b[1;32m      6\u001b[0m \u001b[38;5;28mprint\u001b[39m(y)\n",
      "\u001b[0;31mNameError\u001b[0m: name 'x' is not defined"
     ]
    }
   ],
   "source": [
    "def add():\n",
    "    x=20\n",
    "    y=30\n",
    "    print(x+y)\n",
    "print(x)\n",
    "print(y)"
   ]
  },
  {
   "cell_type": "code",
   "execution_count": 7,
   "id": "e7d65514-a90d-4239-b61a-f669c16febd9",
   "metadata": {},
   "outputs": [
    {
     "name": "stdout",
     "output_type": "stream",
     "text": [
      "python is fantastic\n",
      "awesome\n"
     ]
    }
   ],
   "source": [
    "x= \"awesome\"\n",
    "#global scope\n",
    "\n",
    "def myfunc():\n",
    "    x=\"fantastic\"\n",
    "    #local scope\n",
    "    print(\"python is \" + x)\n",
    "    \n",
    "myfunc()\n",
    "print(x)"
   ]
  },
  {
   "cell_type": "code",
   "execution_count": 8,
   "id": "0e614f79-a80d-48b9-b453-60898ee29301",
   "metadata": {},
   "outputs": [],
   "source": [
    "x=20\n",
    "\n",
    "def add():\n",
    "    \n",
    "    y=30\n",
    "    print(\"local variable y=\",y)\n",
    "    \n",
    "    print(\"global variable x=\", x)\n",
    "    \n",
    "    z= x+y\n",
    "    print(z)"
   ]
  },
  {
   "cell_type": "code",
   "execution_count": 9,
   "id": "2126da9d-b059-4c5e-aeb2-dca5c5172b07",
   "metadata": {},
   "outputs": [
    {
     "name": "stdout",
     "output_type": "stream",
     "text": [
      "local variable y= 30\n",
      "global variable x= 20\n",
      "50\n"
     ]
    }
   ],
   "source": [
    "add()"
   ]
  },
  {
   "cell_type": "code",
   "execution_count": 10,
   "id": "8c59a842-eca0-49a6-8858-ef7b4ba5a90e",
   "metadata": {},
   "outputs": [],
   "source": [
    "## Python Function Arguments"
   ]
  },
  {
   "cell_type": "code",
   "execution_count": 11,
   "id": "0b4e5d56-180b-41dc-8fa5-ef3568b1b99b",
   "metadata": {},
   "outputs": [],
   "source": [
    "# positional arguments\n",
    "def add_numbers(a,b):\n",
    "    sum = a+b\n",
    "    print(\"sum\",sum)\n",
    "    "
   ]
  },
  {
   "cell_type": "code",
   "execution_count": 12,
   "id": "e582a1af-2248-4ef0-90c4-8de968059cdf",
   "metadata": {},
   "outputs": [
    {
     "name": "stdout",
     "output_type": "stream",
     "text": [
      "sum 6\n"
     ]
    }
   ],
   "source": [
    "add_numbers(2,4)"
   ]
  },
  {
   "cell_type": "code",
   "execution_count": 13,
   "id": "e7c0a7dc-2fbd-4049-8dd2-747d42cf64a9",
   "metadata": {},
   "outputs": [],
   "source": [
    "def emp_name(name):\n",
    "    print(\"my name is \",name)"
   ]
  },
  {
   "cell_type": "code",
   "execution_count": 14,
   "id": "2d14fd7d-0b7b-4069-85ee-c266535279e9",
   "metadata": {},
   "outputs": [
    {
     "name": "stdout",
     "output_type": "stream",
     "text": [
      "my name is  imran\n"
     ]
    }
   ],
   "source": [
    "emp_name('imran')"
   ]
  },
  {
   "cell_type": "code",
   "execution_count": 15,
   "id": "f0863849-df07-4796-85d5-e9033ea24336",
   "metadata": {},
   "outputs": [],
   "source": [
    "#default arguments\n",
    "def add_numbers(a=4,b=8):\n",
    "    sum = a+b\n",
    "    print(\"sum\",sum)\n",
    "    "
   ]
  },
  {
   "cell_type": "code",
   "execution_count": 16,
   "id": "030cab7c-7c96-41eb-8fa2-fc76456f76a8",
   "metadata": {},
   "outputs": [
    {
     "name": "stdout",
     "output_type": "stream",
     "text": [
      "sum 12\n"
     ]
    }
   ],
   "source": [
    "add_numbers()"
   ]
  },
  {
   "cell_type": "code",
   "execution_count": 17,
   "id": "83ef410a-8665-4db3-ab1b-266fa4b5e8ac",
   "metadata": {},
   "outputs": [
    {
     "name": "stdout",
     "output_type": "stream",
     "text": [
      "sum 12\n"
     ]
    }
   ],
   "source": [
    "add_numbers()"
   ]
  },
  {
   "cell_type": "code",
   "execution_count": 18,
   "id": "0c070143-c961-4b49-af43-3c1dc5492650",
   "metadata": {},
   "outputs": [
    {
     "name": "stdout",
     "output_type": "stream",
     "text": [
      "sum 10\n"
     ]
    }
   ],
   "source": [
    "add_numbers(2,8)"
   ]
  },
  {
   "cell_type": "code",
   "execution_count": 19,
   "id": "f77479f7-30eb-42be-ab72-ac6737cf7546",
   "metadata": {},
   "outputs": [],
   "source": [
    "def emp_name(name=\"pw skills\"):\n",
    "    print(\"my name is \",name)"
   ]
  },
  {
   "cell_type": "code",
   "execution_count": 20,
   "id": "3ec3c0bc-699f-4996-889d-58bb5286eaa9",
   "metadata": {},
   "outputs": [
    {
     "name": "stdout",
     "output_type": "stream",
     "text": [
      "my name is  imran\n"
     ]
    }
   ],
   "source": [
    "emp_name('imran')"
   ]
  },
  {
   "cell_type": "code",
   "execution_count": 21,
   "id": "d24765b8-bcd9-406e-b76d-b976c73e34e0",
   "metadata": {},
   "outputs": [],
   "source": [
    "# keyword arguments"
   ]
  },
  {
   "cell_type": "code",
   "execution_count": 22,
   "id": "43700f84-6502-476f-bd04-40bd0201a23d",
   "metadata": {},
   "outputs": [],
   "source": [
    "def display_info(first_name,last_name):\n",
    "    print(\"first name\",first_name)\n",
    "    print(\"last name\", last_name)"
   ]
  },
  {
   "cell_type": "code",
   "execution_count": 23,
   "id": "13f43d7a-4f64-4da6-8d90-2c54e3dcd7d5",
   "metadata": {},
   "outputs": [
    {
     "name": "stdout",
     "output_type": "stream",
     "text": [
      "first name pw\n",
      "last name skills\n"
     ]
    }
   ],
   "source": [
    "display_info(first_name='pw', last_name='skills')"
   ]
  },
  {
   "cell_type": "code",
   "execution_count": 24,
   "id": "3ada0aec-d3c7-42f7-97c2-d19c178a4e32",
   "metadata": {},
   "outputs": [
    {
     "name": "stdout",
     "output_type": "stream",
     "text": [
      "first name pw\n",
      "last name skills\n"
     ]
    }
   ],
   "source": [
    "display_info(last_name='skills',first_name='pw', )"
   ]
  },
  {
   "cell_type": "code",
   "execution_count": 25,
   "id": "ef094815-eef9-448f-91dd-722f29c5d503",
   "metadata": {},
   "outputs": [],
   "source": [
    "def add_numbers(a,b):\n",
    "    sum = a+b\n",
    "    print(\"sum\",sum)"
   ]
  },
  {
   "cell_type": "code",
   "execution_count": 26,
   "id": "f3e06ae0-8081-46ba-9c62-d81ee51be2bd",
   "metadata": {},
   "outputs": [
    {
     "name": "stdout",
     "output_type": "stream",
     "text": [
      "sum 11\n"
     ]
    }
   ],
   "source": [
    "add_numbers(a=4,b=7)"
   ]
  },
  {
   "cell_type": "code",
   "execution_count": 27,
   "id": "f67800d0-0c5a-4c28-979a-c8c2bb24254e",
   "metadata": {},
   "outputs": [
    {
     "name": "stdout",
     "output_type": "stream",
     "text": [
      "sum 11\n"
     ]
    }
   ],
   "source": [
    "add_numbers(b=4,a=7)"
   ]
  },
  {
   "cell_type": "code",
   "execution_count": 28,
   "id": "57903fa8-4904-44b7-a873-e6bc9b250f39",
   "metadata": {},
   "outputs": [],
   "source": [
    "def add_numbers(a,b,c,d):\n",
    "    sum = a+b+c+d\n",
    "    print(\"sum\",sum)"
   ]
  },
  {
   "cell_type": "code",
   "execution_count": 29,
   "id": "508d0a7c-ef5b-4fcc-97bb-2d3946952fee",
   "metadata": {},
   "outputs": [
    {
     "name": "stdout",
     "output_type": "stream",
     "text": [
      "sum 10\n"
     ]
    }
   ],
   "source": [
    "add_numbers(1,2,3,4)"
   ]
  },
  {
   "cell_type": "code",
   "execution_count": 30,
   "id": "9e7cee07-7b79-419a-a81e-c670ee134110",
   "metadata": {},
   "outputs": [],
   "source": [
    "# *args and **kargs"
   ]
  },
  {
   "cell_type": "code",
   "execution_count": 31,
   "id": "9f1e175b-fde2-4d12-a5b2-49ba812f96d7",
   "metadata": {},
   "outputs": [],
   "source": [
    "def find_sum(*numbers):\n",
    "    result=0\n",
    "    \n",
    "    for num in numbers:\n",
    "        result = result+num\n",
    "    print(\"sum\",result)"
   ]
  },
  {
   "cell_type": "code",
   "execution_count": 32,
   "id": "32a534f5-eb4c-4e62-ac87-23fe9dc0b3fe",
   "metadata": {},
   "outputs": [
    {
     "name": "stdout",
     "output_type": "stream",
     "text": [
      "sum 0\n"
     ]
    }
   ],
   "source": [
    "find_sum()"
   ]
  },
  {
   "cell_type": "code",
   "execution_count": 33,
   "id": "def80881-1bb1-4a97-91b7-b9a90984b4fe",
   "metadata": {},
   "outputs": [
    {
     "name": "stdout",
     "output_type": "stream",
     "text": [
      "sum 6\n"
     ]
    }
   ],
   "source": [
    "find_sum(1,2,3)"
   ]
  },
  {
   "cell_type": "code",
   "execution_count": 34,
   "id": "43a1466b-1636-4d2f-bd50-710c890c8d17",
   "metadata": {},
   "outputs": [
    {
     "name": "stdout",
     "output_type": "stream",
     "text": [
      "sum 36\n"
     ]
    }
   ],
   "source": [
    "find_sum(1,2,3,4,5,6,7,8)"
   ]
  },
  {
   "cell_type": "code",
   "execution_count": 35,
   "id": "96db12ec-67be-453d-87a6-4538f25efef9",
   "metadata": {},
   "outputs": [
    {
     "name": "stdout",
     "output_type": "stream",
     "text": [
      "sum 55\n"
     ]
    }
   ],
   "source": [
    "find_sum(1,2,3,4,5,6,7,8,9,10)"
   ]
  },
  {
   "cell_type": "code",
   "execution_count": 36,
   "id": "a3bb37b1-29f1-409d-a9c4-b79cdfa6a384",
   "metadata": {},
   "outputs": [],
   "source": [
    "def simple(*x):\n",
    "    print(x)"
   ]
  },
  {
   "cell_type": "code",
   "execution_count": 37,
   "id": "966a260c-d77f-4133-8174-eeef2f680e90",
   "metadata": {},
   "outputs": [
    {
     "name": "stdout",
     "output_type": "stream",
     "text": [
      "()\n"
     ]
    }
   ],
   "source": [
    "simple()"
   ]
  },
  {
   "cell_type": "code",
   "execution_count": 38,
   "id": "c97277d1-26c1-4220-9dc9-8516571fb4a0",
   "metadata": {},
   "outputs": [
    {
     "name": "stdout",
     "output_type": "stream",
     "text": [
      "(1, 2, 3)\n"
     ]
    }
   ],
   "source": [
    "simple(1,2,3)"
   ]
  },
  {
   "cell_type": "code",
   "execution_count": 39,
   "id": "85c0949b-55b0-4928-94ff-761de9bfe2c2",
   "metadata": {},
   "outputs": [
    {
     "name": "stdout",
     "output_type": "stream",
     "text": [
      "(1, 2, 3, 4, 5, 6, 7)\n"
     ]
    }
   ],
   "source": [
    "simple(1,2,3,4,5,6,7)"
   ]
  },
  {
   "cell_type": "code",
   "execution_count": 40,
   "id": "05e63fea-436f-4ea9-9bb1-68eec0c64de4",
   "metadata": {},
   "outputs": [],
   "source": [
    "def intro(**data):\n",
    "    print(\"data type of argument\", type(data))\n",
    "          \n",
    "    for key,value in data.items():\n",
    "          print(key,value)"
   ]
  },
  {
   "cell_type": "code",
   "execution_count": 41,
   "id": "99e0e57f-f441-4aa7-ac14-4ca7c312e59c",
   "metadata": {},
   "outputs": [
    {
     "name": "stdout",
     "output_type": "stream",
     "text": [
      "data type of argument <class 'dict'>\n",
      "firstname pw\n",
      "lastname skills\n"
     ]
    }
   ],
   "source": [
    "intro(firstname='pw',lastname='skills')"
   ]
  },
  {
   "cell_type": "code",
   "execution_count": 42,
   "id": "368b2fea-4d1c-4fae-9f54-8aebff5162ba",
   "metadata": {},
   "outputs": [],
   "source": [
    "x={'a':1,'b':2}"
   ]
  },
  {
   "cell_type": "code",
   "execution_count": 43,
   "id": "cc78b275-d2bf-4f45-874f-5a72ae069a61",
   "metadata": {},
   "outputs": [
    {
     "data": {
      "text/plain": [
       "dict_items([('a', 1), ('b', 2)])"
      ]
     },
     "execution_count": 43,
     "metadata": {},
     "output_type": "execute_result"
    }
   ],
   "source": [
    "x.items()"
   ]
  },
  {
   "cell_type": "code",
   "execution_count": 44,
   "id": "42dcbb8f-2c5a-4b6c-aa84-8185b0fb3b16",
   "metadata": {},
   "outputs": [
    {
     "name": "stdout",
     "output_type": "stream",
     "text": [
      "a 1\n",
      "b 2\n"
     ]
    }
   ],
   "source": [
    "for keys,value in x.items():\n",
    "    print(keys,value)"
   ]
  },
  {
   "cell_type": "code",
   "execution_count": 45,
   "id": "494e8d48-d03e-490e-adda-697be84efbf1",
   "metadata": {},
   "outputs": [],
   "source": [
    "def simple(**x):\n",
    "    print(x)"
   ]
  },
  {
   "cell_type": "code",
   "execution_count": 46,
   "id": "a795e090-fc20-4170-b880-286c23f74ae8",
   "metadata": {},
   "outputs": [
    {
     "name": "stdout",
     "output_type": "stream",
     "text": [
      "{'name': 'imran', 'age': 24, 'id_no': 23}\n"
     ]
    }
   ],
   "source": [
    "simple(name='imran',age=24,id_no=23)"
   ]
  },
  {
   "cell_type": "code",
   "execution_count": 47,
   "id": "0980542e-41cb-4ca8-8a72-634ee519cd0f",
   "metadata": {},
   "outputs": [],
   "source": [
    "def simple1(*y):\n",
    "    print(y)"
   ]
  },
  {
   "cell_type": "code",
   "execution_count": 48,
   "id": "fe3ee2bd-5cb0-4896-b96b-91c4f1aaffc0",
   "metadata": {},
   "outputs": [
    {
     "name": "stdout",
     "output_type": "stream",
     "text": [
      "(2, 3)\n"
     ]
    }
   ],
   "source": [
    "simple1(2,3)"
   ]
  },
  {
   "cell_type": "code",
   "execution_count": 49,
   "id": "2290182b-a7ec-4a93-852c-ed6d8af413ed",
   "metadata": {},
   "outputs": [
    {
     "name": "stdout",
     "output_type": "stream",
     "text": [
      "(3, 5, 6)\n"
     ]
    }
   ],
   "source": [
    "simple1(3,5,6)"
   ]
  },
  {
   "cell_type": "code",
   "execution_count": 50,
   "id": "6b762d2d-196f-4735-b767-0a069346770c",
   "metadata": {},
   "outputs": [
    {
     "name": "stdout",
     "output_type": "stream",
     "text": [
      "(4, 5, 6, 7, 8, 9)\n"
     ]
    }
   ],
   "source": [
    "simple1(4,5,6,7,8,9)"
   ]
  },
  {
   "cell_type": "code",
   "execution_count": 51,
   "id": "775201b8-c1db-43a3-9b32-db0fab862ef9",
   "metadata": {},
   "outputs": [],
   "source": [
    "def simple(**x):\n",
    "    print(x)"
   ]
  },
  {
   "cell_type": "code",
   "execution_count": 52,
   "id": "83f361cf-8968-4607-a1e9-3dca5424469d",
   "metadata": {},
   "outputs": [
    {
     "name": "stdout",
     "output_type": "stream",
     "text": [
      "{'name': 'imran'}\n"
     ]
    }
   ],
   "source": [
    "simple(name='imran')"
   ]
  },
  {
   "cell_type": "code",
   "execution_count": 54,
   "id": "0fe75729-8741-4182-9c04-099e72448688",
   "metadata": {},
   "outputs": [
    {
     "name": "stdout",
     "output_type": "stream",
     "text": [
      "{'name': 'imran', 'age': 45}\n"
     ]
    }
   ],
   "source": [
    "simple(name='imran',age=45)"
   ]
  },
  {
   "cell_type": "code",
   "execution_count": 1,
   "id": "e77f2971-76b1-4745-a715-2a59f1808aef",
   "metadata": {},
   "outputs": [],
   "source": [
    "def shownumbers(*args):\n",
    "    print(x)"
   ]
  },
  {
   "cell_type": "code",
   "execution_count": 2,
   "id": "7e169570-13a7-4867-a048-c01a4843f4f8",
   "metadata": {},
   "outputs": [
    {
     "ename": "NameError",
     "evalue": "name 'x' is not defined",
     "output_type": "error",
     "traceback": [
      "\u001b[0;31m---------------------------------------------------------------------------\u001b[0m",
      "\u001b[0;31mNameError\u001b[0m                                 Traceback (most recent call last)",
      "Cell \u001b[0;32mIn[2], line 1\u001b[0m\n\u001b[0;32m----> 1\u001b[0m \u001b[43mshownumbers\u001b[49m\u001b[43m(\u001b[49m\u001b[38;5;241;43m1\u001b[39;49m\u001b[43m)\u001b[49m\n",
      "Cell \u001b[0;32mIn[1], line 2\u001b[0m, in \u001b[0;36mshownumbers\u001b[0;34m(*args)\u001b[0m\n\u001b[1;32m      1\u001b[0m \u001b[38;5;28;01mdef\u001b[39;00m \u001b[38;5;21mshownumbers\u001b[39m(\u001b[38;5;241m*\u001b[39margs):\n\u001b[0;32m----> 2\u001b[0m     \u001b[38;5;28mprint\u001b[39m(\u001b[43mx\u001b[49m)\n",
      "\u001b[0;31mNameError\u001b[0m: name 'x' is not defined"
     ]
    }
   ],
   "source": [
    "shownumbers(1)"
   ]
  },
  {
   "cell_type": "code",
   "execution_count": 3,
   "id": "8be643e4-5e71-451b-8bbc-be97adcf2ccf",
   "metadata": {},
   "outputs": [
    {
     "ename": "NameError",
     "evalue": "name 'x' is not defined",
     "output_type": "error",
     "traceback": [
      "\u001b[0;31m---------------------------------------------------------------------------\u001b[0m",
      "\u001b[0;31mNameError\u001b[0m                                 Traceback (most recent call last)",
      "Cell \u001b[0;32mIn[3], line 1\u001b[0m\n\u001b[0;32m----> 1\u001b[0m \u001b[43mshownumbers\u001b[49m\u001b[43m(\u001b[49m\u001b[38;5;241;43m2\u001b[39;49m\u001b[43m,\u001b[49m\u001b[38;5;241;43m3\u001b[39;49m\u001b[43m,\u001b[49m\u001b[38;5;241;43m4\u001b[39;49m\u001b[43m,\u001b[49m\u001b[38;5;241;43m6\u001b[39;49m\u001b[43m)\u001b[49m\n",
      "Cell \u001b[0;32mIn[1], line 2\u001b[0m, in \u001b[0;36mshownumbers\u001b[0;34m(*args)\u001b[0m\n\u001b[1;32m      1\u001b[0m \u001b[38;5;28;01mdef\u001b[39;00m \u001b[38;5;21mshownumbers\u001b[39m(\u001b[38;5;241m*\u001b[39margs):\n\u001b[0;32m----> 2\u001b[0m     \u001b[38;5;28mprint\u001b[39m(\u001b[43mx\u001b[49m)\n",
      "\u001b[0;31mNameError\u001b[0m: name 'x' is not defined"
     ]
    }
   ],
   "source": [
    "shownumbers(2,3,4,6)"
   ]
  },
  {
   "cell_type": "code",
   "execution_count": 4,
   "id": "4284306c-314a-4cf3-99f2-1fe9257235e9",
   "metadata": {},
   "outputs": [],
   "source": [
    "def showkeyvale(**kwargs):\n",
    "    print(y)"
   ]
  },
  {
   "cell_type": "code",
   "execution_count": 5,
   "id": "b6d6c505-f300-460a-8adf-26c20768cc2a",
   "metadata": {},
   "outputs": [
    {
     "ename": "NameError",
     "evalue": "name 'y' is not defined",
     "output_type": "error",
     "traceback": [
      "\u001b[0;31m---------------------------------------------------------------------------\u001b[0m",
      "\u001b[0;31mNameError\u001b[0m                                 Traceback (most recent call last)",
      "Cell \u001b[0;32mIn[5], line 1\u001b[0m\n\u001b[0;32m----> 1\u001b[0m \u001b[43mshowkeyvale\u001b[49m\u001b[43m(\u001b[49m\u001b[43mx\u001b[49m\u001b[38;5;241;43m=\u001b[39;49m\u001b[38;5;241;43m1\u001b[39;49m\u001b[43m,\u001b[49m\u001b[43my\u001b[49m\u001b[38;5;241;43m=\u001b[39;49m\u001b[38;5;241;43m2\u001b[39;49m\u001b[43m)\u001b[49m\n",
      "Cell \u001b[0;32mIn[4], line 2\u001b[0m, in \u001b[0;36mshowkeyvale\u001b[0;34m(**kwargs)\u001b[0m\n\u001b[1;32m      1\u001b[0m \u001b[38;5;28;01mdef\u001b[39;00m \u001b[38;5;21mshowkeyvale\u001b[39m(\u001b[38;5;241m*\u001b[39m\u001b[38;5;241m*\u001b[39mkwargs):\n\u001b[0;32m----> 2\u001b[0m     \u001b[38;5;28mprint\u001b[39m(\u001b[43my\u001b[49m)\n",
      "\u001b[0;31mNameError\u001b[0m: name 'y' is not defined"
     ]
    }
   ],
   "source": [
    "showkeyvale(x=1,y=2)"
   ]
  },
  {
   "cell_type": "code",
   "execution_count": 6,
   "id": "98d53c17-bd05-4453-8399-3f0784578177",
   "metadata": {},
   "outputs": [
    {
     "ename": "NameError",
     "evalue": "name 'y' is not defined",
     "output_type": "error",
     "traceback": [
      "\u001b[0;31m---------------------------------------------------------------------------\u001b[0m",
      "\u001b[0;31mNameError\u001b[0m                                 Traceback (most recent call last)",
      "Cell \u001b[0;32mIn[6], line 1\u001b[0m\n\u001b[0;32m----> 1\u001b[0m \u001b[43mshowkeyvale\u001b[49m\u001b[43m(\u001b[49m\u001b[43mx\u001b[49m\u001b[38;5;241;43m=\u001b[39;49m\u001b[38;5;241;43m1\u001b[39;49m\u001b[43m,\u001b[49m\u001b[43my\u001b[49m\u001b[38;5;241;43m=\u001b[39;49m\u001b[38;5;241;43m2\u001b[39;49m\u001b[43m,\u001b[49m\u001b[43mw\u001b[49m\u001b[38;5;241;43m=\u001b[39;49m\u001b[38;5;241;43m9\u001b[39;49m\u001b[43m,\u001b[49m\u001b[43mu\u001b[49m\u001b[38;5;241;43m=\u001b[39;49m\u001b[38;5;124;43m\"\u001b[39;49m\u001b[38;5;124;43mpw\u001b[39;49m\u001b[38;5;124;43m\"\u001b[39;49m\u001b[43m)\u001b[49m\n",
      "Cell \u001b[0;32mIn[4], line 2\u001b[0m, in \u001b[0;36mshowkeyvale\u001b[0;34m(**kwargs)\u001b[0m\n\u001b[1;32m      1\u001b[0m \u001b[38;5;28;01mdef\u001b[39;00m \u001b[38;5;21mshowkeyvale\u001b[39m(\u001b[38;5;241m*\u001b[39m\u001b[38;5;241m*\u001b[39mkwargs):\n\u001b[0;32m----> 2\u001b[0m     \u001b[38;5;28mprint\u001b[39m(\u001b[43my\u001b[49m)\n",
      "\u001b[0;31mNameError\u001b[0m: name 'y' is not defined"
     ]
    }
   ],
   "source": [
    "showkeyvale(x=1,y=2,w=9,u=\"pw\")"
   ]
  },
  {
   "cell_type": "code",
   "execution_count": 7,
   "id": "2f402630-864b-4e14-9593-b359400cf704",
   "metadata": {},
   "outputs": [],
   "source": [
    "def showkeyvale(**kwargs):\n",
    "    print(kwargs)"
   ]
  },
  {
   "cell_type": "code",
   "execution_count": 8,
   "id": "a959cfbc-2773-4208-8923-6d687edec6ab",
   "metadata": {},
   "outputs": [
    {
     "name": "stdout",
     "output_type": "stream",
     "text": [
      "{'x': 2, 'u': 5}\n"
     ]
    }
   ],
   "source": [
    "showkeyvale(x=2,u=5)"
   ]
  },
  {
   "cell_type": "code",
   "execution_count": 9,
   "id": "b0c3a3ac-8804-405c-a475-080dddd83747",
   "metadata": {},
   "outputs": [],
   "source": [
    "# lambda functions"
   ]
  },
  {
   "cell_type": "code",
   "execution_count": 10,
   "id": "c76cd006-04e5-4ce5-b27e-19b7c1866e3f",
   "metadata": {},
   "outputs": [],
   "source": [
    "x=lambda : print(\"hello wolrd\")"
   ]
  },
  {
   "cell_type": "code",
   "execution_count": 11,
   "id": "42827c61-8c13-4d6c-a18e-8de05ccff5b4",
   "metadata": {},
   "outputs": [
    {
     "name": "stdout",
     "output_type": "stream",
     "text": [
      "hello wolrd\n"
     ]
    }
   ],
   "source": [
    "x()"
   ]
  },
  {
   "cell_type": "code",
   "execution_count": 12,
   "id": "49743fdf-45cd-4683-b1bf-778f76592797",
   "metadata": {},
   "outputs": [],
   "source": [
    "y=lambda : print(\"pw skills\")"
   ]
  },
  {
   "cell_type": "code",
   "execution_count": 13,
   "id": "373f4ee3-1e8b-4c67-83a8-0f15eca88593",
   "metadata": {},
   "outputs": [
    {
     "name": "stdout",
     "output_type": "stream",
     "text": [
      "pw skills\n"
     ]
    }
   ],
   "source": [
    "y()"
   ]
  },
  {
   "cell_type": "code",
   "execution_count": 14,
   "id": "af67ab4a-d91d-4464-b577-f77e8f48ce05",
   "metadata": {},
   "outputs": [],
   "source": [
    "addnum=lambda a,b:a+b"
   ]
  },
  {
   "cell_type": "code",
   "execution_count": 15,
   "id": "1a649604-954a-46ac-a066-17877cc49989",
   "metadata": {},
   "outputs": [
    {
     "data": {
      "text/plain": [
       "5"
      ]
     },
     "execution_count": 15,
     "metadata": {},
     "output_type": "execute_result"
    }
   ],
   "source": [
    "addnum(2,3)"
   ]
  },
  {
   "cell_type": "code",
   "execution_count": 16,
   "id": "79498693-fca8-4fad-a7cc-fad6b7d817dc",
   "metadata": {},
   "outputs": [],
   "source": [
    "multi = lambda a,b : a*b\n"
   ]
  },
  {
   "cell_type": "code",
   "execution_count": 17,
   "id": "5d4e5e47-a70b-4921-82c0-d1249dd9d0bf",
   "metadata": {},
   "outputs": [
    {
     "data": {
      "text/plain": [
       "8"
      ]
     },
     "execution_count": 17,
     "metadata": {},
     "output_type": "execute_result"
    }
   ],
   "source": [
    "multi(2,4)"
   ]
  },
  {
   "cell_type": "code",
   "execution_count": 19,
   "id": "032c6bc3-1dda-4785-86a3-75af125a4802",
   "metadata": {},
   "outputs": [
    {
     "name": "stdin",
     "output_type": "stream",
     "text": [
      "enter first number 7\n",
      "enter second number 8\n"
     ]
    },
    {
     "name": "stdout",
     "output_type": "stream",
     "text": [
      "(49, 64)\n"
     ]
    }
   ],
   "source": [
    "a= int(input(\"enter first number\"))\n",
    "b= int(input(\"enter second number\"))\n",
    "square=lambda a,b:(a**2,b**2)\n",
    "print(square(a,b))"
   ]
  },
  {
   "cell_type": "code",
   "execution_count": 20,
   "id": "24c4e4af-ce42-46f2-8df7-705ee7412c35",
   "metadata": {},
   "outputs": [],
   "source": [
    "def evenodd(n):\n",
    "    if n%2==0:\n",
    "        print(\"number is even\")\n",
    "    else:\n",
    "        print(\"number is odd\")"
   ]
  },
  {
   "cell_type": "code",
   "execution_count": 21,
   "id": "7697b3f4-e16b-45e4-abe6-f36d9bc8fe94",
   "metadata": {},
   "outputs": [
    {
     "name": "stdout",
     "output_type": "stream",
     "text": [
      "number is odd\n"
     ]
    }
   ],
   "source": [
    "evenodd(23)"
   ]
  },
  {
   "cell_type": "code",
   "execution_count": 22,
   "id": "8d919fcd-c08b-4357-b245-2e8e0ec6b83f",
   "metadata": {},
   "outputs": [],
   "source": [
    "x=lambda n: \"number is even\" if n%2==0 else \"number is odd\""
   ]
  },
  {
   "cell_type": "code",
   "execution_count": 23,
   "id": "2974f74f-cab5-4f7b-add2-b16535b24547",
   "metadata": {},
   "outputs": [
    {
     "data": {
      "text/plain": [
       "'number is odd'"
      ]
     },
     "execution_count": 23,
     "metadata": {},
     "output_type": "execute_result"
    }
   ],
   "source": [
    "x(3)"
   ]
  },
  {
   "cell_type": "code",
   "execution_count": 24,
   "id": "4c6cdc6a-1b46-48b4-92ff-8305d8b606ba",
   "metadata": {},
   "outputs": [],
   "source": [
    "# write a lambda function that accespts 2 arguments and return the greater amongst them"
   ]
  },
  {
   "cell_type": "code",
   "execution_count": 25,
   "id": "8a61a0f8-55ee-40b8-bd76-5e778112311b",
   "metadata": {},
   "outputs": [],
   "source": [
    "greatest_num=lambda a,b: a if a>b else b"
   ]
  },
  {
   "cell_type": "code",
   "execution_count": 26,
   "id": "3a0b1bb1-bb5d-4d50-85cc-3145e8cff848",
   "metadata": {},
   "outputs": [
    {
     "data": {
      "text/plain": [
       "8"
      ]
     },
     "execution_count": 26,
     "metadata": {},
     "output_type": "execute_result"
    }
   ],
   "source": [
    "greatest_num(4,8)"
   ]
  },
  {
   "cell_type": "code",
   "execution_count": 27,
   "id": "9854aa5b-5e00-4fdd-b748-4e0149db44bb",
   "metadata": {},
   "outputs": [],
   "source": [
    "# lambda fucntion to fing sum of numbers"
   ]
  },
  {
   "cell_type": "code",
   "execution_count": 28,
   "id": "9a7d50c2-4a61-4cde-810d-074c08cd0f40",
   "metadata": {},
   "outputs": [],
   "source": [
    "sum_of =lambda a,b,c: (a+b+c)\n"
   ]
  },
  {
   "cell_type": "code",
   "execution_count": 29,
   "id": "bcae0035-47e4-4428-b533-0535d261dcdc",
   "metadata": {},
   "outputs": [
    {
     "data": {
      "text/plain": [
       "6"
      ]
     },
     "execution_count": 29,
     "metadata": {},
     "output_type": "execute_result"
    }
   ],
   "source": [
    "sum_of(1,2,3)"
   ]
  },
  {
   "cell_type": "code",
   "execution_count": 30,
   "id": "218b7320-ba2b-4622-beb2-8e32e59bf3f2",
   "metadata": {},
   "outputs": [],
   "source": [
    "products = [\n",
    "    {'name':'product1','price':50},\n",
    "    {'name':'product2','price':40},\n",
    "    {'name':'product3','price':30},\n",
    "    {'name':'product4','price':80}\n",
    "]\n",
    "\n",
    "# sorted()\n",
    "\n",
    "sorted_products= sorted(products, key=lambda x:x['price'],reverse=True)\n",
    "    "
   ]
  },
  {
   "cell_type": "code",
   "execution_count": 31,
   "id": "d0b34f76-cf6b-44f7-814d-5da4369fa741",
   "metadata": {},
   "outputs": [
    {
     "name": "stdout",
     "output_type": "stream",
     "text": [
      "{'name': 'product4', 'price': 80}\n",
      "{'name': 'product1', 'price': 50}\n",
      "{'name': 'product2', 'price': 40}\n",
      "{'name': 'product3', 'price': 30}\n"
     ]
    }
   ],
   "source": [
    "for i in sorted_products:\n",
    "    print(i)"
   ]
  },
  {
   "cell_type": "code",
   "execution_count": 32,
   "id": "2445ef58-8ee3-480b-8864-e40e9d2df57d",
   "metadata": {},
   "outputs": [
    {
     "data": {
      "text/plain": [
       "[{'name': 'product4', 'price': 80},\n",
       " {'name': 'product1', 'price': 50},\n",
       " {'name': 'product2', 'price': 40},\n",
       " {'name': 'product3', 'price': 30}]"
      ]
     },
     "execution_count": 32,
     "metadata": {},
     "output_type": "execute_result"
    }
   ],
   "source": [
    "sorted_products"
   ]
  },
  {
   "cell_type": "code",
   "execution_count": 33,
   "id": "9bb37616-2a3a-4902-a055-bbbb8501aa6c",
   "metadata": {},
   "outputs": [],
   "source": [
    "x={'name':'product1','price':50}"
   ]
  },
  {
   "cell_type": "code",
   "execution_count": 34,
   "id": "0ffd1ba7-2610-4885-b5cd-b34b56e4d9fa",
   "metadata": {},
   "outputs": [],
   "source": [
    "key=lambda x:x['price']"
   ]
  },
  {
   "cell_type": "code",
   "execution_count": 35,
   "id": "a084a85f-4b2f-49a3-80d6-aa45c85de97b",
   "metadata": {},
   "outputs": [
    {
     "data": {
      "text/plain": [
       "<function __main__.<lambda>(x)>"
      ]
     },
     "execution_count": 35,
     "metadata": {},
     "output_type": "execute_result"
    }
   ],
   "source": [
    "key"
   ]
  },
  {
   "cell_type": "code",
   "execution_count": 36,
   "id": "dc4cedb3-b3dc-4847-b87e-fbab4da01b94",
   "metadata": {},
   "outputs": [
    {
     "data": {
      "text/plain": [
       "50"
      ]
     },
     "execution_count": 36,
     "metadata": {},
     "output_type": "execute_result"
    }
   ],
   "source": [
    "x['price']"
   ]
  },
  {
   "cell_type": "code",
   "execution_count": null,
   "id": "63a0bcf0-48f9-4ce9-b7b9-b91a38b0f276",
   "metadata": {},
   "outputs": [],
   "source": [
    "# wite a lambda expression that accepts a charater as argument and retun true if it is a volwel other flase\n",
    "# a e i o u\n",
    "# imran \n",
    "# i a"
   ]
  },
  {
   "cell_type": "code",
   "execution_count": null,
   "id": "01966b83-c5ff-4b79-87e0-f7f989b2d941",
   "metadata": {},
   "outputs": [],
   "source": [
    "# filter\n",
    "# map\n",
    "# reduce"
   ]
  },
  {
   "cell_type": "code",
   "execution_count": 37,
   "id": "22691a04-9042-4d9d-8efd-12ff810014b1",
   "metadata": {},
   "outputs": [
    {
     "name": "stdin",
     "output_type": "stream",
     "text": [
      "Enter a string:  haris\n"
     ]
    },
    {
     "data": {
      "text/plain": [
       "['a', 'i']"
      ]
     },
     "execution_count": 37,
     "metadata": {},
     "output_type": "execute_result"
    }
   ],
   "source": [
    "vowels = ['a','e','i','o','u','A','E','I','O','U']\n",
    "string = input(\"Enter a string: \")\n",
    "\n",
    "vowels_list = [string[i] for i in range(len(string)) if string[i] in vowels]\n",
    "vowels_list\n"
   ]
  },
  {
   "cell_type": "code",
   "execution_count": 38,
   "id": "a566dc5a-d70a-4904-a040-cc5912273398",
   "metadata": {},
   "outputs": [],
   "source": [
    "x=-10"
   ]
  },
  {
   "cell_type": "code",
   "execution_count": 39,
   "id": "7ef1c01e-2f39-4a85-9ac1-6b140ef7114b",
   "metadata": {},
   "outputs": [
    {
     "data": {
      "text/plain": [
       "10"
      ]
     },
     "execution_count": 39,
     "metadata": {},
     "output_type": "execute_result"
    }
   ],
   "source": [
    "abs(x)"
   ]
  },
  {
   "cell_type": "code",
   "execution_count": 40,
   "id": "fbfb8528-796f-49d0-b444-003f5ea2c8c1",
   "metadata": {},
   "outputs": [],
   "source": [
    "x=5"
   ]
  },
  {
   "cell_type": "code",
   "execution_count": 41,
   "id": "629263f9-376b-4577-8ae2-a0920d0d29ad",
   "metadata": {},
   "outputs": [
    {
     "data": {
      "text/plain": [
       "139765500461424"
      ]
     },
     "execution_count": 41,
     "metadata": {},
     "output_type": "execute_result"
    }
   ],
   "source": [
    "id(x)"
   ]
  },
  {
   "cell_type": "code",
   "execution_count": 42,
   "id": "b07ae3cb-5bb9-4f2b-9ba9-c95a13f1f249",
   "metadata": {},
   "outputs": [],
   "source": [
    "l=[1,2,3,4]"
   ]
  },
  {
   "cell_type": "code",
   "execution_count": 43,
   "id": "95be1090-d66b-4031-a8b2-ef9e34c79144",
   "metadata": {},
   "outputs": [
    {
     "data": {
      "text/plain": [
       "4"
      ]
     },
     "execution_count": 43,
     "metadata": {},
     "output_type": "execute_result"
    }
   ],
   "source": [
    "max(l)"
   ]
  },
  {
   "cell_type": "code",
   "execution_count": 44,
   "id": "50e27fae-c742-4df3-ba6f-1830b4ec6942",
   "metadata": {},
   "outputs": [],
   "source": [
    "x=2"
   ]
  },
  {
   "cell_type": "code",
   "execution_count": 45,
   "id": "bf5c657b-920d-436c-81f8-804a2f34be80",
   "metadata": {},
   "outputs": [],
   "source": [
    "y=str(x)"
   ]
  },
  {
   "cell_type": "code",
   "execution_count": 46,
   "id": "a51c8b24-91de-4c83-9c0a-45dfa62375c9",
   "metadata": {},
   "outputs": [
    {
     "data": {
      "text/plain": [
       "'2'"
      ]
     },
     "execution_count": 46,
     "metadata": {},
     "output_type": "execute_result"
    }
   ],
   "source": [
    "y"
   ]
  },
  {
   "cell_type": "code",
   "execution_count": 47,
   "id": "8ac7881f-eca9-4587-9c91-0a1ae9260ce0",
   "metadata": {},
   "outputs": [
    {
     "data": {
      "text/plain": [
       "str"
      ]
     },
     "execution_count": 47,
     "metadata": {},
     "output_type": "execute_result"
    }
   ],
   "source": [
    "type(y)"
   ]
  },
  {
   "cell_type": "code",
   "execution_count": 48,
   "id": "fe70309e-d654-4034-a545-531a317b828d",
   "metadata": {},
   "outputs": [],
   "source": [
    "language=['python','java','javascript']"
   ]
  },
  {
   "cell_type": "code",
   "execution_count": 49,
   "id": "0527acca-6c71-4bfe-8e35-50d57070c835",
   "metadata": {},
   "outputs": [],
   "source": [
    "enumerate_prime= enumerate(language,3)"
   ]
  },
  {
   "cell_type": "code",
   "execution_count": 50,
   "id": "edc67932-1761-4409-981d-f3cd9dc35453",
   "metadata": {},
   "outputs": [
    {
     "data": {
      "text/plain": [
       "[(3, 'python'), (4, 'java'), (5, 'javascript')]"
      ]
     },
     "execution_count": 50,
     "metadata": {},
     "output_type": "execute_result"
    }
   ],
   "source": [
    "list(enumerate_prime)"
   ]
  },
  {
   "cell_type": "code",
   "execution_count": 51,
   "id": "565ef69f-153c-4c88-9787-eb7fbb7365e7",
   "metadata": {},
   "outputs": [],
   "source": [
    "## List comprehension"
   ]
  },
  {
   "cell_type": "code",
   "execution_count": 52,
   "id": "a421dbd9-21c5-40cc-acd2-8398c3c0af75",
   "metadata": {},
   "outputs": [],
   "source": [
    "lst=[1,2,3,4,5,6,7,8,9,10]"
   ]
  },
  {
   "cell_type": "code",
   "execution_count": 53,
   "id": "c3db9570-6b86-4a55-a784-4f5fe7da55a3",
   "metadata": {},
   "outputs": [],
   "source": [
    "a=[x for x in lst]"
   ]
  },
  {
   "cell_type": "code",
   "execution_count": 54,
   "id": "9f1d8d66-42b1-4b3a-a787-70030044e283",
   "metadata": {},
   "outputs": [
    {
     "data": {
      "text/plain": [
       "[1, 2, 3, 4, 5, 6, 7, 8, 9, 10]"
      ]
     },
     "execution_count": 54,
     "metadata": {},
     "output_type": "execute_result"
    }
   ],
   "source": [
    "a"
   ]
  },
  {
   "cell_type": "code",
   "execution_count": 55,
   "id": "5f6baafc-d821-4131-b072-83ab64397cae",
   "metadata": {},
   "outputs": [
    {
     "name": "stdout",
     "output_type": "stream",
     "text": [
      "1\n",
      "2\n",
      "3\n",
      "4\n",
      "5\n",
      "6\n",
      "7\n",
      "8\n",
      "9\n",
      "10\n"
     ]
    }
   ],
   "source": [
    "for i in lst:\n",
    "    print(i)"
   ]
  },
  {
   "cell_type": "code",
   "execution_count": 56,
   "id": "9005ee53-ddf5-4335-9370-68ab5b01bc6a",
   "metadata": {},
   "outputs": [],
   "source": [
    "lst=[1,2,3,4,5,6,7,8,9,10]\n",
    "a=[x+1 for x in lst]"
   ]
  },
  {
   "cell_type": "code",
   "execution_count": 57,
   "id": "c5863c64-74f3-44e5-b5f7-22ce2ab1b446",
   "metadata": {},
   "outputs": [
    {
     "data": {
      "text/plain": [
       "[2, 3, 4, 5, 6, 7, 8, 9, 10, 11]"
      ]
     },
     "execution_count": 57,
     "metadata": {},
     "output_type": "execute_result"
    }
   ],
   "source": [
    "a"
   ]
  },
  {
   "cell_type": "code",
   "execution_count": 58,
   "id": "1c94409b-14a6-43e6-ae93-b2e66fc3c546",
   "metadata": {},
   "outputs": [],
   "source": [
    "lst=[1,2,3,4,5,6,7,8,9,10]\n",
    "a=[x*2 for x in lst]"
   ]
  },
  {
   "cell_type": "code",
   "execution_count": 59,
   "id": "3697561e-a106-4df9-a6ca-224ba2c5da1b",
   "metadata": {},
   "outputs": [
    {
     "data": {
      "text/plain": [
       "[2, 4, 6, 8, 10, 12, 14, 16, 18, 20]"
      ]
     },
     "execution_count": 59,
     "metadata": {},
     "output_type": "execute_result"
    }
   ],
   "source": [
    "a"
   ]
  },
  {
   "cell_type": "code",
   "execution_count": 60,
   "id": "bcaff278-72b9-4899-b1db-1d7f4bd9fca9",
   "metadata": {},
   "outputs": [],
   "source": [
    "lst=[1,2,3,4,5,6,7,8,9,10]\n",
    "\n",
    "c= [ x for x in lst if x>4]"
   ]
  },
  {
   "cell_type": "code",
   "execution_count": 61,
   "id": "4827a748-4bde-46eb-b74f-43458b39bcb3",
   "metadata": {},
   "outputs": [
    {
     "data": {
      "text/plain": [
       "[5, 6, 7, 8, 9, 10]"
      ]
     },
     "execution_count": 61,
     "metadata": {},
     "output_type": "execute_result"
    }
   ],
   "source": [
    "c"
   ]
  },
  {
   "cell_type": "code",
   "execution_count": 62,
   "id": "ed85b39a-3455-4eab-876a-74cbc567bcdf",
   "metadata": {},
   "outputs": [],
   "source": [
    "a=[]\n",
    "\n",
    "for x in lst:\n",
    "    if x>4:\n",
    "        a.append(x)"
   ]
  },
  {
   "cell_type": "code",
   "execution_count": 63,
   "id": "757e949d-fa4e-4625-91e4-f6c688a06f83",
   "metadata": {},
   "outputs": [
    {
     "data": {
      "text/plain": [
       "[5, 6, 7, 8, 9, 10]"
      ]
     },
     "execution_count": 63,
     "metadata": {},
     "output_type": "execute_result"
    }
   ],
   "source": [
    "a"
   ]
  },
  {
   "cell_type": "code",
   "execution_count": 64,
   "id": "722a46da-0497-48c9-a497-c7c901956536",
   "metadata": {},
   "outputs": [],
   "source": [
    "lst=[1,2,3,4,5,6,7,8,9,10]"
   ]
  },
  {
   "cell_type": "code",
   "execution_count": 65,
   "id": "7bcb9f52-5902-47e5-9b36-ebba2569cfca",
   "metadata": {},
   "outputs": [
    {
     "data": {
      "text/plain": [
       "[1, 3, 5, 7, 9]"
      ]
     },
     "execution_count": 65,
     "metadata": {},
     "output_type": "execute_result"
    }
   ],
   "source": [
    "l=[1,2,3,4,5,6,7,8,9,10]\n",
    "result=[i for i in l if i%2!=0]\n",
    "result\n"
   ]
  },
  {
   "cell_type": "code",
   "execution_count": 66,
   "id": "e714b75a-9f1c-4a88-a529-085aca407245",
   "metadata": {},
   "outputs": [
    {
     "data": {
      "text/plain": [
       "[2, 4, 6, 8, 10]"
      ]
     },
     "execution_count": 66,
     "metadata": {},
     "output_type": "execute_result"
    }
   ],
   "source": [
    "l=[1,2,3,4,5,6,7,8,9,10]\n",
    "result=[i for i in l if i%2==0]\n",
    "result"
   ]
  },
  {
   "cell_type": "code",
   "execution_count": 67,
   "id": "c41d7970-9917-4f7b-8ee0-4365a02e1cf8",
   "metadata": {},
   "outputs": [],
   "source": [
    "lst=[1,2,3,4,5,6,7,8,9,10]\n",
    "d=[x for x in lst if x>4 if x%2==0]"
   ]
  },
  {
   "cell_type": "code",
   "execution_count": 68,
   "id": "63791ce9-9172-4865-a301-58d6ba8aafcd",
   "metadata": {},
   "outputs": [
    {
     "data": {
      "text/plain": [
       "[6, 8, 10]"
      ]
     },
     "execution_count": 68,
     "metadata": {},
     "output_type": "execute_result"
    }
   ],
   "source": [
    "d"
   ]
  },
  {
   "cell_type": "code",
   "execution_count": 69,
   "id": "87b43d02-e803-44bb-8dff-62d9f47c3922",
   "metadata": {},
   "outputs": [],
   "source": [
    "a=[]\n",
    "\n",
    "for x in lst:\n",
    "    if x>4:\n",
    "        a.append(x)"
   ]
  },
  {
   "cell_type": "code",
   "execution_count": 70,
   "id": "7e1fd85b-b191-4071-8fd9-888d8bf6d609",
   "metadata": {},
   "outputs": [],
   "source": [
    "lst=[1,2,3,4,5,6,7,8,9,10]\n",
    "e= [x if x>4 else 'lessthan 4' for x in lst]"
   ]
  },
  {
   "cell_type": "code",
   "execution_count": 71,
   "id": "04f5a4f7-7059-4950-8e2a-3a0af60dae92",
   "metadata": {},
   "outputs": [
    {
     "data": {
      "text/plain": [
       "['lessthan 4', 'lessthan 4', 'lessthan 4', 'lessthan 4', 5, 6, 7, 8, 9, 10]"
      ]
     },
     "execution_count": 71,
     "metadata": {},
     "output_type": "execute_result"
    }
   ],
   "source": [
    "e"
   ]
  },
  {
   "cell_type": "code",
   "execution_count": 72,
   "id": "659e6f7b-1a70-42aa-9f65-7b9ba4b4887e",
   "metadata": {},
   "outputs": [],
   "source": [
    "a=[]\n",
    "\n",
    "for x in lst:\n",
    "    if x>4:\n",
    "        a.append(x)\n",
    "    else:\n",
    "        a.append(\"less than 4\")"
   ]
  },
  {
   "cell_type": "code",
   "execution_count": 73,
   "id": "99f3a3dd-8dff-4c22-bfb5-645e3dac1b01",
   "metadata": {},
   "outputs": [],
   "source": [
    "lst=[1,2,3,4,5,6,7,8,9,10]\n",
    "f=['two' if x%2==0 else 'three' if x%3==0 else 'not a & b' for x in lst]"
   ]
  },
  {
   "cell_type": "code",
   "execution_count": 74,
   "id": "2fe835b5-d5c9-4cb2-bfe4-9862aea5ef2a",
   "metadata": {},
   "outputs": [
    {
     "name": "stdout",
     "output_type": "stream",
     "text": [
      "91\n",
      "12\n",
      "63\n",
      "5\n"
     ]
    },
    {
     "data": {
      "text/plain": [
       "[None, None, None, None]"
      ]
     },
     "execution_count": 74,
     "metadata": {},
     "output_type": "execute_result"
    }
   ],
   "source": [
    "list = [91, 12, 63, 5] \n",
    "f = lambda listx: [print(x) for x in listx]\n",
    "f(list)\n"
   ]
  },
  {
   "cell_type": "code",
   "execution_count": 75,
   "id": "2aaeb0e2-01b2-4a4b-83bf-f6da21937ff9",
   "metadata": {},
   "outputs": [
    {
     "data": {
      "text/plain": [
       "<function __main__.<lambda>(listx)>"
      ]
     },
     "execution_count": 75,
     "metadata": {},
     "output_type": "execute_result"
    }
   ],
   "source": [
    "f"
   ]
  },
  {
   "cell_type": "code",
   "execution_count": 76,
   "id": "96834840-eb67-4327-988c-6852369a0c20",
   "metadata": {},
   "outputs": [],
   "source": [
    "a=[]\n",
    "\n",
    "for x in lst:\n",
    "    if x%2==0:\n",
    "        a.append('two')\n",
    "    elif x%3==0:\n",
    "        a.append('three')\n",
    "    else:\n",
    "        a.append(\"not 2 & 3\")"
   ]
  },
  {
   "cell_type": "code",
   "execution_count": 77,
   "id": "3d8ce6ff-633e-4df5-b8a5-845fd09dbe7e",
   "metadata": {},
   "outputs": [
    {
     "data": {
      "text/plain": [
       "['not 2 & 3',\n",
       " 'two',\n",
       " 'three',\n",
       " 'two',\n",
       " 'not 2 & 3',\n",
       " 'two',\n",
       " 'not 2 & 3',\n",
       " 'two',\n",
       " 'three',\n",
       " 'two']"
      ]
     },
     "execution_count": 77,
     "metadata": {},
     "output_type": "execute_result"
    }
   ],
   "source": [
    "a"
   ]
  },
  {
   "cell_type": "markdown",
   "id": "74169586-d4dd-44bf-a696-8ccea8c0485c",
   "metadata": {},
   "source": [
    "## Recursion "
   ]
  },
  {
   "cell_type": "code",
   "execution_count": 78,
   "id": "33230e0e-8326-4d19-bf9e-59c2844f34f0",
   "metadata": {},
   "outputs": [],
   "source": [
    "# function that calls itself agan and again\n",
    "# base condition is very important inside a recursive call\n",
    "def fact(n):\n",
    "    if n == 0:\n",
    "        return 1\n",
    "    else:\n",
    "        return n*fact(n-1)\n",
    "    "
   ]
  },
  {
   "cell_type": "code",
   "execution_count": 79,
   "id": "4ab15cb5-b0fc-4d79-887b-f191f95b5c6c",
   "metadata": {},
   "outputs": [
    {
     "data": {
      "text/plain": [
       "24"
      ]
     },
     "execution_count": 79,
     "metadata": {},
     "output_type": "execute_result"
    }
   ],
   "source": [
    "fact(4)\n"
   ]
  },
  {
   "cell_type": "code",
   "execution_count": 80,
   "id": "76ed15cd-35dc-4a31-9059-fe89c47ea60b",
   "metadata": {},
   "outputs": [],
   "source": [
    "def fib(n):\n",
    "    if n==0:\n",
    "        return 0\n",
    "    elif n==1:\n",
    "        return 1\n",
    "    else:\n",
    "        return fib(n-2)+fib(n-1)\n",
    "    "
   ]
  },
  {
   "cell_type": "code",
   "execution_count": 81,
   "id": "b4d5c245-3e4f-4b5c-86dd-2adf3aba33c2",
   "metadata": {},
   "outputs": [
    {
     "data": {
      "text/plain": [
       "5"
      ]
     },
     "execution_count": 81,
     "metadata": {},
     "output_type": "execute_result"
    }
   ],
   "source": [
    "fib(5)"
   ]
  },
  {
   "cell_type": "code",
   "execution_count": 82,
   "id": "af8eb54d-9afc-473d-84fe-dbcb351d4833",
   "metadata": {},
   "outputs": [
    {
     "ename": "SyntaxError",
     "evalue": "invalid syntax (1930607016.py, line 2)",
     "output_type": "error",
     "traceback": [
      "\u001b[0;36m  Cell \u001b[0;32mIn[82], line 2\u001b[0;36m\u001b[0m\n\u001b[0;31m    elif n<=1:\u001b[0m\n\u001b[0m    ^\u001b[0m\n\u001b[0;31mSyntaxError\u001b[0m\u001b[0;31m:\u001b[0m invalid syntax\n"
     ]
    }
   ],
   "source": [
    "def fib(n):\n",
    "    elif n<=1:\n",
    "        return n\n",
    "    else:\n",
    "        return fib(n-2)+fib(n-1)\n",
    "    "
   ]
  },
  {
   "cell_type": "code",
   "execution_count": 84,
   "id": "afb1246c-a88d-4734-9966-efac7d3facbb",
   "metadata": {},
   "outputs": [
    {
     "name": "stdin",
     "output_type": "stream",
     "text": [
      "Enter the number of Fibonacci numbers to generate:  9\n"
     ]
    },
    {
     "name": "stdout",
     "output_type": "stream",
     "text": [
      "Fibonacci Series:\n",
      "[0, 1, 1, 2, 3, 5, 8, 13, 21]\n"
     ]
    }
   ],
   "source": [
    "def fibonacci_recursive(n):\n",
    "    if n <= 0:\n",
    "        return []\n",
    "    elif n == 1:\n",
    "        return [0]\n",
    "    elif n == 2:\n",
    "        return [0, 1]\n",
    "    else:\n",
    "        fib_list = fibonacci_recursive(n - 1)\n",
    "        fib_list.append(fib_list[-1] + fib_list[-2])\n",
    "        return fib_list\n",
    "\n",
    "n = int(input(\"Enter the number of Fibonacci numbers to generate: \"))\n",
    "\n",
    "fibonacci_series = fibonacci_recursive(n)\n",
    "\n",
    "print(\"Fibonacci Series:\")\n",
    "print(fibonacci_series)\n"
   ]
  },
  {
   "cell_type": "code",
   "execution_count": 85,
   "id": "98afcde2-495a-4856-bb7b-dcd5611bbdb8",
   "metadata": {},
   "outputs": [],
   "source": [
    "# sum of digits in a number\n",
    "def sum_digit(n):\n",
    "    if n<=9:\n",
    "        return n\n",
    "    else:\n",
    "        return n % 10 + sum_digit(n//10)"
   ]
  },
  {
   "cell_type": "code",
   "execution_count": 86,
   "id": "b2fdb6db-4def-4d16-b60e-c0310a74fe69",
   "metadata": {},
   "outputs": [
    {
     "data": {
      "text/plain": [
       "12"
      ]
     },
     "execution_count": 86,
     "metadata": {},
     "output_type": "execute_result"
    }
   ],
   "source": [
    "sum_digit(345)"
   ]
  },
  {
   "cell_type": "code",
   "execution_count": 87,
   "id": "c16d16bd-515f-4201-9dda-99661f4011f0",
   "metadata": {},
   "outputs": [
    {
     "data": {
      "text/plain": [
       "67"
      ]
     },
     "execution_count": 87,
     "metadata": {},
     "output_type": "execute_result"
    }
   ],
   "source": [
    "l = [11,2,34,5,67]\n",
    "max(l)"
   ]
  },
  {
   "cell_type": "code",
   "execution_count": 88,
   "id": "cfa00dc7-f616-4f37-8161-1db0dad7c481",
   "metadata": {},
   "outputs": [],
   "source": [
    "\n",
    "def max_find(l):\n",
    "    if len(l)==1:\n",
    "        return l[0]\n",
    "    else:\n",
    "        return max(l[0],max_find(l[1:]))"
   ]
  },
  {
   "cell_type": "code",
   "execution_count": 89,
   "id": "2d3697bf-225b-42c1-9b6f-09ca25ef28f1",
   "metadata": {},
   "outputs": [
    {
     "data": {
      "text/plain": [
       "67"
      ]
     },
     "execution_count": 89,
     "metadata": {},
     "output_type": "execute_result"
    }
   ],
   "source": [
    "max_find([11,2,34,5,67])"
   ]
  },
  {
   "cell_type": "code",
   "execution_count": 90,
   "id": "d53b8d15-f4ff-428a-9f25-c9caa8691601",
   "metadata": {},
   "outputs": [
    {
     "data": {
      "text/plain": [
       "9"
      ]
     },
     "execution_count": 90,
     "metadata": {},
     "output_type": "execute_result"
    }
   ],
   "source": [
    "max(4,6,7,9)"
   ]
  },
  {
   "cell_type": "code",
   "execution_count": 91,
   "id": "818a0605-2390-4bd8-a37d-a8031c720664",
   "metadata": {},
   "outputs": [],
   "source": [
    "def power_fn(n,k):\n",
    "    if k==0:\n",
    "        return 1\n",
    "    else:\n",
    "        return n*power_fn(n,k-1)"
   ]
  },
  {
   "cell_type": "code",
   "execution_count": 92,
   "id": "e2c00b0a-bcc1-4e9a-9ed5-5a587dde0fdc",
   "metadata": {},
   "outputs": [
    {
     "data": {
      "text/plain": [
       "1679616"
      ]
     },
     "execution_count": 92,
     "metadata": {},
     "output_type": "execute_result"
    }
   ],
   "source": [
    "power_fn(6,8)\n"
   ]
  },
  {
   "cell_type": "code",
   "execution_count": 93,
   "id": "6fb5e227-65db-412d-9dc8-c779d6c75cca",
   "metadata": {},
   "outputs": [
    {
     "data": {
      "text/plain": [
       "5"
      ]
     },
     "execution_count": 93,
     "metadata": {},
     "output_type": "execute_result"
    }
   ],
   "source": [
    "s = \"haris\"\n",
    "len(s)"
   ]
  },
  {
   "cell_type": "code",
   "execution_count": 94,
   "id": "3167ad80-0e9b-4ff8-89e7-573a7e550dbe",
   "metadata": {},
   "outputs": [],
   "source": [
    "def find_len(s):\n",
    "    if s == \"\":\n",
    "        return 0\n",
    "    else:\n",
    "        return 1+ find_len(s[1:])"
   ]
  },
  {
   "cell_type": "code",
   "execution_count": 95,
   "id": "7c8cf5ae-fc49-4731-b3bd-4df46101e765",
   "metadata": {},
   "outputs": [
    {
     "data": {
      "text/plain": [
       "5"
      ]
     },
     "execution_count": 95,
     "metadata": {},
     "output_type": "execute_result"
    }
   ],
   "source": [
    "find_len('haris')"
   ]
  },
  {
   "cell_type": "code",
   "execution_count": 96,
   "id": "b7214c94-744a-4a47-b971-c2aa795c2aa2",
   "metadata": {},
   "outputs": [
    {
     "data": {
      "text/plain": [
       "'sirah'"
      ]
     },
     "execution_count": 96,
     "metadata": {},
     "output_type": "execute_result"
    }
   ],
   "source": [
    "# reverse a string\n",
    "s[::-1]"
   ]
  },
  {
   "cell_type": "code",
   "execution_count": 97,
   "id": "be2808a2-dd3b-4581-919c-0af3eaaa292b",
   "metadata": {},
   "outputs": [],
   "source": [
    "def find_reverse(s):\n",
    "    if s==\"\":\n",
    "        return \"\"\n",
    "    else:\n",
    "        return find_reverse(s[1:]) + s[0]"
   ]
  },
  {
   "cell_type": "code",
   "execution_count": 98,
   "id": "8f8b6e96-7c1b-4c10-aabc-860e20a65abf",
   "metadata": {},
   "outputs": [
    {
     "data": {
      "text/plain": [
       "'sirah'"
      ]
     },
     "execution_count": 98,
     "metadata": {},
     "output_type": "execute_result"
    }
   ],
   "source": [
    "find_reverse('haris')"
   ]
  },
  {
   "cell_type": "code",
   "execution_count": 99,
   "id": "e087b2a2-c11c-4815-9243-cd888c006b04",
   "metadata": {},
   "outputs": [],
   "source": [
    "# no of occurences of a character in a string\n",
    "s = 'harisnazirloneaabbcchhgg'\n",
    "def find_char_count(s,c):\n",
    "    if s==\"\":\n",
    "        return 0\n",
    "    elif s[0] == c:\n",
    "        return 1 + find_char_count(s[1:],c)\n",
    "    else:\n",
    "        return find_char_count(s[1:],c)"
   ]
  },
  {
   "cell_type": "code",
   "execution_count": 100,
   "id": "0159eaf8-f32b-4b8f-a3aa-42e3fe89574f",
   "metadata": {},
   "outputs": [
    {
     "data": {
      "text/plain": [
       "3"
      ]
     },
     "execution_count": 100,
     "metadata": {},
     "output_type": "execute_result"
    }
   ],
   "source": [
    "find_char_count(s,'h')"
   ]
  },
  {
   "cell_type": "code",
   "execution_count": 101,
   "id": "87f6d16d-f0ad-4045-9db4-08b440305cf1",
   "metadata": {},
   "outputs": [],
   "source": [
    "# check whether a list is sorted or not\n",
    "l = [4,5,6,6,7,8,9,0,7,2]\n",
    "\n",
    "def check_sort_list(l):\n",
    "    if len(l)<=1:\n",
    "        return True\n",
    "    elif l[0] > l[1]:\n",
    "        return False\n",
    "    else:\n",
    "        return check_sort_list(l[1:])\n"
   ]
  },
  {
   "cell_type": "code",
   "execution_count": 102,
   "id": "9f478aec-5b40-4a4d-96c1-2df008b6aaf7",
   "metadata": {},
   "outputs": [
    {
     "data": {
      "text/plain": [
       "False"
      ]
     },
     "execution_count": 102,
     "metadata": {},
     "output_type": "execute_result"
    }
   ],
   "source": [
    "check_sort_list(l)"
   ]
  },
  {
   "cell_type": "code",
   "execution_count": 103,
   "id": "ce89c320-c1a8-4de1-91c2-0e37341f0d3b",
   "metadata": {},
   "outputs": [],
   "source": [
    "def check_per_square(n,start = 1):\n",
    "    if n == start **2:\n",
    "        return True\n",
    "    elif n < start**2:\n",
    "        return False\n",
    "    else:\n",
    "        return check_per_square(n,start+1)\n",
    "    "
   ]
  },
  {
   "cell_type": "code",
   "execution_count": 104,
   "id": "d97febbc-5251-40d0-b15b-04d7ba0a5404",
   "metadata": {},
   "outputs": [
    {
     "data": {
      "text/plain": [
       "True"
      ]
     },
     "execution_count": 104,
     "metadata": {},
     "output_type": "execute_result"
    }
   ],
   "source": [
    "check_per_square(1024)"
   ]
  },
  {
   "cell_type": "markdown",
   "id": "4a899726-0be2-4b91-acbe-c68ca9d20ff3",
   "metadata": {},
   "source": [
    "## iterators and iterables"
   ]
  },
  {
   "cell_type": "code",
   "execution_count": 105,
   "id": "fe7e7a98-0bc8-4aa3-8c2e-bdcddf3275bb",
   "metadata": {},
   "outputs": [],
   "source": [
    "l = [2,4,8,3,]\n",
    "a = 10\n",
    "s = 'haris'\n"
   ]
  },
  {
   "cell_type": "code",
   "execution_count": 106,
   "id": "38194736-3379-4556-b44a-e9dd57a3d6ae",
   "metadata": {},
   "outputs": [
    {
     "name": "stdout",
     "output_type": "stream",
     "text": [
      "2\n",
      "4\n",
      "8\n",
      "3\n"
     ]
    }
   ],
   "source": [
    "for i in l:\n",
    "    print(i)"
   ]
  },
  {
   "cell_type": "code",
   "execution_count": 107,
   "id": "19a61058-f3b6-41b1-bf33-354ce2549e46",
   "metadata": {},
   "outputs": [
    {
     "name": "stdout",
     "output_type": "stream",
     "text": [
      "h\n",
      "a\n",
      "r\n",
      "i\n",
      "s\n"
     ]
    }
   ],
   "source": [
    "for i in s:\n",
    "    print(i)"
   ]
  },
  {
   "cell_type": "code",
   "execution_count": 108,
   "id": "fb76aa9e-1ea7-41cc-8bb0-5c02db6a2492",
   "metadata": {},
   "outputs": [
    {
     "ename": "TypeError",
     "evalue": "'int' object is not iterable",
     "output_type": "error",
     "traceback": [
      "\u001b[0;31m---------------------------------------------------------------------------\u001b[0m",
      "\u001b[0;31mTypeError\u001b[0m                                 Traceback (most recent call last)",
      "Cell \u001b[0;32mIn[108], line 1\u001b[0m\n\u001b[0;32m----> 1\u001b[0m \u001b[38;5;28;01mfor\u001b[39;00m i \u001b[38;5;129;01min\u001b[39;00m a:\n\u001b[1;32m      2\u001b[0m     \u001b[38;5;28mprint\u001b[39m(i)\n",
      "\u001b[0;31mTypeError\u001b[0m: 'int' object is not iterable"
     ]
    }
   ],
   "source": [
    "for i in a:\n",
    "    print(i)"
   ]
  },
  {
   "cell_type": "code",
   "execution_count": 109,
   "id": "d7d4d088-b281-45ee-94fe-127ff56df922",
   "metadata": {},
   "outputs": [
    {
     "data": {
      "text/plain": [
       "<str_iterator at 0x7f1d9c7ecdf0>"
      ]
     },
     "execution_count": 109,
     "metadata": {},
     "output_type": "execute_result"
    }
   ],
   "source": [
    "iter('haris')"
   ]
  },
  {
   "cell_type": "code",
   "execution_count": 110,
   "id": "839fa117-23fe-445e-b033-8da6c9c20a8c",
   "metadata": {},
   "outputs": [],
   "source": [
    "s1 = iter('haris')"
   ]
  },
  {
   "cell_type": "code",
   "execution_count": 111,
   "id": "b4455ff4-a36a-4b56-86a1-1359b753b451",
   "metadata": {},
   "outputs": [
    {
     "data": {
      "text/plain": [
       "'h'"
      ]
     },
     "execution_count": 111,
     "metadata": {},
     "output_type": "execute_result"
    }
   ],
   "source": [
    "next(s1)"
   ]
  },
  {
   "cell_type": "code",
   "execution_count": 112,
   "id": "3c5ce1b7-ea85-4f38-94ff-a792c89017b0",
   "metadata": {},
   "outputs": [
    {
     "data": {
      "text/plain": [
       "'a'"
      ]
     },
     "execution_count": 112,
     "metadata": {},
     "output_type": "execute_result"
    }
   ],
   "source": [
    "next(s1)"
   ]
  },
  {
   "cell_type": "code",
   "execution_count": 113,
   "id": "81e923a0-bd95-4c74-88ed-2c3c739535cb",
   "metadata": {},
   "outputs": [
    {
     "data": {
      "text/plain": [
       "'r'"
      ]
     },
     "execution_count": 113,
     "metadata": {},
     "output_type": "execute_result"
    }
   ],
   "source": [
    "next(s1)"
   ]
  },
  {
   "cell_type": "code",
   "execution_count": 114,
   "id": "2a2abc12-a1b5-4f7c-96c2-3ebe7b2cd16a",
   "metadata": {},
   "outputs": [
    {
     "data": {
      "text/plain": [
       "'i'"
      ]
     },
     "execution_count": 114,
     "metadata": {},
     "output_type": "execute_result"
    }
   ],
   "source": [
    "next(s1)"
   ]
  },
  {
   "cell_type": "code",
   "execution_count": 115,
   "id": "6c9451d6-1485-4751-b449-d8a8d7e7882f",
   "metadata": {},
   "outputs": [
    {
     "data": {
      "text/plain": [
       "'s'"
      ]
     },
     "execution_count": 115,
     "metadata": {},
     "output_type": "execute_result"
    }
   ],
   "source": [
    "next(s1)"
   ]
  },
  {
   "cell_type": "code",
   "execution_count": 116,
   "id": "7cb713cf-c662-4d6e-a509-5a8c3f9efe3f",
   "metadata": {},
   "outputs": [
    {
     "ename": "StopIteration",
     "evalue": "",
     "output_type": "error",
     "traceback": [
      "\u001b[0;31m---------------------------------------------------------------------------\u001b[0m",
      "\u001b[0;31mStopIteration\u001b[0m                             Traceback (most recent call last)",
      "Cell \u001b[0;32mIn[116], line 1\u001b[0m\n\u001b[0;32m----> 1\u001b[0m \u001b[38;5;28;43mnext\u001b[39;49m\u001b[43m(\u001b[49m\u001b[43ms1\u001b[49m\u001b[43m)\u001b[49m\n",
      "\u001b[0;31mStopIteration\u001b[0m: "
     ]
    }
   ],
   "source": [
    "next(s1)"
   ]
  },
  {
   "cell_type": "code",
   "execution_count": 117,
   "id": "3e337bd3-4b4c-4137-8085-41efc58350c2",
   "metadata": {},
   "outputs": [],
   "source": [
    "s2 = 'forgetevery'"
   ]
  },
  {
   "cell_type": "code",
   "execution_count": 118,
   "id": "3ac0f087-f592-459e-957a-8b010b996f4a",
   "metadata": {},
   "outputs": [
    {
     "ename": "TypeError",
     "evalue": "'str' object is not an iterator",
     "output_type": "error",
     "traceback": [
      "\u001b[0;31m---------------------------------------------------------------------------\u001b[0m",
      "\u001b[0;31mTypeError\u001b[0m                                 Traceback (most recent call last)",
      "Cell \u001b[0;32mIn[118], line 1\u001b[0m\n\u001b[0;32m----> 1\u001b[0m \u001b[38;5;28;43mnext\u001b[39;49m\u001b[43m(\u001b[49m\u001b[43ms2\u001b[49m\u001b[43m)\u001b[49m\n",
      "\u001b[0;31mTypeError\u001b[0m: 'str' object is not an iterator"
     ]
    }
   ],
   "source": [
    "next(s2)"
   ]
  },
  {
   "cell_type": "code",
   "execution_count": 119,
   "id": "ee91e769-6b9d-419b-bada-75732ad4d9ae",
   "metadata": {},
   "outputs": [
    {
     "name": "stdout",
     "output_type": "stream",
     "text": [
      "f\n",
      "o\n",
      "r\n",
      "g\n",
      "e\n",
      "t\n",
      "e\n",
      "v\n",
      "e\n",
      "r\n",
      "y\n"
     ]
    }
   ],
   "source": [
    "for i in s2:         # for loop converts(iterable ) into an iterator then data can be extarcted\n",
    "    print(i)"
   ]
  },
  {
   "cell_type": "code",
   "execution_count": 120,
   "id": "25ec6427-b59a-406c-9066-626b7db86c13",
   "metadata": {},
   "outputs": [],
   "source": [
    "l = iter([2,4,7,9])"
   ]
  },
  {
   "cell_type": "code",
   "execution_count": 121,
   "id": "ff58e281-f6d2-46e1-965e-9366cfa2b243",
   "metadata": {},
   "outputs": [
    {
     "data": {
      "text/plain": [
       "2"
      ]
     },
     "execution_count": 121,
     "metadata": {},
     "output_type": "execute_result"
    }
   ],
   "source": [
    "next(l)"
   ]
  },
  {
   "cell_type": "code",
   "execution_count": 122,
   "id": "51b7deb1-ba8c-4973-9763-7e2236fa64a2",
   "metadata": {},
   "outputs": [
    {
     "name": "stdout",
     "output_type": "stream",
     "text": [
      "2\n",
      "4\n",
      "5\n"
     ]
    }
   ],
   "source": [
    "for i in {2,4,5,}:\n",
    "    print(i)"
   ]
  },
  {
   "cell_type": "code",
   "execution_count": 123,
   "id": "7a231e8a-42f6-412a-99e8-afbd48092a23",
   "metadata": {},
   "outputs": [
    {
     "name": "stdout",
     "output_type": "stream",
     "text": [
      "23\n",
      "5\n",
      "57\n"
     ]
    }
   ],
   "source": [
    "for i in (23,5,57,):\n",
    "    print(i)"
   ]
  },
  {
   "cell_type": "code",
   "execution_count": 124,
   "id": "1192abf3-7d33-47dd-8ba4-26e2a5a818be",
   "metadata": {},
   "outputs": [
    {
     "ename": "TypeError",
     "evalue": "'bool' object is not iterable",
     "output_type": "error",
     "traceback": [
      "\u001b[0;31m---------------------------------------------------------------------------\u001b[0m",
      "\u001b[0;31mTypeError\u001b[0m                                 Traceback (most recent call last)",
      "Cell \u001b[0;32mIn[124], line 1\u001b[0m\n\u001b[0;32m----> 1\u001b[0m \u001b[38;5;28;43miter\u001b[39;49m\u001b[43m(\u001b[49m\u001b[38;5;28;43;01mTrue\u001b[39;49;00m\u001b[43m)\u001b[49m\n",
      "\u001b[0;31mTypeError\u001b[0m: 'bool' object is not iterable"
     ]
    }
   ],
   "source": [
    "iter(True)"
   ]
  },
  {
   "cell_type": "code",
   "execution_count": 125,
   "id": "6890ec10-c492-4fe6-af76-09b32c7421b3",
   "metadata": {},
   "outputs": [
    {
     "data": {
      "text/plain": [
       "<dict_keyiterator at 0x7f1d9c3e5990>"
      ]
     },
     "execution_count": 125,
     "metadata": {},
     "output_type": "execute_result"
    }
   ],
   "source": [
    "iter({'key':\"haris\"})"
   ]
  },
  {
   "cell_type": "code",
   "execution_count": 126,
   "id": "9e24eb76-73c9-4410-bac4-5aeb95e67c60",
   "metadata": {},
   "outputs": [],
   "source": [
    "d=iter({'key':\"haris\"})"
   ]
  },
  {
   "cell_type": "code",
   "execution_count": 127,
   "id": "d412e32c-7ca1-4406-a67a-c405336356a2",
   "metadata": {},
   "outputs": [
    {
     "data": {
      "text/plain": [
       "'key'"
      ]
     },
     "execution_count": 127,
     "metadata": {},
     "output_type": "execute_result"
    }
   ],
   "source": [
    "next(d)"
   ]
  },
  {
   "cell_type": "code",
   "execution_count": 128,
   "id": "352c1c5f-4ec1-42db-ac69-7ff34d98f3f8",
   "metadata": {},
   "outputs": [
    {
     "ename": "StopIteration",
     "evalue": "",
     "output_type": "error",
     "traceback": [
      "\u001b[0;31m---------------------------------------------------------------------------\u001b[0m",
      "\u001b[0;31mStopIteration\u001b[0m                             Traceback (most recent call last)",
      "Cell \u001b[0;32mIn[128], line 1\u001b[0m\n\u001b[0;32m----> 1\u001b[0m \u001b[38;5;28;43mnext\u001b[39;49m\u001b[43m(\u001b[49m\u001b[43md\u001b[49m\u001b[43m)\u001b[49m\n",
      "\u001b[0;31mStopIteration\u001b[0m: "
     ]
    }
   ],
   "source": [
    "next(d)"
   ]
  },
  {
   "cell_type": "code",
   "execution_count": 129,
   "id": "1da98d21-1edd-464c-ae34-aed110e19fdf",
   "metadata": {},
   "outputs": [
    {
     "name": "stdout",
     "output_type": "stream",
     "text": [
      "3\n",
      "4\n",
      "5\n",
      "6\n",
      "7\n"
     ]
    }
   ],
   "source": [
    "for i in range(3,8):\n",
    "    print(i)"
   ]
  },
  {
   "cell_type": "code",
   "execution_count": 130,
   "id": "9ea28a85-46a3-4a38-9eb4-840869b8fafb",
   "metadata": {},
   "outputs": [
    {
     "ename": "TypeError",
     "evalue": "'list' object is not callable",
     "output_type": "error",
     "traceback": [
      "\u001b[0;31m---------------------------------------------------------------------------\u001b[0m",
      "\u001b[0;31mTypeError\u001b[0m                                 Traceback (most recent call last)",
      "Cell \u001b[0;32mIn[130], line 1\u001b[0m\n\u001b[0;32m----> 1\u001b[0m \u001b[38;5;28;43mlist\u001b[39;49m\u001b[43m(\u001b[49m\u001b[38;5;28;43mrange\u001b[39;49m\u001b[43m(\u001b[49m\u001b[38;5;241;43m3\u001b[39;49m\u001b[43m,\u001b[49m\u001b[38;5;241;43m8\u001b[39;49m\u001b[43m)\u001b[49m\u001b[43m)\u001b[49m             \u001b[38;5;66;03m# range is a generator\u001b[39;00m\n",
      "\u001b[0;31mTypeError\u001b[0m: 'list' object is not callable"
     ]
    }
   ],
   "source": [
    "list(range(3,8))             # range is a generator\n"
   ]
  },
  {
   "cell_type": "code",
   "execution_count": 131,
   "id": "a75adf52-f246-4a0a-90f4-45abcda1dbe4",
   "metadata": {},
   "outputs": [
    {
     "name": "stdout",
     "output_type": "stream",
     "text": [
      "3\n",
      "4\n",
      "5\n",
      "6\n",
      "7\n"
     ]
    }
   ],
   "source": [
    "# generator function\n",
    "for i in range(3,8):\n",
    "    print(i)\n"
   ]
  },
  {
   "cell_type": "code",
   "execution_count": 132,
   "id": "0f22839b-4c9c-43ba-8574-aac34eea8d4f",
   "metadata": {},
   "outputs": [
    {
     "data": {
      "text/plain": [
       "3"
      ]
     },
     "execution_count": 132,
     "metadata": {},
     "output_type": "execute_result"
    }
   ],
   "source": [
    "y=iter(range(3,8))\n",
    "next(y)"
   ]
  },
  {
   "cell_type": "code",
   "execution_count": 133,
   "id": "6141507f-16f8-4f06-a83a-defba8451faa",
   "metadata": {},
   "outputs": [
    {
     "data": {
      "text/plain": [
       "4"
      ]
     },
     "execution_count": 133,
     "metadata": {},
     "output_type": "execute_result"
    }
   ],
   "source": [
    "next(y)"
   ]
  },
  {
   "cell_type": "code",
   "execution_count": 134,
   "id": "497aa684-a0ad-4328-915c-ce16f834d401",
   "metadata": {},
   "outputs": [
    {
     "data": {
      "text/plain": [
       "range(3, 8)"
      ]
     },
     "execution_count": 134,
     "metadata": {},
     "output_type": "execute_result"
    }
   ],
   "source": [
    "range(3,8)               # does not returns but object"
   ]
  },
  {
   "cell_type": "code",
   "execution_count": 135,
   "id": "d4e43cc9-6c7a-4322-99f5-fd0dbf4cba35",
   "metadata": {},
   "outputs": [],
   "source": [
    "def count_fun(n):\n",
    "    i = 1\n",
    "    while i<= n:\n",
    "        yield i\n",
    "        i +=1"
   ]
  },
  {
   "cell_type": "code",
   "execution_count": 136,
   "id": "ae03ce27-3f16-4278-82e4-49aaf87032ca",
   "metadata": {},
   "outputs": [
    {
     "data": {
      "text/plain": [
       "<generator object count_fun at 0x7f1d9c2051c0>"
      ]
     },
     "execution_count": 136,
     "metadata": {},
     "output_type": "execute_result"
    }
   ],
   "source": [
    "count_fun(9)"
   ]
  },
  {
   "cell_type": "code",
   "execution_count": 137,
   "id": "a3b9681a-68f7-401d-b749-4c280b274e7b",
   "metadata": {},
   "outputs": [
    {
     "name": "stdout",
     "output_type": "stream",
     "text": [
      "1\n",
      "2\n",
      "3\n",
      "4\n",
      "5\n",
      "6\n",
      "7\n",
      "8\n",
      "9\n"
     ]
    }
   ],
   "source": [
    "for i in count_fun(9):\n",
    "    print(i)"
   ]
  },
  {
   "cell_type": "code",
   "execution_count": 138,
   "id": "08f380ff-9d75-4c76-b549-495f2e9516db",
   "metadata": {},
   "outputs": [],
   "source": [
    "j = iter(count_fun(9))\n"
   ]
  },
  {
   "cell_type": "code",
   "execution_count": 139,
   "id": "1cbcb40c-46d7-4b07-bc4d-fe812d44d4e9",
   "metadata": {},
   "outputs": [
    {
     "data": {
      "text/plain": [
       "1"
      ]
     },
     "execution_count": 139,
     "metadata": {},
     "output_type": "execute_result"
    }
   ],
   "source": [
    "next(j)"
   ]
  },
  {
   "cell_type": "code",
   "execution_count": 140,
   "id": "1df5e3b5-6d6c-4ddc-b2ae-b742a6ec9e28",
   "metadata": {},
   "outputs": [
    {
     "data": {
      "text/plain": [
       "2"
      ]
     },
     "execution_count": 140,
     "metadata": {},
     "output_type": "execute_result"
    }
   ],
   "source": [
    "next(j)"
   ]
  },
  {
   "cell_type": "code",
   "execution_count": 141,
   "id": "a120e27b-bd7c-4418-92b0-ea285b6252c6",
   "metadata": {},
   "outputs": [],
   "source": [
    "def count_fun(n):\n",
    "    i = 1\n",
    "    while i<= n:\n",
    "        return i\n",
    "        i +=1"
   ]
  },
  {
   "cell_type": "code",
   "execution_count": 142,
   "id": "9cb27dcc-ef2d-4297-a3b3-62d311e406cc",
   "metadata": {},
   "outputs": [
    {
     "data": {
      "text/plain": [
       "1"
      ]
     },
     "execution_count": 142,
     "metadata": {},
     "output_type": "execute_result"
    }
   ],
   "source": [
    "count_fun(5)"
   ]
  },
  {
   "cell_type": "code",
   "execution_count": 143,
   "id": "a4a8785c-0b00-4787-b96a-89c3f3be4e0c",
   "metadata": {},
   "outputs": [],
   "source": [
    "def count_fun(n):\n",
    "    l = []\n",
    "    i = 1\n",
    "    while i<= n:\n",
    "        l.append(i)\n",
    "        i +=1\n",
    "    return l"
   ]
  },
  {
   "cell_type": "code",
   "execution_count": 144,
   "id": "2a146b0b-f2d9-48c1-8bb9-ce9d9a361184",
   "metadata": {},
   "outputs": [
    {
     "data": {
      "text/plain": [
       "[1, 2, 3, 4, 5]"
      ]
     },
     "execution_count": 144,
     "metadata": {},
     "output_type": "execute_result"
    }
   ],
   "source": [
    "count_fun(5)"
   ]
  },
  {
   "cell_type": "code",
   "execution_count": 145,
   "id": "3d3648bc-f2c2-4d63-861d-a8f43e837634",
   "metadata": {},
   "outputs": [],
   "source": [
    "def fib(n):\n",
    "    a,b = 0,1\n",
    "    for i in range(n):\n",
    "        yield a\n",
    "        a,b = b, a+b"
   ]
  },
  {
   "cell_type": "code",
   "execution_count": 146,
   "id": "f69c0216-91dd-46a5-9926-01929888b320",
   "metadata": {},
   "outputs": [
    {
     "data": {
      "text/plain": [
       "<generator object fib at 0x7f1d9c205930>"
      ]
     },
     "execution_count": 146,
     "metadata": {},
     "output_type": "execute_result"
    }
   ],
   "source": [
    "fib(7)"
   ]
  },
  {
   "cell_type": "code",
   "execution_count": 54,
   "id": "6c9cff96-2e3e-4a0b-a6fb-99ea783a0160",
   "metadata": {},
   "outputs": [
    {
     "name": "stdout",
     "output_type": "stream",
     "text": [
      "0\n",
      "1\n",
      "1\n",
      "2\n",
      "3\n",
      "5\n",
      "8\n",
      "13\n",
      "21\n"
     ]
    }
   ],
   "source": [
    "for i in fib(9):\n",
    "    print(i)"
   ]
  },
  {
   "cell_type": "code",
   "execution_count": 1,
   "id": "9b724916-9ee9-4ac9-a8b3-4a4266a2482d",
   "metadata": {},
   "outputs": [],
   "source": [
    "list1 = [1, 2, 3]\n",
    "list2 = ['a', 'b', 'c']\n",
    "zipped = zip(list1, list2)\n",
    "# zipped is now an iterator of tuples: [(1, 'a'), (2, 'b'), (3, 'c')]\n"
   ]
  },
  {
   "cell_type": "code",
   "execution_count": 2,
   "id": "00b34dca-7945-4e97-89d2-ee0163c39561",
   "metadata": {},
   "outputs": [
    {
     "name": "stdout",
     "output_type": "stream",
     "text": [
      "Number: 1, Character: a\n",
      "Number: 2, Character: b\n",
      "Number: 3, Character: c\n"
     ]
    }
   ],
   "source": [
    "for num, char in zip(list1, list2):\n",
    "    print(f\"Number: {num}, Character: {char}\")\n",
    "# Output:\n",
    "# Number: 1, Character: a\n",
    "# Number: 2, Character: b\n",
    "# Number: 3, Character: c\n"
   ]
  },
  {
   "cell_type": "code",
   "execution_count": 147,
   "id": "fd6c8c62-91fd-43a7-946f-8e85ad0bdfff",
   "metadata": {},
   "outputs": [
    {
     "name": "stdout",
     "output_type": "stream",
     "text": [
      " 10_oops_advance.ipynb          \u001b[0m\u001b[01;34mimages\u001b[0m/\n",
      " 11_oops_advance.ipynb          log_file1.log\n",
      " 1Primitive_datatypes.ipynb     log_file2.log\n",
      " 2python_basic_datatype.ipynb   log_file.log\n",
      " 3operators.ipynb               my_file.txt\n",
      " 4loops+conditional.ipynb       new_file.txt\n",
      " 5fxns_intro.ipynb              new_image.png\n",
      " 6fxns+File_handling.ipynb      project_web_scrapping.ipynb\n",
      " 6fxns.ipynb                    test223.log\n",
      " 7exception_handling.ipynb      test.log\n",
      " 7exception+logging.ipynb       text.txt\n",
      " 8_oops_programming.ipynb       trytest.log\n",
      " 9_oops_inheritance.ipynb       Untitled1.ipynb\n",
      " example.txt                    Untitled2.ipynb\n",
      " file1.txt                      Untitled.ipynb\n",
      "'Haris pic.jpg'                 weather_app.ipynb\n",
      " haris.txt                      web_scrapping.ipynb\n"
     ]
    }
   ],
   "source": [
    "ls"
   ]
  },
  {
   "cell_type": "code",
   "execution_count": 148,
   "id": "841f6d71-9c68-4e75-b98b-156158a031bf",
   "metadata": {},
   "outputs": [
    {
     "data": {
      "text/plain": [
       "'/home/jovyan/work/python_classes'"
      ]
     },
     "execution_count": 148,
     "metadata": {},
     "output_type": "execute_result"
    }
   ],
   "source": [
    "pwd"
   ]
  },
  {
   "cell_type": "markdown",
   "id": "15b6d99d-49e9-4da5-b6a4-e1a65b83b07b",
   "metadata": {},
   "source": [
    "## File handling"
   ]
  },
  {
   "cell_type": "code",
   "execution_count": 149,
   "id": "e9a476b9-961c-4925-8339-dbb1f0afe5c7",
   "metadata": {},
   "outputs": [
    {
     "name": "stdout",
     "output_type": "stream",
     "text": [
      "This is a line written to the file.\n",
      "This line is appended to the file.\n",
      "This line is appended to the file.\n",
      "\n"
     ]
    }
   ],
   "source": [
    "# Opening a file for reading\n",
    "file = open('file1.txt', 'r')\n",
    "\n",
    "# Reading the contents\n",
    "content = file.read()\n",
    "print(content)\n",
    "\n",
    "# Closing the file\n",
    "file.close()\n"
   ]
  },
  {
   "cell_type": "code",
   "execution_count": 150,
   "id": "26aabd7f-7026-46f8-9b54-d4052aca6af7",
   "metadata": {},
   "outputs": [
    {
     "name": "stdout",
     "output_type": "stream",
     "text": [
      "['This is a line written to the file.\\n', 'This line is appended to the file.\\n', 'This line is appended to the file.\\n']\n"
     ]
    }
   ],
   "source": [
    "with open('file1.txt', 'r') as file:\n",
    "    lines = file.readlines()\n",
    "    print(lines)"
   ]
  },
  {
   "cell_type": "code",
   "execution_count": 151,
   "id": "f1a0930a-2a97-4ec5-b035-92c55149e65e",
   "metadata": {},
   "outputs": [
    {
     "name": "stdout",
     "output_type": "stream",
     "text": [
      "This is a line written to the file.\n",
      "\n"
     ]
    }
   ],
   "source": [
    "with open('file1.txt', 'r') as file:\n",
    "    lines = file.readline()\n",
    "    print(lines)"
   ]
  },
  {
   "cell_type": "code",
   "execution_count": 152,
   "id": "e5222275-a561-4fb8-a737-a989ac2823a9",
   "metadata": {},
   "outputs": [
    {
     "name": "stdout",
     "output_type": "stream",
     "text": [
      "This is a line written to the file.\n",
      "This line is appended to the file.\n",
      "This line is appended to the file.\n"
     ]
    }
   ],
   "source": [
    "# Reading a file line by line\n",
    "with open('file1.txt', 'r') as file:\n",
    "    lines = file.readlines()        #readlines() reads all lines and returns them as a list of strings.\n",
    "    for line in lines:              #Each line, including the newline character (\\n), is a separate string element in the list.\n",
    "        print(line.strip())  # strip() removes the newline character at the end of each line\n"
   ]
  },
  {
   "cell_type": "code",
   "execution_count": 153,
   "id": "be68d341-5234-4068-80c9-f26e49e001df",
   "metadata": {},
   "outputs": [
    {
     "name": "stdout",
     "output_type": "stream",
     "text": [
      "This is a line written to the file.\n",
      "This line is appended to the file.\n",
      "This line is appended to the file.\n",
      "\n"
     ]
    }
   ],
   "source": [
    "with open('file1.txt', 'r') as file:\n",
    "    content = file.read()\n",
    "    print(content)\n"
   ]
  },
  {
   "cell_type": "code",
   "execution_count": 154,
   "id": "2ddc07e1-5a34-4e4c-8835-4df6831923e3",
   "metadata": {},
   "outputs": [
    {
     "name": "stdout",
     "output_type": "stream",
     "text": [
      "This is a line written to the file.\n",
      "\n",
      "This line is appended to the file.\n",
      "\n",
      "This line is appended to the file.\n",
      "\n"
     ]
    }
   ],
   "source": [
    "# Iterating through a file line by line without reading the whole file into memory\n",
    "with open('file1.txt', 'r') as file:\n",
    "    for line in file:\n",
    "        print(line)\n"
   ]
  },
  {
   "cell_type": "code",
   "execution_count": 155,
   "id": "904c3124-586a-439e-884b-4bdb4dcb4fdc",
   "metadata": {},
   "outputs": [
    {
     "name": "stdout",
     "output_type": "stream",
     "text": [
      "This is a line written to the file.\n",
      "This line is appended to the file.\n",
      "This line is appended to the file.\n"
     ]
    }
   ],
   "source": [
    "# Iterating through a file line by line without reading the whole file into memory\n",
    "with open('file1.txt', 'r') as file:\n",
    "    for line in file:\n",
    "        print(line.strip())\n"
   ]
  },
  {
   "cell_type": "code",
   "execution_count": 157,
   "id": "e1cd503e-35fb-4d0f-aa83-1519d2dbda89",
   "metadata": {},
   "outputs": [
    {
     "name": "stdout",
     "output_type": "stream",
     "text": [
      "This is a line written to the file.\n",
      "\n",
      "This line is appended to the file.\n",
      "\n",
      "This line is appended to the file.\n",
      "\n"
     ]
    }
   ],
   "source": [
    "with open('file1.txt', 'r') as file:\n",
    "    for line in file:\n",
    "        print(line)\n"
   ]
  },
  {
   "cell_type": "code",
   "execution_count": 158,
   "id": "9f641d8c-c709-442e-8cdc-614750fe1471",
   "metadata": {},
   "outputs": [
    {
     "name": "stdout",
     "output_type": "stream",
     "text": [
      "This is a line written to the file.\n",
      "This line is appended to the file.\n",
      "This line is appended to the file.\n"
     ]
    }
   ],
   "source": [
    "with open('file1.txt', 'r') as file:\n",
    "    for line in file:\n",
    "        print(line,end='')\n"
   ]
  },
  {
   "cell_type": "code",
   "execution_count": 159,
   "id": "c235f537-7f73-4c0e-a919-c6dcbf4e0ac1",
   "metadata": {},
   "outputs": [],
   "source": [
    "with open('file1.txt', 'w') as file:\n",
    "    file.write('This is a line written to the file.\\n')\n"
   ]
  },
  {
   "cell_type": "code",
   "execution_count": 160,
   "id": "0ba36c2e-1c72-4a51-b444-0d7bb3f56785",
   "metadata": {},
   "outputs": [],
   "source": [
    "with open('file1.txt', 'a') as file:\n",
    "    file.write('This line is appended to the file.\\n')\n"
   ]
  },
  {
   "cell_type": "code",
   "execution_count": 161,
   "id": "31723d66-5278-480f-9dfc-20e4fb16b1da",
   "metadata": {},
   "outputs": [
    {
     "name": "stdout",
     "output_type": "stream",
     "text": [
      "This is a line written to the file.\n",
      "\n",
      "This line is appended to the file.\n",
      "\n"
     ]
    }
   ],
   "source": [
    "with open('file1.txt', 'r') as file:\n",
    "    for line in file:\n",
    "        print(line)\n"
   ]
  },
  {
   "cell_type": "code",
   "execution_count": 162,
   "id": "f5760afe-b172-4950-96b5-ba3094fe3cf4",
   "metadata": {},
   "outputs": [
    {
     "name": "stdout",
     "output_type": "stream",
     "text": [
      "b'\\xff\\xd8\\xff\\xe0\\x00\\x10JFIF\\x00\\x01\\x01\\x01\\x04\\xb0\\x04\\xb0\\x00\\x00\\xff\\xdb\\x00C\\x00\\x08\\x06\\x06\\x07\\x06\\x05\\x08\\x07\\x07\\x07\\t\\t\\x08\\n\\x0c\\x14\\r\\x0c\\x0b\\x0b\\x0c\\x19\\x12\\x13\\x0f\\x14\\x1d\\x1a\\x1f\\x1e\\x1d\\x1a\\x1c\\x1c $.\\' \",#\\x1c\\x1c(7),01444\\x1f\\'9=82<.342\\xff\\xdb\\x00C\\x01\\t\\t\\t\\x0c\\x0b\\x0c\\x18\\r\\r\\x182!\\x1c!22222222222222222222222222222222222222222222222222\\xff\\xc0\\x00\\x11\\x08\\x02}\\x01\\xe0\\x03\\x01\"\\x00\\x02\\x11\\x01\\x03\\x11\\x01\\xff\\xc4\\x00\\x1f\\x00\\x00\\x01\\x05\\x01\\x01\\x01\\x01\\x01\\x01\\x00\\x00\\x00\\x00\\x00\\x00\\x00\\x00\\x01\\x02\\x03\\x04\\x05\\x06\\x07\\x08\\t\\n\\x0b\\xff\\xc4\\x00\\xb5\\x10\\x00\\x02\\x01\\x03\\x03\\x02\\x04\\x03\\x05\\x05\\x04\\x04\\x00\\x00\\x01}\\x01\\x02\\x03\\x00\\x04\\x11\\x05\\x12!1A\\x06\\x13Qa\\x07\"q\\x142\\x81\\x91\\xa1\\x08#B\\xb1\\xc1\\x15R\\xd1\\xf0$3br\\x82\\t\\n\\x16\\x17\\x18\\x19\\x1a%&\\'()*456789:CDEFGHIJSTUVWXYZcdefghijstuvwxyz\\x83\\x84\\x85\\x86\\x87\\x88\\x89\\x8a\\x92\\x93\\x94\\x95\\x96\\x97\\x98\\x99\\x9a\\xa2\\xa3\\xa4\\xa5\\xa6\\xa7\\xa8\\xa9\\xaa\\xb2\\xb3\\xb4\\xb5\\xb6\\xb7\\xb8\\xb9\\xba\\xc2\\xc3\\xc4\\xc5\\xc6\\xc7\\xc8\\xc9\\xca\\xd2\\xd3\\xd4\\xd5\\xd6\\xd7\\xd8\\xd9\\xda\\xe1\\xe2\\xe3\\xe4\\xe5\\xe6\\xe7\\xe8\\xe9\\xea\\xf1\\xf2\\xf3\\xf4\\xf5\\xf6\\xf7\\xf8\\xf9\\xfa\\xff\\xc4\\x00\\x1f\\x01\\x00\\x03\\x01\\x01\\x01\\x01\\x01\\x01\\x01\\x01\\x01\\x00\\x00\\x00\\x00\\x00\\x00\\x01\\x02\\x03\\x04\\x05\\x06\\x07\\x08\\t\\n\\x0b\\xff\\xc4\\x00\\xb5\\x11\\x00\\x02\\x01\\x02\\x04\\x04\\x03\\x04\\x07\\x05\\x04\\x04\\x00\\x01\\x02w\\x00\\x01\\x02\\x03\\x11\\x04\\x05!1\\x06\\x12AQ\\x07aq\\x13\"2\\x81\\x08\\x14B\\x91\\xa1\\xb1\\xc1\\t#3R\\xf0\\x15br\\xd1\\n\\x16$4\\xe1%\\xf1\\x17\\x18\\x19\\x1a&\\'()*56789:CDEFGHIJSTUVWXYZcdefghijstuvwxyz\\x82\\x83\\x84\\x85\\x86\\x87\\x88\\x89\\x8a\\x92\\x93\\x94\\x95\\x96\\x97\\x98\\x99\\x9a\\xa2\\xa3\\xa4\\xa5\\xa6\\xa7\\xa8\\xa9\\xaa\\xb2\\xb3\\xb4\\xb5\\xb6\\xb7\\xb8\\xb9\\xba\\xc2\\xc3\\xc4\\xc5\\xc6\\xc7\\xc8\\xc9\\xca\\xd2\\xd3\\xd4\\xd5\\xd6\\xd7\\xd8\\xd9\\xda\\xe2\\xe3\\xe4\\xe5\\xe6\\xe7\\xe8\\xe9\\xea\\xf2\\xf3\\xf4\\xf5\\xf6\\xf7\\xf8\\xf9\\xfa\\xff\\xda\\x00\\x0c\\x03\\x01\\x00\\x02\\x11\\x03\\x11\\x00?\\x00\\xf7\\xf3\\xd2\\xbc\\x97\\xc66\\x16\\xda\\xb7\\xc5\\x9d\\x0e\\xc6\\xfe\\x11qj\\xd6\\xccZ)I(x\\x90\\xf4\\x1d\\x0e@9\\xf6\\x15\\xebU\\xe6^!\\xe7\\xe37\\x87\\x82\\xb3\\xb9\\x16\\xd2\\x12\\x8c\\xa4\\xaa\\x8d\\xb2r=\\xcf\\x7f\\xa0\\xa1\\x036\\xe2\\xf8k\\xe1\\x0f+h\\xf0\\xfd\\x96\\xd2Kr\\xa4\\xf2x\\'$\\xe7\\x91M\\xff\\x00\\x85W\\xe0\\xc0\\xe0\\x8d\\x02\\xd4z\\x81\\xbb\\x07\\xea3\\xcdv1q\\x18\\xa7\\xd0\\x07\\x14~\\x15\\xf8;r\\x11\\xa2D\\xbb\\x1c\\xba\\x84\\x91\\xd4\\x068\\xe7\\x00\\xe3\\xb0\\xfc\\xa9\\x87\\xe1?\\x8303\\xa1\\xc4~m\\xd926\\x7f<\\xe7\\xbf\\xe3\\xf8\\n\\xee(\\xa0\\x0e\\x1eo\\x85~\\x12\\x98\\x9f3I\\'-\\xb8\\xff\\x00\\xa4H;\\xe7\\x8ex\\x19$\\xe0z\\xd42\\xfc\"\\xf0l\\x85\\xd9\\xb4\\xa7%\\xdb$\\x8b\\x99?\\xc7\\x8a\\xefp(\\xc0\\xa0\\x0f?o\\x84\\x1e\\x0fgg\\xfe\\xcd\\x90\\x16\\xec\\xb7\\x0e\\x07\\xe4\\x0e\\x05$\\x9f\\x08| \\xc4\\xed\\xd3e\\x88d\\x95\\x11\\\\:\\xed\\xcf\\\\w\\xc7\\xb5z\\x0e(\\xc7\\xa5\\x1a\\x8c\\xf3\\xc6\\xf8;\\xe1\\x06\\x18\\xfb\\r\\xc8\\x1dp.\\x98\\x1e\\xfd\\xfa\\xf7\\xa4?\\x07\\xbc$\\xdbCZ\\\\\\xed\\x19\\xf9E\\xcb\\r\\xd9=\\xfdq\\xdb\\xd2\\xbd\\x0f\\x1e\\xd4b\\x8b\\xb0<\\xdd~\\x0cxAd,-ov\\xff\\x00p]\\xb0_\\xd3\\x91Lo\\x82^\\x12u\\nc\\xbf#\\xde\\xe8\\xff\\x00<W\\xa5\\xed\\xa5\\xc5;\\xb1hy\\x9b|\\x16\\xf0\\x9b2\\xfe\\xee\\xf9@}\\xc4\\x0b\\x93\\x86\\xf6<t\\xff\\x00\\x13L\\x7f\\x82~\\x14\\x93~V\\xfc\\x16|\\xee\\xfbA8^~^\\x9d?^:\\xd7\\xa7`g\\x14\\x11J\\xec4<\\xc6O\\x82~\\x15\"_$_\\xc0_\\x01J\\xdcn\\xf2\\x809\\xc2\\xe4\\x1e\\x0fNs\\xd2\\xa2o\\x82\\x1e\\x1b*G\\xda50q\\xc1\\xf3\\xc7\\xb7lc\\xb7\\xeb\\xf4\\xafR\\xda\\r\\x04\\x03\\xda\\x8b\\xb0\\xb2<\\xa5\\xbe\\x06\\xf8oi\\xdby\\xaa+\\x13\\x9d\\xdej\\xf08\\xe3\\x1b\\x7f\\xcei\\x8d\\xf07A,Yu=Y[\\xb1\\x0e\\x9c\\x7f\\xe3\\xb5\\xeb\\x1bGz\\x08\\xf6\\xa7v\\x16G\\x93\\xaf\\xc0\\xef\\x0f\\r\\xd9\\xbd\\xd4\\xd9\\xce\\x06\\xef1F\\x00\\xf4\\x01~\\x9di\\xaf\\xf0CF\\xf2\\xe6_\\xed]P\\x99@\\x1b\\x9d\\x94\\xe3\\x079\\xc6>o\\xc7\\xa5z\\xd6\\xd1I\\xb4g\\xde\\x8b\\xb1\\xd9\\x1eA\\'\\xc0\\xed5\\xae\\x9d\\xd3Y\\xbfXY~\\xeb\\x05w\\x04\\xf5\\xcbq\\x95>\\x84S\\x1b\\xe0v\\x9e\\x001kW\\xa9!\\xfb\\xceaBI\\xces\\xd7\\xafj\\xf6\\x1d\\xb4\\x84\\x0f\\xc6\\x95\\xd8Y\\x1e6~\\x05X\\x96c\\xfd\\xbbw\\xf3\\x1f\\x9b6\\xa8K}Nz\\xd4\\x92|\\x11\\xb6ka\\x08\\xf1\\x15\\xfe\\xc5\\x1f*\\xbcJUO9;A\\xc62A\\xfc\\xfdk\\xd7\\xf6\\xd2m\\xa7v\\x16G\\x8f\\xaf\\xc1\\x18\\xc3J\\xc7\\xc4\\xd7\\xed\\xe6rH\\x81T\\xb1\\xe7\\x969;\\xba\\xd4?\\xf0\\xa3\"\\xdb\\'\\xfcT\\x13\\x12\\xc0\\x0c\\x9b5\\xfd~n~\\x95\\xec\\xc5{Sv{Qv\\x16G\\x8eC\\xf0K)\\xfe\\x93\\xaf\\xcb\\x99\\x003\\xa4V\\xea\\x01`s\\xc1>\\x87\\'\\xdf=\\xaa6\\xf8\\x1eZi\\x7f\\xe2\\xa1o)\\xa3\\n\\x0bZ\\x06\\x90\\x900\\x03\\x1d\\xdc\\xa8\\xc7A\\xda\\xbd\\x9c\\xa7\\xe3HP\\x13J\\xec,\\x8f\\x14\\xff\\x00\\x85\\x15 \\x04\\xff\\x00\\xc2C\\x16Y@l\\xd8\\x9f\\x9c\\x8c`\\x1f\\x9f\\xee\\x8c}i\\xdf\\xf0\\xa3\\xe71\\xc6\\xa7\\xc4Q\\x90\\x14\\x86_\\xb1\\x1d\\xbd\\xb0\\x00\\x0f\\xd3\\x81\\x9c\\xf3\\xc0\\xafj+N\\x08=(\\xbb\\x0b#\\xc4\\x87\\xc0\\xd9c`\\xe9\\xaf\\xc6\\x18\\x8f\\x9f6\\x87\\x04\\x8eGF\\xf9\\x86Fy\\xa8\\xe6\\xf8\\'\\xaa9\\x8f\\xfe*H\\xa4V\\xe6r\\xf089\\x1d\\x08\\xf9\\xbelq\\x8c\\xf2+\\xdcLtl\\x19\\xe9E\\xd8Y\\x1e,\\x9f\\x05\\xf5\\x1f)\\xd6_\\x13\\x86\\xf3\\x19Y\\xb6\\xc0\\xfbI\\x07\\xb8-\\xcf\\xb7#\\x18\\x14\\xb0|\\x1f\\xd7\\xe0\\xdc\\xf1x\\xbc\\xc1!#>\\\\r\\xf3\\x80@\\xc9\\xdf\\xcfR+\\xdaDc\\xa1\\xa0F3\\x8a.\\xc2\\xc8\\xf1\\x06\\xf8;\\xe22\\x88?\\xe1&\\xb7l\\x06M\\xad\\xe7mT=\\x8799\\xf4\\xe9R\\x9f\\x84\\xfe.k\\x7f)\\xbc[\\x19_\\xf5f&y\\x8cf1\\xf7x\\xcf<\\xe7\\x83\\xeb\\xd6\\xbd\\xb7`\\x1d\\xb9\\xa0 \\xf4\\xa7\\xcc\\xc5dxy\\xf8S\\xe3@]\\xd7\\xc50\\xb37\\xc8\\x7f\\x7fp2\\xbf\\x9fOo\\xd6\\xa4?\\x0c|y\\x1cLc\\xf1x.W`\\x0bu:\\x8d\\xbd\\xc1&\\xbd\\xb7`\\xcfAK\\xe5\\x8e\\xfc\\xd1v+#\\xc4\\x9b\\xe1\\xb7\\xc4\\x0f\\xb5)_\\x16\\x85A\\xc0\\x97\\xed\\xb3\\xb3\\xa0=GNG&\\x9c<\\x03\\xf1-@\\xdb\\xe2\\xf3\\x90>P\\xb7\\xd2\\x85\\x1fQ\\xb7\\x9a\\xf6\\xcd\\xbf\\xfe\\xaa6\\x8c\\xd1\\xcc\\xc7dx\\x90\\xf0/\\xc5\\x08\\xe3D\\x8f\\xc5\\xa9\\xb7\\'p\\xfbl\\xa0\\x8fpv\\xe4\\x9a\\x86\\x7f\\x87\\xff\\x00\\x12\\x94\\xac\\xa3\\xc4Is1%X\\xc9y !3\\xd3q\\xe4\\x83\\xceT\\x8cW\\xbam\\x02\\x93`\\xa2\\xec,\\x8f\\x0e\\xff\\x00\\x84;\\xe2\\x9a@\\xe6-l\\x17c\\xe5\\x18\\xfe\\xd6\\x0f\\xee\\xf0\\x7f\\x88\\xaf\\x03$\\xe1\\x7fZT\\xf0\\xc7\\xc5\\xe8\\xa5\\xdc\\x9a\\xc8\\xce\\xd0\\xa3u\\xf2\\xb0\\x03=\\xc1L{\\xd7\\xb8l\\x1e\\x82\\x8d\\x8b\\xe9E\\xc5dx\\x83\\xf8{\\xe3\\x02L\\x8c\\xba\\xa1\\x93b\\x80\\x02^\\xa2\\xafo\\xe1\\xda\\x07jG\\xd1>/\\xb7\\x90\\xd2]\\x06\\xf2\\x0e\\xe8\\xd5\\xaea,\\x0e1\\x9e\\x9c\\x9eO&\\xbd\\xc7\\x03\\xd2\\x8c\\x0fJ.\\x16<:+\\x0f\\x8c\\xc67O=\\x97\\xcb\\xc9F{\\x88Aon\\x01\\xce{g\\x81G\\xd9\\xbe2\\xda\\xc6V<\\xc9\\xb0\\x12\\xad\\xe6C+\\x1c\\xf5\\x19j\\xf7\\x1c\\x0fJ\\n\\x8fJ.\\x16<(\\xb7\\xc68Dam\\xae\\xe4\\xd9\\xf3\\x9f\\xdeFs\\xc7\\xdc9<\\xfa\\xfe4\\xff\\x00?\\xe3 1\\xaf\\xd8dM\\x8c\\xceH\\x111\\x7ff\\xcb\\xf2\\x07a\\xc5{\\x8e\\xd1\\xe9F\\xc1\\xe9O\\x98,xc\\\\\\xfccUD6\\xb2\\x80\\xcd\\xe7y\\x82(\\x99\\x80\\xe4\\xec#w\\x00\\xf4\\xc7\\xebJu\\x1f\\x8bY\\x99\\x93E\\xf2]\\xe5Wf\\x8a\\xdcn~8\\x07,T\\x0c\\x00\\x0e1^\\xe7\\xb4zS|\\xb5=\\xa9\\\\,x\\x8c\\xba\\x9f\\xc6\\x17w\\x93\\xfb.H\\x81;\\xc2G\\x14XQ\\x8f\\xba\\x06\\xe2H\\xf699\\xe9K.\\xb7\\xf1sa\\xff\\x00\\x89\\x14\\xe8\\xa7\\x0eLH\\x8c\\xca2r\\xa3q9\\xfac\\x80\\x01\\xafn\\xf2\\xd7\\xfb\\xa2\\x8f-}\\x05\\x17\\x0b\\x1e\\x1a|A\\xf1eQ\\xdd\\xb4k\\xa4\\xdc\\xdeb\\xee\\x81\\x08T\\x1cl\\xc0\\xe7$\\xe3\\xf0\\xed\\xde\\x96\\x7f\\x17|QS3>\\x8b$c\\xccP\\x16\\x0bq A\\xc1!N\\t<\\x1cg\\x9cs\\xdcW\\xb8\\x88\\xd4t\\xa3`\\xa2\\xe1c\\xc3\\x9b\\xc7?\\x12R)f>\\x1dp\\x84\\xa8Gkf\\xdb\\x1e\\x00-\\x91\\x8c\\xf3\\xd7\\x9e\\x99=k\\xd0\\xbe\\x1e\\xf8\\xaa\\xfb\\xc5zD\\xd7\\x97\\xd6\\xf6\\xb0:LcT\\x82B\\xdc\\x0099\\xe4\\x1c\\xd6\\xfe\\xb0\\x99\\xd2\\xee\\xfa\\xff\\x00\\xa9q\\xff\\x00\\x8e\\x9a\\xe0\\xfe\\n\\xee\\x1e\\x15\\x94a\\xb6\\x0b\\x96\\xd8J\\xe3<\\x0e\\xf8\\xf9\\xbe\\xb4\\xf7A\\xd4\\xf4\\xea\\xf3\\x1dp\\x1f\\xf8]\\xba\\x19\\xda\\xad\\xfe\\x84\\xff\\x00\\xc5\\xd0\\x01\\'8\\xed\\xcfz\\xf4\\xea\\xf2\\xfdo\\x07\\xe3\\x8e\\x8a\\xbbXb\\xc9\\xcex\\xe7\\xe5\\x93\\xa7\\xebI\\r\\x9e\\x9d\\x1f\\xdc\\x14\\xeaj}\\xc1N\\xa4\\x01E\\x14P\\x01E\\x14P\\x01E\\x14P\\x01Gj(\\xa0\\x02\\x92\\x96\\x8a\\x00(\\xa2\\x83@\\tE\\x14P\\x01\\x81\\x9a1E\\x1dh\\x01\\xbd\\xf9\\xa3\\xe9KA\\xeb\\xd6\\x80\\x13\\xebM<\\x9aRy\\xa4\\'\\xd2\\x81\\x88F=)3\\xf8\\n\\t\\xe3\\x93I\\x90{\\xd0\\x02\\xe2\\x8c\\nan8?\\x95\\x01\\xcf~>\\xb4\\x0cq\\xfa\\x8aM\\xbd\\xe9\\x03\\x0e\\xe74\\xbb\\xbd\\xff\\x00\\n\\x00\\x7fj\\\\Sr)\\xc0\\x8f\\xad\\x02\\x13\\x18$\\xf3J1G\\xae)A\\xc7\\xbd\\x00(\\x14\\xbfN\\x94\\x94\\xa2\\x90\\x07\\xbf4\\xa2\\x8a)\\x881\\x8aQE\\x14\\x00QE\\x14\\x00QE\\x14\\x00QE\\x14\\x00QE\\x14\\x00QE\\x14\\x00QE\\x14\\x00QE\\x14\\x00QE\\x14\\x00QE\\x14\\x01GV\\xc7\\xf6e\\xd6\\xe5\\xdc\\xbeK\\xe4g\\x19\\x1bOz\\xf3\\xdf\\x82d\\x9f\\x0c\\\\\\x1c\\x11\\xfe\\x94q\\x91\\xce6/\\xe7\\xf5\\xafA\\xd6X.\\x91x\\xc7\\xa0\\x82Brq\\xfc&\\xb8\\x0f\\x82\\xc3\\x1e\\x15\\x94\\x85\\x08\\r\\xcb\\x10\\xb8\\x19\\x00\\xaa\\x91\\x93\\x9e\\x7fJ}\\x05\\xd4\\xf4\\xea\\xf3\\x1dN7\\x1f\\x1d4\\xb6\\xd8\\xc05\\x83\\xe1\\xbb\\x10\\x15\\xff\\x00\\xa9\\xafN\\xaf1\\xd5\\x01?\\x1c\\xf4\\xbcd\\xe2\\xc5\\xcbz\\x0f\\x95\\xc7\\x1c\\xff\\x00O\\xcf\\xb0\\x86zbp\\xa2\\x9dM_\\xba3N\\xa4\\x01E\\x14P\\x01E\\x14P\\x01E\\x14P\\x01E\\x14\\x99\\xa0\\x05\\xa2\\x8c\\xd2df\\x80\\x16\\x8aL\\xd0I\\xf4\\xa0\\x05\\xa4\\xa3\\x9ct\\xa3\\x9a\\x00(\\xfetSx\\xcf\\xbd\\x00)\\xa4\\'\\x14\\x87>\\x99\\xa5\\xe9\\xe8(\\x18\\xc2~\\xa6\\xa3g#=1\\xeei&\\x94F\\x0b\\x16\\x18\\x1d\\xeb\\x85\\xf1O\\xc4-+G\\x80\\xacw\"K\\x96m\\xaa\\xa8\\x03\\xe0\\xfa\\x9eG\\x1f\\x8d8\\xc5\\xcbaJJ;\\x9dN\\xa3\\xab\\xdbi\\xb0<\\xf73*\\xa2\\x8c\\x91\\x9ej\\x83x\\xabI\\x8a\\x04\\x9ek\\xc8bG\\xc6\\xd2\\xe7\\xaezb\\xbem\\xf1\\x0f\\x8aou\\xab\\xa9\\x0c\\xb77\\x1eI\\xc8\\x10\\xf9\\xa7a\\x1d\\xbe\\xbf\\x8ds\\xe6\\xe6D\\x91\\x8a\\xb0\\x1c\\xff\\x00\\x08\\xe0V\\xbc\\x91F|\\xf2z\\xa3\\xea\\xb6\\xf1\\xbe\\x89\\xe5\\x17\\xfe\\xd2\\xb7\\xc0\\xc0\\xc6\\xec\\x1c\\x9e\\x95\\x817\\xc5\\x9d\\n96\\x034\\x87\\xb1M\\xad\\x93\\xe9\\xd7\\xad|\\xe9\\xf6\\x99\\x1c0\\xde\\xca\\t\\xc67`\\x1f\\xaejH\\xc3g\\xaa\\xf09\\xc7O\\xa5\\x1c\\xb1@\\xa5&}1\\'\\xc4M\\x12;\\x14\\xba7?\\x7f\\xa4|n\\x18\\xeb\\x9e\\xdcVb\\xfcZ\\xd0\\xbc\\xed\\xa5\\xa5\\xc6q\\xb8\\x80\\x01\\xf4\\xc1\\xef_>\\xcb+\\x08\\x91\\x036G\\xf0\\x93\\xc5F\\x92:\\xf2\\xa4\\x86\\xeair\\xc4\\x1c\\xa4}\\x83i\\xa8\\xc3u\\n\\xc9\\x1c\\x8a\\xea\\xc39\\x075pJ\\x0f|W\\xcb:\\x07\\x8e5\\x8d\\x05\\xf1\\x05\\xc3\\xcb\\x166\\xf9R\\x1f\\x90\\x0f\\xa0\\xfeu\\xd7\\xff\\x00\\xc2\\xe0\\xd4\\xb2\\x17\\xec\\xb0\\x1c{\\x91\\xfc\\xaa\\\\;\\x16\\xa4{\\xda\\xb8\\xeci\\xd9\\xfaW\\x07\\xe1\\x7f\\x1eYkVH\\xd2:\\xc5q\\x81\\xbdO\\x03>\\xde\\xb5\\xbf?\\x894\\xcbd\\xdf=\\xec(\\x9e\\xa5\\xc6*y^\\xc3M\\x1b\\xcari\\xdd\\x0f\\x15\\x97m\\xabZ\\xdd\\xa0h.\"\\x91Oupj\\xf2L\\xa6\\x90\\xc9\\xfariz\\xd3\\x03\\x0e\\xbd\\xa9\\xc0\\xd0\\x03\\xa9\\x01$\\x9c\\x8c\\x7fZ)h\\x10QE\\x14\\x00QE\\x14\\x00QE\\x14\\x00QE\\x14\\x00QE\\x14\\x00QE\\x14\\x00~4QE\\x00\\x14QE\\x00\\x14\\x83<\\xe7\\xf0\\xa5\\xa2\\x803\\xf5\\xb9\\x0cz5\\xeb\\xab\\x15e\\xb7\\x90\\x82\\x0e\\x08\\xf9Mp_\\x05\\xa3q\\xe19\\xa4d\\x91VK\\xb7d.>\\xf0\\xda\\xa39\\xfe.s\\x92;\\xd7s\\xe2\\x1e4\\r@\\x96\\xda>\\xcd.[\\x19\\xc7\\xc8y\\xae\\'\\xe0\\xc2\\x81\\xe0\\xe2A~n\\x1f!\\x94\\x80\\xbc\\x0e\\x99\\x1c\\xfa\\xf1\\xc74\\xfa\\x0b\\xa9\\xe9U\\xe6Z\\x92\\x9f\\xf8^\\x9aw\\xc80t\\xf6\\xc3\\x90x8~\\x07l\\xf4\\xfc\\xeb\\xd3k\\xcc\\xf5\\x0c\\x9f\\x8ez~\\xec\\x104\\xe7\\t\\x9cpps\\xd0s\\xf8\\x93\\xf8P\\x86zZ\\xfd\\xd1KH\\xbd\\x05- \\n(\\xa2\\x80\\nL\\x0c\\xe7\\x14\\xb4P\\x01E\\x14P\\x01I\\x91KE\\x00\\x19\\xf6\\xa4\\xe7\\xd2\\x96\\x8a\\x00Nih\\xa4\\xc8\\xa0\\x03\\x1e\\xf4b\\x8c\\x8a3\\xed@\\x07\\x02\\xa3\\x92E@2q\\xf5\\xa2G v\\x1fSY:\\xa5\\xe9\\xb5\\xb4\\x96l\\x16\\xd8\\x85\\xb0:\\xd3J\\xee\\xc1{+\\x93\\xdcj\\xf6\\xb6\\xef\\xb2I\\xd1XrA=\\xaa\\xa9\\xf1\\x05\\x83\\xa1t\\xbb\\x85\\x90\\x0c\\x96W\\x04W\\xce\\xbe$\\xd75;\\xadY\\xde\\xe6\\xf6W\\x0c\\xd9\\x8dK`(\\xe7\\x03\\x18\\x19\\xfc\\xab3\\xed\\xd3\\xacN\\xe2\\xeepOp\\xc0\\x01\\xf9\\n\\xd6T\\xf9]\\x99\\x9cjs+\\xc4\\xf6\\x0f\\x19|J\\xb5\\xb1\\xb6\\x9e\\xd7N\\x7f:\\xe5\\x94\\xaa\\xc8\\xb8*\\xad\\xf8\\xf0k\\xc1o\\xef\\xe4\\xb9\\x9d\\xe5\\x93\\xef3\\x12p\\xd9\\xe7\\xebK<\\xb3\\xbf\\xcf+;\\x03\\x93\\xbaC\\x96\\xaa.\\xc8\\xc0\\x15\\'\\xd7\\x1e\\x94\\xee\\x92\\xb2\\x13M\\xbdD\\xdd\\xe6HG\\xf5\\xebO0\\x90@\\xca\\xed\\x03<\\x9au\\xba\\xa9R@%\\x878\\x04Snd\\x01\\xbe|\\x12}=*\\x1b4\\xb0\\xc4\\xf9\\xe4\\xcf\\xde\\x03\\xee\\xfaT\\xaf)\\x8fr\\xa9@\\xc3\\xa9\\r\\x9an\\xe0\\xa4\\x92\\xdb\\xf6\\x8e\\xa4\\x91P\\xc6\\xec\\xce\\xcd\\x8c\\x93\\xd0\\xfbQp\\xb0\\xff\\x002Y\\x19Ws\\x01\\xdc\\x03\\xd6\\x9eO\\xcd\\xb1;u=\\xeao.\\x04\\xb4Y\\x0c\\xce&\\xdcCFb\\xc2\\xed\\xecCg\\x93\\xed\\x8a\\xa8\\xa1\\x9f\\xe6F\\n\\xa4\\xf2\\xd8\\xc9\\xa10\\xb18\\x91\\x8b6\\xd6b\\x00\\xc6q\\xd6\\xacA9#;\\x94\\x1e\\x99\\x00\\x10+;,\\x80\\xa9lg\\xa9\\xc5=e\\xceU\\x1b9\\x18\\xe9LF\\xca]cn\\x1b\\'\\xd9\\xb6\\xe7\\xf1\\xcd+_JIU\\x93\\x01\\x8e\\\\\\x0es\\xe9\\xf5\\xac\\x90\\xc5\\x0erJ\\x8f\\xee\\xd4\\xa8W\\x00\\x80\\xc4\\xf4\\x07\\xd2\\x8b\\xbd\\x90\\xed\\xdc\\xe9\\xf4\\xef\\x15\\xeaZ`\\xdd\\x05\\xc0\\x18\\xc0\\xcc\\x88\\t\\xfag\\xae+\\xb5\\xd3~-j\\n\\xf1Gs\\x1c;7\\x00\\xee\\x83\\x93\\xf9\\xf4\\xaf&\\xf2U\\x97vr\\xde\\xe7\\x8a\\x98\\x01\\x10\\x0c\\xb8\\xe9\\x8c\\xee\\xeb\\xf4\\xa2\\xfd\\xc9q}\\x0f\\xac4o\\x10\\xd8\\xea\\xb0\\x87\\xb5\\xb9\\x8eN\\xc4+\\x82A\\xf7\\xad\\xc4p\\xc3\\x83_%\\xe8\\xfa\\xdd\\xc6\\x95*\\xdcA+FA\\xc1\\xc3\\x11\\x9es\\x83\\x8e\\xd5\\xec^\\x1e\\xf8\\xaf\\xa6_\\xb4pN$\\x85\\xf6\\xe6Id\\xc2\\xaa\\x9f\\xea)8v\\x1cd\\xfe\\xd1\\xea\\xc0\\xd2\\xd5+[\\xb4\\x9e5u!\\x94\\x8c\\x82;\\xd5\\xb1\\x82+2\\xc7\\xd1H\\x00\\x03\\x02\\x94P \\xa2\\x8a(\\x00\\xa2\\x8a(\\x00\\xa2\\x8a(\\x00\\xa2\\x8a(\\x00\\xa2\\x8a(\\x00\\xa2\\x8aL\\x0c\\xe6\\x80\\x16\\x8a(\\xa0\\x02\\x8a(\\xa0\\x0c\\xaf\\x11\\x90\\xbe\\x1e\\xd4I*\\x00\\xb5\\x94\\xe5\\x97p\\xfb\\x87\\xa8\\xef\\xf4\\xae7\\xe0\\xe1\\x7f\\xf8DX>F.\\x1c\\x052n\\xda0:\\x0f\\xe1\\x1dx\\xff\\x00\\x1a\\xec\\xbcD\\xcc\\x9e\\x1f\\xd4\\x19_c\\x0biH}\\xbb\\xb0v\\x9eq\\xde\\xb8\\xff\\x00\\x83\\xd1\\x18\\xfc#\\x92[/p\\xed\\x86\\xc7\\x03\\x81\\xd8\\x9fN\\xf8\\xfaS\\xe8.\\xa7\\xa2\\xd7\\x9bN\\xc5\\xbe9F\\xb9E\\x03L m\\\\\\xb3\\xf7\\xe7\\xd0z\\x1fj\\xf4\\x9a\\xf3\\x89\\x81\\xff\\x00\\x85\\xdf\\x16UH\\xfe\\xcdl\\x158=\\xba\\xfa\\xd0\\x86z2\\xf4\\xa5\\xa4\\x1d)i\\x00QE\\x14\\x00QE\\x14\\x00QE\\x14\\x00QE\\x14\\x00Rs\\x9aZ(\\x01\\x08\\xfch\\x00c\\xa5-&h\\x00\\xcdE,\\xa1\\x14\\x9am\\xc4\\xeb\\x12\\x92\\xcc\\x00\\xf5&\\xbc\\xc3\\xc7\\xde:\\xfb\\x18:u\\x85\\xc2\\xa4\\xcc\\x84;w\\x19\\xf4\\xfd\\x7f1U\\x18\\xb9l\\r\\xa5\\xb9/\\x8c>%\\xdb\\xe9\\x17?e\\xb6S9e9\\x91\\x0f\\x01\\xbac\\xff\\x00\\xd5^=\\x7f\\xe3]f\\xea\\xeay\\x1e\\xf0\\xed\\x99\\xb2\\xc8\\xacH\\xc7a\\xcdg_\\xcc\\xae\\x8eJ\\x02\\xc4\\xe4\\x91\\x81\\x9f\\xca\\xb1\\x8b\\x86\\xe0\\xb0F\\xed\\x8fJ\\xd5>]\\x8c\\xe4\\xb9\\xae\\x99\\xb4.\\x04\\xaa<\\xc7\\xc8n\\x80\\x1c\\x91\\xebQ^J\\x89\\x17\\x96\\xb9\\x1fS\\xc7\\xd7\\xd6\\xb2bl\\xb2\\x93\\xc8\\xcf\\xd4So$}\\xe4\\x9c\\xb1\\x07\\xa9\\x14\\xeaO\\x99\\xdd\\x91J\\x1c\\x8b\\x95\\x0f\\xbaa\\xb8\\x1598\\xce\\xect\\xfa\\x1a\\xac\\xc3$\\x11\\xceFI\\xa6I!\\x90\\xaa\\x9e@\\xe8\\xb88\\xa9\\x162\\x18\\x17\\\\\\xa8\\xec\\x1b\\x1cVf\\xc3\\x95\\xc2d+\\x1frh\\x91\\x99\\x97\\x18\\x18<\\xe7\\x03\\xad8\"\\xb9n\\x18\\x13\\xce1\\xc0\\xa8\\xe5\\x84\\x89\\x07c\\xd7\\xa5!\\xec$\\xcd\\xb4\\x05#9\\x1d\\xbaR\\xc5\\x95\\x8c\\xe5\\x88\\x1d})f@\\xaf\\xbb\\xaeG\\x19\\xa8\\xdd\\x9c\\x8d\\x8f\\x95\\xf6\"\\x9d\\x82\\xf7\\x0f?y\\xc1\\x03g\\xbf\\xf3\\xa7\\xaeI\\xf9P\\xe3\\xdb\\x1cS\\x160\\x00\\x00\\xe1\\xbd\\xfb\\np\\x00\\x0c\\xf5#\\x9cc\\xfa\\xd2\\x01\\xae\\xacG\\x19\\x19\\xe8\\t\\xcf\\xe7SD\\x9eX9\\xc1`8\\xa6\\x19\\x94\\xfc\\xbe^[\\xaeFsMV2\\xb1m\\xdc\\x0e\\x9cq@X\\x95T9n\\xbb\\xbb\\x01\\xcdJ\\x8d\\xb5\\xf1\\x96\\xf7\\xe7\\x8a\\x86\\'up\\xf1\\xeeV=\\xff\\x00\\xcfj\\x8d\\xdc\\xee\\xc7#\\xbf#\\xa5\\x01\\xb1\\xa2\\x92\\x86\\xf4 w-\\x8ai\\x907\\xb1\\xef\\x83\\x9c\\xd5\\x15r\\xa0\\x1d\\xdc\\xf6\\xf6\\xa7\\x89\\x8f\\x1b\\xb9\\xfeT\\xc4\\xd9k\\xccu\\xf9r\\xc3\\x1e\\x9c\\nzH\\xf1\\xba\\xb6\\t>\\xb9\\xe4U\\\\\\xfc\\xc3\\x81\\xd3\\xf2\\xa74\\xaf\\x8c\\xe3 \\x8ep:\\xd3D\\xc8\\xf4\\xcf\\x08|@\\xd44\\xfb\\xa8\"\\xba\\xb9/h\\xa0+\\x03\\x96\\xc0\\x1f\\xddQ\\xdf\\xeb^\\xff\\x00\\xa7_\\xc7w\\x02K\\x1b\\x87V\\x00\\x82+\\xe3\\xd8\\'\\x19\\xf9F\\xdc\\x0e\\xb5\\xed_\\x07\\xb5\\xc1-\\xa5\\xc5\\x8c\\xd7\\x12\\x19\\x11\\xc3\"\\xb6q\\x82;Q$\\x9a\\xb8\\xa2\\xdd\\xed\\xd0\\xf6\\x90sN\\xaa\\xf1\\xbe\\xe5\\x07<\\n\\x9c\\x1a\\xc8\\xd0Z(\\xa2\\x80\\n(\\xa2\\x80\\n(\\xa2\\x80\\n(\\xa2\\x80\\n(\\xa2\\x80\\x1a\\x88\\x10\\x10\\t9$\\xf2sN\\xa2\\x8a\\x00(\\xa2\\x8a\\x00(\\xa2\\x90\\x82A\\xf5\\xa0\\x0c\\x8f\\x13\\xb9O\\r\\xeam\\x901k)\\xcf\\x99\\xb3\\xf8\\x0f\\xf1v\\xfa\\xd7%\\xf0\\x81\\x0c~\\x12\\xc9\\x8e4\\rp\\xec\\xbb\\x00\\xf9\\x87\\x1c\\x9c\\x1c\\x93\\xdb\\x9c\\x1e+\\xa8\\xf1Ad\\xf0\\xc6\\xa8Y\\x90b\\xd6\\\\\\x17}\\x8b\\xf7\\x0fV\\xed\\xf5\\xae_\\xe1\\x02c\\xc2\\x01\\xcbFw\\xdcH\\xdf#d\\xf6\\x1f7\\'\\x07\\x8f\\xe5\\xebO\\xa0\\xba\\x9e\\x8b^k)\\x07\\xe3\\x9a\\x80\\x0eWO\\xe7\\xe6\\xf6\\xeb\\x8e\\xd5\\xe9U\\xe6\\xee\\xfb\\xbe8\\x14\\xf3\\t\\x0b\\xa6\\xfd\\xdc\\xe7\\x03\\x8e=\\xbdh@\\xcfG\\x1d)i\\x07AKHaE\\x14P\\x01E\\x14P\\x01E\\x14P\\x01E\\x14P\\x01E\\x14P\\x01Mb\\x00\\xa0\\x9c\\n\\xcc\\xd55{m6\\xdd\\xa5\\xb9\\x95cA\\xdc\\xf7\\xa1+\\x81\\xc7\\xfcH\\xd5\\xee\\xad4\\xe1onB\\xac\\xa0\\x87b9\\x03\\xd8\\xf6\\xaf\\r\\xbcI%S#\\x96|d\\x97y3\\x9f\\xc4\\xf3^\\x9f\\xe2\\x9f\\x1fh\\xd7\\xd6\\xb2[\\xed.\\xcc\\xad\\xe5\\xb3BN\\x0f\\xb7\\xd6\\xbc\\x96\\xe2\\xf8\\x9d\\xc0\\x1d\\xdc\\xf1\\xc0\\xe3\\xf4\\xae\\xd8\\xd9S\\xb4\\xb4g,\\xb9\\x9dNh\\xea\\x8a\\x17LF\\xd6R\\xa4\\x11\\x8c/\\x18\\xfc\\x05eJ\\xc7\\x7f g=M^\\x92b2\\x9b\\x01<\\xe7v*\\xa9\\xf2d\\x951\\x9e\\x0f u\\xac\\x1e\\xe6\\xc9\\x11,\\xa3\\x18<\\xbes\\x81S\\xc8\\xaf\\'2.\\xd3\\xfa\\xd4\\x05I$\\x9c\\xa8\\';s\\xd6\\xb5-a\\x89\\xadC(\\x0b\\x8c\\xf2\\x0fz\\x96RI\\xecg\\xaa09\\x1c\\x8e\\xd8\\x15,j\\x0b\\x90I\\\\\\x8e\\x0695]\\xe519Q\\x83\\xfa\\xe6\\xac+\\x1f/s0\\x07\\xb6\\x0fAKb\\xadrk<\\x00\\xd89#\\x93\\x91K*\\xac\\xb2d\\x15\\x00\\x8e\\xde\\xb5TL\\xb0\\xba\\xbe\\xe3\\xcfa\\xcd]\\xb5u\\x95\\x989G|\\xe4\\xf3C\\x05\\xd8\\xabs\\xe5\\xc6\\x001\\x9c\\xe3\\x9c\\xf4\\xaa\\xea\\x03\\x12\\x0eC\\x0f^\\xd5z\\xf0\\xb3\\xcaU\\x14`\\xf5$t\\xfaTqc\\xee\\xa8\\xe7\\xb9\\x07\\xf9\\xe6\\x8b\\x86\\xc4\\x04\\x01\\x1f\\xcaT\\x009%\\xba\\x9fj\\x8d\\x88\\n:\\x0ct\\xc8\\xa7\\x84\\xdf(?\\xc2y\\x19\\xefL\\x94\\xb3\\x1d\\xbcc\\xdcg\\x1f\\x8d\\x01k\\r\\x192\\x10\\xc0\\x0c\\x9eNy\\xa6\\xfd\\xc2W98\\xfc\\x05J\\xc8\\xb1\\x80\\xb8\\x07\\xe9\\xde\\x99\\xb1\\xb2\\\\\\xf1\\x9f|S\\xf5\\x06\\xba\\x8fWe\\xc6\\xd69=\\x81\\xa6\\xb33(gl/L\\x01HT\\x96\\xe0\\x11\\x9e\\x9c\\xf3Me\\xc0\\n3\\x9e\\xb4\\x00\\x80n`pG\\xa6iK\\x84|d\\xe0\\xd2\\xa0`\\xad\\xf3\\x0e\\xb9\\x03<\\xd2yy\\x04\\xb8#<\\x82{\\xd1qZ\\xfb\\x8fY\\x068\\x1c\\xe3\\x83\\xd2\\xa4\\x8fkd\\xb0<\\x8e\\xbd*\\x10\\x80\\xe1\\xb3\\xc7\\\\u\\xa9\\xc8!F\\x06\\t\\x19\\xe0\\xe7\\x14\\\\V\\'\\x84\\x05P\\x15\\xc7\\x1cu\\xc7?\\xd6\\xb5t\\xbdB}:\\xfe+\\xbbi\\x1a9ao\\x95\\x82\\x8e=k\\x1a?\\xb8\\x06z\\xf3\\xd2\\xa6\\x81C\\x93\\xe5\\xb6\\xe2\\x0erj\\x93\\x13G\\xd5\\x9e\\x13\\xf1\\x0c\\x1a\\xee\\x93\\x15\\xc4`\\xe4\\xf0\\xca\\xd8\\xceGZ\\xea\\xa3m\\xca;{W\\xcc>\\t\\xf1T\\xfa\\x06\\xaa\\xa5\\xa5&\\xd5\\xc8\\x12\\xa0\\x03\\x00w=z\\xfb\\xf3_H\\xe9\\xf7isl\\x92F\\xe1\\x91\\x94\\x10\\xc0\\xe75\\x9c\\xa3b\\xa3+\\xe8h})i\\xa2\\x96\\xa4b\\xd1E\\x14\\x00QE\\x14\\x00QE\\x14\\x00QE\\x14\\x00QE\\x14\\x00QE\\x14\\x00QE\\x14\\x01\\x85\\xe3\\x17D\\xf0\\x96\\xac\\xcf#F\\xa2\\xd2\\\\\\xb2\\xa0r>S\\xfc\\'\\x83\\xf45\\xcc\\xfc \\xff\\x00\\x912<\\xaa\\xa9\\xf3\\xdf;OS\\xc7\\xf9\\xe2\\xbao\\x17\\xef\\x1e\\x14\\xd5\\x8cbM\\xe2\\xd2\\\\ym\\xb5\\xbe\\xe9\\xe8{W7\\xf0\\x856x\"\\xdf\\xf7awK!\\x07?{\\x9cn\\xfd?J}\\x05\\xd4\\xf4\\x1a\\xf3v\\x12\\xff\\x00\\xc2\\xf2bw\\xf9\\x7f\\xd9\\x9cg8\\x03\\x8e\\x9d\\xba\\xd7\\xa4W\\x9a@A\\xf8\\xe7y\\x80\\xa1\\x86\\x9a3\\xc0\\x19\\xfb\\xbdq\\xcf\\xe7\\xf8P\\x81\\x9e\\x94:R\\xd2\\x0e\\x94\\xb4\\x86\\x14QE\\x00\\x14QE\\x00\\x14QE\\x00\\x14QE\\x00\\x14QH~\\xb4\\x00\\xc9[j\\x92O\\x1e\\x95\\xe1\\x7f\\x165I\\x9fQ\\x16\\x85\\xc1\\x861\\x9c/\\x1c\\x9e\\xcd\\xd3\\xf9\\x9a\\xf5\\xef\\x11^\\xcbc\\xa3\\xdd\\\\B\\x8a\\xf2$d\\xa8`H\\xcf\\xbe9\\xc5|\\xcb\\xe2\\rR\\xefQ\\xbc\\x92{\\xb9>s\\xc0\\x19<\\x0fA\\x9c\\x9a\\xd6\\x9e\\x97d\\xcfk\\x18\\xd3\\xdc\\x95\\x8f\\x1b\\xd8\\x0e\\xb9\\x03\\xadf\\xc9vr\\xc1\\x13#\\xfd\\xa1\\x9c~U$\\xac\\\\g\\x9d\\xc7\\xaeNj\\xac\\xa9)\\x06&pGQ\\x81\\xcd;\\x89\"7\\x99\\xdd\\xb1\\xb8\\xfd\\r:\\x10RQ\\x901\\xdf\\xdf\\xda\\xa2\\xfb\\x83\\x85\\nG\\xb0\\xe6\\xa4\\x82B\\xd2\\x15\\xf9\\x89\\xc6N\\xd3\\x8a\\x96RV$g\\x0cI.\\x07?t\\x7f*\\xd9\\xb3\\x04&\\x0b\\x9eW c\\xa5b\\x01\\xb5\\x89\\xc8R}z\\x8a\\x96\\x1b\\x87\\x8d\\xd4\\xf2pp\\xdcR\\xdci\\x16.\\xad\\x8cH\\xed\\x85\\nNO\\xca3\\xf8zR\\xc0VH\\n\\xb4\\x98\\xc7#8\\xc9\\x14\\xc9\\xa6\\x0c\\xecFJ\\xfb\\x1c\\n\\x8aBS\\x04+\\x0e8\\x04\\xff\\x00\\x9c\\xd2L\\x1a \\x94d`\\r\\xc0s\\x91\\xce*\\xce\\x9d\\xf2Hy\\xd8\\x98\\xce[\\xbf\\xb5W|\\x89\\x06\\xe3\\xf3zc S\\xe3p\\xac3\\xb8\\x02q\\xf2\\xf0sL,hJB\\xa1\\x97%\\x89=3\\xf3~\\x15I\\xd9U\\xd9\\x18\\xaa\\x8c\\x0e\\x07\\xf5\\xab\\x1a\\x8b$W\\x01\\x11\\xcb\\x00\\x01\\xe9\\x8a\\xad{-\\xb4\\xd2\\xc4\\xd0+\\xac\\x9eX\\x12\\x96m\\xd9|\\xf2G\\x1c\\x0e\\x98\\x14\\xb6\\x19 \\x8dv\\xe53\\xe6c\\x9c\\x8f\\xd6\\x9a\\xb6\\xe1P\\xb1n\\x9c\\x9e:\\xd5\\xdd2\\xc9\\xe6]\\xc0\\xe1{\\xe7\\x15%\\xe4JdKd%\\x98\\x1e[\\xfch\\x0328\\x9a_\\x99\\x8f\\xca?AL\\x97\\x0c\\xdf\\xbb\\xfb\\x83\\xee\\xf7&\\xae\\xdf\\x98\\xa1\\x88\\xc2\\x8d\\x9c\\x8e\\xa1\\x87\\'\\xe9\\xda\\xb3\\xd3\\x997\\x05\\x08\\x00\\x19\\xda:~t\\xc0zF\\xe4\\x1c\\xb1\\x14\\xa5V5\\x18\\xfc\\x08\\xf5\\xab\\xb0A\\x0cv\\xcd$\\x85\\x95\\xbb\\x02?\\xa0\\xa8\\x0f\\xccC0\\xcav\\xf6\\x1e\\xbfZ\\x18\\x15\\n\\x99\\x1f\\xe6\\xe3\\'\\x1f.i70\\xf9y\\xc8\\x1d1R\\xbc\\x8a\\x14.\\x18\\x00zz\\xd4d\\xa60\\x08\\xe4\\x03\\xc7jh\\x91\\xf1\\xa7\\x04\\x9eOSNY\\x10\\xb6\\x18\\xed\\x18\\xc0\\xc7\"\\xa0\\xdc\\xf8b\\x180\\xe8sOYF\\xd06\\xb6{`\\xf7\\xf5\\xa0\\x17q\\xb2\\xa4\\x81~\\xf1oN\\xf9\\xa7\\xdb\\xdc:\\x1c7\\x00\\xfa\\x0eh\\x8c\\x85\\x19^s\\xd4\\x1fZ\\x98D8f^G\\'\\x9a\\x10\\x8b\\x91]#\\x13\\x8e>\\xa0\\x11\\xfa\\xd7\\xd0\\xdf\\r<W\\x0e\\xad\\xa4Cd\\xcc\\x9fj\\xb7@\\xac\\xa9\\xc0+\\xd8\\xe3\\xfc8\\xaf\\x9b\\\\\\xa9\\x93<\\xa9\\xf6\\x1c\\x1a\\xed\\xbe\\x1b\\xdc\\x98|_\\xa7\\xec\\x99\\x17{\\x15l\\x9cdc\\xa0\\xeej\\x9a\\xba&\\xed3\\xeaX\\xdb**J\\xa9j\\xf9\\x8cs\\xda\\xad}+\\x13Q\\xd4R\\x03K@\\x82\\x8a(\\xa0\\x02\\x8a(\\xa0\\x02\\x8a(\\xa0\\x02\\x8a(\\xa0\\x02\\x8a(\\xa0\\x02\\x8a(\\xa0\\x0c\\x0f\\x18\\xb2\\xaf\\x84ur\\xdb\\xf1\\xf6Is\\xb4\\xe0\\xfd\\xd3\\xd0\\xf6\\xaeo\\xe1\\x02\\xa2\\xf8*\\x12\\x81\\x013H[d{y\\xcf\\x7fS\\xef\\xf4\\xae\\x83\\xc6\\xea[\\xc1\\xba\\xc8\\nX\\x9b9xPI?)\\xac\\x0f\\x84E\\xcf\\x83\"\\xde\\xe1\\x80\\x9e@\\xb8b@\\\\\\x8c\\x01\\xfe\\x14\\xfa\\x07S\\xd0\\xab\\xcd\\xed\\xdbw\\xc7\\x1b\\xb0\\xees\\x1e\\x9d\\x84]\\xa4\\xe4\\x1d\\xa4\\xf3\\xda\\xbd\"\\xbc\\xd2\\x16\\x1f\\xf0\\xbd.\\x82\\xee\\x07\\xfb4\\x07\\xcb\\x823\\xf2\\xe3\\x00r8\\xf5\\xa1\\x01\\xe9c\\xa5\\x14\\x83\\xa5- \\n(\\xa2\\x80\\x0c\\xd1E\\x14\\x00QE\\x14\\x00QE\\x14\\x00S$8\\\\\\x8a}E/\\xdd4\\x01\\xe7\\x1f\\x12\\xfcC\\x15\\x96\\x87-\\xaa\\xc8\\x04\\xf3\\x80\\x00\\x0f\\xce3\\xcf\\x03\\x91\\xfaW\\xcf7RI+\\xa9/\\xf8\\xf3\\x9a\\xf4\\xef\\x8a\\xb0]\\x1f\\x123\\xc8\\xa5\\xa3(\\x04D\\xb2\\x90\\x07\\xb0\\xed\\xf8\\xd7\\x96\\xb8x\\xc9\\x05\\xf0\\xa0\\xf3\\xd7\\x9a\\xda\\xd6H\\x8b\\xb6\\xc6\\x88\\xf2\\xf9\\xc0`\\x0f$\\x11Q\\xcb\\x1e\\xd7\\'\\xe5\\x00t\\xe7\\xad+I\\xb5s\\x8e3\\xc1\\xf4\\xa8\\x98&\\x1c;\\x1c\\x91\\x9ex5#\\xdc\\xac\\xe8\\xaar\\xd8bOOJX\\x82o\\\\.3\\x9e\\xb57\\x96A\\xf9\\x0e\\x07f<S\\xd62\\x06vo\\xc7\\xbe\\x05\\x03#d\\xda\\xaa\\x01\\xe0\\x1e\\xf9\\xa6\\x92\\x15\\x89e\\x18<`t\\xa9dRP\\x0e\\x15A\\xc8\\x03\\xb5E\\xe5\\x05\\x05\\xf3\\xb8\\x9fzE\\x11\\x0f1\\x99\\x88%\\x00\\xab!\\xccjr\\x01\\xc0\\xcf?\\xcf\\x8a`\\xdaIS\\xf7\\xbb\\x8fA\\xf5\\xa6\\r\\xa0\\xb0h\\x83\\x06\\xfb\\xa0\\xe4c\\xdf\\x83@\\xc7\\x16\\xdc\\xcaH\\xe3\\xf8\\x9cu\\x1fJ\\x9a\\x18H\\x85\\xa7\\r\\x10Tp0\\xd2\\r\\xed\\x9e\\xe1}=\\xea1\\x0by\\x84\\x11\\x92=\\xf0\\x16\\x95\\x913\\xc8b{g\\xbd&\\x16&\\xb9\\x1e|\\xa5\\xf2\\xb8\\xeb\\x93\\xdf\\xf0\\xaa\\xca\\xa6=\\xac\\xca@=*\\xc3\\xa9\\x99s\\x92\\xd8\\xc7\\\\u\\xa6\\x94\\xc9\\xe4\\xa9\\x1d\\xcf<P\\x98X\\xd3\\xb6\\xbdX\\xf3\\xe5\\x16\\xce\\x00\\xc0\\xc6G\\xf4\\xaa\\xaf7\\x98\\xden\\x7f\\x1a\\xad\\x19\\x04\\xec\\xdb\\x81\\xee9?Z\\x90FI\\xdar\\x08\\xce\\xe29\\xc7\\xa0\\xfa\\xd2\\x1d\\x8a\\x933<\\xc4\\x80\\xc7\\xb1\\xf6\\x15*\\xa6\\xdd\\xe9\\x13\\x06\\x0c:\\x0e\\xfe\\xd4\\xe7B>UC\\xd3\\x9af\\n\\x126\\x80\\x1b\\x1c\\xff\\x00\\xf5\\xe9\\x85\\xba\\x97\\x10y\\x8a\\xa1\\xd2L\\x0e\\x01\\x00c\\x1d\\xea\\t\\x88\\x03\\xa9\\n\\x07\\x00c\\x07\\xf0\\xa5\\xf3\\xd9#eF \\xf7\\xc1\\xc5We\\xc9\\xcbr\\x08\\xcf\\'4\"lDO9\\xeaGL\\xf7\\xa5\\x8dw6\\n\\xe5\\x88\\xe0\\x0e\\xe6\\xa7\\x8a1 \\xc9<rO\\xff\\x00\\xaa\\x91\\x88b\\xc6?\\x94\\x01\\x8e\\x0e9\\xefLCv\\x15\\xfe\\x12\\xbc\\xf4\\'\\x1f\\xa5\\x18\\\\\\xee\\xc8\\xe3\\x81\\xb4g\\x15\\x16\\xf9\\x82c\\'8\\xc6}\\xa9\\xfeN\\x15yo^\\x94\\xd0\\x86e22\\x08\\xdb\\xcf\\x1djUwO\\x97\\xcc+\\xb4\\xf2\\x03\\n\\x85\\xce\\xc5<q\\xed\\xfc\\xea\\x14\\x04bC\\xd3\\xb7\\xbd1\\x17L\\xbb\\x03\\x94\\xc6O\\xa9\\xedW\\xb4\\xdb\\xd9-\\xae\\xa2\\xb8\\x80\\x98\\xe5\\x8c\\x86V\\x1d\\x8dfFD\\xb9$\\x00\\xe7\\xd4\\xd5\\x9bo\\x92@\\x08\\xe3\\xbf\\x1cU\"$\\xae}Q\\xe0O\\x11\\xa6\\xbf\\xa2\\xc38-\\xe6\\xa8\\x0b(b3\\xbb\\xbdvjx\\xaf\\x15\\xf8\"\\xf1\\xfd\\x8fR@\\xd9\\x90L\\x87\\xef\\x13\\x85\\xc7`z\\x0e\\xb5\\xed\\x11\\xf2\\x05c-\\xcdb\\xee\\x89\\x05-%(\\xa4\\x02\\xd1E\\x14\\x00QE\\x14\\x00QE\\x14\\x00QE\\x14\\x00QE\\x14\\x00Ph\\xa44\\x01\\xcdx\\xf4\\xe3\\xc1:\\xces\\x8f\\xb28\\xe0d\\xf4\\xfa\\x8f\\xe7Y\\x1f\\t\\x8b\\x1f\\x04\\xdbn9\\xfd\\xec\\x98\\x18#\\x1f7Nk[\\xc7\\xac\\x17\\xc1z\\xc1`\\x08\\xfb3u\\xce?\\x98\\xfeu\\x99\\xf0\\xa7p\\xf0=\\x98}\\x83\\x0c\\xe0\\x04\\xc7M\\xc7\\xae;\\xfa\\xe7\\x9a}\\x03\\xa9\\xddv\\xaf4\\x81\\xbf\\xe2\\xf9_nV\\xe3NP\\xa40#\\xf8s\\x91\\xdb\\xd0W\\xa5\\xd7\\x9a\\xd9m?\\x1b\\xb5R\\x1b\\r\\xfd\\x9e\\x99\\x18\\xeb\\xf7\\x7f<~4 =(t\\xa2\\x90t\\xa0(\\x0c[\\x9c\\x9fz@-\\x14Q@\\x05\\x14Q@\\x05\\x14Q@\\x05\\x14Q@\\tQN\\xc0FjST\\xef\\x9c\\xa5\\xb3\\xb2\\x82X\\x02@\\x1d\\xe8\\x1a<;\\xe2\\xad\\xd2O\\xac\\xa4J\\xdf2.\\x08\\xc9\\xc1\\xff\\x00\\n\\xf2\\xab\\x81\\xbd\\xd5\\x01#\\x9f\\xae\\x7f\\x13]\\x07\\x89/\\xaf$\\xd5.\\x8d\\xd6<\\xd6rX\\xe3\\x07\\xe8F\\x01\\xaerR\\xc1c&T\\xe78\\\\t\\xfa\\xd6\\xcc\\xcc\\x82O\\x9c8\\x12\\x15 v\\x1c\\xd4inW\\x0cw`\\xf22x#\\xda\\x91\\xa4!\\xc0$\\xb7C\\xd0qK\\x12n\\x93\\x0c\\xc4\\xa8=\\xd8\\x91RR,\\xc4\\xd1\\x08\\x88\\x18V\\xef\\xbf\\x19\\xfc\\xa9Q\\x86;\\x91\\xf4\\xa4\\x96\\x0f-I\\xc2.FG\\xca\\x0eibh\\xc8\\x19]\\xed\\xce\\x06:\\xd2cB\\xec%y={n\\xa5\\x8d\\x126\\xe43w\\xc8lb\\x86r\\xab\\x87\\xf9y\\xc7\\x00g\\xf5\\xa8\\xa3.\\x10\\xe4\\x15\\x8c\\x1eX\\x82\\x7f\\nL\\xa4\\x88\\xa6\\x80\\xb4\\xef\\xe4\\xef=\\xd5\\x8a\\xf2\\x7f*\\x8e!\\x80\\xc3\\xcb,\\xf9\\xeaI\\xf9kJ \\\\(\\x08\\x00\\xe7\\xe5\\x1d\\xff\\x00>\\xff\\x00Jx\\xb2\\x05wm\\x1f0\\xe1i\\\\\\xa5\\x16R\\x89\\x19\\xc9\\x03\\n3\\xf3g\\xa6}\\xea\\xdb\\xda\\xab!#\\x18^\\x8d\\xbb\\xe5?J\\xb5\\x16\\x97y#\\x00\\xb6\\xd2\\x94^p\\x80\\x9c{\\xe0WC\\xa7xr\\xe2Td\\x96)8$\\xfd\\xc6\\x19\\x1f\\\\VS\\x9aF\\x91\\x85\\xceB\\x0bC*1NH=1\\x8c\\x0fL\\xd2\\xb5\\xa4\\x83p\\xdaI>\\xa3\\xadw\\x96\\xbe\\x1e\\x9a\\xdb\\x8d\\x87\\x19\\xe01\\xc8\\xfdj{\\xfd\\x11\\xfc\\xbd\\xe4e\\xb1\\xc2\\xe7\\x8f\\xce\\xb3U.h\\xe9\\x9eo,RoL\\x02\\x8d\\x8d\\xa7\\x8e\\x86\\xa4\\x8a\\xd0\\x12\\x06\\x08\\x19\\xe0n\\xc9\\'\\xe9[\\xd7:<\\x9b\\x80X\\x98\\x83\\xc9\\xc7\\'\\xff\\x00\\xd5Wl\\xf4Y\\\\\\xf3\\x18\\xe0d\\xe0\\x9e\\x9f\\x875n\\xa6\\x84\\xfb3\\x99\\x9a\\xcbfIf\\xda8\\'uV{v\\x0cxS\\x8fA]\\xc4\\xbe\\x1b\\xb8}\\xad\\x83\\x87\\xe7\\x01z\\xfe\\x1d\\xbf\\x1a\\x89|#w(m\\xa2U\\xe7\\x81\\xe5\\xe0\\xfd\\t<T\\xfbD\\xb7\\x1f\\xb3g\\n\\xd1\\x1c\\xe4\\xe4)\\xed\\x8aD\\x88\\x93\\xb9\\xb8\\x03\\xa0+\\xd7\\xdf5\\xe8K\\xe1\\t\\x82\\x90m\\xd8\\x93\\xd5\\x9dG#\\x15\\x9fy\\xa0H\\x83>I\\x18\\xecy\\x03\\xdf&\\x9f\\xb6H=\\x91\\xc6J\\xc4|\\xa3 \\x01\\x92sM\\x08\\x08\\x0e\\xa7 \\x1e\\x00\\xad\\xcb\\xbd6HW/\\x8c\\x13\\x92A\\x07<u\\xac\\xb3\\x19VV\\xdav\\x83\\xdc\\x7fJ\\xda\\x13\\xbe\\xc63\\x87)\\x16B\\xa9;FI\\xef\\xd6\\xa1i\\xb7\\xaf=:(\\xcfCS\\xc8\\xab\\xb8\\xaaq\\xbb\\xf2\\xc5A*\\xb8\\\\m\\xc8\\x1d\\xc9\\xebZ#\\'r,\\x8c\\x00y\\x1e\\xbf\\xe7\\xad:`D\\x85Il\\x03\\x85\\x19\\xedG\\x96e\\xe5\\x81\\xe3\\xd2\\xa4g|\\x9c\\x05\\xc9=\\x97\\xa51\\x11\\x02G#\\x82*\\xd4lH\\x07\\xef\\x11\\x8fz\\xac\\xea\\xc4\\xb1?\\xde\\xe7\\x1dic<\\x1c\\xe4\\x1f\\\\\\xd3D\\xb5s\\xd3\\xbe\\x13j\\xcbe\\xe2\\x8f%\\xddU\\'\\x8fn\\xee\\x83#\\x91\\x9f_\\xad}!n\\xd9A\\xcd|\\x81\\xe1;\\x99,\\xfcEa2\\x96\\xf9gBp\\x06q\\x9a\\xfa\\xea\\xcd\\xb7F:TOq\\xc3b\\xeeiE4\\x1auAB\\xd1IK@\\x05\\x14Q@\\x05\\x14Q@\\x05\\x14Q@\\x05\\x1d\\xa8\\xa2\\x80\\x0e\\x94QI@\\x1c\\xd7\\x8e\\xc9\\xff\\x00\\x84;V\\xc6\\xfc\\xfd\\x99\\x88\\xf2\\xc8\\xdd\\x9e:g\\x8a\\xc9\\xf8NP\\xf8\\x1a\\xc8*\\xaa\\xe1\\xa4\\x07n\\x0eN\\xe3\\xce@\\x1c\\xfdy\\xadO\\x1f>\\xcf\\x05\\xea\\xec\\x02\\xe4[623\\x83\\x91\\x83Y?\\t\\x80\\xff\\x00\\x84&\\xdb\\x1f\\xf3\\xd6^\\xf9\\xe7y\\xeb\\xc0\\xe6\\x9f@\\xeaw\\xc7\\xa5y\\xbe\\x9e1\\xf1\\x9fU\\xe5H6(~^\\x7f\\xba98\\xe0\\xfbs^\\x91^m\\xa7\\xf1\\xf1\\x9fV<\\x9f\\xf4%\\xe1z\\x01\\xf2}\\xee:\\xfe&\\x84\\x07\\xa4\\x8e\\x94P:QH\\x02\\x8a(\\xa0\\x02\\x8a(\\xa0\\x02\\x8a(\\xa0\\x02\\x8a(\\xa0\\x04&\\xa8\\xea[\\xc5\\x9c\\xa5\\x00\\xdc\\x10\\x91\\x93\\xdf\\x15~\\xaa_G\\xe7ZH\\x85\\x03\\xeeR6\\x93\\x80x\\xe8M\\x00|\\x93\\xab\\te\\xbf\\x96IFY\\xd8\\xb30\\x18\\xdd\\xcf^y\\xacK\\xa0\\xc0\\xeeUP\\x83\\xbe+\\xd0~ hRi\\x9a\\xb4\\xcc\\xd1\\xaa\\xc5),\\x8a\\t;G\\xf7I\\xc6\\x0f~\\x95\\xe7\\xd2\\x10\\x8a\\xf9\\xc9V\\xc9\\n\\xbc\\x8c\\xf6\\xcf\\xb7\\xbdt5\\xd4\\xc92\\xa1gh\\xbebH\\xcf\\x1f7\\x02\\xae[\\x04eO1\\x8b\\x10r\\xb9q\\xc1\\xaa\\x98%B\\xb6\\xe0\\x0f<`T\\xfb\\xb1\\xc3\\x17\\xc7j\\x86h\\xb5-\\xdd\\x11\\xbc\\xa0)\\x81\\xd7=\\xbe\\x9c\\xd4\"G\\xc0\\x1b\\x8e\\x0f (<\\xff\\x00\\x855\\x81 aH\\x18\\xcf\\x18\\xabV\\xd6\\xe1\\xd5X\\xb6\\t\\xec\\x9f\\xfdz\\x86\\xd1I\\\\\\xaf\\xe5\\xb3\\x00DM\\xc1\\xceXc\\x15\\xa1i\\xa4\\xcbs\\xb5\\x93.z`\\x02@>\\x9e\\xf5\\xaf\\xa4\\xe8\\x8du\"\\x96F\\x03<\\x16\\xe7uz^\\x8d\\xa0\\xc3m\\x1aap\\x00\\xe7\\'\\x8c\\xfbW<\\xea\\xf4\\x89\\xd3\\x1a}\\xce/O\\xf0U\\xc4\\xb1~\\xf0\\xb6\\xd7\\xff\\x00g\\x18\\xfab\\xba\\xbd7\\xc1\\x91[\\xa8\\x0cY\\xc0\\xe4dr?\\xfdU\\xd6\\xc3j\\x880\\xaa*\\xf4Q\\xf09\\xe2\\xb3\\xbbf\\xca&$:\\x1d\\xb2\\x8f\\x9a%o\\xa8\\xab\\xc9\\xa7\\xa2\\x01\\xfb\\xa01\\xc0\\xe3\\xa5j\\x88\\xfd\\xb1\\xf8R\\x88\\xb1\\x8e?!H\\xab\\x19/\\xa6G\\'$c\\xf1\\xa8\\x1fGB\\xa5pH=kxD;~\\x94\\x18\\xd7\\xb7\\xf2\\xa6\\x07,|3\\x19r\\xca\\x81I\\xf5\\xc9\\xab\\x96\\xfa\\x1c6\\xea\\x00\\xfcI\\xef[\\xdb3\\xd3\\xf4\\xefHS\\xd6\\x92\\x0b#/\\xec1\\xe4|\\xa3\\xd3\\xd6\\x86\\xb1\\x8f?p\\x13\\xf4\\xad\\x12\\xb8\\xe3\\xa5!N\\x0e\\x7f,\\xd0\\x16Fc\\xd8\\xc7\\xdds\\xf5\\xaa\\xb3\\xe9\\x91H\\xa5J\\xe7\\xdb\\x18\\xad\\xb2\\x98\\xc9\\xc9\\x15\\x13F\\t=i\\xdb\\xa0X\\xe25/\\t\\xdb\\xdc\\x02r\\xde\\xe0\\xf3\\\\~\\xab\\xe0\\xd6\\xb7\\x01\\xe3\\x00\\x0ez\\x02\\x7f\\xc7\\x15\\xeb\\xd2\\xc5\\x91\\xd3\\x8a\\xa3=\\xba:\\x90\\xc3\\x8fr)j\\xb6\\t+\\xeex\\r\\xf6\\x99<\\x1b\\xa4`\\n\\xfa\\x01\\x8cVT\\x85\\x99\\xf0{/\\x18<W\\xb7\\xea\\xba,R\\x8c\\xa8\\x1f\\xf7\\xcfZ\\xf3\\xcdcBHY\\xa4X\\x8a\\x03\\x92Xt?\\x98\\xce}\\xabZu]\\xec\\xcc*RV\\xba91 \\x8f\\x04\\x9e\\xdd\\x08\\x075+^8\\x8cr\\x81O\\xfb=i\\xb2X\\xb1\\xc8Q\\xef\\x8e\\x99\\x15ZX\\x8c\\x7f,\\x80\\x91\\xd8WB\\xd4\\xe5w[\\x8cir\\xc0\\x82y>\\xb4\\xe5\\xc8\\xfc:\\xd0\\xa8\\xaa\\x9cu\\x14)U\\xc69\\x04u>\\xb5\\xa2!\\x9a\\xda4\\xa2-F\\x07\\xe0\\xb2\\xba\\x95\\x05\\x8a\\xf3\\x9e9\\x1d>\\xb5\\xf5\\xd6\\x8f3Me\\x13\\xb62\\xca\\t\\xdb\\xd3\\xf0\\xaf\\x8f\\xec]\\x84\\xca\\xe0t\\xe4c\\xda\\xbe\\xa4\\xf0\\x05\\xec\\x97\\xde\\x12\\xd3\\xae$\\x12\\x06h\\xb9\\xf3\\x17\\x07\\x8e?\\x11\\xe8{\\xd4\\xccP\\xdc\\xecA\\xa7SA\\xc8\\xa7v\\xac\\xcb\\x16\\x8aJZ\\x00(\\xa2\\x8a\\x00))h\\xa0\\x02\\x8a(\\xa0\\x02\\x8e\\xf4RP\\x01KE\\'j\\x00\\xe6<}!\\x8f\\xc1Z\\xbb\\xab\\xaa\\x9f\\xb2\\xb8\\x05\\xa4\\xd89\\xe3\\xaf\\xaf\\xf3<Vw\\xc2\\xd9\\x1aO\\x05Y\\xfe\\xf0H\\x15\\xa4U c\\x001\\xe3\\xa0\\xe9\\xf8\\xf3\\xde\\xae\\xfcB\\xff\\x00\\x91\\x1fW\\xff\\x00\\xafs\\xd9I\\xea:n\\xe3\\xfc\\xfa\\xd5_\\x86/\\xe6x*\\xc1\\x84\\x9b\\xf8q\\xeb\\xb7\\xe6?.rs\\x8f\\xf2\\x05>\\x81\\xd4\\xed\\x8fJ\\xf3}<\\xbb\\xfcf\\xd5\\x87\\x04%\\x92\\x8c\\x80\\x06>\\xef\\\\\\x0e{\\xf5\\xafH=\\ry\\xb6\\x9a\\xc6_\\x8c\\xfa\\xb0gc\\xe5\\xd9 \\x038\\x03\\xee\\xfb\\xff\\x00\\x87Z\\x10\\x1e\\x90:R\\xd0:QH\\x02\\x8a(\\xa0\\x02\\x8a(\\xa0\\x02\\x8a(\\xa0\\x02\\x8a(\\xa0\\x02\\xab^.\\xfbYWg\\x99\\x94?&q\\xbb\\x8e\\x99\\xab5\\x15\\xc4k4/\\x19\\xc8\\x0c0H8?\\xa5\\x00y?\\xc5\\xbbx\\x7f\\xe1\\x13\\x82R\\xa29\\x04\\xa8\\xab\\xbb\\x96\\xc1\\xfe\\x1c\\xfe\\x1f\\xa5x,\\xa9.\\x19\\xc27\\x97\\x9c\\x12\\x06@\\xfck\\xe9_\\x89\\xbax\\x9b\\xc1\\x17\\x99v\\x06\\x04\\x0e\\xbc\\x93\\xb8\\x8e\\xc4\\xd7\\xcdW\\x05\\xc0x\\xc1!O%w\\xfc\\xa7\\xf0\\xe9\\x9a\\xd6/B\\x1a\\xd4\\xcd\\x90\\xe0\\xb8\\xe8i\\xc0\\xbb\\x88\\xf0I|q\\x83I\"\\xb1\\xe88\\xce\\x06)\\xf2\\xc5\\xe5lb\\xa5A\\x1c\\x13\\xdc\\xf7\\xa1\\x94\\xbc\\xcb\\x96\\xc3.\\x8c\\xed\\xb8c=x\\x1f\\xe1\\xf4\\xae\\x83LD\\xb9\\xba\\x188\\x03\\x18\\xe3\\x04\\xfa\\xe7\\xd3\\xeb\\\\\\xb42\\xbf\\x986\\xe7\\x8fC\\x81]\\xcf\\x83\\xf4\\xd1<\\xaa\\xec\\x82NrC\\x10q\\xf9\\xf4\\xac*\\xfc&\\xd4\\xbe#\\xbc\\xd0\\xf4\\xb5@\\xaey\\r\\xd2\\xba\\xb8\\xe3\\x0b\\xdb\\x06\\xab\\xd9\\xc4\\xa9\\x1a\\xe0v\\xc0\\xab\\xa89\\x1c\\x8c}+\\x9bc\\xb1jI\\x18\\xeaA\\xe2\\xadF2zT\\x08\\x06\\x0epMYN\\xb4\"\\x89\\x94p3N\\x0b\\xc7Jj\\xe4\\x0c\\xff\\x00:Pzg\\xf4\\x14\\xc4.\\xde\\x0f\\xafzLq\\xd6\\x94R\\x91\\xf5\\xa0\\x04#\\x9e?\\x9d1\\x87\\xa5?\\xbfzN\\xbe\\xbfZ\\x00\\x8b\\x1c\\x81F\\xdc\\x82\\x0f\\xad<\\x8e\\x87\\x8a\\x07^)X\\x06\\x15\\xebQ0\\xe7\\x04U\\x87;T\\x9e\\xd5\\x13\\x1e\\xfc\\xf3L\\n\\xae\\x99\\xf7\\xfaUIS \\xfb\\xfaU\\xe7\\x19\\xcf\\xa7\\xbdA\"\\xe4w\\xcf\\xb0\\xa43\"x\\x81R?J\\xe65}5&\\x8c\\x96\\x1c\\x0fbH\\xae\\xc6T<\\xf1\\xfaVU\\xe4_)\\x05G\\xb8=)\\x08\\xf1\\xbdV\\xdd\\xa0\\x94\\x85\\xe4!\\xe0\\x05\\x18\\x1e\\xc2\\xb0\\xaf\\x89\\x90\\x06,7\\x1e\\xb5\\xdb\\xf8\\xa6\\xcc\\x89K\\xa8^s\\xc2\\xa8\\x07\\xf0\\xf4\\xae\\x1a|\\xaf^\\t\\xe8H\\xe6\\xba\\xa9;\\xa3\\x8e\\xaaI\\x94VI\\x15\\x88\\xc8\\xfa\\x1a\\x90\\xaeSv\\x08?\\xa57\\x19\\xc9c\\xcejM\\xc46U\\xba\\xf2+s\\x02\\xd5\\x93\\xb28\\xe7\\xff\\x00\\xad_K|&\\x94I\\xe0\\x9b3\\xf2\\x80\\x19\\xc6\\x17?\\xdf=s\\xdf\\xd6\\xbef\\x84\\x95pI\\xcfl\\xf4\\xaf\\xa3~\\r\\xb1\\xff\\x00\\x84.\\x15\\xc6\\x02\\xcd \\x07\\xd7\\xe6\\xcd)\\xecL~#\\xd4\\x17\\xd6\\x9e)\\x8b\\x9cS\\xc5fh\\x14\\xb4\\x94\\xb4\\x08JZ)(\\x01h\\xa2\\x8a\\x00(\\xa2\\x8a\\x00(\\xa2\\x8a\\x00L\\xd1E\\x07\\xd6\\x809\\x0f\\x88\\xe1\\x0f\\x81\\xb5p\\xe5\\xc2\\xf9 \\x1d\\x83\\'\\xef.8\\xa8>\\x17\\x9d\\xde\\x08\\xd3\\xce\\xf0\\xc7\\x0f\\x9cg\\x83\\xb8\\xf1\\xcdY\\xf8\\x8d)\\x8f\\xc0\\xba\\xbb\\x07(L!I\\n\\x1b\\x82\\xc0\\x1e\\x0f\\xb1\\xaa\\xdf\\x0b\\x99O\\x81\\xb4\\xe0\\xac\\x1b\\x01\\xc7\\x0b\\x8c\\x1d\\xe7\\xfc\\xe4\\xd3\\xe8\\x1dN\\xdc\\xf45\\xe6\\xfa+3|b\\xd7\\xf7\\x06`-c\\x01\\x89\\xce\\x06W\\x81\\x93\\xc7z\\xf4\\x83\\xd2\\xbc\\xd3B\\xdb\\xff\\x00\\x0b\\x9b\\xc4%W\\x04Z\\xa0b\\x1b<\\xfc\\xbdG\\xad\\x08\\x0fK\\x1d(\\xa2\\x8a@\\x14QE\\x00\\x14QE\\x00\\x14QE\\x00\\x14QE\\x00\\x14\\x84R\\xd2\\x1a\\x00\\xc2\\xf1\\x1c\\x06\\xe3D\\xbd\\x88!r\\xf0\\xb8\\n\\x06I8>\\xf5\\xf2U\\xf4F+\\x99\\x01\\x00\\xe3+\\x83_d\\xdc\\xa01\\x9c\\xd7\\xca\\x1e5\\xd3\\xc6\\x9d\\xe2\\x9b\\xfbp\\xa65\\x12\\x12\\xaaNx=:\\x13\\xfa\\xd5\\xc0S9W\\x95b\\x9189\\x1d\\xf1P\\x99\\x0c\\xaf\\x92\\xdc\\x9e\\xdd\\xcdI2*s\\x92}\\xc5D\\x81Ao\\x90\\xe0\\x0e\\x0e\\xe3\\xd6\\xa9\\x82.\\xd9&e\\n\\xc0\\x9ey\\xc1\\xafU\\xf0\\x9c1[\\xc2\\x8c6\\x8e:\\x91\\xd7\\xf1\\xeb^W\\xa7\\xb1\\x12\\xaf\\xca:\\x8c\\xf3\\x8f\\xc6\\xbdC\\xc3\\xb3\\x13\\xb1|\\xc6-\\xd7=rk\\x9e\\xa9\\xbd#\\xd1m_(=\\xea\\xe2\\x10O\\'\\xaf\\xb5g\\xda\\x02\\x10d\\xe0V\\x8a\\x1fS\\\\\\xe7Z\\xd8\\x98w\\xc1\\x1d{\\n\\x9dO9\\xcdWS\\xd7\\x9a\\x95I\\x18\\x06\\x84Q6\\xef\\xc2\\x97v1\\xfdx\\xa6\\x0ex\\xe6\\x80q\\x8a`L\\x1b\\xd6\\x8c\\xe4\\x11P\\xe7\\x19?\\xa59O\\x1c\\xf5\\xa0D\\x9f\\xaf\\xae(\\xcfOZB}\\x8f\\xe3I\\xbb=\\xe8\\x01r8\\xc7\\x14\\xdc\\xe3$\\x1a\\t\\xe3\\xdb\\xde\\xa3$\\x9c\\xf54\\x869\\x98s\\xfesL\\'\\x93Jz\\x1e\\xdfZ\\x8c\\x9cP\\xc45\\xb8\\xe0T2w\\xebR1=3\\xf5\\xa8\\x9c\\xe7>\\x9f\\x9d  \\x91x\\xc7Z\\xce\\xbbQ\\xb1\\x8f9\\xed\\x8a\\xd0c\\xc1\\x19\\xaa\\x93d\\x82T\\xfe4!3\\xcf<O\\x02c\\x92\\x01?\\xde\\x19\\'\\xe9^e\\xa8&$+\\x83\\x90x\\xe7\\x8cW\\xac\\xf8\\xaa\\x02!\\xdc\\t8?t\\x1e\\xb5\\xe57\\xc4-\\xc3\\x82\\x08l\\x9c\\xe4\\x7fJ\\xde\\x8e\\xe7=m\\x8c\\xcd\\xa4\\xb66\\xe0\\xd4\\xab\\x8c\\x10\\xdc\\xe3\\xa0\\xc5#\\xa9\\x0c\\xd8\\xe7\\xb6iA\\'\\x19$\\x9cw\\xed]H\\xe4,\\xc2>u\\x04`\\xfdk\\xe9\\x1f\\x84\\x11\\x08\\xfc\\x13lF\\xdf\\x9eY\\x1b+\\x9e~b?>+\\xe6\\xf8\\x00\\xf3\\x14\\x9c\\xf6\\xe8+\\xe9_\\x84\\xfb\\xff\\x00\\xe1\\x08\\xb1/\\xdc\\xbe9\\xcf\\x1b\\xce)OaGs\\xd1W\\x90)\\xc3\\xa55\\x0f\\x02\\x9e+3Ah\\xa2\\x92\\x81\\x0b@\\xa4\\xe7#\\xbd\\x14\\x00R\\xd1E\\x00\\x14QE\\x00\\x14RQ@\\x05\\x14Ph\\x03\\x92\\xf8\\x8aY|\\r\\xab\\xec,\\t\\x83i\\xda\\x018,\\x01\\xc6x\\xe9\\x9e{U_\\x85\\xa1\\xc7\\x81\\xf4\\xf2\\xe8\\xcb\\x90\\xe4\\x06\\x1dF\\xe3\\x828\\x1cT\\xff\\x00\\x12$\\xd9\\xe0]X\\x996\\x0f(\\x03\\xf3m\\xc8\\xde\\xb9\\\\\\xfb\\x8e?\\x1a\\x8b\\xe1r\\x85\\xf0&\\x99\\x86\\x04\\x15s\\xc6x\\xf9\\xdb\\x8e}:S\\xe8\\x1dN\\xd4\\xf4\\xaf3\\xd1e-\\xf1\\xab^\\\\\\x86\\xdbf\\x8b\\xc9\\xdcG(}\\x06:\\xf4\\xe6\\xbd0\\xf4\\xaf2\\xd0Y\\x9b\\xe3W\\x88\\xbfy\\xf2\\x8be\\\\\\x12\\x07\\xf7;\\x01\\xcf\\xe3\\xebB\\x03\\xd3\\xa8\\xa0QH\\x02\\x8a(\\xa0\\x02\\x8a(\\xa0\\x02\\x8a(\\xa0\\x02\\x8a(\\xa0\\x02\\x90\\xd2\\xd1@\\x11H\\xb9^\\x95\\xe0\\xdf\\x18\\xfc=kaq\\x06\\xa5m\\x00\\x8eK\\xb9X\\xce\\xea\\x87\\xe6lu\\'\\xb7j\\xf7\\xc6\\x1dy\\xae/\\xe2&\\x8b\\x06\\xaf\\xe1k\\xb4\\x92\\x033\\xc2\\x86h\\x95I\\r\\xb8\\x03\\x8cc\\x93\\xf4\\xefN.\\xcc\\x1e\\xc7\\xca\\x8e\\xa0\\x91\\x96-\\xf4\\xa8\\xc21la\\x80\\xeb\\xc9\\xabW D\\xdbJ\\xe3\\x07\\x91\\xdc\\x1f\\xc6\\xab\\xb3\\xe5\\x8a\\x89K\\x13\\xe9Z\\xb4Bc\\xed\\x9d\\xf7\\xe0\\xae\\xde0r:~u\\xea>\\x07\\x86I\\xd3\\xccfv_F\\x1d>\\x9cW\\x99\\xd9A\\x1c\\xbe`m\\xfeh\\xc7\\x96\\xaa8\\'\\xbeOj\\xf6\\xcf\\ni\\xc7O\\xd2\\xa3Y\\x07\\xceF\\xe6\\x19\\xe9\\\\\\xb5\\xbb\\x1dT\\x97S\\xa7\\x87*\\x05ZW\\x03\\xd0~8\\xaa\\x0b.\\x00 \\xf6\\xfd*\\xad\\xe6\\xab\\x1d\\xa0%\\x9b$\\x8c\\x81YX\\xe9\\xbd\\x8d\\xe1/\\xaf\\xeajT\\x94\\x0fo\\xa5q\\xed\\xe2\\r\\xa8\\tR\\t\\xfe\\x1fO\\xadKo\\xe2\\x18\\x8f2>\\xd0zdf\\xa9A\\x92\\xe6\\x91\\xd8+\\xabw\\xa91\\xc8\\xac+=f\\tq\\xb2uc\\x8e\\xc75\\xad\\r\\xccn\\x00\\xcf>\\x86\\x93\\x88\\xd4\\xd3,m\\xf64\\x84c99\\x14\\xe5u\\xdb\\x90A\\x14\\xe6\\xc1\\xff\\x00\\xf5u\\xa9\\xb1w\\x1a\\x06}:R\\x8e~\\xb4\\xf0\\xa3\\x1f\\x85\\x03\\x02\\x84\\x85r=\\xad\\xc1\\xe6\\x9a\\xcb\\x8f\\xfe\\xbdH\\xcc\\xa0t\\xa8\\x1eu^\\xe3\\xe9\\x9a,;\\x8e8\\x1d\\xf9\\xf6\\xa8]\\xc2\\x9c{T2\\xde \\x1fxV\\x1d\\xfe\\xbfmo\\xbf3&G\\x05y\\xcdW-\\xc8sH\\xdaiFO\\xadW\\x92^H\\xcf\\xeb\\\\l\\x9e0\\xc5\\xc0R\\xa3a8$\\xf2G\\xd7\\x14]\\xf8\\xa9c\\x1fw\\x8e\\xdd??jn$\\xfbK\\x9di\\x90\\x15\\xecG\\xd6\\xa1\\x95\\x81\\xfa\\xfa\\x8a\\xe4\\xac\\xbcX%\\x98$\\x88B\\xb7G\\xcf\\x1f\\xa5n\\xfd\\xac7 \\x86\\xcf\\xa1\\xa9\\xb0\\xd4\\xaeU\\xd5m\\xd6\\xe2\\xdd\\xd7\\x19\\x07\\xaf\\'\\xfaW\\x8c\\xf8\\x8e\\xc1\\xad\\xefX\\xa20B\\xdcw\\xe7\\xeb^\\xdd#o\\x07$\\xff\\x00\\x8dq\\xbe+\\xd0\\xfe\\xd1\\x03\\xcb\\x16\\xdd\\xeas\\x82\\x9cc\\x9c\\xf4\\xa7\\tr\\xb1N<\\xd1\\xb1\\xe4\\xaa@\\xf9H=i\\xea\\xb8o\\xbf\\xd7\\xd2\\x9e\\xeb\\xb5\\xc8e\\x03\\x1c{\\xd4c$\\x8c\\x0e\\x9d\\xab\\xb5\\x1c\\x1b;\\x17!\\x07r\\xe0t\\xeek\\xe9_\\x84\\xc8G\\x81\\xacIV\\x1b\\x9aB2\\xd9\\xc8\\xf3\\x1b\\x1fJ\\xf9\\xae\\x05\\'o\\xe8\\x05}?\\xf0\\xc6\\xdcA\\xe0}0,n\\x81\\x91\\x9f\\x0f\\x8c\\x9c\\xb99\\xe3\\xb1\\xedJ{\\x04w;\\x85\\xfaS\\xc1\\xa4\\x03\"\\x97\\x15\\x99c\\xa9;\\xd1K@\\x82\\x92\\x96\\x8a\\x00(\\xa4\\xa3\\xbd\\x00-\\x14RP\\x02\\xd1IE\\x00\\x14\\x1a)\\r\\x00q\\xff\\x00\\x12J\\x8f\\x02j\\xc5\\xe5d_$d\\x82\\x06~a\\x81\\xc8=zS~\\x190o\\x04i\\xa7s1(\\xd9,\\xc1\\x89;\\x8ey\\x00S\\xbe#`\\xf8\\x1fT]\\xcc\\xa1\\xa3Q\\x94]\\xc4\\xfc\\xeb\\xc6=\\xfaQ\\xf0\\xd8\\x1f\\xf8B\\xb4\\xc2Cd\\xc6X\\x96#\\x9c\\xb1\\xe7\\x8e1O\\xa0u;\\x13\\xd0\\xd7\\x98\\xf8u\\xc4\\xbf\\x19\\xfcJ\\xc0\\x83\\xe5\\xc0\\x89\\xf79\\xfe\\x0e\\xe3\\x8e\\xdd\\xf95\\xe9\\xcd\\xf7O\\xd2\\xbc\\xc3\\xc3\\xc7?\\x19\\xbcJ<\\xd8\\xc8\\x16\\xe9\\xf2\\xaa\\xe0\\xf5^\\xbe\\xe3<\\xfdE\\x0b\\xa8\\x99\\xea\\x14P:QHaE\\x14P\\x01E\\x14P\\x01\\xd2\\x8a(\\xa0\\x02\\x8a(\\xa0\\x02\\x90\\xd2\\xd1@\\r\\xaaw\\xd6\\xc9so$r&\\xe4u*G\\xa8\\xab\\xbdi\\x8e\\xb9Z\\x06\\x8f\\x90\\xfcY\\xa0\\\\\\xe8\\x1a\\xd4\\xd6\\x17q\\xa9e}\\xd1\\xed\\x93v\\xe5\\'\\x83\\x92\\x01\\xfc\\xc5s\\\\\\x86<|\\xa7\\xb5}\\x05\\xf1\\xabJI4{[\\xe4\\x85\\xd9\\xe2\\x9bk2\\x0e\\x00#\\xab~@\\x03\\xcdx\\x8f\\x97f\"&X\\xa5iy\\xe8\\xc1W\\xdb\\xfc\\xe2\\xb5N\\xea\\xe4=\\x1d\\x8d\\xdf\\x01i1j\\x1a\\x9bI8b\\x90\\x00\\xe0\\x06\\xc7\\xcczt\\xe7\\xb5z\\xd4\\x93%\\xac\\x19c\\x80\\x07\\x18\\xef\\\\/\\xc38\\xe2\\xfb\\x1d\\xdb*\\xb0p\\xea\\x18\\xe3\\xdb\\xf2\\xae\\x93\\xc4\\x91K$\\x00G\\x92;\\x8eF\\x7f\\x1a\\xe5\\x9f\\xc4\\xdb;)|%y\\xfcE\\xb8\\xb1F\\xda=N\\x08\\x07\\xfck\"\\xe6\\xe6k\\x82\\x1c\\x00s\\xeb\\x81\\x9af\\x9f\\xa1]_\\x1d\\xf3eNx%x\\x03\\xfa\\xd6\\xf7\\xfc#3\\x87@\\xad\\xf2\\x80:\\xf2s\\xfe\\x14\\xae\\x91Z\\xbe\\xa79\"2\\x1d\\xc4\\x12\\xe1q\\xf2\\xe4\\xb0\\xfc\\x05f\\x9b\\xa9w`7Nq\\xfe\\x7f\\xc6\\xbb\\xa7\\xf0\\xab2\\x0f\\xdf\\x00\\x07\\xa0\\xc6?\\xc6\\x98|\\x1fl\\xc0#N\\xca@\\xea\\x00l\\xfdsT\\xa5\\xd0\\x97\\x0e\\xe7\"\\xd7\\xb3\\x14\\\\\\x1c)\\xe4\\x87Q\\xfd9\\xad-3\\xc5\\x1a\\x85\\xa3\\x88\\xe5yX\\x02r\\n\\xe4\\x1e\\x7f\\xaf\\xf8WG\\x1f\\x85m#\\x1c>\\xf3\\x8ew\\x01\\xcf\\xf8T\\xa3\\xc3\\xf6\\xc5\\x81\\x11\\xaa\\x9cc \\xf3\\xfe}\\xea\\x1c\\xde\\xc3PI\\x9a\\xbav\\xbf\\xf6\\x94\\x01\\xbeV\\xcf\\xadn\\xc1r\\x1c\\x7f\\x9ek\\x99\\xb7\\xd2\\x92\\x06\\xf9G\\x18\\x039\\xadkU\\x11\\x1d\\xbd\\xbe\\x9574W7U\\xc60(g\\xc0\\xcfz\\xaf\\x1bp=1C\\xbf\\xbd\\x05\\xd8\\x8e{\\x8c\\x0c\\xe7\\x15\\x85\\xa8\\xdeH\\x88\\xdb:\\xe2\\xb4.\\\\`\\xff\\x00\\xfa\\xab\\x1eXZV\\xeb\\xc5.k\\x13$qz\\xa5\\xed\\xd3I\\x86w~\\xe7$\\xf7\\xe3\\x1c\\xff\\x00\\xf5\\xeb\\x06Y\\'s\\xb4\\xcc\\xe4\\xf4\\xda98\\xafG}\\n)d\\x0f)\\xcf\\x7fz|z\\x0e\\x9f\\x1f\\xdeQ\\x8e\\xb8\\xc9\\xce~\\xb9\\xabU\\x19\\x9b\\xa6\\xb7<\\x95\\x8b\\xc6\\xc3\\x03j\\xe7\\x82\\xd9\\xc6}\\x87z\\xd7\\x82I\\xa6\\x80\\xc6\\xdb\\xbap\\x08\\xc7\\x1f\\xca\\xbd\\x1d\\xb4}+\\x82m\\xa3\\xdcz\\xbe\\x0e\\xe3\\xf5=\\xe9\\xc3O\\xb2E*\\xb1\\xaf>\\xddi\\xb96\\x84\\xa3gs\\xccZ6V\\xfb\\xad\\x9c\\xf2\\x0ey\\xfd*\\xdd\\xb6\\xa95\\xbf\\x0e6c\\x80\\x06O\\xf3\\xef]\\xb5\\xde\\x87i:\\xe4/+\\xd3\\xde\\xb9\\x8b\\xfd\\t\\x94eP\\x97\\x1d\\xces\\xf8RR\\xd4\\xabi\\xa1\\xad\\xa6j\\xeb|\\xbbX\\x8d\\xf8\\xe8\\x0fZ\\xbdy\\x18\\x96\\xd9\\x94\\xf4*Fq\\xfd+\\x8b\\xd3\\xed\\xe7\\xb3\\xbd\\xda\\xb29\\xc1\\xdcx\\xc0\\xcezWs\\xb4\\xb4\\x03p\\xcf\\xaf\\xff\\x00\\xae\\xa6\\xddG\\xaaZ\\x9e\\x1b\\xac[\\xfd\\x97U\\x9e/\\x9b\\x198\\x07\\x83\\xfa\\xd5\\x05\\xcf\\x00\\xfeU\\xd3\\xf8\\xce\\xd4E\\xab\\xb7\\x07\\xee\\xe4\\x1cc<\\xfe\\xb5\\xce\"\\xb0#\\x91\\xfe5\\xdbM\\xdd\\x1c5\\x17\\xbclxv\\xc0\\xea:\\xdd\\x95\\x99|$\\xd3*1\\t\\xbf\\x82y\\xe3\\x07?\\x8f\\x15\\xf5\\xb6\\x9bm\\x1d\\xad\\xacP\\xc4\\x8a\\x91\\xa0\\n\\xaa\\xa0\\x00\\x00\\xec\\x00\\xe0W\\x80\\xfc!\\xf0\\xf4Z\\x9e\\xbf5\\xf5\\xd4J\\xe9f\\xa8\\xd1\\x86\\xdc>rx#\\x1cq\\xb7\\xa1\\xf5\\xaf\\xa2!@\\x14u\\xa57\\xa8\\xa0\\xb4\\'\\x1c\\nZ\\x05\\x19\\xa8\\x18\\xbd(\\xcd\\x14P\\x01E\\x1d\\xe9h\\x01(\\xe9A\\xa5\\xa0\\x02\\x8aJZ\\x00(\\xa4\\xcf8\\xe6\\x8c\\xd0\\x01E\\x14P\\x07\\x1f\\xf1 g\\xc1:\\x98*\\xad\\x98\\xd4|\\xcf\\xb4\\x03\\xbdps\\xfd;\\xf4\\xa8\\xbe\\x18\\xf3\\xe0}4\\x86R6\\xbf!p>\\xfbv\\xa9>%g\\xfe\\x10mOk \\xf9\\x13\\x87\\xe8~u\\xe0{\\xfa{\\xd1\\xf0\\xddB\\xf8+M\\x00\\x93\\xf26r;\\xee>\\xfc\\xfdi\\xf4\\x0e\\xa7b\\xdft\\xfd+\\xcb\\xfc8I\\xf8\\xcb\\xe2]\\xa8\\xca\\xbeB\\xee$\\x83\\xc8+\\xc8=\\x81\\xf4\\xafPo\\xbak\\xcb\\xf4\\r\\xa7\\xe3/\\x88\\x98F\\xdc[\\xa8,\\xeeN>d\\xe0{\\x1fN\\xd8\\xa1u\\x03\\xd4{QH:R\\xd2\\x00\\xa2\\x8a(\\x00\\xa2\\x8a(\\x00\\xa2\\x8a(\\x00\\xa2\\x90\\xd2\\xd0\\x01HqKI@\\x054\\xf2){\\xd0zP\\x07\\x1f\\xe3\\xbd\\x02\\x1d{E\\xfb<\\xa3%\\x1fz`w\\xc1\\x1e\\xa0\\x0c\\xe7\\x19\\xe7\\xe9_4j\\xfa|\\xd67\\x86)\\x06\\xdc\\x1eA\\xc8={g\\x9cW\\xd7\\x97JJ\\xe4\\x05#<\\xee\\xed^\\x07\\xf1/M\\x11kMpw0\\x94\\xe4\\x923\\x93\\xe9\\x8f\\xeb\\xedU\\x17\\xd0\\xae[\\xab\\x8d\\xf8k\\x16\\xdd>\\xe5\\x8e9\\x90s\\x9e\\xbc}+\\xb8\\x9e\\xd2;\\x81\\x86\\x1c{\\xf3\\\\\\xa7\\x80\\x13\\xfe%\\xd2\\x9d\\xa4\\x02\\xdd\\xf3\\x83\\x8f\\xff\\x00]w1.s\\xcf>\\x95\\xcf7\\xa9\\xd3M{\\xa40\\xc0\\xb0\\xa8\\xc2\\x8f\\xa5Cy\\x7f\\x1d\\xaa\\x9eW#\\xb6j\\xfc\\x8b\\xf2\\xe0`\\xfb\\n\\xe45\\xdb\\t\\xaff1od\\x8c\\xf59\\xc0\\xff\\x00\\xeb\\xfa\\xd4\\\\\\xd5\";\\x8f\\x10]\\\\Hb\\xb2S,\\x9fx\\x94\\xe9\\x8e\\xbc\\x1e\\xc7\\xeb\\xef\\\\\\x8d\\xe6\\xb9\\xad\\x079-\\xb7v\\x0fr\\x7f.\\xf5\\xe9\\xde\\x1b\\xd3-l\\xb4\\xcf&\\x12N~\\xf3\\x13\\xcbW5\\xaaZ\\xdc\\xdaI=\\xb4q\\xfc\\xae\\xdc\\xeeL\\x06\\x19\\xe0\\x8e}\\xb8\\xaa\\xe6\\xe5\\xb1\\n.WKs\\x99\\xd3\\xf5\\xedN\\xe9\\x01Db\\xb9\\xda\\x1f\\xe6\\x03\\xf1=\\xeb\\xb4\\xb6\\xbb\\xd4a\\x924\\xb8\\x83n\\xe1\\x95\\x19\\xc1\\xc7s\\xee?\\xfa\\xd5KG\\xb7\\xb9\\x9eD\\xb7\\x91x\\r\\xc1\\xe4t\\xef\\x9a\\xf4\\t-\\xe26\\xab\\x1bm\\xce\\xdct\\xa5~k\\xd8vq\\xd1\\x98\\xf0\\xdd\\xef\\x000\\xc3U\\xc8\\x9f\\'\\xa1\\xfc\\xea\\x0f$E&\\x06v\\xf4\\xcdK\\xb7o \\xf5\\xf7\\xa4Y\\xa5\\x0b\\x02@\\x04g\\x14\\xf98N\\xe7\\xf0\\xaa\\xd0\\xbe\\x07~\\x95$\\x8e6\\xf5\\xed\\xd6\\xa4fe\\xf3\\x10\\xa4d\\x8a\\xa3\\x0bm\\xe1\\xb9\\xc7\\xad[\\xbb\\xe4\\xfc\\xa4\\x8a\\xaecE@\\x7fB*z\\x8d\\x8d\\x9a\\xe5\\xf6\\x16Q\\x84\\x1d\\xf1\\xd6\\xb25I5\\x01d\\xd7\\x16\\xdb\\xa3B0\\xb29\\xc0\\'\\xd8u\\xad\\xcbX\\xbc\\xd9q&\\x02\\xe3\\xa5\\\\\\xd6\\xed\\x04\\xdaI\\x10\\x8eP\\xef\\xc2\\x9c\\x13\\xed\\xd2\\xb5\\x8al\\xcaW<r\\xfb]\\xd6\\xa0\\xb81<\\x8f\\xbb\\xef\\x15+\\x96\\xf6\\xe4t\\xab\\x9ao\\x885\\xb5\\x90,\\xa1f9;\\x83d~\\xbd\\xf1\\xe9R\\xeaV\\xf7\\xf2jK4H\\x15A\\x19_\\xbb\\xd0p\\xb5\\xd1\\xe8\\x9ak\\xcbu\\xf6\\x97\\x8f`\\x07\\xafbq\\xda\\x89TWI\\tE\\xab\\xb9\\x10Yx\\xae9_\\xcb\\x94\\xedbq\\xca\\xe0\\x1f\\xc35\\xbc\\xb2%\\xd4\\\\c\\x07\\xa8\\xff\\x00\\x1a\\xc1\\xf1.\\x8fn\\x19.-\\xf6\\xc70\\xe1\\xb6\\x8c\\x03\\xe9\\x9cU\\xcd\\x0f\\xce\\xf2\\xc2\\xca\\x84\\x100s\\x9aOr\\x94t\\xb9i\\xf4\\xb8\\x0b\\xef(7\\x0e\\x9cT\\xe4\\x05\\x1c7A\\xd8U\\xcc|\\xa7\\x90?\\x9dA0#\\x9e8\\xef\\xcf\\x14\\xc5\\xa9\\xe6>;\\xb6&\\xed\\x1c)\\x00\\xaew\\xee\\xc0\\xeb\\\\\\x96\\x9fm\\xf6\\xcb\\xf8\\xa0\\xfb\\xa1\\x8e\\t\\xe3?\\xfdz\\xf4?\\x18\\xc6\\x1a\\x00\\xec\\xd8\\x1d9=O\\xb5g\\xf8\\x03I\\x8e\\xefS\\x96YP\\x91\\x18\\xe3\\xd0\\x93\\xef]\\x11\\x95\\xa2sJ7\\xa9\\xa9\\xeb?\\r\\xb4\\xbbm;H1\\xdb\\xa6<\\xc6\\xde\\xec@\\x05\\x8e:\\x9cW\\xa1\\xa0\\xc0\\x02\\xb9\\xef\\x0eZ\\xac\\x116\\xde\\xe7\\xafJ\\xe8\\x97\\xd2\\xa6-\\xb5\\xa8\\xa6\\x92vC\\xfbQ\\xcd\\x14U\\x19\\x8b\\x9e(\\xa0R\\xd0\\x02b\\x96\\x93\\xa5\\x14\\x00QE\\x02\\x80\\nZJZ\\x00N\\xf4QE\\x00\\x14\\x9e\\xc3\\x8a^\\x94\\x87\\xf1\\xa0\\x0e7\\xe2Yq\\xe0}G\\xcb\\xc8;S$.p7\\xaeMK\\xf0\\xf0\\x01\\xe0\\xcd4\\x10\\xd9\\xf2\\xceIm\\xc4\\x9d\\xc7\\'8\\x1d\\x7f\\xcej\\xb7\\xc4\\xe2?\\xe1\\x06\\xd4K6\\xdc\\x08\\xc8\\xc2\\xee\\xc9\\xf3\\x17\\x03\\x1e\\xf5c\\xe1\\xd3)\\xf0^\\x96#M\\xaa\"#\\x1b6\\xf3\\xb8\\xe4\\xe3\\'\\xbey\\xef\\xed\\xd2\\x8e\\x83:\\xe7\\xe5\\x0f\\xd2\\xbc\\xc3\\xc3k\\x9f\\x8b\\xde$vW\\x04D\\x02\\x16\\xe8F\\xe4\\xe9\\xc7\\xb5z\\x83gi\\xc7\\\\W\\x99xa!\\x1f\\x15|L\\xcb#\\x99\\x88\\x05\\xd3f\\x02r\\xbd\\xfb\\xe7\\x14\\xd0\\x8fM\\x1d)i\\x07JZ@\\x14QE\\x00\\x14QE\\x00\\x14QE\\x00\\x14QE\\x00\\x14\\x9d\\xba\\xd2\\xd2\\x1a\\x00)\\x0fJZ\\r\\x00A0>[\\x11\\xe9\\xda\\xbcW\\xe2\\xacDK\\x1b\\xf0\\x17$p\\x9f\\xfb7j\\xf6\\xe7\\x19\\x15\\xe4\\xbf\\x15-\\xa3\\x92\\x14w\\x9bf\\xd2v\\xa8B\\xd9>\\xdd\\xbf\\x13GSXl\\xcc\\x9f\\x06\"\\xc7\\xa4\\xa7\\xdd\\xc9\\'\\x85\\xc9\\xdb\\xeck\\xb2\\x85\\xb8\\xfb\\xbf\\xfdj\\xe4<+\\x85\\xd2\\xa2\\x0e\\xe4\\xe0\\x1c\\x05\\x18\\x1dk\\xac\\x89\\xb2\\xbc\\xe2\\xb1\\x96\\xe6\\xf0\\xd1\\x16_\\x90\\x06j\\x9c\\xb6Bn\\x08\\x06\\xac\\x83\\x91\\xd7\\xf5\\xe9S\\xc68\\xe4u\\xa853\\xe3\\xb6\\x96%\\xf9\\x18\\x81\\xf4\\xe2\\x9f=\\xa7\\x9e\\xbf:\\x8c\\xe3\\xafz\\xd2X\\xc6:S\\x88\\x03\\xa7\\x14\\xd3\\x17)\\x8d\\x05\\x90\\xb69@\\x15\\xb1\\x8e\\xb95`\\xab\\x9d\\xbb\\x98\\xfe\\x15y\\x93\\x03\\xd0TL\\x83\\x8f\\xaf\\xa5\\t\\xf4\\x1d\\x8a\\x8d\\x06H98\\x1e\\x86\\x9a\\xc0.\\x06A\\xab-\\x85\\x1c\\x8c\\xd4\\x04\\x12\\xd9\\xeai1\\x8fC\\xb7\\xb8\\xa73\\x12\\xbc\\xe6\\x9a\\x01\\x07\\x14\\xe2\\x06\\xde*JE\\t\\x87?\\xd2\\xa2\\xd8%P\\n\\xfe8\\xe9SLv\\xf1\\xc7\\xaf\\xa522;\\x11\\xd7\\xd6\\xa4L\\x96\\x18\\x91F\\x06s\\xeaMX\\x00\\xe3\\n\\xdcc\\xd6\\x99\\x1f9\\xff\\x00\\x0e\\x95eG\\xb6kR,e\\xcf\\xa6E+\\x17(\\t\\'?Zz\\xdb\\xbci\\xe5\\xa6\\xd4_E\\xad!\\x10#\\x83\\xd7\\xd2\\x9e!\\x03\\xd3\\x9a[j>S\\x01\\xb4\\xe0\\xd2\\x86`\\xccGr\\xc4\\x1a\\x9e;4\\x88\\x00\\x13\\xa7J\\xd7h\\xd7\\x07\\xa8\\xe7\\xd2\\xa0\\x9a1\\xd3\\x19\\xa5\\xbe\\xe2\\xb1K\\x80:\\xfe\\x95R\\xe1\\xb21\\xd4\\xfa\\xfaU\\xb9N\\xd3\\xc9\\x19\\xfc\\xaa\\x9c\\xc4:\\x1e0=\\xe9\\xa13\\x8d\\xf1\\x92\\xb0\\xd3\\x9b\\x1b\\xf3\\x9e\\xdc\\x83\\xf5\\xa6\\xfc5P^\\xe9\\xc6\\xe2x\\x18\\x18\\xc0\\x1f\\xce\\xaex\\x96\\x04\\xb8\\xd3$V\\\\\\x9e\\xa0c\\x8c\\xff\\x00Z\\xa9\\xf0\\xce=\\xb3\\xde\\x1f/\\xd0n\\xcf\\xf3\\x1f\\xd6\\xb7\\xfb&\\x0f\\xe3G\\xb8\\xe8\\x84\\x1bU#\\xa5l\\x0e\\xddk\\x17C\\x07\\xec\\xb8\\xc9\\xeb[@~T-\\x8c\\xe7\\xbb\\x1d\\xc0\\xa3\\xb5\\x1d\\xa9\\rQ\\x03\\x85\\x14\\x9c\\xd0N(\\x10\\xbe\\xf4R~4\\xb4\\x00Q\\x9fJ8\\xa4\\xcd\\x00-\\x14\\x98\\xa5\\xeb@\\x05\\x04~\\x14Q@\\x05!\\xa5&\\x90\\xd0\\x07\\x11\\xf1Dg\\xc0z\\x90\\xf9N|\\xbf\\xbc8\\xff\\x00X\\xb5g\\xe1\\xc9\\x07\\xc1zY]\\x80y\\\\\\x04\\x18\\xc7\\'\\xafN}}\\xf3P\\xfcM\\x01\\xbc\\x0b\\xa9)\\x8c\\xb9*\\x98\\x01rs\\xbd}\\xc6>\\xbd\\xaao\\x87Y\\xff\\x00\\x84;M\\xdf!\\x94\\x98\\xcb\\x169\\xe4\\x96\\'\\xb9$\\xfdi\\xf4\\x1fS\\xafo\\xba~\\x95\\xe6^\\x17#\\xfe\\x16\\xdf\\x8a\\xc2\\xc8[\\t\\x1e\\xef\\xddy`\\x1c\\xfa\\x7f\\x16?\\xbd^\\x9a\\xd8\\xdas^e\\xe1|\\x0f\\x8b~*]\\xee\\xd8D\\xc0c\\xd3\\x91\\x9c\\x0c\\x9e?/\\xa5\\x08\\x93\\xd3GJZ;QHaE\\x14P\\x01E\\x14P\\x01E\\x14P\\x01E\\x14P\\x01Hih\\xa0\\x06\\xd2\\xd1\\xcd\\x1e\\xf4\\x00\\xd6\\x1cg\\x15\\xe4\\xdf\\x15\\xd9\\xa3\\xb5\\xda\\xa1I~Hf#\\x8f^\\x98\\xeb^\\xb4y\\x15\\xe6\\xdf\\x15l\\xde}\\x19Z%g\\x90\\x1cm\\xc0\\xc7>\\xe7\\xe9\\x8f\\xc6\\x85\\xb9pv\\xb9\\xc9xJP\\xdalk\\xb7n:\\xe0\\xfd\\xef~k\\xb0\\x84\\x9d\\xa4\\x9a\\xe1|!)k@\\xa1\\x99\\x82\\xb1\\x041\\xc8\\x1ct\\x1f\\xe1]\\xbc\\x00\\xb6\\t\\x04VSZ\\x9d\\x10wE\\xc8\\xf9#$c\\x1e\\xb5j5\\xc8\\xce*\\xb4@\\x0c{U\\xa4\\xe3\\xb7\\xe7P\\xcd\\x91 \\x18\\x1f\\xfdz\\x0bq\\xd7\\xe9Hs\\xb4\\xe3?\\xca\\x83\\xc1\\xc9\\'4\\x147\\xf5\\xa6>x\\xfa\\xf4\\xa9\\x0fLSY8\\x1e\\x94\\x80\\xac\\xfcg\\x8a\\x88\\xe3w?\\x95K)\\xe7\\xa1\\xebP\\xe4\\x1c\\xfa{\\x1e(\\x01\\xcb\\xf7\\xb8\\x1f\\xa6)\\xd26z\\x93M]\\xc5\\x8f\\'\\xa59\\x93 R\\x19JA\\xb8\\xf3\\x8cw\\xa6\\xafN8\\x03\\xd3\\xb5I*|\\xe0\\xff\\x00SQ\\xee \\x0fjV\\x11:\\x9e\\x9e\\xbd\\xaa\\xd2\\x1e\\xb9\\xe7\\xe8*\\x8a7<\\xf5\\xfdj\\xec`\\xe3\\xa7\\xebLD\\xc8O^z\\xf4\\xa9\\x01\\x1d:TC\\x9f\\xfe\\xb58d\\x0e9\\x1d(\\x1d\\x878\\x15\\x04\\x8a\\t\\xe7\\xf2\\x15.\\xe3\\xb7\\xb5F\\xf8\\xc6?\\x9d1\\x19\\xf7\\x08\\t\\xce\\x01\\xfasY\\xd7\\x00\\x83\\xc6\\x7f\\x9djM\\xcfPI\\xf6\\x15\\x99w\\x821\\x91\\x8f\\xca\\x9a3g1\\xaf0\\xfb\\x0b\\x82\\xc1F9\\xcbc\\x8a\\xce\\xf8\\x7fp\\x7f\\xb4\\xee\\x94\\x02\\xaaTp;U\\x9f\\x11\\x17\\xfb+\\x04-\\x92\\t;q\\x8f\\xc75\\x95\\xe0Da\\xacN\\xdbpDc\\x9d\\xbe\\xfd\\x01\\xad\\x97\\xc2d\\xfe$}\\x07\\xa2\\x7f\\xc7\\x92\\x1f\\xe7[\\x03\\xa75\\x8f\\xa2\\x82,#\\xcf\\x07\\x15\\xae8\\x14\\xd6\\xc62\\xd5\\x8f\\xe34\\x94t\\xa3\\xf9S$\\\\qI\\xde\\x94Q\\xf8P \\x18\\xa34Q@\\x01\\xa3\\xa5-%\\x00\\x03\\xd6\\x94\\xd2~\\xb4\\xb8\\xa0\\x05\\x1d))i(\\x00\\xa4<\\xd2\\xd2\\x1e\\x94\\x01\\xc3\\xfcR`\\xbe\\x06\\xbf$\\x85\\xf9\\xa2\\x19(\\x18}\\xf5\\xecj\\xcf\\xc3\\x92\\x8d\\xe0\\xbd3f\\x08\\xf2\\x8eHl\\x82w\\x1c\\xe3\\x81\\xdf5[\\xe2\\x8bm\\xf0-\\xfe\\n|\\xc6!\\xb5\\xbf\\x8b.8\\x1c\\x1c\\x1fJ\\xbb\\xf0\\xf7sx3L,\\xfb\\x8f\\x94y\\xda\\x17\\x8d\\xc7\\x1c\\n}\\x03\\xa9\\xd67\\xdd?J\\xf3O\\x0c\\x7f\\xc9Z\\xf1P\\x04\\x851\\xc6Nx$\\xe7\\xb7\\'#\\xf2\\xfaW\\xa5\\xb7\\xdd5\\xe6\\xbe\\x15\\x0c~*\\xf8\\xad\\xe5fg\\x0b\\x1a\\xae\\xe2s\\xb7=\\xb2:}(@zX\\xe9E\\x03\\xa5\\x14\\x80(\\xa2\\x8a\\x00(\\xa2\\x8a\\x00(\\xa2\\x8a\\x00(\\xa2\\x8a\\x00N\\xf4\\xb4Q@\\x05\\x14\\x94\\xb4\\x00\\xd3\\\\O\\xc4u\\xc7\\x85\\xee\\xa4\\x0c\\x14\\xa0\\x0c7\\x1c\\n\\xed\\xcfJ\\xe4<~\\x19\\xbc7r\\x00\\xceW\\x18\\xc0\\xfe\\xb4\\xd6\\xe5Gs\\xc8|!q\\xbc\\xbcj\\xc0\\xe5\\xb2\\x08\\xea8\\xeb^\\x8bl\\xb8P{\\xfbW\\x96xjO+X@I\\x00\\x9e\\xe4\\x1c\\xf3\\xfc\\xfe\\x95\\xea\\x90\\x11\\xe5\\x83\\xc9\\xe3\\xaf\\xadgSsj,\\xb9\\x1e:p{\\xd5\\x94\\xe7\\xa7O\\xadT\\x8f\\x8c\\x1fj\\xb7\\x119\\xff\\x00\\n\\xc8\\xe9D\\xea\\xb8^M!]\\xde\\xd8\\xa7)\\xe3\\xaf\\xe5KB\\x19\\x19\\x18\\x14\\xd6\\xc60})\\xcc\\xc0t\\xedU\\xdd\\xc6\\xdfo\\xad\\x00S\\xb8p_\\x03\\xa0\\xa6\\x03\\x95\\xef\\x8a\\x95\\x94\\xb9\\xc9#\\'\\xa78\\xa6y@sHd\\x89\\xc9\\xef\\x8a\\x90\\xaf\\xca;qN\\x86,\\xd4\\xdeY\\x03\\xa5\\x032\\xe6\\x07?t\\xfe5I\\xdb\\x93\\xfdF1Zw1c\\x801T\\x1a\"rH\\xe3\\xb7\\x14\\x98\\x82\\x06\\xc9\\x03\\xe5\\x03\\xb5iG\\xec\\x00\\xfa\\xd6b.\\xd7\\x18\\xe9\\xf9f\\xaf\\xc6\\xf8S\\xfa\\x9e\\xc2\\x84\"\\xdfa\\x92H\\xa5\\x00c\\x91LF\\xc8\\xcdI\\xedOa\\xa1\\x18px\\xc7\\xd6\\xa2s\\x91\\xc0>\\xd8\\x15!<v\\xfc\\xb3QHG\\'\\x07\\xf1\\x19\\xa1\\t\\x95&<\\x11\\x8cVm\\xd7\\xcd\\xc0?\\x86*\\xfc\\xa7 \\xf5\\xfa\\x0e*\\x94\\xecUNz~\\x94\\xd1\\x9b8O\\x14O\\xb6\\x06\\x03\\x1f\\x98\\xa4\\xf8z\\x15\\xf5+\\xa6|d( c\\x8e\\xbe\\xb5S\\xc5s)\\x9eX\\xf3\\x8c\\x9e\\xc3\\xad]\\xf8p\\x08\\xb9\\xb9#$az\\x8e:\\xd6\\xf6\\xf7\\x0ev\\xef3\\xde\\xf4\\xbc}\\x956\\xe3\\x18\\xebZb\\xb24|\\x9b$-\\xe9Z\\xe3\\xa5\\x08\\xcd\\x8bF)h\\xefL\\x91:R\\xd1E\\x00\\x02\\x83\\xe9GZZ\\x00N\\xf4c\\x14Q@\\x00\\xa2\\x8e\\x94u\\xa0\\x03\\x14\\xb4RP\\x01I\\xda\\x96\\x83@\\x1c\\x1f\\xc5c\\xff\\x00\\x14%\\xef\\xc9\\xbc\\x97\\x8ct\\xce>q\\xcdh|>\\n\\xbe\\r\\xd2\\x95<\\xa0\\x04\\x03\\xfdV\\xed\\xbdN~\\xf7?\\xfd|\\xf6\\xaa\\x1f\\x15\\x15\\x8f\\x81\\xefv\\xae\\xe0\\x1a2\\xdc\\x13\\x81\\xbcs\\xf8U\\xdf\\x87EO\\x82\\xf4\\xa2\\xa4\\x91\\xe4\\xf5\\'9;\\x8e{z\\xe6\\x9f@\\xeau\\xcf\\xf7\\x0f\\xd2\\xbc\\xd3\\xc1\\xeaO\\xc4\\xff\\x00\\x173F\\x10\\x96\\x8c)\\x00\\x8e77\\xe1\\xce3^\\x94\\xff\\x00p\\xd7\\x9ax8\\x05\\xf8\\xa1\\xe2\\xee\\x02\\xeed=s\\x9f\\x99\\xb9\\xeah@zh\\xe9E\\x14R\\x00\\xa2\\x8a(\\x00\\xa2\\x8a(\\x00\\xa2\\x8a(\\x00\\xa2\\x8a(\\x00\\xa2\\x8a(\\x01(\\xa5\\xa4\\xa0\\x04\\xac\\x1f\\x14\\xd9\\x9b\\xdd\\x0e\\xea\\x15\\x0cY\\xa38\\n\\xdbI#\\xdf\\xb5o\\x1a\\xa9}\\x18{wR8e \\xd0\\x86\\x8f\\x97 \\xba\\xfb\\x1e\\xb6\\x8a\\xc9\\xca\\xc8\\x01\\x00\\x10\\x17\\x91\\xd35\\xebv\\x13\\xf9\\xb0\\xab\\xf5\\x04pH\\xc5x\\xef\\x88U\\xed<Ks\\x17\\xdc))\\x1c\\x92\\xc7\\xafry\\xfc+\\xd24-HKh\\x87r\\xee+\\xd3\\xfc(\\xaa\\xacU)\\x1d|\\'\\xa1\\xc9\\x1fAVc`}?\\x1a\\xc9\\xb6\\x93r\\x8cg\\xeb\\xd2\\xb4ba\\xdc\\xfeU\\xce\\xce\\xc8\\xb2\\xea\\x1f\\x93\\xd7\\x14\\xf2p;T*\\xdf/\\x7f\\xe5Ni\\x00\\x1di\"\\xc6H~\\xb8\\xaa\\xecx\\x14\\xe9&\\x00\\xf2G\\xe3Te\\xbaA\\xdc{\\xd3Bl\\x9fxC\\xf3m\\xe3\\xd7\\xa54\\xddE&v\\xba\\x9c\\x1f\\xc6\\xb3\\'\\xbd\\x80\\xe43\\xa8\\x1e\\xa7\\xbdV\\xb7\\xbe\\xb6YJn\\x1c\\xf78\\xe4UX\\\\\\xc7M\\x0c\\xc0};\\x1a\\x97\\xce\\x07\\x9c\\x83\\xf8V*\\xdcwB0})$\\xbb\\x90\\x01\\x8c\\xf3\\xed\\xcd\\x16\\x0eb\\xfd\\xd5\\xc2\\xe7\\x03\\x93\\xed\\xd6\\xa8-\\xc4D\\xe0\\xba\\xe7\\xbf5\\x99uz\\x0ew\\x9c\\x002x\\xe2\\xb3\\x16\\xee\\x06\\x94\\xb7\\x9d\\x92\\x0f*\\x0e\\x05M\\x83\\x9a\\xe7M\\xbc3q\\x8a\\xb0\\x87\\x8fJ\\xc6\\xb5\\xbb\\x82E\\x0c\\xac\\x0f\\x1csZ\\x11\\\\\\x06=sR\\xf7\\x1d\\xcd(\\x8f\\xdd\\xa9\\xc61\\xc5T\\x86A\\x81\\xc8\\xab\\x19\\xe39\\xfc\\xa8\\x18\\x16\\x1dv\\xf3\\x9e\\xd5\\x0c\\x9d\\xf0)Y\\xf1\\xf5\\xefQ3\\x8c\\x1a\\x106U\\x99\\x88\\'\\'\\x9f\\xce\\xb2\\xaf\\xe4*\\xa4\\x13\\xd8\\xe2\\xad\\xdeLP\\xe7msz\\xdd\\xe0\\xfb3\\xe1\\xb1\\x8f\\xe1\\xc6j\\xa3\\xa9\\x8b8?\\x10]4\\xb7m\\xc9\\xf4\\xef\\xd3\\xf9~U\\xd8|.\\xb2{\\xcb\\x89\\xca\\x9c\\x9e3\\xc7 }k\\xce\\xefd\\x12_\\xb9?7\\'\\x83\\xfdk\\xe8\\x0f\\x856\\xb0\\xc7\\xe0\\xfbI\\x91W|\\xa5\\xd9\\x88B?\\x88\\x8cs\\xd7\\xa7Z\\xe9k\\xdd9y\\xbd\\xe3\\xbc\\xb2\\x87\\xc9\\x85W\\xd0b\\xae\\n\\x89\\x06;T\\xa3\\xda\\xa4Lu\\x1d\\xe9\\x06=\\xe8\\xa6!ii(\\xe7\\x14\\x00R\\xd2Q@\\x05-%\\x14\\x00Q\\xde\\x8f\\xa5\\x14\\x00\\xb4\\x94\\xb4\\x94\\x00\\xb4\\xd3\\xd3\\x8aZC@\\x1c/\\xc55/\\xe0\\x9b\\xb03\\x9f2>1\\x9c\\xe1\\x81\\xfe\\x95{\\xe1\\xeal\\xf0n\\x947\\xee\\x1eFs\\xbbws\\xde\\xb3\\xbe+\\x05>\\n\\xb8\\xdc_\\xfdtX\\x08\\xb9\\'\\xe6\\x1c{}k[\\xc0m\\xbb\\xc1\\xfaQ\\x00\\x01\\xf6q\\x81\\xe82q\\xd8\\x7f*}\\x03\\xa9\\xd3\\xbf\\xdc9\\xaf4\\xf0x\\x8c\\xfcP\\xf1iD*r\\x80\\xfc\\xdd\\xf76O\\xe3\\xd7\\xdb\\xd2\\xbd-\\xfe\\xe1\\xaf6\\xf0\\x89\\xdf\\xf17\\xc5r1\\xcb\\x06E\\x19rN\\x0368\\xf4\\xe2\\x84\\x07\\xa5\\xd1H8\\xa5\\xa4\\x01E\\x14P\\x01E\\x14P\\x01E\\x14P\\x02R\\xd1E\\x00\\x14QE\\x00%\\x06\\x96\\x93\\xad\\x00&\\x7f*\\xadt\\x0f\\x94~\\x95g\\xadE0\\xca\\x1c\\xf3@\\xcf\\x97|n\\x8c\\xbe0\\xd4e\\x90\\x1c\\xf9\\xa4\\x86\\xf6\\xf4\\xf7\\xa9\\xbc9\\xa8$b(\\xfc\\xcd\\x8a\\x0f8\\xe0\\x1a\\xd6\\xf8\\xab\\xa4}\\x8b\\xc4op3\\xb2\\xe8\\t\\x14\\x13\\xdf\\xa1\\xfdG\\xeb\\\\\\x15\\x84\\x86;\\xb8\\xc0l\\x12s\\xf2\\x9c\\x1f\\xc4\\xd6\\x93\\xd6$Svz\\x9e\\xddev\\xac\\x8aT\\xf5\\xed\\x9ek^\\xdaC\\xd4\\xf0k\\x85\\xd1.\\xdbw%\\xc88\\xc7$\\xf3]}\\xac\\x9c\\r\\xdf\\x97Z\\xe5glY\\xb0\\xad\\xb5Fy\\xaaZ\\x96\\xa7\\x1d\\x94y\\x90\\x85\\x1f\\x80\\xcf\\xe3K%\\xca\\xa4,\\xdb\\xbaW\\x9d\\xf8\\xa3T{\\xbb\\x85H\\xcf\\x00``\\xe0\\x8f\\xad(\\xab\\x97)Y\\x17u_\\x16\\x14\\x89\\x8a0RN2\\xbd\\xab\\n\\x0f\\x12O&\\xe52\\x15\\x04\\xe4\\xe4\\r\\xc7\\xf1\\xf5\\xac9\\xfc\\xc9\\x19T\\x12[\\xfb\\xdc\\x7f\\x93O\\xb2\\x83\\xcd\\x901]\\xc7\\x1d\\xfb\\xfeC\\xad]\\xd2#W\\xb1\\xa3{\\xae\\xdc\\x16*\\x1c\\x80\\xa3\\x18\\xeb\\x9f\\xc6\\xa2\\xb4\\xd6Yf,X\\x87#\\x8f\\x9f\\x8f\\xc0\\xe2\\xa1\\x9fIg\\x95@BI?w\\xa6?\\xc2\\xaa\\xff\\x00f\\xdc\\xbc\\xaeR\\xdd\\xf0\\x8d\\xb78\\'\\xfc\\xfdh\\xba\\xb8\\xdagc\\x16\\xbe \\x81K\\xb9\\xe7\\xa1\\'9\\xfd\\x7f\\n\\xb77\\x88Ym\\x91\\xd82\\x83\\xe9\\xfdk\\x92\\xb6\\xd2.g\\xb9L!E\\xe7,\\xc3\\xf9WJ\\xfa3\\xc9b\\x91\\x0f\\x98\\x8e\\x00 ~\\xb4\\x9c\\x86\\xa2\\xfa\\x99\\xb7\\x9a\\x98\\x984\\x91\\xc8\\x84c\\x18\\xdark\\x9d\\x97Q\\x9a0\\xfc\\x92\\xb9\\xeaI\\xe3\\xfc\\x9a\\xe8\\x1b\\xc3Z\\x82\\x92[q\\x1d\\x00\\xea\\x07\\xd3\\xd3\\xe9\\\\\\xe6\\xa1\\xa5_G3\\x89\\xa1tU<n\\x19\\xdc;\\x1a.\\x984\\xfa\\x1a\\x16\\x9e p\\xa1s\\x96^\\tb\\x7f:\\xd7\\xd3\\xfcN\\xc0\\xa0W\\xdd\\x8e1\\xebXP\\xe8\\xf3\\x1d9f0\\xc8C\\x9c\\xf5\\xc7\\x1fJ\\xa4\\xf6\\x92A6\\xe0\\x0e:\\x00\\x0e;\\xd4\\xd91]\\xa4z\\x8e\\x9b\\xe2\\x18g\\xdb\\x97P\\xdd\\x0e9\\x03\\xdb5\\xd2\\xc3u\\xbcc9\\xaf\\x0e\\x8e\\xe6X\\xdc\\x05l\\x1fs\\x92+\\xbd\\xf0\\xf6\\xb2d\\xd9\\x0c\\xb2\\xa6q\\xc7\\xcc\\t\\'\\xf3\\xc5)+\\x14\\xa4v\\xae\\xc3\\x1c\\xf1\\xfdj\\xac\\xd2`\\x9ey\\xff\\x00=\\xe9\\x05\\xc7\\x00\\x82y\\xaawS\\r\\xd9\\x1c\\xfe\\x15(m\\x94\\xf5\\x1b\\x90\\x91\\x9f\\x9c\\x02;g\\xa5p\\x9a\\xbe\\xa41.\\xdcn\\xcf\\x04\\xf3\\x93\\xfd+\\x7f^\\xbd\\xdb\\x0e\\x00\\xc0\\xe8H\\xae\\x03R\\x7f3\\xe6\\xcf9\\xe8N?\\xfdu\\xac\\x15\\xd9\\x84\\xe5\\xa1]\\x18I \\xc9B\\xcers\\x8a\\xfa?\\xe1\\xc9\\xff\\x00\\x8a?M\\xe5x\\x8f\\x1f#d\\x0eO\\x1f\\xfdn\\xd5\\xf3M\\xba\\xb3\\xc8\\x98\\xc1,\\xdb@\\x1e\\xa4\\xf4\\xaf\\xa8\\xfc\\x17a&\\x9f\\xe1\\xcb\\x1byK\\x97X\\xf9\\xf3\\x08-\\xc9\\xcf$WD\\xb69b\\xee\\xce\\xa1z\\n\\x7fjb\\xf4\\xa7\\x82*\\x0b\\x14\\x1a)\\x05\\x14\\x00\\xea>\\x9d);R\\xe74\\x08ZJ(\\xa0\\x03>\\x94w\\xa2\\x8a\\x00(\\xa2\\x8a\\x00(\\xa34\\xb4\\x00\\x94\\x86\\x96\\x90\\x9fz\\x00\\xe0>,\\x7f\\xc8\\x977\\x0c\\x7f\\xd2\"<\\x0fs\\xd7\\xda\\xb6\\xbc\\x0e\\x17\\xfe\\x11-/\\x1b\\xb1\\xf6u\\xfb\\xd8\\xce{\\xf4\\xe3\\xaek\\x1f\\xe2\\xb9\\xdb\\xe0\\x8b\\x8c\\xc8\\x104\\xd1\\x022F\\xf1\\xbb\\xee\\x8c\\x7f^8\\xad\\xaf\\x05\\xb6\\xef\\n\\xe9\\xa7s\\xb6 Q\\x97US\\xc7\\x1c\\x85\\xe3\\xdb\\x8a}\\x07\\xd4\\xe8\\xe48C^i\\xe0\\xd4\\x1f\\xf0\\xb1\\xbc]$x+\\xe6\\xa0$p7nbF\\x08\\x07\\xf1\\xe9\\xef^\\x95\\'\\xdc5\\xe6\\xbe\\x08U\\x1f\\x10<]\\x83\\x18o9\\tU\\xef\\x96~s\\x81B\\x11\\xe9\\xa3\\xa5\\x14\\x83\\xa5- \\n(\\xa2\\x80\\n(\\xa2\\x80\\n(\\xa2\\x80\\n(\\xa4\\'\\x14\\x00\\xb4QE\\x00\\x14\\x94Q@\\tMq\\x91O\\xc5!\\x14\\x01\\xe6?\\x17t\\xd6\\xb9\\xf0\\xcf\\x9f\\x1c\\x85\\x0c\\x12\\xab\\x1cG\\xbb \\xf1\\x8c\\xe7\\x8e\\xbdy\\xe9_>y\\x8f\\x0c\\xa1\\x86\\t\\x1d\\xbf\\xc6\\xbe\\xbf\\xd4\\xed#\\xbb\\xb4\\x92\\x19\\x93r:\\x95#\\xd4\\x1a\\xf93Z\\xb2\\x1a^\\xab{j\\xa8U#\\x9d\\x90$\\x83\\x04\\x0c\\xf1\\x9c\\xf7\\xad#kX\\x99+;\\x9d\\x7f\\x87\\xf5\\x06\\xf2Q\\xa4vs\\xdc\\xb0\\xc6?\\x01\\xd2\\xbbK{\\xec*\\x92x#\\xa8=k\\xc7\\xb4\\xeb\\xe7\\x82\\xed\\x0f*\\x19\\x01\\xe9\\xfe>\\xf5\\xdd\\xe8\\xf7\\x8b\"\\xe5\\x8eNy\\xc8\\xfeF\\xb0\\x9cltS\\x95\\xd5\\x99\\xd5\\xde\\xdeb\\xc1\\xa4\\x1c\\x9cq\\x8e\\x84\\xd7\\x00\\xd7\\x12]\\xdc4{\\xb03\\xd4\\xe3\\xf2\\xf4\\xae\\xaey|\\xebv\\x8dW\\xe5\\xc7L\\xf5\\xac8-\\x7f\\xd2T\\r\\xaa;}>\\x86\\xa1;\\x1a\\xda\\xfb\\x99\\xdfb\\x0c\\xcav\\x00{\\x1c\\x93\\xf5\\xf75\\xbb\\xa2\\xd8\\xdb$\\xc5\\xe6T\\r\\x9c\\x81\\xb7\\x9e{\\xd7Ce\\xa7\\xc2\\xd1\\x87\\xc6I\\x1c\\xd5\\xb6\\xd3`E\\x0c\\x883\\xe9\\xda\\xa2\\xcd\\xb3X\\xda\\xc5skk0\\xdacR=\\x85K\\x1d\\x8d\\xba\\xe3\\x11\\x80\\x01\\xe3\\x02\\x95 ]\\xc4\\x01\\x829\\xff\\x009\\xa7\\xed\\x90}\\xc6\\xf9A\\xe7\\x8a\\xbeTRE\\x81\\x14j\\xbbJ`PR!\\x8f\\x94\\x0ct\\xf6\\xa8\\xbfx\\xa3\\x95$\\x9e\\xb8\\xa6\\x17\\xe4ax\\xf6\\xea)\\xd9\\x17b\\xc3\\x11\\xc6Pq\\xd0\\xf4\\xac\\xcb\\xabKYd\\x12Kn\\xac\\xdd\\x9b\\xbdX\\x92W\\x03!\\x0f\\xe0\\rQ\\x96Y\\xceN0?\\xda\\\\T\\xb4\\x83\\x94{Ei\\xe4\\x98\\x82m\\x1d\\x80\\xcds\\xba\\x8e\\x8bn\\xc7t\\x02<z\\x01\\xde\\xb5\\xde\\xd9\\xa4\\x00\\xbb\\x7f\\x87\\xe5RAb\\xd2\\xb8f9P;u\\xfc\\xaa^\\x9b\\x19\\xb8\\xa3\\x81\\x9bJ\\nH/\\x83\\xd4\\x002O\\xe3W\\xb4x\\xccW\\x1b\\x18\\x10\\xe0r\\x0f\\x1f\\xa5v\\x17\\xba<L\\xa5\\x80#\\xb9\\x1crk\\x02\\x1b\\x05\\x8fQ%6\\xa6\\xdc\\x90\\x07\\x18\\xfa\\x7f\\xf5\\xe9\\xb6\\xda3\\xb5\\x99\\xd0\\xc1z\\x0c,\\xaf\\x85+\\xd3=\\xea9.F\\xc1\\xb9\\x87\\xa0\\x06\\xa1\\x90~\\xef>\\xdc\\xe2\\xb1\\xaen\\xde-\\xa0\\xb7C\\x9eOo\\xa5$\\x81\\xb3\\x17\\xc4\\x17\\x87\\x7f%\\xcb)\\xc7\\x18\\x02\\xb9G\\xb8yf\\x04\\xb1\\xc6}\\x01\"\\xb5u\\xd73\\xc9\\x98\\xce3\\x9c\\xe7\\x8cV\\x1c*\\xc6L\\x16\\\\z\\x93\\xd7\\xe9]4\\xa3\\xa1\\xcbZZ\\xe8t\\x9e\\x0c\\xd2\\xdbT\\xf1E\\x8d\\xb0\\xd8\\xd9\\x94;\\x06m\\xa3j\\xf2y\\x1e\\xc3\\xa5}Ii\\x18X\\xd7\\x8a\\xf0O\\x84zk\\xdcx\\x88\\xdd\\x14\\x7f.\\xde3\\xf3c\\xe5\\xcbp1\\xef_@B\\xa4(\\xaa\\x9e\\xe6p\\xd4\\x94{R\\x8a\\x08\\xa5\\xc5IB\\xf5\\xa5\\xa4\\x14\\xb4\\x00R>\\xed\\x87f7v\\xcf\\xad\\x1fZQ@\\x80g\\x1c\\xf5\\xf6\\xa2\\x81\\xcd\\x1f\\x85\\x00\\x19\\xa5\\x14\\x98\\xa5\\xa0\\x05\\xa2\\x92\\x8a\\x00ZN\\xf4f\\x96\\x80\\x12\\x90\\xf4\\xa5\\xa44\\x01\\xc1|X\\x93g\\x81\\xee\\xb2\\xfbCI\\x1a\\xe0g\\xe6\\xf9\\xba\\x7f^x\\xe2\\xb5|\\x08\\xd1\\xb7\\x844\\xaf-\\x02\\xa7\\xd9\\xd4\\x00\\x1b>\\xbd\\xeb#\\xe2\\xceO\\x81o\\x17\\xe6\\xc1\\x921\\xc4{\\xb3\\xf3\\x0e\\xbf\\xdd\\x1e\\xff\\x00\\x87z\\xde\\xf0f\\x7f\\xe1\\x17\\xd3s\\x91\\xfe\\x8e\\xbd]\\\\\\xf4\\xeeW\\x82~\\x94\\xfa\\x07S\\xa1~P\\xd7\\x9a\\xf8\\x1c\\x91\\xe3\\xcf\\x17\\x00\\xe0\\xc6.\\x13!\\x07\\xca\\x1bs\\xf7?\\xc5\\xeb\\xc7n\\xb5\\xe9O\\xf7\\ry\\xa7\\x82\\x1c\\x1f\\x88>0\\xcc;\\x18M\\x18\\xdd\\x83\\xd3s\\xfb\\x9f\\xad\\x08\\x0fL\\x14\\xb4\\x8b\\x8cqKH\\x02\\x8a(\\xa0\\x02\\x8a(\\xa0\\x02\\x8a(\\xa0\\x02\\x8a(\\xa0\\x02\\x8a(\\xa0\\x02\\x92\\x96\\x93\\x14\\x00Pii1@\\x15\\xee\\x13(k\\xe6_\\x89(-\\xbci\\xaa)\\x8d\\x91\\xe4\\x97\\xcc2u\\xdc\\n\\xae1\\x91\\xc5}=(\\xf9k\\xe7\\xff\\x00\\x8c\\xf6\\xe8<D\\x92\\x86\\'\\xfd\\x1dw.\\x00\\xdas\\xeb\\xdf\\x8ej\\xe1\\xb93\\xd8\\xf2\\x98\\xa5\\xd9r\\x1eB\\xcf\\xf8\\xd7Y\\xa4\\xeaF\\'\\xc2\\xe0!\\xea2N?\\x12k\\x90|\\xf9\\xa3 \\xf2:\\x1e)\\xe9#G\\x12\\x00G^\\xfd\\xa9\\xce7\\x08J\\xcc\\xf5858\\xccepH\\xc6y\\xcf\\xebUb\\xbdV\\xbdS\\xb8c\\xbe\\xee\\xa7\\xd8W)c\\xa9\\xb1\\x84 \\xc0n\\x87\\x9e\\x7f\\n\\x96\\x1b\\xbc\\\\\\x82\\\\\\x83\\x9cc9&\\xb9\\xdcN\\x953\\xd7\\xf4\\xc9\\x0bD\\xa7\\x8e\\x9d\\xfa\\xd6\\x99\\xe4u\\xaeCD\\xd57\\xdb\\xa6\\xd3\\x85\\xe9\\xe8k\\xa6K\\x80\\x14\\x1c\\xe7\\x8e\\xd5\\x9bV6\\x8b\\x1ea\\x0c\\xd9S\\xd3\\xf3\\xa9#\\x8c\\xaf\\xde\\x00\\x9c\\xfa\\xf4\\xa8~\\xd8\\x07\\x04\\xf4\\xf4\\xedA\\xbc@\\xb9\\xe4\\xfb\\xf6\\xaaN\\xc6\\x9c\\xe5\\xb7D=A\\xf7\\xa8J\\x8d\\xc0\\xf3\\xf8Vl\\xda\\xd4J\\xe4y\\x9f\\xa1\\xaa-\\xe2[P\\x01\\r\\xbb$\\x8f\\xa5X\\xd4\\xd1\\xbe\\xca\\xacG\\xf5\\xedT\\xa6\\x8f\\'\\x01x\\xf7\\xa6\\xc1\\xa9Gp7+|\\xbd\\x8dXIA\\xc9\\xe9\\xeasP\\xd8\\xf9\\xd1O\\xec\\xed\\x9flU\\xa8\\x95\"\\x18\\x1f\\x86(yP\\x1e\\x83\\xf2\\xa8\\x92M\\xcd\\x91\\xf9\\n\\xcd\\xeeKw\\x16\\xe97F\\xc3\\x80H\\xae+\\xcc\\x92\\x1b\\xb7s\\xb4\\xe0\\x9cmL\\x7f*\\xedn]V\\x16\\xc8\\x19\\xef\\\\%\\xf5\\xe2\\x0b\\xf9\\x10\\x02\\x06yi:~\\x1e\\xb5I_C9i\\xb9\\xb0\\xf7\\x08a\\xf9\\xc6A\\x19\\xaeOP\\xb8X\\x99\\xb0\\xe8I$\\xe4\\x9c\\x0cg\\xb5^\\xb8\\xbeg\\x07\\nX*\\xf5\\'\\xf9W+\\xa8\\xceWx\\xdd\\xce9\\xe7\\xa9\\xaa\\x8f\\xc5b$\\xfd\\xdb\\x99\\xba\\x83\\x06\\xb8\\'!\\xb7z\\xe4\\xd4h7l;T\\x12p\\xaa(D\\x05\\x89f\\xcbv5\\xb5\\xe1\\xad!\\xb5mr\\xd6\\xc5p\\xdec\\xe0\\xfc\\xc1x\\xef\\xc9\\xf6\\xcfJ\\xea\\x8e\\x88\\xe3\\x9e\\xa7\\xb5\\xfc%\\xd2$\\xb3\\xf0\\xd2O,A\\x1e\\xe5\\xfc\\xcc\\xe7$\\xae0>\\x9f\\x8dzb\\x02\\x07\\xb5P\\xd3\\xad#\\xb4\\xb6\\x8a\\x18\\x90*F\\xa1T\\x0fJ\\xd1\\x00\\x81P\\xdd\\xdd\\xca\\x8a\\xb2\\xb0\\x1e=)E\\x14\\xa3\\x14\\x86\\x14\\xa6\\x90\\x0eih\\x01:{\\x9aZ(\\x1fZ\\x04\\x19\\xf6\\xa3\\xaf \\xd1\\xe9K@\\t@\\xc5.(\\xa0\\x03\\x14QE\\x00\\x14R\\xd2\\x13@\\x05!\\xe9KHh\\x03\\xcf~-#\\x1f\\x04\\xcf\\xf2n\\x02x\\x899 /\\'\\x93\\x8f|\\x0ex\\xe6\\xba\\x1f\\x05\\xack\\xe1]0F\\xae\\xa9\\xf6d\\xc2\\xbe7\\x0e;\\xe3\\x8f\\xca\\xb9\\xaf\\x8c8\\x1e\\n~\\x17&\\xe6,n,\\x0ey\\xe9\\x8e\\xbf\\x8f\\x1d}\\xab\\xa7\\xf0r\\xaax_LQ\\t\\x84\\x0bh\\xf1\\x1b\\x12J\\xf1\\xd3\\xa0\\xfeB\\x9f@\\xeao\\xbf\\xdc5\\xe6^\\x05\\t\\xff\\x00\\t\\xff\\x00\\x8b\\xc8l\\x9f=\\x06\\xd2\\xa7\\xa6\\xe7\\xe7\\x92x\\xceEzl\\x9c!\\xaf3\\xf8~G\\xfc&\\x9e/\\xc6\\xcd\\xbfj_\\xb8:\\x9d\\xcf\\xdc\\x8c\\xd0\\xb6\\x03\\xd3GJZJZ@\\x14QE\\x00\\x14QE\\x00\\x14QE\\x00\\x14QE\\x00\\x14QE\\x00\\x14QE\\x00\\x14QGj\\x00c\\x80Ey\\xc7\\xc4\\xdf\\x0c\\xc3\\xad\\xe9r\\xdc\\xa3\\x11wm\\x1e\\xec/;\\x94\\x02q\\x8ey\\xf4\\xf5\\xafH=+3Q\\xb3I\\xe1\\x9b\\x087\\xc8\\x9b\\x0bz\\x8e\\x7f\\xc6\\x9c]\\x98\\x9a\\xba\\xb1\\xf1\\xd5\\xcc-\\x13\\xed*\\xc1\\xb1\\xc8#\\x06\\xab\\x03\\x802\\x063\\xd0\\xd7W\\xe3=%\\xf4}fx&\\x03,\\xec\\xe0\\x0e\\xb8\\xcf\\xb7\\x15\\xc9:\\x96\\\\!\\xc2\\xe7<\\xd6\\xd2V2\\x89v)\\x14+\\xf9j\\xc3\\xd0g\\xa7\\xd6\\xa7\\x8e\\xe2U;\\x86\\xde8\\xfa\\x1a\\xce\\x8aF\\x03#\\x1cq\\xcdO\\xf7\\xa4\\x18!N=k;\\x1a\\xa6v\\xba&\\xa2\\xeb\\x02\\x97m\\xacp\\x0b1\\xae\\xa95\\xcc\\x00\\x87\\x18\\xfa\\xe2\\xbc\\xca\\xd2\\xe4# \\xf3:\\x0e\\x80\\xf4\\xadT\\xbch\\xca2\\x92\\xca\\x07V9\\xc7\\xbda(\\xb3\\xa6\\x12=\\x015\\x0f39<\\x1fC\\xc0\\xaa\\xf7\\x1a\\x88\\x11\\x1c\\xf0pO\\'\\x91\\xef\\\\\\xdd\\xb6\\xa6\\xac\\xbdx\\xf4$\\x8f\\xd2\\xa2\\xbd\\xd4\\n\\xc6\\xaa6\\xe4\\xf4\\xc74\\x92\\xd4\\xbee\\xb9\\x0e\\xa7|Zg) =\\xf8\\x7f\\xe9\\xda\\xb1\\x06\\xab9}\\xa3fW\\x1c\\x81\\xcd>\\xeeM\\xe2B\\xc7$\\x8c\\x80W\\x15N\\x0bV\\n[\\x07$p\\x0f\\xadZZjf\\xe6\\xce\\xc7H\\xd6\\xa6X\\xc2\\xa9$g\\xb9$\\xd6\\xf5\\xb6\\xa7+6\\xc2\\xe3\\xf2\\xcdpZy\\xf2\\xfe\\xf3\\x9c\\x13\\xc69#\\xe9]F\\x9b:\\xb3\\x10\\xc4\\x8c\\x8e\\x0b\\x1cf\\xb3\\x924\\x8c\\x91\\xd3\\xfd\\xac\\xaa\\x82NI>\\xb5,7\\x8aF\\xec\\x8fLg\\xadr\\xfa\\x86\\xa3\\xe5\\x90\\x84\\x1c\\x9er\\x0e?^\\xb5Q\\xb50\\x8a\\x00<\\x91\\x9ey\\xfc\\xb9\\xe6\\xa2\\xc5\\xdfM\\x0e\\xda[\\x88\\xe6\\x88\\x8f9\\x17=\\xc9\\xaf=\\xd7e\\xf2ne\\x11J\\xb2\\x95?}I\\xc7\\xf2\\xaa\\xf7\\xba\\xb3\\x10\\x06\\xd69\\xe9\\x82G\\x1e\\xf5\\xcd\\xdc\\xdfH\\xd2\\x91\\x85\\xd8\\xa7\\x8ct\\xfc+XD\\xc2s/O\\xa9\\xc8a*\\xad\\xdb\\x9e\\xc4\\x9fsYo;HHc\\x93\\xeb\\xde\\x98\\xd2\\xa4\\x9f1\\xf9A\\xe3\\x81\\xc7\\xe0(+\\x89HZ\\xda1F2\\x93\\'\\x8a\\'2/\\xbfl\\xd7\\xb8\\xfc!\\xd0\\xa3\\xb7\\xd3\\xa4\\xbf\\x9a\\xd6?>V\\xc4r\\x10\\xa4\\x84\\x1e\\x9e\\x9e\\xff\\x00\\x85y\\xcf\\x81<)\\'\\x89\\xb5Q\\x1c\\x92K\\x15\\xacct\\xb2\\xa6\\t\\xf6\\x03\\xae\\x0e}k\\xe9\\r\\'K\\xb6\\xd3m#\\xb7\\xb6L\"(\\x1c\\xf2O\\xb9\\xf7\\xa7\\'\\xd0\\x84\\xae\\xeei\\xc4\\xa0/\\x15\\'ni\\x14`S\\x85A`=\\xe9E\\x14P\\x01K\\xfc\\xa9(\\xa0B\\xd1E-\\x00%.)(\\xa0\\x03\\xbd\\x1cQK@\\t\\x8a;QK@\\x05\\'ZZ(\\x01:QE\\x06\\x80<\\xf7\\xe2\\xe37\\xfc!3\\x00\\xee\\xa0\\xcf\\x16\\xe0\\xa9\\x9d\\xc3=\\t\\xec=\\xfd\\x87\\xadt>\\x0c\\x8d\\xa3\\xf0\\xae\\x98\\x8c\\x8c\\xac-\\x93*\\xddG\\x15\\xce|]\\n|\\x17.C\\x13\\xe7\\xc6T\\x0e\\x99\\xe7\\x93\\xec9?\\x80\\xae\\x8f\\xc1\\xa8c\\xf0\\xb6\\x98\\xa1X\\x01l\\x9c1\\x19\\xe9\\xdf\\x9a}\\x03\\xa9\\xd0?\\xdd5\\xe6\\x7f\\x0e\\xf6\\x1f\\x16x\\xb7\\x05\\xb7}\\xb0p}2\\xfc\\xfds\\x9f\\xd2\\xbd2O\\xb8k\\xcd>\\x1f\\x1f\\xf8\\xab\\xfcZ\\xaa\\xc1\\x97\\xedjw\\x0c\\xf2I\\x7fQ\\xf8P\\x80\\xf4\\xc1\\xd2\\x96\\x81\\xd2\\x8a@\\x14QE\\x00\\x14QE\\x00\\x14QE\\x00\\x14QE\\x00\\x14QI@\\x0b\\x8aJZ(\\x00\\xa2\\x8aL\\xd0\\x02\\x1a\\xad3\\x00\\xa75,\\xaf\\xb5My\\xef\\x8c|{\\x0e\\x8c~\\xcbl\\xa6k\\x96\\r\\x9c0\\x02<c\\xae\\x7f\\xc2\\xaa\\x10rvB\\x94\\x94U\\xd9\\xc5|g\\x11\\x1b\\xcb\\x07U\\xcbyl\\x1b\\x91\\xc7<q\\x9f\\xafj\\xf1\\xe9P\\x8cd\\x01\\xeb\\x8e\\xf5\\xda\\xeb7z\\x97\\x8ao\\x84\\xd7\\x13\\x16=\\x02\\xaa\\x85\\\\v\\x1cW5\\xabX\\xb5\\xa3\\r\\xc0t\\xe4\\x85\\xebZ\\xca\\xd1|\\xa4\\xf2\\xb6\\xb9\\xfa\\x19[1\\x19 \\x93\\xeej[y\\x95\\x1b2\\x008\\xeb\\xdc\\xfe\\x15\\x16X!\\x07;I\\xe6\\x90\\x80\\x06\\xe5\\x04\\x01\\xc7<\\x8a\\x91\\x16N\\xd0\\xe1\\x94\\xb6[\\x9cq\\x8a\\xbc\\xf3;\\xf9j\\xa4\\xfd\\xdc\\x13\\x9e\\x05c\\xe4\\x9cq\\xcf\\xaekB\\xd1\\xc1\\x8f2\\xf3\\x9e\\x99\\x1d=\\xf3R\\xd1qz\\x9a\\x96\\x05\\xe2#(\\x19pA\\xcb\\x11\\x8f\\x7fz\\xb1$\\xc2\\xe2M\\xc5\\x90\\xe0`\\x00\\xc7\\xe6\\xff\\x00\\n\\xceY\\t\\x8c\\x1e\\x02\\xaf\\x03\\xbdL\\x92G\\x1c\\xcad\\xdc\\xed\\x9c\\x83\\xd4~\\x02\\xb3z=MSB\\xc7\\x0f\\xefFO\\x0f\\x9e9\\x144\\x88\\xd1\\x92\\xab\\x93\\xf7}8\\xf6\\xab\\x972\\xe6\\xe8.\\xde\\xab\\xf2\\xe3\\x8c\\x8a\\xabs$poTe\\xcb/*\\x1c\\x03\\x9c\\xfbu\\xa6\\x95\\xc1\\x90E\\xf2&\\xe1\\xc6>^O\\xadi\\xc5v\\xc3\\xe7\\x1d\\xb8\\x1cc$z\\x1a\\xa4\\x93\\xc2\\xca\\x0c\\x8b\\x93\\x8ct\\xddU\\xe5c(*\\x87n\\xdf\\xfai\\xcdK\\x1ah\\xbb=\\xfc\\xaf)\\t\\x82y9-\\x9e\\x7f\\x1a\\xa9%\\xfc\\xc6\\xdc+Hp\\x0ep=}s\\xdb\\xe9Y\\xca\\xef\\x1c\\xb2;\\x8d\\xc38-\\x9c\\xe0TR\\xdc\\x12\\xa7\\xfb\\xbd1\\x9a|\\x9a\\x89\\xcfA\\xe9p\\xcf0]\\xd9\\xec\\x06\\xea\\x8ew\\x02m\\x8a\\xa1\\x8e\\x7f\\x0f\\xca\\xa3f\\nU\\xb06\\xf6\\xc54\\xb3\\xc8\\xf9o\\x98\\xe3>\\xb5\\xad\\x8c\\x9bln\\x1c\\xb9\\\\\\x859\\xe8{U\\x9btf\\x99A\\xe4\\x93\\xd6\\x9b\\n\\xf9\\x8cNq\\x9f\\xe1Q]\\xb7\\x85<>\\xbey\\xb8\\x99z\\x0f\\x93\\xe5\\xef\\xfe?\\xa5)IE\\x15\\x0893\\xd4\\xfe\\x16h\\xf0Xh_i\\xf2\\xd4\\\\\\\\\\x90]\\xc3\\x12J\\x8e\\x80\\xf6\\xe3\\x9e\\xc2\\xbd&2\\x00\\xeb^O\\x17\\x89f\\xd1\\xf4\\xf6\\x8a \\xa1\\x94\\x8f\\x99\\xf2p>\\x9d\\xebW\\xc3\\xbf\\x10a\\xbcu\\x82\\xf1\\x82\\xccN\\x14\\xa0\\xfb\\xdf\\xaf\\x15Q\\xa39G\\x9d\\x11:\\x91\\x84\\xf9\\x19\\xe9J{S\\xfe\\xb5F\\xd6\\xed&E(\\xc0\\x83\\xde\\xae)\\x06\\xb2\\xb1d\\x94R\\x03K@\\x06ii(\\xa0B\\xf7\\xa2\\x81K@\\tKIE\\x00\\x1d\\xe8\\xa2\\x96\\x80\\n;QE\\x00\\x14QE\\x00%\\x06\\x96\\x90\\xd0\\x07\\x9f|XY\\xa4\\xf0\\x84\\x91\\xc4[\\x0f:o\\xc3`m\\x00\\x9e}F@\\xae\\x8f\\xc2!W\\xc3Zr\\xa1\\x8c\\xa8\\xb7L\\x18\\xc9+\\xd3\\xb6y\\xc5r\\xdf\\x17\\x8a\\x8f\\n\\xc6\\xac\\xd8\\xddv\\x80.\\t\\xdcv\\xb7\\x1c\\x1e?_z\\xea\\xfc*\\x9eW\\x874\\xf4\\xee\\xb6\\xd1\\x8f\\xbc\\x1b\\xf8Gp\\x004\\xfa\\x07SnO\\xb8k\\xcc\\xfe\\x1e\\x9f\\xf8\\xab|[\\xb7n\\xdf\\xb6\\x03\\xb8\\'$\\xe5\\xfa\\xb6y\\xfav\\xfck\\xd3$\\xc6\\xc3\\x9a\\xf3o\\x01\\x97\\x9b\\xc5\\xbe*\\x9eWi&k\\xa5RY\\x81\\xf9Ap\\xa3\\x8eq\\x81\\x8fJ\\x10\\x1e\\x94:R\\xd2\\x0e\\x94\\xb4\\x80(\\xa2\\x8a\\x00(\\xa2\\x8a\\x00(\\xa2\\x8a\\x00(\\xa2\\x8e\\x94\\x00QE\\x14\\x00R\\x1a\\t\\xf7\\xa6\\x97\\x02\\x80\\x1dM.\\x00\\xe4\\xe2\\xa2{\\x84\\\\\\xe5\\x87\\xe7YZ\\x9e\\xaa\\xb0\\'\\xcas\\x9e\\xe0f\\xaa0rvB\\x94\\x94U\\xd9_\\xc4\\xda\\xb8\\xd3\\xb4\\xd9\\xa5\\x0e\\x03\\x058\\xe3?\\xa0\\xcek\\xc0\\x95.u\\x8dF[\\x89T\\xbe[%\\x9c\\x1f\\x9b\\xf4\\xff\\x00=\\xeb\\xd0<My5\\xec\\xabj\\xdb\\x8a\\x9f\\x9b!\\xab*\\xc6\\xc1!\\n\\xa9\\x10E\\xe8;V\\xd5%\\xec#e\\xb8Q\\x82\\xad.g\\xb1Z\\xd7MH\\xf9 \\x0f\\xa2\\x8a\\xc2\\xf1F\\x89\\xe7B\\xd2\\xf3\\xc1\\xe3\\xa0\\xfc\\xeb\\xb9\\x16\\xf8\\xc0\\x03\\xaf\\x1crj=CNk\\x8b7E\\'\\x9e;W\\x13\\x9b\\xbd\\xce\\xe7\\x15k\\x1e\\x13,r!|)\\x03\\xa0\\\\`\\x9aj\\xed\\xe42\\x958\\xe89\\xc1\\xad\\xfdf\\xc7\\xec\\xd3>0\\x11\\x89\\n\\xc398\\xeb\\xd4q\\\\\\xeb#\\x99\\x01^G\\xf3\\xae\\x98\\xbb\\xa3\\x82Q\\xe5c\\xa2\\xdc\\x1f\\x80\\xa0\\x01\\x81\\x9atS\\x98\\xe3p:\\x9ej\\xab\\xb9W\\xde9\\xf74\\xcc\\xee g\\xa8\\xe3\\x14XW{\\x96\\xfem\\xa1\\xc9ny\\x19j\\xbb\\x0c\\x92eKs\\x8e\\x99\\x1d>\\xb5\\x9a\\x03\\xacCq\\x03\\xf0\\xa7\\xf9\\x9b\\xd7\\x1b\\xc9\\xe2\\x86\\x8aM\\xa3]&1\\xdd\\xa8\\xdd\\x1f \\xe0\\x83\\xc6}\\xea\\t\\xe6\\xc4\\xa0\\x19Cd\\xe4\\xed\\x18\\x19\\xf4\\xe6\\xb3\\x0c\\xd2#\\x8d\\xac@#\\x1dz\\xd0g\\x95\\x1b\\xef\\x92W\\xd0\\xf1\\xfa\\xd2\\xb096\\xcd#w\\x85V*\\x8d\\xea\\xbe\\xb4\\xf4\\xb8Y\\x13\\xccv\\xc1\\x1fu\\x0e1Y\\x01\\x9c6A\\xc1#\\x8e\\xd8\\xa7$\\xa5b\\xd8\\x07^\\xbc\\xf5\\xa2\\xc0\\x9b.3\\x83\\x19;\\xf2\\x07L\\x01\\xf9\\xd5&\\x91\\x8f\\x0c\\xd9^\\xbe\\xf4\\xe0\\xe5\\x01R\\xe4+\\x0ey\\xa4\\xdb\\x16X\\xa9b\\xa0\\xf0J\\xe0\\xe2\\x98\\xbc\\x88\\xc3\\x92H \\x93\\xd74\\xe4vf\\xc0\\xceO\\xde\\xab\\x16\\xd0\\t\\x98\\xee\\xe3\\x8e\\x98&\\xb7t\\x9d\\n[\\xb9\\x15\\xa3\\x88\\x84?\\xc5\\x82E)I%r\\xe3\\x1ef;\\xc3\\x9a$\\xda\\x8c\\xe3\\xe5&5`[\\x82\\x06;\\xf3^\\xa3kd-\\xe2\\x01T(\\x03\\xb5;E\\xd2\\xa3\\xb2\\xb2D\\xe3\\x7fR\\xc3\\xbf\\xebZ\\x12(\\nN8\\x15\\xc9)93\\xb2\\x11QG={\\x0bL\\n\\xe0\\xe0\\xf1\\x9c\\xf4\\xae:\\xf6\\x1b\\x8by\\xd9\\xf6\\x9d\\xbf\\xec\\x1e\\x7f>\\xff\\x00\\xce\\xbd\\x11\\xe1\\xdeI\\xe7\\x15\\x97y\\xa6\\xac\\x80\\xa9U>\\xc6\\xbahb]=\\x1e\\xc7>#\\x0c\\xaak\\xd4\\x97\\xc1>\\'\\x9d.<\\xa6w\\xca\\x8f\\xba\\\\\\x90G\\xb05\\xec:n\\xa7\\x15\\xec`\\xa3r:\\xd7\\xce\\xabos\\xa3k\\x90\\xba#}\\x9eG\\t\\x958\\x03?N\\x95\\xea\\x9ae\\xdc\\xd6\\xb8d<\\x9e\\xd9\\xae\\xb6\\xa3YsD\\xe1\\\\\\xd4e\\xcb-\\x8fJC\\x91O\\x1dk\\x17L\\xd4\\xfe\\xd2\\xbb_\\x87\\xf4\\xadul\\x8a\\xe5\\x94ZvgLZj\\xe8\\x92\\x8aN\\x82\\x94\\x1a\\x90\\x16\\x8f\\xad&ih\\x00\\xfd(\\xa2\\x96\\x80\\n))h\\x00\\xa2\\x8a(\\x019\\xa5\\xa2\\x8a\\x00)\\xa4\\xe2\\x96\\x90\\xd0\\x07\\x9d|]R\\xde\\x15B\\x15\\xb0.\\x90\\xb1P:a\\x879\\xff\\x00\\xf5\\xd7W\\xe1e\\xd9\\xe1\\xfd=>^-\\xd0|\\xa4\\x11\\xf7GB85\\xc8\\xfca*\\x9e\\x13\\x8c\\xb3*\\x8f\\xb5\\xa7\\r\\xdf\\x86\\xe9]w\\x85@\\x1e\\x1e\\xd3\\xc0V\\x00[\\xa7\\xdeec\\xd3\\xb9^?*}\\x03\\xa9\\xb4\\xff\\x00v\\xbc\\xcf\\xe1\\xc3\\x17\\xd7\\xbcP\\xc5\\x89o\\xb7`\\x82\\x009\\xcb\\xf3\\xc7\\xf9\\xe2\\xbd2O\\xb8s^q\\xf0\\xf1\\xad\\xff\\x00\\xb6\\xfcL\\xa8\\xae%\\x17\\xb9p\\xc1}[\\x18 \\xf4\\xa1l\\x1dOH\\x1d)i\\x01\\xe2\\x96\\x90\\x05\\x14Q@\\x05\\x14Q@\\x05\\x14Q@\\x05\\x14SI\\xc5\\x00/Jk0QMiUFr+\\x1fW\\xd4\\xfc\\x88\\x1c\\xa3r\\x07^\\xc2\\xaa0rvD\\xcaJ*\\xec\\x97P\\xd6\\xad\\xac\\xf2\\xac\\xfb\\x9f\\xb2\\xaf&\\xb1\\xdfX\\xb8\\xb8l\\xae\\xd4O~\\xf5\\x85m\\xe6\\xdc\\xcc\\xf3J\\xecI\\xe8\\x08\\xe2\\xb4U7\\x0eF\\x06k\\xbe4#\\x13\\x8aU\\xa5!f\\xb9\\x95\\x89;\\xb2zpj\\x8c\\xd3J\\xe4+\\xbej\\xe4\\x83\\xf8G>\\xe4UVL\\xe4p\\x05l\\x923m\\x98\\xba\\xa4K\\xf6\\x98\\xe5\\xc8\\xc9\\xc09\\xff\\x00\\n|v\\xe0`\\x9e28\\x19\\xedS\\xdf\\xa1\\x01\\x0ey\\x1d1R\\xdb\\xc7!$\\xba\\x81\\xf8\\xe6\\xb81\\x9d\\x0fO\\x05\\xb1\\x19\\x8f\\x809\\x1f\\x8dN\\xb1\\x87L\\x1c\\x91R2{d\\xd3\\xe3\\x1c{v\\xae\\x03\\xbc\\xe5\\xb5\\xff\\x00\\rG\\xa8G#\\x05\\xf9\\x8f\\xcd\\xf3rI\\xf5\\xcdy\\xae\\xab\\xe1\\xeb\\x9bE2\\x15\\x03\\x07\\xe6^\\xe3\\xeb\\x8e\\xbf\\x81\\xafq\\x992\\xb8\\x00\\x1c\\xfbV6\\xa5\\xa4G{\\t\\x06%\\xe3\\xb8\\x1c\\xff\\x00\\xf5\\xaa\\xa2\\xda3\\x9c\\x14\\xb4g\\x80Ko\\xfb\\xce\\x11\\x8eG\\xd6\\xa2\\x8e4Rwu\\xc61]\\xc6\\xb5\\xe1;\\xa8\\xe7\\x96d\\x11\\x88\\xb7e~m\\xb8\\xf6\\xc1\\xff\\x00\\xebW%5\\xb9\\x89\\xb6\\x91\\x86\\x00\\xe6\\xba\\x14\\x93G$\\xa0\\xe2\\xec\\xcal\\x07\\xca\\t\\xda\\x07\\xa9\\xfe\\x94\\x99\\xe4\\x8c\\x1cz\\xd3\\xc2\\xee\\x00\\x90sM\\xc0\\xdb\\x93\\xc7\\xebTN\\xccn\\x01c\\x9e>\\xb4\\xf6F?\"\\xa8\\xc7S\\x91\\xfeqOH\\xd0\\xe4\\xa9\\xe7\\xb6x\\xc7\\xe3Mv%\\xfa\\x93\\xf54\\x05\\xba\\x89\\xb5\\xba\\xe0\\xe0\\x0c\\x12y\\xa4\\xf2\\xfePNG\\xa0\\xa9\\x93,\\xb9`z\\xf0O\\x02\\xa7\\x8e&a\\xf2\\xe0s\\x8f\\x9794\\xae\\x16\\xbe\\xc5\\x1d\\x9c|\\xbd{\\xd4\\x8a\\xbb\\x9b8\\xe4\\xf0j\\xfa\\xe9\\xf2(\\x0c\\x14\\x91\\xea\\x17\\x8f\\xf0\\xae\\x93A\\xf0\\xeb\\\\\\\\\\x06x3\\x1f|\\x8c\\x8f\\xc75\\x0eI\\x1aF\\x0eE\\x7f\\x0f\\xf8q\\xef\\xf1#\\x02\\xb1\\xe7\\x00c\\xef~u\\xe8\\x9a&\\x84\\xb6\\xa3t\\x83-\\x9e\\x06\\xd01\\xf9U\\xfd7M\\x8a\\xd1\\x02\"`\\x0fN\\x07\\xe0+Yc t\\xc7\\xb7J\\xe6\\x93m\\x9dP\\x8d\\x91\\x10M\\xa0\\x0fO\\xd2\\xa1\\x95~\\x84\\xfdj\\xd3\\x0cpp\\x07nj\\x17POL\\x8f\\xaeiu4+\\xc6\\x99\\x19\\xc1\\xcf\\xe8)\\xb2[\\xe4\\x11\\xb7?\\xca\\xad\\xc6\\x98\\x1e\\x86\\xa61\\xe4\\x00FG\\xe5K\\xd0G7{`$\\x92&\\x00\\x06W\\x1c\\x802?:\\xdf\\x84l\\x03\\x81\\xc0\\xc75\\x03D\\xafp\\t\\x00\\x95\\xe7>\\x86\\xac\\x9c\\x01\\xc5z\\xb85\\xee\\x9eV1\\xfb\\xf6,[\\xdf\\x18\\x1fr\\xb0\\x18=\\x01\\xe9]M\\x9e\\xb9\\x14\\x88\\xa5\\x8e=\\xeb\\x8bE%\\x8a\\x9f\\xfb\\xe4\\x1ej\\xd5\\xab\\x8c\\x10\\x06\\x008\\xe2\\xba*R\\x8c\\xb79!RP\\xd8\\xef\\xe1\\xbb\\x8ea\\x94pG\\xb1\\xab*\\xc2\\xb8;k\\xb9\\xec\\xe5\\x05\\x1c\\x94\\'\\x95&\\xbak-V)\\x94\\x02\\xc0\\x1a\\xe3\\xa9E\\xc3U\\xa9\\xd9\\n\\xcaZ=\\r\\x80x\\xa7\\n\\x867\\r\\xd0\\xd4\\xa3\\xda\\xb05\\x14QFh\\xa0\\x05\\xa2\\x8a(\\x00\\xa2\\x8a(\\x00\\xa3\\xb5\\x14P\\x02v\\xa0\\xd1A\\xa0\\x0f;\\xf8\\xb8_\\xfe\\x10\\xf7\\xdb#\"\\xf9\\xe9\\xbc\\x86\\xc0#\\x07\\x82pz\\x9c~8\\xae\\xa3\\xc2n\\xcf\\xe1\\xcd9\\x9b;\\x8d\\xba\\x13\\x93\\x93\\xd0u5\\xc9|b;|\\'\\x11\\xe3\\xfe?\\x13\\x1f6\\x0ep\\xc0c\\xd7\\xf4\\xae\\xc7\\xc314Z\\x05\\x829\\x05\\xd6\\xde0\\xd8`\\xc3;Fy\\x19\\xcd>\\x81\\xd4\\xd6\\x93\\xee\\x1a\\xf3O\\x87\\x05\\x7f\\xe1!\\xf1Z\\xa2\\x85A|\\x08A0\\x97\\xfb\\xd9\\xf9\\x87\\xf2\\xed\\xd3\\xb5zd\\x9fp\\xd7\\x9a|>.<Q\\xe2\\xc5`\\xcaE\\xe2\\xe1\\x1aM\\xe7\\xf8\\xb9\\xceOQ\\xdb\\xa0\\xa1\\x01\\xe9\\x94\\xb4\\x83\\xa5- \\n(\\xa2\\x80\\n(\\xa4\\xce(\\x01i\\t\\xc51\\xe4T\\x19-Y\\xb7\\x1a\\x88\\xe4Fs\\xef\\x8a\\xa8\\xc1\\xcbbe%\\x1d\\xcb\\xd3\\\\$C%\\x85b_j\\x8eN\\xd8\\x8e3\\xc5W\\xb8\\xb8yrY\\xaa\\x96\\x08\\xcb0\\xe6\\xbb)PKY\\x1c\\xb5+7\\xa4K_i\\x98\\xa9\\x0c\\xe4\\xd7=\\xaf\\\\\\x16x\\xe3\\x1f3\\xb3ar\\x7f\\xa5l\\xabeI\\xe3\\xf3\\xac7&\\xe7XP\\xa4\\x94O\\xbcpk\\xa6\\t&s\\xcd\\xb6\\xachX\\xc2\\xd1\\xdb\\x8c\\x9eO>\\xd5kiQ\\xeb\\x9fCOA\\x85\\xe6\\x97h84\\x9b**\\xc8\\xaf 8\\'\\x14\\x8b\\x18\\x03\\x92\\x07\\xa0\\x15$\\x98\\x00\\xf4\\xa8N{\\xf3N\\xd7\\x16\\xc5\\x1dP\\xc6\\x88\\xb8 \\x1c\\x8ej\\xc4`\\x18\\xc1\\xc1\\xe9\\xebQ\\xdf\\xc4\\xb2\\xdb\\x9c\\xee\\xc8\\x19\\xe0\\xd4zl\\x81\\xe0\\x00\\x01\\xf2\\x8cq^v3tz\\xb8\\'\\xa3\\'d\\xc9#9\\xfcqND\\xc2\\xf7\\xa9\\x02\\xf3\\xc9\\xc7\\xb04\\xaa\\xbc\\xf1\\xfc\\xf1\\\\7;\\x84\\xc6\\xe1\\xfe\"\\x98\\xd0\\x86S\\xd0\\xfbU\\x85\\x04\\xff\\x00\\xf5\\xe9\\xdbr:SLv1u\\x1d<\\\\\\xc5\\xb1\\x81\\xf6#\\xady\\x97\\x88\\xfc4bv\\x928\\xd9S\\xa1\\x1bOO\\\\\\xd7\\xb2\\xbc9\\xff\\x00\\xebU\\x0b\\xbd1.\\x90\\xc6\\xeb\\x91\\xf5\\xc55+jg(]X\\xf9\\xd2\\xe2\\xd9\\xb6\\xaa\\xa2\\xf48\\xc8\\x1dj\\x05\\xb2m\\x9b\\xb0y=OJ\\xf7+\\xbf\\tY\\xcc\\xcc\\xa2\\xd90T\\xe4\\x9c\\xe7\\'\\xad$~\\x13\\x8a9\\x11\\x8c`\\xaa\\xf0\\xa1\\xb0q\\xec=+GT\\xc3\\xd8\\x9e&\\xda|\\x88\\xec@8\\x0b\\x92qL\\x8e\\xc9\\xf61\\xd8\\xce\\xde\\x8a7W\\xb8\\xdc\\xf8R\\xd6T*\\xd0\\xa9\\xfc9\\xaa\\xb1x>\\xd67\\x8d\\x84)\\xbdO\\x0cs\\x90=(\\xf6\\xaf\\xb0\\xfd\\x89\\xe5\\x16\\x9a-\\xe5\\xcaF\\x12\\x11\\xb7\\x8e\\x7f\\x91\\xad\\xfb\\x0f\\n\\\\\\xa1\\x0b\"\\x86\\xdcy\\x038\\xfaW\\xa8\\x8d!B\\x05\\x00\\x0fa\\xd2\\xa6\\x8a\\xc0G\\x8f\\x97\\x9e\\x9e\\xb5\\x9b\\x9c\\x99\\xa4i\\xa5\\xa9\\xc6\\xdaxF)\\x1d\\x0c\\x81@O\\xe1\\xcfz\\xealt\\xb8\\xed\\xd4\\x04\\xc0\\xf5\\x00u\\xad\\x18\\xed\\xc2\\x9f\\xba3\\xf4\\xab\\t\\x16:~\\x82\\xa2\\xc5\\xa8\\x90,\\x00rG\\xe9NuQ\\xd8t\\xa9\\xd8q\\xd35\\x13\\x81\\x8ez\\xd3*\\xd6+\\xb6q\\xf7q\\xee\\r1\\x94\\x92\\x07Ls\\xcdYe#\\x1bG4\\xc0\\x99=\\xb1HC\\x153\\xc8\\xa9v\\xf1\\xce~\\x95*G\\xc5\\x12\\r\\xaaO|}hJ\\xec\\x1b\\xb2*yy%\\xbb\\xfeT\\x85wdc\\x9f\\xce\\xac\\x04\\x1e^\\x08\\x19\\xf4\\xa6\\x88\\xc0=\\x0f\\xe1^\\xd5\\x18r\\xc1#\\xc4\\xaf>i\\xb6E\\x1cx\\'\\xde\\xa5\\x85J\\x9eNq\\xeb\\xc5J\\x02\\xaep\\x07\\xd4\\xd2\\xa0\\xc1\\xe2\\xb79\\xc5+\\xb9Ns\\xcfZt\\x05\\xe3n\\t\\xf65\"\\xa1\\xe7\\x8e\\xdd\\xcd7iL\\x1c\\x8f\\xa8\\xa8)hkY\\xeaO\\x0b\\x00\\xe7#\\xde\\xb7\\xad\\xeeVT\\x05[\\x83\\\\r\\x9c\\x8cg5,7r[8*\\xd8\\xacjPR\\xdbsju\\xdcw;U\"\\x9c>\\xb5\\x8de\\xab\\xac\\xbc?\\xca}Mj\\xa4\\x81\\x87Z\\xe2\\x94\\\\]\\x99\\xd5\\x19)+\\xa2ZJ3FjJ\\x16\\x8aAK@\\x05\\x14Q@\\x05!\\xe9JzR\\x1e\\x94\\x01\\xe6\\x7f\\x18\\xb0|1j\\xa0n-x\\x8a\\x13~7p\\xdcm\\xea\\xdfA\\xd3\\xafj\\xed\\xfc<\\x9e^\\x85c\\x1e\\x10m\\xb7\\x8d~O\\xbb\\xc2\\x8e\\x9e\\xd5\\xc3\\xfcd\\'\\xfe\\x11\\x9bd\\x19;\\xef\\x15x<}\\xd6\\xeb\\xc7O\\xca\\xbb\\x8f\\x0e\\x9c\\xe8v\\'j.m\\xe3;c\\x18Q\\xf2\\x8e\\x00\\xc9\\xe3\\xf14\\xfa\\x07SQ\\xcf\\xcb\\xc5y\\xa7\\xc3UD\\xd6\\xfcT\\x15\\xa2\\'\\xed\\xe3\\x88\\xdbp\\xfe.r\\x14\\x03\\x9c\\xfe\\x95\\xe9o\\xf7k\\xcc\\xbe\\x18\\x06]C\\xc4\\x9f4%?\\xb4\\x0e<\\xa5*\\xbd\\xfd@=\\xfb\\xfb\\xd0\\xb6\\x03\\xd3\\x85- \\xe9KH\\x02\\x8ak0Q\\x9e\\xd5R{\\xf8\\xe2\\x07\\x07\\'\\xebME\\xbd\\x84\\xda[\\x96\\xcb\\x81\\xd4\\x8a\\xa3q\\xa8,y\\x0b\\xc9\\xf6\\xe6\\xb3\\xa7\\xbdyr3\\x81\\x9e\\x82\\xa9\\xb1f\\'<\\x9a\\xe9\\x85\\x0e\\xb29\\xe7_\\xf9K\\x13]<\\xc4\\x82x\\xf4\\xaa\\xf9&\\x90rqG\\xe5])%\\xa20m\\xbd\\xc6?o\\xebM\\x90\\x06A\\x91L\\x92L\\x9c\\x0fZ\\\\\\x83\\x16:\\x91Ub.1\\xc8X\\x89\\xcdd\\xe9\\xca\\xcdu#\\x91\\x80X\\xe3#\\x15\\xa5p\\xf8\\xb7bN\\x0e;\\xd5]5\\x00M\\xc0c\\xf9\\xd5\\xf4\\'\\xaa4\\x87N\\xf4\\xc6<q\\xcf\\xb51\\xdc\\xee\\xda\\xa3\\xf5\\xa1T \\xf5\\xcd+\\x0e\\xf7\\xd8\\x8d\\x11\\xb7\\x16lrx\\xa1\\x93\\xdb\\xf3\\xa9\\xb3\\x91\\xfd)\\xa4d\\xf4?\\x85\\x17\\x1aV(^s\\x19\\x04\\xe0z\\xd6~\\x93&\\xd9d\\x88\\x9f\\x978\\x1cV\\xdc\\xd0\\x06\\x84\\xa98\\'\\xd2\\xb0\\xa0\\x87\\xec\\xda\\x88\\xe0\\x91\\x9e9\\xf7\\xae,g\\xc2\\x99\\xe8`\\x9d\\x9bG@\\x17\\x8e?\\x95\\x05q\\xd3?\\x9dL\\x98+HT\\xe3\\xa05\\xe6\\x9e\\xa1\\x1a\\xe4\\xe3\\x1c\\xd4\\x80\\x11\\xc8\\xe9\\xe9\\x8an\\xceA+\\xff\\x00\\xd7\\xa7\\xa9bNp=\\xfdi\\x0cp\\xe8s\\x9aq@x\\'<P\\x0eG\"\\x9f\\x83\\xd8\\n\\x00\\xae\\xd1.z\\x1e\\x7f*A\\x18\\xc7\\x19\\xfa\\xd4\\xe5N}s\\xe8*6\\x00\\x1fzb\\xb1\\x17\\x97\\xd6\\x97\\xcb\\x1cp\\x01\\xa7\\xe7\\x07\\xaeh\\'\\x9e\\xff\\x00\\x8d\\x00B\\xf1)=y\\xa6\\x95\\xc0\\xe9\\x9a\\x98\\xf3\\xc0\\x19\\xfa\\x1a\\x8c)\\xfc\\xbd\\xe9\\x01\\x1e\\xcc\\x12qK\\x8c\\x03\\x83\\xf9\\xd4\\xa1\\x7f:F^\\x0e~\\xb4\\\\\\x08K{\\xe6\\xa3p\\x7f\\n\\x98\\xf5\\xe6\\xa3a\\x9fO\\xc2\\x80\\x18\\x17#\\x1c\\x0f\\xe6iUOqJ\\x17\\x81\\x90*U\\x1c\\xff\\x00\\xf5\\xa8\\x10\\x04\\x18\\xe7\\x8cT2s(Q\\xf9U\\x96\\x18RH\\xa8aR\\xf2\\xb3g\\x80+ZQ\\xe6\\x95\\x8c\\xab\\xcb\\x96\\x0cn\\xcc\\x8fZFLv\\xc7\\x1dj\\xc8*\\t\\xc7\\xd6\\x9b+\\xee\\xc6\\x00\\xe9\\xe9^\\xca<7\\xae\\xa4Q\\xa1\\xcd8\\xa8S\\xe9OA\\x81\\xe8>\\x94\\xa4d\\x01\\xd2\\xa8\\x86 \\xe9\\x92i\\xad\\xc1\\x03\\xff\\x00\\xd5OP9\\x1d\\xbd\\xaa98\\x19\\x14\\x00\\xee\\x87\\xfc)H\\xdc\\xbcpO\\xb5F\\x0e\\xf5#9\\xe3\\xb59\\x08d\\xc1\\xc56\\x08X\\x9c\\xa1\\x188\\xfckZ\\xcfQxx<\\xae{\\xd6G\"A\\xda\\xac\\xc7\\xd3\\xb9\\xf4\\xac\\xe5\\x05%\\xa9p\\x93\\x8e\\xc7So{\\x1c\\xc3\\x86\\x00\\xfaU\\xa0\\xd9\\xaeI$t9RG\\xe9Z\\x96\\x9a\\xa1\\xc8IH\\xfa\\x8a\\xe3\\x9d\\x06\\xb5G\\\\+\\'\\xa36\\xf2)j\\x18\\xe6Y\\x14\\x159\\x15(\"\\xb9\\xcd\\x85\\xa2\\x92\\x8a\\x00ZCFi\\x0fJ\\x00\\xf3?\\x8ce\\x93\\xc36\\xc7r\\x057j\\x18\\x1cd\\x8d\\xad\\xf7}\\xfb\\xf5\\x15\\xdcxx\\x83\\xa2X\\x90\\x11\\x7f\\xd1\\xe3\\xe1\\x1bp\\x1f(\\xe8rr?\\x13\\\\7\\xc6O\\xf9\\x17-0b\\xcf\\xdb\\x17\\n\\xff\\x00\\xc5\\xf2\\xb7\\x03\\xfa\\xfbWs\\xe1\\xe2[E\\xb2$(&\\xde2B.\\xd5\\x1f(\\xe8;\\n}\\x05\\xd4\\xd4\\x7f\\xbb^c\\xf0\\xbc\\x8f\\xed\\x1f\\x12\\x82\\n\\xb0\\xbf\\xe4\\x15\\xc1\\x1c\\x1cW\\xa7?\\xdd\\xaf+\\xf8qq\\xf6{\\xff\\x00\\x12\\xac\\xb2\\xb3\\xe3Q$6\\xfd\\xeax=\\x1b\\'\\'\\xa54\\x9b\\xd8\\x1b\\xb1\\xea\\x80\\x80*\\t\\xae\\xe3\\x8c\\x1f\\x98f\\xb3$\\xd4K\\xaf\\xcb\\xf2\\xd5\\'\\x95\\x9f\\xaf&\\xb5\\x8d\\x16\\xf71\\x9dd\\xb6.\\xdc_\\x998^\\x07\\xbdg\\xbc\\x9b\\xb9=i\\t\\xcd0\\x8f\\xc7\\xd6\\xba\\xa3\\x05\\x1d\\x8eyM\\xcbqK\\x1fSI\\x9f\\xc2\\x9a}1G\\xe7Z\\x10?=\\xb8\\xa4s\\xef\\xda\\x81\\xf5\\xe7\\xf9S$\\xe9\\xde\\x85\\xb8\\x15\\xd9\\xb3 \\x039\\xa7\\xc9\\x9d\\xb5\\x12\\x91\\xe6\\x03\\xeb\\xe9Su\\xe9TK(\\xea/\\xb7Mg\\xda\\xc7\\x07\\x9eq\\x8fzM*U\\x92\\xd4c\\xae)\\xba\\xa6\\xd1j\\xca\\xc7\\x00\\xfbSt\\x88\\x82\\xda\\xa9\\x07\\xe5<\\xf0sW\\xd0\\x8b>cR8\\xc2\\xf2q\\xb8\\xfaR0\\xc7A\\xf8\\xd2\\x83M\\xceMA\\xa2\\xd0D\\x1c\\x9ar\\r\\xacx\\xea)\\xca;\\xd0y\\xfaP?2\"rq\\x80=\\xaa\\x8d\\xfc\\x00\\xaf\\x9a\\x02\\xee^\\xfd\\xeb@\\x8ei\\xb2&\\xf4*\\xc3 \\xd6Uc\\xcd\\x1b\\x1bQ\\x9f,\\xaeEg0d\\x03\\x8e\\x9d;\\xd5\\xd1\\xc8\\xcda\\xc4~\\xcf)\\x07\\xa7\\xb9\\xc5jE.\\xe1\\x9c\\x8f\\xc2\\xbci+n{Qw&\\xc7B\\x14\\x7f:p\\x047\\xde4\\xc0\\xc0c\\'\\x15&G\\xad#@\\xc62sR\\xa8\\x1dFG\\x1fJ`>\\xb9\\xa7\\x82;\\x9c\\n@\\x04\\x1cz\\xfb\\x9a\\x8c\\x8f\\xa7\\xe7Sc8\\x1f\\xca\\x98y P\\x04\\x04rqH\\x7f\\xa7j\\x99\\x87\\x04q\\xfc\\xa9\\x98\\xf4\\x1f\\x86(\\x022\\xbc\\xf2\\t\\x18\\xa5U\\x1e\\x95\"\\xa8\\'\\xf0\\xeb\\xd2\\xa4T\\xf7\\xa9\\x02-\\x9cg\\xb7\\xd6\\xa3q\\x80zf\\xac0\\xf5\\xa8\\xa4PA88\\xcf\\xad>\\xa0W \\x8fA\\xe9\\x8af\\x06s\\xc9\\xa9[\\xa9\\x00g\\xe9M\\x00\\x81\\xc7\\xf3\\xa0C\\x15q\\x8cg\\xf9\\xd4\\xca1\\xc55A\\xfc}\\x05<\\x9c\\x0c\\x1c\\x7f\\x854\\x04\\x17-\\x81\\x81\\xc9=0:\\xd3`]\\x8b\\x93\\x80\\x0f\\\\R>$\\x93\\x03\\x91\\xf4\\xcdJ}==+\\xbb\\x07\\x0b\\xbb\\x9ev2zXL\\x0c\\x91\\x9ah\\xc9l\\x0e\\x94\\xf6\\x1bW\\xde\\x88\\x94gv~\\x95\\xe9\\x1ek\\x1e\\xa3\\x03\\x02\\x90\\xfd9\\xa7\\x8f\\xd2\\x94\\x8c\\xff\\x00\\xf5\\xa8\\x11\\x18\\xc8\\xf5\\x1e\\xf8\\xa6H7z\\x1fj\\x93o\\'\\xafZ\\x08\\xc8\\x0340Eu\\x1dG=:R@s\\x8d\\xa7\\x8a\\x1f\\x82y\\xe3\\xda\\xa1\\xb4r\\xcd\\xd7#=qL\\x9d\\x99a\\x88\\r\\x93\\x81\\xefVc\\x1f/\\x15\\x0c\\x838>\\x95,G\\xe5\\xa9(\\x97\\xdf\\xfaR\\x83\\x8fji\\'=\\xe9A\\xed\\xc0\\xfa\\xd2e\\x16mo^\\x06\\x1dYkn\\xde\\xfa9\\x87\\'i\\xf4\\xaeo\\xb8\\xff\\x00\\x1aTv\\x8d\\xb2\\xa7\\x07\\xf9\\xd6\\x13\\xa2\\xa5\\xaa5\\x85W\\x1d\\xce\\xbc0=\\xe9\\xd5\\xcf\\xdajl\\xa4+\\xf3\\xdb\\x8a\\xd9\\x86\\xe1%L\\xabg\\xf1\\xaeI\\xc1\\xc7s\\xaa3R\\xd8\\x9f?\\x95#Q\\x90E!<T\\x14y\\x8f\\xc6\\x196h\\x96\\'\\xccU?j\\xe1H$\\xb7\\xca}\\xbbWy\\xa0(M\\x1a\\xc9A\\x04\\x0bx\\xc6B\\xed\\xcf\\xca;`c\\xe9\\x81\\\\\\x17\\xc6\"\\x83D\\xb0\\xdf\"!k\\xbc\\x02d*q\\xb4\\xe7\\x00u\\x18\\xeb\\xd3\\x15\\xdfh,\\xaf\\xa3\\xd9\\xba\\x00\\x15\\xa0\\x8c\\x80\\t8\\x1bG\\xaf?\\x9d7\\xb0u4d\\xfb\\x9c\\xd7\\x8f\\xf8;\\xcc:\\xd7\\x89^V\\xdd!\\xbe\\xe4\\x99\\xbc\\xc3\\x8c\\x1cs\\xcfn:\\xfbv\\xaf`\\x97\\xees^5\\xe0\\x7f\\xdd\\xea\\x1a\\xf2\\xbam\\x7f\\xb7\\x1c\\xae\\xd2\\xa4pOO\\xc6\\xb6\\xa0\\xbd\\xe3\\n\\xee\\xd1;\\x95o\\x97\\xb7\\x07\\xbd)9\\xe75\\x18\\xe3\\xf1\\xf4\\x14\\xa0\\xfbf\\xbblq\\\\vy\\xc7zC\\xd3\\xb1\\xa5 `\\x9a\\x8c\\xb7\\x14\\xca\\x1c\\x08\\xebI\\xdf8\\xfc\\xe8Rh\\xe3>\\xf9\\xa2\\xc08\\xf0G\\xaf\\xbd2C\\x81\\x8aR{\\xd5[\\x87\\xe3\\xfc)\\xa4& l\\xb7\\xf8T\\xa8\\xd9\\xc9\\xc5W\\x8cn#9\\xab\\x03\\n\\xa6\\xa8\\x94e\\xebN\\x16\\xd9\\x8ep@\\xcew`Ri\\x12\\xef\\xb4@\\x17\\x07\\xb0\\xaa\\xde!\\x91|\\x8d\\xac@\\xee>`\\x07\\xebO\\xd0\\x06m\\x06>\\xefl\\xff\\x00\\x8fz\\xb6\\xbd\\xd29\\xbfyco \\x0ei\\x00\\xcbg\\x02\\x94\\xb1\\xc5*/\\x00\\xd6f\\xa4\\x88>S\\x81A\\x03\\x1cR\\x80py\\xc0\\xa1\\x81\\xc5!\\x91\\xf3\\x82\\xb8\\x04\\xf6\\xcd&\\x0e9\\x18>\\xd4\\xacpz\\xd09\\xa1\\xa1\\xa6P\\xbd\\xb6-\\x87\\\\\\x0cu$\\xf5\\xa4\\xb5b\\x06>n+L\\xa8 \\x82\\x01\\xcf\\xadQ\\xf2\\x84S\\x1cg\\x07\\xa7lW\\x9d\\x89\\xa5\\xf6\\x91\\xe9\\xe1k]r\\xb2u\\x03\\x8c\\xe7\\xe9R\\xa1=\\x85\".q\\x80jP\\x99=\\x8dq\\x1e\\x82\\x15s\\x82{\\xd4\\xcb\\x90y\\xfeT\\xc5Q\\x9c\\x0f\\xd2\\xa5\\x0b\\xb4\\xe6\\x90\\x0629\\xe7\\xf0\\xa6\\x11\\xc7\\x0bR\\x7f\\x93\\x8aa\\x1ct40# \\x90@\\x1c\\xd1\\xb7<\\x1c\\x1f\\xad?\\x1ds\\x8ei\\xca\\xbe\\x94\\x00\\xc5N{\\xfeU&\\xde\\x94\\xaa\\xa4{\\xd3\\xb8=\\xa9X\\x08\\xf6\\xe7\\xb0\\xfeu\\x0c\\xab\\x80\\x7f\\xc2\\xac\\x91\\xd7\\x1dj\\tG\\xcax\\xe9@\\x14\\xdb>\\xbd\\xbd)\\x99\\x1ds\\xd3\\xda\\xa4\\x90d\\x92i\\x98\\xee:})\\x88\\x15\\xc9\\xc0#\\x8fzl\\x92|\\xbdG\\xf8Q\\xb7\\xb9\\xa6\\x81\\xbd\\xb1\\x93\\x8c\\xfeuq\\x8b\\x93\\xb13\\x92\\x8a\\xbb\\x16\\x15\\xc8$\\xe3\\x93\\xc6jL\\x1d\\xc4\\x91\\xf4\\xa7\\x1e=)\\xad1U+\\x8a\\xf5\\xe9C\\x926G\\x89Z\\xa7<\\xaeF\\xcd\\xb8\\xed\\x07\\xf3\\xa9\\x95p1\\xedQD\\x0bs\\x83\\xf450&\\xb60\\x00>\\xb4\\xbc\\xf4\\xa0\\x1eh\\xc7>\\x94\\xc0a\\xc8=\\xa9\\xbd\\x7f\\xcfZ{)#>\\xfd\\xe9\\x83\\xff\\x00\\xd7A$\\x13\\x0ct\\xfeU\\x9b\\xa7\\xcd\\xba\\xf2d\\xf9\\x89V\\xe7\\xda\\xb5f\\x00\\xaf&\\xb9\\xcbL.\\xb9:\\x929n3\\xeb\\xecM4\\xb4dM\\xd9\\xa3\\xa5`H\\xa7\\xa2\\x9cg~i\\xa0ex\\xe9\\xde\\xa4\\x07\\x8f\\xfe\\xb5K5C\\xf3\\xd6\\x82s\\xda\\x9a\\x0ey\\xe3>\\xb4\\x83\\x93\\xc5H\\xc91\\xd3\\x8a\\x06G\\xd4\\xd3\\t\\xe0t\\xeb\\xde\\x91N}\\xe8\\x18\\xfc\\xe4sR\\xc7q$D\\x15\\'\\x03\\xde\\xa1\\xfe.(\\xcfQ\\xd75.)\\x82m\\x1b\\xb6z\\xa0\\x97\\x08\\xe7\\x07\\xf9\\xd6\\x97\\x98\\x18q\\x82+\\x8f\\'\\x18#\\x19\\xfdj\\xd5\\x86\\xae\\xd1\\xb0\\x8a@J\\x8e\\xf8\\xe9\\\\\\xf5(u\\x89\\xd1\\n\\xfa\\xdaG3\\xf1\\x82vM\\x17NA(\\x8fu\\xe0\\'2\\xec<)9\\xc7p?J\\xef\\xbc?#\\xcd\\xa3YI#\\xb3\\xbb\\xdb\\xc6\\xcc\\xcd\\xd5\\x89Q\\x92k\\xce~-\\xcc\\xd2\\xe8\\xbaxQ\\xf2\\xb5\\xd8\\xdc\\xfc\\x0cq\\xc7\\xccz\\x7f\\xfa\\xab\\xd1t\\x17\\xf34\\x8bG\\xcc\\x8c\\x0c\\x11\\x9c\\xc8\\xc0\\xb1\\xf9G$\\x8e\\t\\xf5\\xaeg\\xb1\\xd0\\x9e\\xa6\\x9c\\xb8\\xdb\\xcf\\xadx\\xbf\\x82\\x90\\xc5>\\xb5\\x1bF#d\\xbf|\\xa8\\xe3\\x1e\\xc4v\\xfc\\x00\\xafg\\x9b\\xee~5\\xe3>\\x07\\xc3\\xdc\\xeb\\xa5Sb}\\xbd\\xb07\\x03\\xeb\\xc7A\\x8f\\xc8u\\xad\\xb0\\xff\\x00\\x11\\x8e#\\xe1;Pw&@\\xc59X\\x91P\\xa9\\xdb\\x95\\xe9\\xf8S\\x8f\\r\\xd6\\xbb\\xecp\\x12\\x92{\\xfaSx\\xc5 \\xe6\\x822((9\\xedJ2}q@\\x1e\\x86\\x9d\\xc61\\xfc\\xe8\\x1d\\x86\\x9e\\x84UI\\xc9#\\x8f\\xd2\\xae?Oj\\xcd\\x91\\xf7J\\x17\\xdf\\xa1\\xa6\\x84\\xc9\\xa3\\x18\\x19&\\xa5^\\xe7\\xf9\\xd3P\\x10\\xa3\\x14\\xa3\\x80i\\x89\\x1c\\xcf\\x88e\\x1fhX\\xc1\\xf9\\x8fr3\\xf8\\n\\xd8\\xd2 \\xf2l\\xd0c\\x9csX\\xfa\\x8cF\\xe3XE\\x01\\xb9\\xef\\xed],?\\xbb\\x88(\\xec*\\xa4\\xf4H\\xce\\n\\xf3m\\x8e\\xc19\\xefR&\\xdeFzu\\xe7\\xa5E\\x1be\\x898\\xc5YQ\\xd7\\x1f\\xa5f\\xcdn&)O#\\x03\\x9aC\\xde\\x859\\xfaP\\x17\\x10\\xaex\\xcd4qR\\x9f\\xad3\\x19\\xed@\\x0b\\xda\\x98\\xca\\xa7<\\x0fj\\x7f\\x03\\x8aN\\xa0\\xe2\\xa6QMY\\x97\\x19\\xb5\\xb0\\xc4\\xca8\\x04\\xf1W\\x14\\x03\\xdb?\\x8dW\\xdb\\x9cS\\xe3}\\x87\\x04\\xfc\\xb5\\xe7V\\xc3\\xdbX\\xeczt1W\\xf7d[\\x0b\\xc6H\\xefK\\x81\\xe9\\xda\\x859\\x14\\xe2?\\x1f\\xc6\\xb8\\xedc\\xb9;\\x91\\x94\\x1e\\xc3\\x1f\\xe7\\x9a\\x8d\\x85Nz`\\xf5\\xa8\\xd9Ns\\x9e}\\xe8cLb\\xf4#\"\\xa4\\x04qQ\\x93\\x86\\xed\\x9f\\xad(\\xe3\\xa7\\xff\\x00Z\\x90\\xc9r\\t\\xe3\\xd3\\xd2\\x94\\x0e=\\xea5 \\xf7\\x14\\xf5\\x07h\\xee}q@\\x98s\\xd3\\x1cTR/\\x04\\xf5\\xfaT\\xc4\\x1c\\x7f\\x81\\xa68\\x074\\n\\xe57L\\x9e\\xa7\\xf2\\xa8\\x9f\\n3\\xfc\\xcdY\\x93\\x03=*\\xab\\x82\\xde\\xdd\\xebZt\\xa5=\\x8cj\\xd6\\x8c\\x16\\xa5s0,\\x10u\\xedS(\\xda;\\xfe4\\xc5\\xb6*\\xc5\\xba\\xe4\\xf2jS\\xef\\xd7\\xd2\\xbd:xx\\xc3S\\xcb\\xab\\x89\\x94\\xf4\\x18\\xcd\\x93\\x8c\\xd4L\\xa4\\xb0\\x00\\xf1Na\\x93\\xc1\\xa1\\x06z\\xf3\\x8fZ\\xe8G+\\xd7q\\xeb\\xc0\\xa7\\xe7\\x19\\xf4\\xa4\\x00\\x1c\\xd1\\xde\\x98l(c\\xf8\\xd3\\xb7t\\xe8M3\\xdb\\xde\\x94b\\x80\\x17p\\xe7\\xa5DH\\xc9\\x1c\\xfb\\x1cT\\xbc\\xf3\\xfc\\xf1Q\\xb0\\xf7\\xed\\xe9B\\x13\\x1b(\\x06?^;W&\\xd2\\x18\\xb5\\xe2\\x01\\xe0\\xbe0y\\xe3\\xdb\\xd2\\xba\\xb6\\\\\\x8cc5\\xcaj\\x8am\\xb5a#\\xb0\\xc3\\xb8\\xc08\\xeb\\xc7z\\xa8\\xeeEW\\xa2:\\xc8\\x98\\x14\\x07\\x8e\\x05L\\x07\\xcb\\xd6\\xaa[\\x92b\\x18\\x1cc\\x8a\\x9dI\\x1c\\x1a\\x86\\x8d\\x16\\xc3\\xdb\\x8e\\xa0~=)\\xaas\\x91\\x9al\\x8e1\\x9cf\\x99\\x11<\\xf3\\x8a\\x02\\xe4\\xe0\\xf48\\xa0\\x1e\\x02\\xf1H3\\xef\\xf8\\xd0\\x0f\\xb5&Rc\\xb3\\xff\\x00\\xea\\xa4=i\\x07\\x14g\\x9c\\xd2\\x01{u\\x1dj\\xbc\\xd1\\xe7\\x0c:\\xfbT\\xe3={\\xfbSX|\\xa4\\x1f\\xe7F\\xc0\\xec\\xd1\\xc1\\xfcF\\x9d\\xce\\x9b\\xa7F\\xc4\\x14\\x17Y\\xc3H@\\xdd\\x8e\\xea:\\xf7\\xfaf\\xbd{\\xc3\\xdch\\xb6@`\\x0f\\xb3\\xc7\\xc0\\xce>\\xe8\\xf5\\xc5x\\xd7\\xc4H\\xd7\\xec\\xbay!W\\x178\\x0c\\xcf\\xf3`\\x81\\xc0\\\\\\x1c\\xf4\\xeb\\xdb\\xf1\\xafg\\xd1\\x0b\\x7ffZ\\x92\\x02\\x93\\n\\x12\\x00\\xc6>Q\\xdb\\xb5p\\xd7\\xb71\\xd9C\\xe15%\\xfb\\x9f\\x8dx\\xbf\\x81\\x98\\xc9}\\xe2\\x17.$s~r\\xc3\\xa1\\xeb\\xec?\\x90\\xafg\\x9b\\xfdY\\xcdx\\xcf\\x81\\xa5in\\xf5\\xf7y|\\xd2o\\x89$\\x0c\\x03\\xc7P01F\\x1f\\xe2\\x15\\x7f\\x84\\xeb\\xdf\\xd4z\\xd3\\xfe\\xf2c\\xad!\\xe5I\\xe2\\x9c\\xa0\\x0e+\\xd18\\x05\\x07\\x1cc\\xf4\\xa7\\x06\\xe3\\xd2\\xa3c\\xb5\\xe9A\\xf9s\\x93Hi\\x8e\\x07\\xda\\x9cM0\\x7fZ]\\xdcq@\\xc4~\\x84\\x9e+<\\xe0\\xcd\\xef\\x9e\\x95}\\xfav\\xc5Q82\\x9e\\xe3<\\xe6\\x9a\\x06X_\\xb8\\x00\\xfd)\\xc3\\xe5S\\xebL\\xc9\\xc0\\x1f\\xa0\\xa5rv\\x1c\\x128\\xa6#&\\xda\\xdc\\xcb\\xac<\\xc4p\\xbct\\xef[\\r\\xd7\\x19\\xedPY\\xc5\\xe5\\xa3\\x1e\\xa4\\x9c\\xf1S\\x13\\xf3\\x8f\\xd3\"\\x9bz\\x92\\x95\\x91$k\\xd0\\xf7\\xa9\\x94\\x7f\\x9c\\xd3\\x13\\x8e\\x94\\xe0OL\\x9a\\x82\\xf6\\x14\\xe3\\xaex\\xa0t\\xc8\\xe7\\xb0\\xe2\\x8e\\x99\\xeb\\x8aO\\xa7=\\xa8\\x01y\\xfc\\xa8\\x18\\xc5.@\\x02\\x99\\x9cq@\\x01\\x19\\xff\\x00\\x1aE\\x078\\xfe\\xb4\\xfc\\x129\\xfc\\xe8\\xf2\\xb1\\x96\\'\\x02\\x8b\\x88@\\xc1\\x9f\\x03\\xaf\\xbd<}G\\xe5Q`)\\xcfsN\\x0cx\\xff\\x008\\xa4\\xd5\\xcb\\x8c\\xac\\xc9\\x04\\x8c\\x87\\xda\\xac$\\xc0\\x91\\xcf\\xd2\\xab\\x1eG\"\\x99\\xb4\\x86\\xdc\\x0e\\x0f\\xb7\\x15\\xc7W\\x0e\\xa5\\xaa;\\xa9b\\\\tf\\x86\\xe1\\x8e\\xdf\\x853\\xb6\\x07\\xf2\\xaa\\xe2B;}M?\\xcc9\\xaeG\\x87\\x9d\\xf6:\\xd6*\\x1d\\xc7\\x11\\xd78\\xa3\\x8c`\\xe2\\xa3\\xdeO\\xf5\\xedH$\\xf6\\x04\\xd2\\xfa\\xbc\\xfb\\x15\\xf5\\x9a}\\xc9\\xfe\\x9cq\\xc7\\x14\\xe0\\xd8\\x00u\\xaa\\xbef\\x18\\xf4\\x1fJS*\\xf65\\xa4p\\xb3\\xeae,d\\x11g\\xccQ\\xea\\x7f\\x1a\\x8d\\xe4\\xcf\\xff\\x00\\\\c\\x15\\\\\\xc9\\xc7\\x1cTM!\\x035\\xbc0\\x8b\\xa9\\xcf<c{\\x133\\x02*\\x16`\\x0fo\\xc6\\x93x u\\xc51\\x81#\\xaf\\xe5]p\\x82\\x8a\\xb28\\xa7Q\\xcbVN$\\x01\\x0f\\xf4\\xa87d\\xff\\x00Jn2\\xc795 ^:\\xd5\\xd8\\x8b\\xdc\\x86N\\x08\\xa4\\x88\\x9fQ\\xf9R\\xca1\\xc7\\xebI\\x1f\\xd7\\xbfc\\xc51\\x16\\x00\\xef\\x8aC\\xd4\\xe0\\xd1\\xd38\\xfdi\\x0f\\xde<\\xd2\\x18\\xa0\\xe4\\xe0\\x9a~\\xdc\\x0c\\x83L\\x03=\\x0e)\\xd98\\xeb\\x9a\\x1f\\x90/1\\x0fC\\xf5\\xa8\\xc8\\x1e\\x9d\\xba\\xd4\\x9d\\xcf\\x1f\\x9d5\\x87\\x1f\\xe1LOT1An\\x00\\xc5s\\x9e\"\\xb2\\x82K\\xb52\\xca\\xe8\\x00\\x00\\x05\\x1cWQ\\x11\\xe3\\x18\\xfck\\x0b\\xc46\\xe6EY\\x94\\xa8#\\xd7\\x8e\\xf4\\xe2\\xed\"*\\xc6\\xf0.\\xe9\\xb2,\\xb6hA\\xe9\\xc6{\\x1a\\xb7\\xd0u\\xe6\\xb3\\xb4yB\\xc0\\xab\\xb4t\\xef\\xd6\\xb4\\xa5\\xe3$\\x03\\x8fj\\x9e\\xa5\\xad\\x8a\\xf2I\\x96\\xc6\\xea\\x95\\x06\\x07\\xf4\\xaa\\x80\\x96\\x9b\\xff\\x00\\xd5V\\xd4\\x9e)\\x8dj?\\x9e\\x07J@q\\xcf4\\x9b\\xb9\\xc7\\x14g\\x8aC\\x1eO\\x14\\x839\\xe0~T\\x83\\xaf?\\x958\\x0e}\\x05!\\x8b\\xc6:\\x9f\\xc6\\xa2\\x978\\xda>\\x95!c\\xd0\\x1a\\x8aF\\xda2\\xcd\\xc7NM\\x02g\\x07\\xf1\\r\\x80M,\\x01!\\x7f\\xb4\\x1c\"0\\x1b\\xbe\\xef\\xeb\\x9cc\\x02\\xbd\\x8bC\\x0c\\xbaU\\xa2\\xb8!\\xc4\\x08\\x18\\x13\\xc8;Fk\\xc6\\xbe \\x89\\x1e-68\\xf6\\xe0\\xdc\\x9e\\x08\\x04\\xe7\\xe5\\xc7\\'\\xeb\\xdb\\xf1\\xafe\\xd1\\x01\\x1a]\\xa0m\\xa1\\x84)\\x9d\\xa4\\x10\\x0e\\xd1\\xd3\\x1cc\\xe9\\\\\\x15\\xfe#\\xb6\\x87\\xc2jNq\\x19\\xaf\\x16\\xf8|\\xccc\\xd5\\xd8\\xb6\\xe0oI\\x07\\x1f\\xec\\xf3\\xdc\\xff\\x00:\\xf6\\xa9\\xc6b5\\xe2\\xfe\\x00\\x8c\\xc4\\x9a\\xc21\\x05\\xc5\\xe9\\x04c\\x04|\\xa3\\xdc\\xff\\x00\\x91O\\x0f\\xf1\\x0b\\x11\\xf0\\x9d\\x90\\xe0\\x1fc@|\\xaf\\x14\\x11\\xf2\\x91Q\\xabu\\x1d\\xeb\\xd1G\\x9eJ\\xd8#\\xd4\\xe2\\x85~\\x074)\\xca\\xe3\\xa7\\xbd0p{P4\\xc9G\\\\\\x8aS\\xeax\\xfaS\\x17\\x93\\x91Ns\\xefH\\xae\\x82H\\xd8\\x04\\x0e\\xb8\\xac\\xf2\\xd8|\\x92\\x05_\\x93\\x05NH\\xfc\\xaa\\x87YNO\\xeb\\x8ahL\\xb2\\x0fLS\\x88\\xc8\\xc7\\xf3\\xa6\\x03\\xc2\\x8fJ\\x93\\x1d1A7\\x1c\\xa9\\xb5q\\xda\\x90\\x0c>iY\\x88\\x1d\\x05\"\\x1c\\xb6Nh(\\x95\\x18g\\x19\\xce:\\xd3\\xc9\\xe9\\xd0SUz`\\n\\\\{f\\xa4\\x05\\xe0\\xfdix\\xc0\\x19\\xfc)\\xa0q\\xedJ\\x07\\xa7j\\x02\\xc2\\x9f\\xaf\\xe7M\\x1d9\\xe6\\x9dH\\x80\\x121\\xcf\\xd2\\x80%_\\x952@\\xcdB\\xf2\\x16\\xe4\\xf4\\xf4\\xa9\\xe5\\xfb\\xa0\\n\\x80\\x8e@\\xa5\\x1e\\xe3\\x97a\\xa4n\\x14\\xf4\\xc1#\\x9f\\xa7\\x14`g\\xde\\x9f\\x1f\\xdf\\x18\\xe8\\x7fZm\\xe8$\\xb5\\x16P7\\x0e\\xdcT`\\xe2\\xa6\\x9c\\xe5\\x87\\x15\\\\\\x9ei%tS\\xd1\\x8e\\xdd\\xf4\\xa0\\x1c\\xe7\\x1f\\x8d0\\x13RB\\x17\\xcc\\xc9\\xe9CBLf\\xeeNh\\rSO\\x18S\\x91Q\\x13\\x8e\\xf4+1\\xbd\\x1d\\x86\\xfd@?\\x8d\\x1b\\xb9\\xc74g=\\xbf::\\x8e\\xbf\\xad;\\x0b\\x98F\\xc9\\x14\\x9br)\\xc7\\xa1\\xc7\\xf8\\xd3I\\xc0\\x14XW\\x13\\x85\\xf5\\xeb\\xde\\xa3c\\x93\\xc1\\x14\\xe6a\\xcf\\xf94\\xc1\\xf5\\xe7\\xd2\\x98\\xb7$A\\xceH\\xa7\\xe7\\x9f\\x7fz`\\xeb\\x8foN\\xb4e\\x8d\\x03Dr\\x1eGO\\xad$d\\x13\\xdb\\x93K \\xe9\\xdb\\xf0\\xcd189\\x18\\xa0E\\x8c\\xf1\\xdc\\xd1\\xbb\\x9c\\xf1\\xd2\\x90\\x1e:R\\x1fa\\xdb\\x8e(*\\xe2\\xe4g\\xfc\\x9aq>\\xdc\\xd3FG\\xd7\\xd2\\x9d\\xce3\\xd4P\\x01\\xc7qHH\\xc7\\xff\\x00Z\\x9a\\xc7\\x1c\\xe2\\x979_\\x7fj\\x00rp\\x0f?\\xadR\\xd4!\\x13\\xdb\\x10\\xcb\\x93\\xdb\\x8e\\x95}G\\xee\\xb2F*\\xac\\xaa\\x191\\xcfO\\xad%\\xbd\\xc3u\\xa9\\x95c*\\xfd\\xa0\\xc4\\x1b8\\x1f\\xadkJ\\xe0Dy\\'\\xd2\\xb9[7h\\xb5\\xd9\\x13\\x04)\\xfe\\x1ct\\xf7\\x15\\xd1JI\\x84\\xe78\\xefT\\xd6\\xa6p\\x95\\xd1\\x04,\\x0c\\xbe\\xa0\\xf4\\xff\\x00=\\xaa\\xf8\\xc6\\xde\\x08\\x07\\xebYv\\xfb\\x8c\\xf8\\xed\\xfc\\xebD\\x0cd\\xfe\\x02\\x86Zc\\xbb\\x8ey\\xa7\\xf6\\xff\\x00\\nf9\\xc9\\xfc\\xcd;<w\\xa9(U\\xf7\\xeb\\xf4\\xa7q\\xd8~U\\x1e;\\x8aR\\xdd\\x80\\xc1\\xa2\\xc0\\x0czqU\\xa6b\\xd8\\xc7QSHx>\\xc3\\x9a\\xaf\\xc9\\x19<q\\xda\\x93\\x03\\x87\\xf8\\x86\\xb9\\xb5\\xd3\\x99\\xf0TN{\\x8c\\x8e\\x07A\\xd4\\xf4>\\x9d\\xab\\xd9\\xb42\\x0e\\x95hB\\x85\\x1eDxQ\\x9c\\x0f\\x94q\\xcdx\\xe7\\xc4\\x06\\x11\\xc3\\xa6\\x9ewy\\xe5\\x91z\\x82\\xc3n2;\\xfd+\\xd9\\xb4}\\xc2\\xc2\\xdbx\\xc3yI\\x91\\x8c`\\xe0q\\x8e\\xd5\\xc1_\\xe2;h|&\\xa4\\xd8\\xf2\\xcek\\xc6<\\x01\\xb4\\x8d`\\xaa\\xc6\\xa0\\xdegdJU\\x17\\xe5\\x1c\\x00k\\xd9\\xe7\\xff\\x00R\\xd9\\xf4\\xaf\\x19\\xf0\\n\\x15\\x1a\\xbeY\\x1b\\xfd0\\xe3o\\x03\\xee\\x8f\\xe1\\xc0\\x03\\xaf\\xa5<?\\xc4,G\\xc2v\\x18\\xc8#\\xf9Tl1\\xf4\\xfa\\xd4\\xfd\\xb1\\xcdD\\xfdz\\xd7\\xa2y\\xf6\\xd0@\\xd9\\\\\\x0f\\xd2\\x94\\x92@8\\xfd)\\x91\\x9eO=EH\\x8a\\\\\\xed\\xf5\\xa6\\xc5\\x1b\\x82\\x1e@\\xc9\\xe7\\xd6\\xa5$\\xf3M12r\\xdc\\x0e\\xb8\\xa5##\\xfa\\x9a\\x92\\xec\\xc8\\xe6b\\x16\\xa8\\xab\\x02\\xd9\\x1f\\x9dZ\\xb8\\xe8A\\xe3\\xf0\\xaa\\x91\\x7f\\xac\\xce3\\xf8S@\\xcb@t\\xe3\\xf3\\x1c\\xd4\\xab\\x8cr?:\\x89N{~\\x9cT\\xab\\xc0\\xfa\\xd0J\\x11\\xdb\\x93\\xf4\\xe2\\x96<\\xf5\\x14\\xc6\\xe4\\xe4c52f\\x91C\\xc14\\xb9\\xe9\\xfaR}\\x06h\\xc1\\xc0\\xa0\\x05\\x18=\\x85;\\xf3\\xa4\\xc8\\x14\\xdc\\xf2{}i\\x00\\xe2N?\\xa5,*L\\xa3<\\xd0:sS[!/\\xe8=\\xe97d4\\xae\\xc6\\xcc~l\\x0e\\xdd\\xb3P\\x93\\xc7Z\\x9ao\\xf5\\x84rj\\x16\\xe9\\x90q\\x8a\\x16\\xc1-\\xc4?z\\x9f\\x19\\xfd\\xe0\\xc1\\xa6\\x8e[\\x15*a~c\\xd2\\x9b\\x12\\t\\xc7\\xcc\\x0e*\\xbf|\\x9f\\xe7Vdq*\\xee\\\\Ubq\\xd0\\xf1Dv\\tn8\\x0e\\xdc\\xe2\\x9c\\xa7\\x0c:\\xd4{\\xb0\\t4\\xaawt\\x140.N\\x15\\x91H<\\x8fj\\xa5#s\\xfe\\x15e\\xf2 \\x075T\\xf4>\\xb4\\xa0\\x8a\\x9b\\x139\\x03\\x02\\x9d\\xc9\\x1d\\xbf:`\\xe9\\xd3\\xf3\\xa7\\xe3\\x8e\\xff\\x00J\\xa2\\x058\\xee)\\xad\\xd0r\\x7f*R9\\xff\\x00\\n\\x89\\xba\\xf4\\xfdh\\x00f\\x1f\\x8d4\\xf5\\xedI\\xc9a\\xdf\\x9e\\xf4\\xed\\xbb}9\\xe9LC\\xd4\\xe0\\xf3\\xf8\\xd3\\x88\\xa4E\\xe7?\\xad\\x0c9\\xf5\\xa4R\\xb9\\x1b\\x9e}\\xfd\\xa9\\x80\\xfc\\xdcs\\xf5\\xefNa\\xce\\x06\\x7f\\x9d0gq\\xe9\\xd7\\xa8\\xa6\\x04\\xc0\\xd3\\xce:\\xe2\\xa3\\x00S\\xb3\\x8e1\\x81Hc\\x8f\\xad&r:R\\x01\\x93\\xdf\\xf0\\xa5\\xc0\\xee(\\x01\\xa4\\xfaR\\xa9\\xc8\\xc5\\x18\\xfcqF0s\\xdb\\xda\\x81\\x13\\x00|\\x92FqU\\\\\\xe5qWc;\\xa2*\\x05Rd\\xc3r>\\xb51)\\x9c\\x9d\\xd1k}y\\x18`\\x06#\\xaf8\\xcfs]\\x0b\\x12a\\xc9\\xf4\\xac\\x7f\\x10Fb\\x92\\xda\\xe1C\\x03\\xe6`\\xf0H\\x1f\\x80\\xad\\x982\\xd0)\\xcer\\xbd\\xebIl\\x8c\\xa3\\xbb([\\x92nH$\\xfd\\rj\\x83\\xc7o\\xa5dD6\\xdf2\\xf2\\x07_\\xaf\\xd6\\xb5\\xd7;x&\\x93)\\x0e\\x04\\xe4\\x1c\\x80:S\\xfbt\\xcdG\\xc9=\\xf3\\xedRm\\xf9y\\x19\\xa4P\\x84\\x90\\xbd\\xe9\\x14\\x10K\\x1f\\xca\\x90\\xf2x<\\x03H[\\xb6rGJ\\x05q\\x8f\\xc8\\xed\\xefQ\\x13\\xcfj\\x95\\xf2\\x17=?\\n\\x85pX`\\xf4\\xa43\\x8b\\xf8\\x83\\xb4E\\xa6\\x92\\xc81+\\x92\\x19\\x19\\xb8\\xf9y\\xc2\\x9e\\x83\\x8f\\x7fJ\\xf6\\x8d(\\xff\\x00\\xa1C\\xc8o\\xdd\\xaf<\\xf3\\xc7\\xbf?\\x9dx\\xdf\\xc4\"\\xcbo\\xa7\\x00S\\x99\\x9b\\x82\\xe1\\x0ep0Cv\\x03<\\xf6\\xe9\\x9a\\xf6],\\x05\\xb3\\x84z\"\\xfb\\xf6\\xaf>\\xbf\\xc4wP\\xf8M\\x0b\\x83\\x8by\\x0f\\x1ft\\xf5\\xe9^5\\xe0\\x11\\xf2\\xea\\xed\\x9d\\xcao\\x8e$\\xf2\\xf6\\xee\\xf9G\\xf9\\xe9^\\xc9w\\xcd\\xac\\xa0rJ\\x1c\\x0f\\xc2\\xbc{\\xe1\\xfcdX\\xea\\x03f\\xd4\\x17\\x8d\\xb4m+\\xc6\\xd1\\xd8\\x9axo\\x88X\\x8f\\x84\\xeb\\xc7O\\xc6\\xa3\\x90\\x8cw\\xfaT\\xd8\\xc0\\xff\\x00\\n\\x89\\xc6G_\\xd2\\xbd\\x13\\xcf\\xe8F\\xad\\x87\\xeb\\xd7\\xb0\\xa9\\x9d\\xcc\\x05_\\x93UpCu<\\x1e\\xa2\\x96w}\\x8a@\\xc0\\xf6\\xedCBZ\\\\\\xb0nY\\xe4\\xdc\\xc3+RnWl(\\xc5C\\x18\\x0c\\x80\\xf7\\xf7\\xa7\\x9e\\x00*ps\\xd6\\x95\\xbb\\x17}.Gy\\x16\\xc4\\xc9\\x19\\xcf\\xa7Z\\xa9\\x16I\\xcf\\xf5\\xe2\\xa5\\xbd\\x94\\x98\\xf1\\x82}\\xfb\\xd5kby\\xe4\\x8f\\xa8\\xc5\\t;j\\x12k\\xa1iA\\xdc:{\\xe2\\xa5\\xfe\\x1al@\\xe4dq\\xf4\\xa7H\\x068\\xe3\\x1c\\xf4\\xa6\\xc4\\x90\\xc1\\x93\\xd7\\x8ey\\xab*N=*\\x05\\x07<\\x8f\\xfe\\xb5N\\x0e;v\\xa4\\x03\\x94d\\xd2\\x80;\\xd2\\x03\\xf9S\\xb3\\xc5!\\xa0#\\x03\\xad3\\xd3\\x14\\xec\\xe4P\\x074\\x06\\xe3\\x87#\\x9a\\x9a\\x02C`u>\\xf5\\x0f\\x19>\\xb5,\\'\\x0e0z\\xd4\\xcba\\xad\\x18\\xc9\\x81\\x0ex\\x1fJ\\x87\\x9f\\xadZ\\xb9]\\xacq\\x8a\\xaeFG\\xad8\\xbd\\x02KQ\\xe8\\x9b\\x9b?\\xce\\x96F\\xfe\\x00qC8Q\\xb7\\xb9\\xa8\\xf2z\\xd1k\\xea\\x0f\\xb0\\xe58\\xc0\\xedD\\x88~\\xf09\\x1e\\xb5\\x19\\xce95,r\\x06\\xf9H\\xfa\\x13M\\xddjJkfC\\xb4\\x0e\\xd5\"\\x0f\\x9b\\x14\\xf7\\\\s\\x8c\\nH\\xbe\\xf8\\xefI\\xbd\\x06\\x95\\x99$\\xa3j\\x0ez\\xd5R\\x009\\xc7\\xe5S\\xdc6\\xe6\\x1c\\xf1\\xf4\\xaa\\xecO\\x1d1DV\\x83\\x93\\xd41\\x81N\\x07\\x8e\\xb9>\\xb5\\x18\\xcfL\\xd3\\xc7\\'\\x8e\\xde\\x95D\\xa1O \\x9c\\n\\x8d\\x87\\xf94\\xe78\\x1d)\\x99\\xc8\\xe9\\xcf\\xd6\\x81\\x88\\xb9\\'\\xae*B8\\x18\\x18\\xf7\\xa1A\\xcf\\xa5.x\\xe4P\\x02\\x02\\x07\\x14\\xbb\\x81\\xce\\x7f\\x9d\\x18\\xe74\\x878\\xeb@\\x11\\xb8\\x19\\x18\\xe2\\x98\\xa7\\r\\xfc\\xaaF$\\xf1\\xdf\\xda\\x98\\xa3\\x93\\xd2\\x80d\\x9d\\xb8\\xa5\\x18\\xc7ji\\xf4\\xc1\\xc59x\\xfab\\x81\\xf5\\x1d\\xb7\\x8aB:S\\x85.p:\\x9aC\\x1b\\xc0\\x1e\\x94\\x9c\\x1e\\xc4\\x8aBz\\xf4&\\x93\\x19\\x1d\\xb1L\\x92h\\xce\\xd2}\\xfa\\xd42\\x0c?\\\\\\x83\\xd8\\xd3\\x97\\x8epA\\x14\\xf2\\x04\\x91\\x86^\\xbe\\xe2\\xa7fRw\\xd0\\xc4\\xd6\\xe03i\\xec\\x15Al\\x83\\xcb\\x01\\x8ez\\xe6\\x97N\\x93\\xcc\\xb0\\x8f;\\xb7\\x11\\xcekNh3\\x03d\\xe4\\x10G\\xa5bh\\xfb\\xc0\\x96&9\\xd8\\xd8\\x03\\x07\\xfc\\xe2\\xad;\\xa2\\x1e\\x92\\xf5\\x1a\\x14\\rD\\xe4\\x0c\\xfa(\\xc5k\\xa1\\x00{Vl\\x8a\\xa3Q\\xdcx\\xe3\\xd6\\xb4\\xb1\\xf2\\xfaP\\xc6\\x87\\xae\\t\\x18\\xa0\\xb8\\x00\\x8aE\\x18\\xed\\xcd(\\x19\\x04\\xf6\\x1d8\\xa4\\x03\\x0b\\x95\\\\\\xe0\\xb7=\\xa8Ff9`\\xcb\\xecE9\\xd7\\x0b\\x81\\x9c\\x9c\\x12}\\xaa_\\xdd\\xec9\\\\du\\x1cRl\\x14u)\\xc9\\x86\\xe38\\xfaP\\xab\\xd39\\xfci\\x9b\\x86\\xe3\\x8f\\xba\\x0f\\x04\\x8c`S\\xd3\\xfab\\x81\\xdc\\xe2~#\\x92\\xb1il1\\xb9fr\\x01]\\xdc\\xe1x\\xc1\\xc8?J\\xf6\\x9d3&\\xd6,\\xf0v.F1\\xdb\\xd3\\xb5x\\xb7\\xc4g\\xc4Zb\\xae\\x16S3\\xedp\\xd8#\\x85\\xe0v\\xf4\\xeb\\xe9^\\xd3\\xa6\\r\\xb6\\x91\\x0e\\xe1\\x07\\xf2\\xaf>\\xbf\\xc4wP\\xf8K\\xb7c6\\x92\\x83\\xdd\\x0foj\\xf1\\xef\\x87a\\x05\\x8e\\xa3\\xb40\\x1fl#,G?(\\xf4\\xafb\\xba\\x04\\xda\\xca\\x06s\\xb0\\xf4\\xfaW\\x8e|;\\x8d\\xe3\\xd3\\xaf\\xc3+\\x0c]\\xb0\\xf9\\x879\\n3\\x9f\\xc6\\x9e\\x1b\\xe2\\x16#\\xe1;N\\xc7\\xfasLu\\xe0\\xff\\x00\\x85<\\x8czS$\\x03\\x15\\xe8\\x1e}\\xca\\xfbO<\\x92>\\x94\\xc7\\xcb\\xc4W\\x82}\\xeabH$`{\\x8aA\\x11\\xdc\\x1b\\x9fLU\\x13f\\x99WO\\x91\\xbc\\xbf-\\xba\\xa9\\xc7<b\\xae\\x12pA\\xe9\\xedY\\xc8\\xe2\\x1dU\\xa3^\\x03u\\xcdi0\\'\\x9e\\xd42\\x96\\xd6)]0\\xf3UN9\\xe8)a\\x05T\\xfc\\xb8\\xcfJ\\xa9\\xaa?\\x974y\\x07\\x929\\xcfJ\\xd2\\x8d\\x03D\\x1b\\x03$R\\x05\\xb8\\xb1\\x95\\x18\"\\x9c\\xe4\\x91\\xc5\\x03\\n\\x07\\x1f\\xa5G\\xc9n\\xb4\\x0e\\xfa\\x13&\\x08\\xc9\\x18\\xfc*]\\xb9\\x1e\\xd4\\xd8\\xd0\\x81\\xdf$zT\\x851\\x9c\\xe0R\\xb8\\xec7 c\\xb8\\xa5\\xa3\\x19\\xef\\xd2\\x94q\\xff\\x00\\xeb\\xa0H:\\n7q\\xd8Rdb\\x80\\x0f\\xa5!\\xa0\\xceO\\x06\\x9d\\xbfo?\\x8d3\\x1c\\xd3\\xf06\\xf3@\\xb5,\\x9cK\\x10;\\xaa.\\x11O\\x1c\\xf68\\xa5\\x85\\x93~\\xdd\\xd8#\\xa5,\\xe8\\x0fAQ\\xb3\\xb1}.A\\xd7\\x9aN3\\x9c\\xd2\\x91\\xebL \\xe7\\xb7\\xd6\\xad\\x10;\\x8c\\xf1\\x8a\\x088\\xe0\\nh\\xfb\\xc3\\xbf\\xbd<)\\xa6\\t\\x13G\\x89\\x13\\x0cy\\x14\\x15\\x11\\xe4\\x0e\\xb4\\xd4\\x88\\x92\\x0eH\\xc1\\xa4\\x95\\xc08\\x15\\x1dt+T\\x88\\x81,I\\xf7\\xedHGN\\xb9\\xa0\\x12q\\x8aRzw\\x1e\\xd5d\\x8d\\x00\\x1aq\\xe8q\\xd2\\x93\\xeb\\xeb\\xebFh\\x19\\x0c\\xaf\\xcf#\\x1fZ\\x14\\xf4\\x04\\nF\\xc9r\\x07\\xe3\\xebOQ\\x809\\xa1\\x82\\xdc\\x90~_\\x85)\\xe9M\\x07\\x91\\x8eho\\x98\\x0e\\x94\\x0c\\\\\\xe4\\xf6\\xa5\\'\\xbfSM\\x1diX\\x82=\\xe9\\x01\\x1b\\xfd\\xee\\xf8\\xa6\\x8ey\\x034\\xe6\\xe888\\xa6\\x0e\\xbd\\x8d1\\x0e\\x18<\\x91\\xc58\\x1e\\r4d\\x7fJp>\\xbc\\xfb\\xd01Al\\xd3\\x8f\\x07\\xd2\\x9a:\\xd0G^x\\xfa\\xd0\\x17#=NiG\\xd3\\xff\\x00\\xadJF}\\xfdi\\x07\\xbe?\\xad\\x02%\\xed\\xd3?\\xca\\x92\\x171\\xb69\\xc1\\xa4\\xdc3\\xd8\\xf1H~\\xe8>\\x9d\\xe9n=\\xb5%\\x903\\x0cc\\x02\\xb2\\x16/&\\xed\\xf9\\xe1\\xb9\\xe9\\xc5i\\xc79w\\xda\\xc0\\xfad\\x8e*\\xad\\xccm\\xe6\\xab\\x0c\\x80=\\xb8\\xa1h7f\\xaeRe?o\\xe8y\\xe9\\xc7z\\xbc\\x01\\xc7\\xbdWa\\xfe\\x97\\x91\\x93\\x91\\xdf\\xfaU\\x91\\x8cs\\xd0U\\x12;\\x81\\x81\\xd0\\xd3X\\xe3\\x80N\\x07\\xad.G&\\xa2`\\\\\\xed\\xeb\\xfa\\xd0\\x03\\x94\\xf2\\tR\\t\\xf7\\xe6\\x92S\\xc6\\x00\\xebH\\x83\\x9e01D\\xbc\\x1aL\"U@@\\xc3\\x1e\\x9d\\xea\\xc4jH\\xe3\\xa7~\\xf4\\xd9#;\\x83\\x01\\xc6=:\\xd4\\xd1\\xae@\\xeeq\\xda\\x95\\xc7khp\\x9f\\x11\\x0ee\\xd2#\\xf2\\xd1\\xc3J\\xff\\x00\\xeb2\\x13\\xf8~\\xf69\\xc7\\xb5{u\\x88\\x0b\\x12\\x8e8\\x18\\xe0`W\\x88\\xfcG\\x12\\x16\\xd2R5\\x99\\xb33\\x1c#\\x11\\x93\\x94\\x03\\xa7~\\xc2\\xbd\\xbe\\xccb0?J\\xf3\\xeb\\xfcGu\\x0f\\x84\\xb3y\\xff\\x00\\x1ess\\x8f\\x91\\xb9\\xf4\\xe2\\xbcw\\xe1\\xcf\\xcf\\xa7_\\xbe\\xe6\\x93u\\xe3~\\xf1\\x8f\\xcc\\xf8U\\xe4\\xf2\\x7f\\x99\\xaf`\\xbe\\xcf\\xd8\\'\\xc0\\xc9\\xf2\\xdb\\x03\\xd7\\x8a\\xf2\\x0f\\x86\\xc4\\xbe\\x8f{\\x95 \\xfd\\xb1\\xf2\\x08\\xe7;W\\xa9\\xc0\\xc9\\xfc\\x05<?\\xc4*\\xff\\x00\\t\\xda\\x91\\xc1\\xfe^\\xb5\\x1e9\\xe9\\xf9T\\xa4q\\xd6\\xa1bA\\xef]\\xe8\\xe0z\\x11\\xb8!\\xb2\\x0f?Jtg\\xe5\\x1e\\xfe\\xb4\\xe7\\x1c\\x13\\x8aDl\\x81O\\xa0\\xba\\x94u\\x16X]%8\\x1bx\\xcf|U\\x85}\\xd1\\x82?:\\x8bR\\xb7\\xfbE\\xb9]\\xc5pr\\x08=\\r%\\xa9o\\xb3(a\\x828\\xe3\\xbdV\\x96\\x13\\xbf1\\x9d\\xac\\xb8\\xf3b_S\\x90\\x0fz\\xd3\\xb5?\\xb8PF\\x0e+\\x1f^,\\x9eS\\xb1*\\xbb\\xb9\\x15\\xa9c\\x96\\x823\\x8e\\n\\xe7\\x90zP\\xd6\\x88I\\xfb\\xcc\\xb7\\xc0\\x03\\x06\\x9a0\\x18\\xf4\\xc58\\xae\\x0f\\xa7\\xe3@\\x18?x\\xfa\\x8a\\x93K\\x92)+\\xfe4\\xf2\\xde\\xa6\\x98\\x83\\x8c\\x9ax\\x194\\x80N\\xf4g=?3@^}\\xa9\\xc0t<\\x13@n0\\x03\\xd0\\x9a\\x90(\\x14\\x9c\\x1c\\xd2\\xf7\\xe2\\x86\\tX1\\xce:SI\\xc7\\x1csN\\x07\\xbd7##\\xa5\\x03`\\t\\x041\\x1c\\x83\\xc0\\xab+x\\x1d\\x82\\x11\\xce?:\\xaf\\x9c\\xfaSv\\xe0\\xe5z\\xf5\\xe2\\x93I\\x896\\xb6\\'\\x92<7\\x1d\\xea-\\x9f\\xfdjt2\\xb6\\xef\\x9c\\xf1R;\\xa1\\xce\\xdc\\xe6\\x95\\xda+F\\xaeG\\x1cE\\xc0 \\x13\\x8aV]\\x8d\\x82F}\\xe9\\x89;\\xc7\\x90\\xbcg\\x8aU~\\xa7\\xa9=\\xcf4Y\\x8945\\xe6l\\xed\\xc61L\\xce\\x0f&\\x9cN\\xe3\\xda\\x9a\\xe0\\x96=j\\x91/p\\xa3\\xd0\\x90>\\xa2\\x90\\x1ey\\'4\\xb98\\xe9\\x91L.#7\\xb0\\xa6\\x16\\xe0\\xff\\x00<R\\xee\\xe6\\xa3c\\x9e\\xe74\\x05\\xc7q\\x9e\\x9f\\xd6\\xa4S\\x91L\\x03\\x82qN\\x04q\\xcfJ\\x06\\x04|\\xdf\\xe1Jp\\x06;\\xd3\\x81\\xa4c\\x91\\xf5\\xf6\\xa3P\\xb2\\x10\\x0e\\x7f\\xfa\\xd4\\xa7\\xa1\\xc5!\\xeb\\x8ax\\x1f.}\\xa8\\x04D\\xdd\\x00\\xef\\xe9M^\\x99\\xe2\\x9c\\xd8\\xf4\\xfc\\xe9\\x17\\x19\\xe3\\xf2\\xe9@\\x08O\\xd7\\x93K\\x9ex\\xc84\\xbfJQ\\x8f\\xd2\\x80\\xb0\\x988\\xe9G8\\xff\\x00\\nq8\\x1d8\\xa6\\xb1\\xe3\\x9fJCHL\\xf1\\xf44du\\xcd1\\x8eW\\xfa\\xd0:\\x83\\xdc\\xf7\\xa6\"A\\x83\\x9aA\\xd8s\\xc5\\nx\\xe2\\x8c\\x1c\\x0e\\xa3\\xd6\\x90\\xec&9\\xe3\\x1f\\x852YX\\xa8]\\x80\\x8fZ\\x90g>\\xd5\\x1c\\x8b\\x9e3C\\x02\\xa9\\x963/\\x1fBj\\xd1\\xe7\\x18\\xeak:}\\xa90 \\x01\\xcf\\\\d\\xd5\\xb8_#\\x8e\\x82\\x9d\\x85rS\\xf2\\xaf\\x18\\xfa\\xd5Q 3\\x15\\xc8\\x03\\xde\\xa5\\x95\\xfdk=I2\\x129&\\x9a\\x14\\x8d(\\xf0\\x07\\x18\\xa8\\x9c\\xe5\\x8ey\\xa9\\x90m\\x8cg\\x8a\\x81\\xc9$\\xe4{\\xf4\\xe9H\\xae\\x84\\xc1\\xc3\\xc6\\x14T\\x8a\\x98\\x1cg\\xeah\\xb6L\\xc7\\x9f\\xd6\\x9c\\xe4(\\xcfLT\\x8f}O=\\xf8\\x8e\\x11\\xa7\\xd1\\xc0W.e~Tn\\xc0\\xcag\\x8e\\xa4\\xf4\\xc6+\\xdc,\\x80\\xf2\\xd7\\x02\\xbc;\\xe21v:X\\x8d\\x8e\\xe130,\\xd8Q\\xf7y\\'\\xb6>\\xa3\\xbd{\\x85\\x8f\\xfa\\x95<\\x1e;W\\x05\\x7f\\x88\\xed\\xa1\\xf0\\x96/\\xff\\x00\\xe3\\xc2\\xe0\\xe0\\x1f\\xdd7\\x07\\xbf\\x06\\xbc\\x83\\xe1\\xaf\\x1a=\\xea\\x10\\x8a\\xe9x\\xe1\\xc2\\xf0\\x01\\xda\\xbd\\xba\\x0fN\\x00\\xaf`\\xbd\\xc7\\xd8g\\xc8\\x04ym\\xc1\\xe8x\\xaf\\x1d\\xf8t\\xe4\\xe9wc8\\x1fkr\\x10.\\x12<\\x81\\xc2\\xfb~\\x03\\xd2\\x9e\\x1f\\xe2\\x16#\\xe1;\\x9e\\xa3\\x9esP:\\x91\\x9c\\x91S\\x8eG\\xd6\\x9a\\xff\\x00w\\xd0Wz8\\x08\\xc1\\xc8\\xc50\\xf0{S\\t\\x08\\xd9#\\x07\\xde\\xa4\\\\:\\xff\\x00\\x8dQ+q\\xb2\\xf3\\x19\\xaa\\xb6\\xaeN\\xe5=A\\xf4\\xabrd)\\x1c\\xfb\\x9a\\xc7\\xfbIK\\x89\\x13\\x9c\\xf5\\x14-F\\xdd\\x89\\xef\\xed\\xcd\\xc0\\xda}r8\\xcd]\\x825\\x89\\x02\\x81\\xdb\\x8a\\x8e)\\x04\\xa0\\x1c~uf5\\x00c\\x18\\xa1\\xb0J\\xefA\\x8e8\\x14\\x91\\xe7\\'\\xf9\\xd4\\x8e0}\\xe9\\xaa>n?<\\xd2(\\x97\\'m(8\\xeah\\xc1\\xc7qHF\\x0fZ@.\\xee)7\\x12\\x07\\x02\\x81K\\xdb\\xdb\\xde\\x80\\x10\\x12\\x07\\xb1\\xa5$\\xe2\\x93\\xb7\\x14\\xe1\\x8e\\x94\\x02\\x19\\xc9=\\x7f:p^\\x99\"\\x9d\\x81\\x91\\x9e)1\\x9e\\x84Qp\\x03\\x81\\xdf4\\x13\\xf9\\xd20\\x00\\x8c\\xd0\\xc3\"\\x8b\\x00\\xd2N\\xee\\xfc\\xd2\\x8e\\x9dh\\xc6OZ@\\x00\\xefLBs\\xbb&\\x90\\x1cpi\\xd8\\xe6\\x81\\xf4\\xe7\\xb5\\x01a9\\xcd)\\xfab\\x8f^)I\\xc7|P1\\x84s\\xc14\\x87\\x18\\x1cR\\x9e;R\\x11\\xdf\\x9a\\x05a\\x8cp2Ni\\xab\\x8ez\\x81\\xde\\x86<\\x1e\\x9c\\xfa\\x9a\\x17\\x9e1\\xff\\x00\\xd6\\xa0\\x07rs\\xc9\\xff\\x00\\n]\\x83\\x83O\\n\\x06z\\xfet\\xe1\\xfc\\xa8\\x1d\\x84\\x03\\xb7\\xf5\\xa3\\x1c\\x1eiI\\x02\\x98[\\xf0\\xcf\\xb5\\x01q\\xcc)\\x03pzc\\x1d)\\xc0\\xf1\\x9ai\\x01\\x87$\\xfaR\\x18\\xc6\\xc1\\xc7s\\xf9\\xd0\\x80\\x00s\\xfc\\xa8#\\xd3\\x8aA\\xd7\\x93@\\x0e\\xc8\\xc79?AK\\x8e?\\nfy\\x07\\x15 >\\x84\\x1a\\x00N\\x08\\xee}\\xe9\\x1b8\\x1d\\x7f\\x1aq\\xc6)\\xa7\\xad\\x00\\xd1\\x17\\xbf\\x19\\xa7.\\x0fSHx\\xe83@\\x1f\\xe4Qp\\xb0\\xf5\\xeb\\xdb\\x14\\xee\\xa3\\xdb\\x1d)\\x02\\xf4\\xe0\\xd2\\x9f\\xbb\\xfd(\\x18\\x80s\\xeb\\xf8\\xd3Xex\\xc7\\xd2\\x95If\\xf5\\xfa\\xd2\\xb2\\xe4\\x7f*\\x04e]*\\x07\\xde\\xdc\\xe3\\xd7\\x9a\\x92\\xd3>Qa\\xf9\\xd2\\xdfB\\xd2#\\x05\\xc6q\\xde\\xa2\\xb4>M\\xb1\\r\\x91\\xc7\\x06\\x9d\\xc5mBv\\xc6A9\\xc7`)m\"\\xcb\\x8c\\xa9\\xe3\\x9c\\n\\x81\\xd8\\x19@b\\xa4\\x9e\\xc4\\xe3\\xf4\\xab\\xf6\\xea\\x14\\x03\\x81\\xf9S\\xd9\\n\\xd7c\\xeeX#*\\xaf~\\xb85\\n\\xa8\\'\\x90)\\xd2d\\xc9\\x90\\x00\\xfci\\xd1\\xa0\\xeb\\xd7\\xd7\\x9a\\x91\\xeaX\\x83\\x011\\xdf\\xe9I)\\x19=)bO\\x90\\x93\\xc0\\xedMs\\x81\\x8e\\xdfJ\\x1a\\x1aw8\\x0f\\x88\\x10\\x9b\\x83\\xa5B\\x1a_\\x9e\\xe0\\xae\\xd5\\x00/ny n\\x1c\\xe0{\\x9ek\\xdc,F!^\\xbd+\\xc3\\xfc~\\x9b\\xee\\xb4\\x84TW&b\\x021,\\x0f+\\xc6\\xde\\x87?\\x85{\\x8d\\x98>]y\\xf5\\xfe#\\xbe\\x87\\xc2X\\xba\\x19\\xb5\\x94`\\x1c\\xa1\\xe0\\xf4\\xe9^+\\xf0\\xff\\x00\"\\xca\\xf5q\\n\\x91x\\xe3j8*\\xbc\\x0e\\x068\\x03\\xd3\\x1dG5\\xed\\x17\\x84-\\x94\\xe4\\xf4\\x11\\xb6\\x7f*\\xf1/\\x87\\xac\\xa7J\\xbc(\\xe3h\\xbbl}6\\xaf\\xa1#\\xf54\\xf0\\xdf\\x11\\x18\\x9f\\x84\\xf4\\x1e\\x80\\x0c~\\xb4\\xbc\\x11\\x8f\\xe9Q\\xc2\\xc1\\xd0`\\x8ay\\xe0\\xfb\\xfd+\\xbf\\xa9\\xc0\\x91\\x1c\\xd1\\x83\\x9e?*\\xaf\\x1c\\x81\\x1b\\x19\\xfeuw\\xef\\x0e\\xa3\\xdb\\x8a\\xce\\xb9\\x05\\t>\\x9f\\xad4;u-HK\\'\\x1d\\xab\\x93\\xd5Y\\xe0\\xbdY@\\xda\\x80\\xfc\\xe4)\\'\\xfc\\xfe\\x15\\xd0Ar\\xb3\\xc7\\x8c\\x8c\\xfaVM\\xfd\\xb9\\x92p20\\x1b\\xbfO\\xc7\\xbdTtd\\xcfU\\xa1\\xa9\\xa7\\x8f\\xdd\\x03\\x9f\\xc6\\xb4\\x07\\x07\\x9a\\xafk\\x16\\xc8\\xc6}\\x00\\xab\\\\t\\x04\\xd4\\xb6T|\\xc8\\xdb\\x96\\xe9NE\\xe7\\xdb\\xe9A\\x18\\x1d\\xb8\\xa5\\x18\\xcd!\\x92r;\\xd4m\\xc3w\\xe9O\\xce3\\x8e)\\xac9\\xfc(\\x06 #\\x81N\\x1c\\x8a@0\\x01\\xc8\\xa5\\xcd\\x0cI\\r\\xc6\\x0fJp\\x19\\xe7\\x14\\x98\\xc0\\xc6\\x058\\x0c\\x8a\\x18\\x01\\'\\x8e)\\xbd\\x87Z~p\\x7f\\xfa\\xf4\\x99<v\\xa1\\r\\x89\\xf3u\\xc7\\x14\\x87\\x9e\\xd4\\xec\\x9ao\\xeb@\\x80\\x82i@ \\xf3\\xd2\\x97\\xdf\\xfa\\xd3rM\\x17\\x0b\\x07 \\xf2x\\xa4\\xe3\\xda\\x97\\x92F?:a\\x07\\x19\\xed@\\xc93\\xc7\\x1cSv\\x83\\xd3\\x83M\\x04\\xd2\\x82G\\\\\\xd0\\x01\\x8e}\\xe9\\x878\\xc5I\\x8c\\xd31\\xc7\\x7f\\xaeh\\x0220O\\xeb\\x9az\\x0f\\x96\\x98Q\\x81\\xe8@\\xa9\\x17$p)\\x8a\\xc3\\xceB\\x92\\xa3\\xf0\\xedT\\xe4\\xba\\x926\\xc0\\xb7-\\x8e\\xf9\\xabx#4\\xb8\\x1d\\xc5C\\xbfF\\\\Z\\xea\\x88`\\x91\\xe5\\x05\\x9e=\\xbf\\x8dH\\xc0\\x91\\x9a~\\xefj\\x08\\xc8\\xe4\\xe6\\x9av\\xdcM.\\x83GB}\\xe9x\\xfa\\xd0r\\x0fz8\\xa7pHi\\x03\\xa8\\xea?Ja\\x18=;\\xf7\\xa9\\x9b\\x00u\\xc7\\xe3P\\xf5\\x07\\xb5\\x00\\xc3\\x03\\x1c\\x11N^F2qL\\xc1?\\xfdzx\\xe0\\xfa\\xf1H\\x10\\xe2;s\\xf8\\xd3\\x19G\\x1c\\x9f\\xf1\\xa5\\x04c\\x8f\\xd6\\x83\\xd3\\xd8\\xd022\\xc3\\xa6(\\x04\\xe7\\xff\\x00\\xadHG`;\\xd3\\x94\\x0c\\xe3\\xff\\x00\\xadB\\x06=H\\xed\\xfaP\\xc4\\x01N\\xc0\\x07\\xa0\\xfci\\x8e9\\x1d\\xa8\\xb8!\\xa0\\x858\\xc1\\xcd9\\x9b+\\x8c~\\x14\\xd5\\xfb\\xdc\\xe2\\x94\\xe3\\x00\\x1c\\xd0\\x04\\x13}\\xd3\\x8c\\x0e>\\x95\\x91<\\xcf\\x181\\x91\\xf8\\x8e\\xf5\\xb1&9\\xfd+\\x9b\\xd7e\\xf2\\xed\\x88\\r\\x82\\xdft\\x0e\\xe6\\xaa:\\xb2f\\xec\\xaeIa\\'\\xdag\\xf9X\\xe0\\x1c`v\\xad\\xec\\xed\\x8fh\\xc7\\xe3Y:\\x05\\xbf\\x95j\\x8es\\x96\\x19\\xf9\\x86?\\x1a\\xd3\\x98\\xe4\\x00;\\xd1\\'v\\x10Z\\\\j\\xae\\xf3\\x803\\xcdL\\x8b\\xce\\xce\\xa4\\xf6\\x1d\\x05B\\x8b\\xb7j\\xaa\\xe4\\xe7\\xb5[\\x8d<\\xa0s\\xcb\\x9e\\xa4P\\x1b\\x8e\\xce\\xc5\\xdb\\x9e\\xd5\\x0b\\x91\\xdc\\xfeU\\'\\xd0\\x9a\\x8fnOO\\xc2\\xa5\\x94p\\x9e>]\\xf7ZDa\\xa2\\x05\\xa6#\\x12\\x0e:\\xafS\\xf7q\\xecy\\xfdk\\xdc,\\xb8\\x8czW\\x88\\xfcB\\x8fi\\xd2\\xcf\\x96\\xe5D\\xcd\\xc8b\\x13\\xf8x s\\xb8\\xfa\\xe7\\xd6\\xbd\\xba\\xcb\\x98\\x86x\\xae\\n\\xff\\x00\\x11\\xddC\\xe1\\x1f\\xa81]:\\xe5\\x868\\x89\\x8f?C_<\\xf8s\\xc6\\x9aN\\x89c5\\xad\\xed\\xc4\\xee\\xde{\\xc8\\x1a\\x15VP\\x0e8\\x1f7<\\xe4\\xfe5\\xf4q\\x01\\x81\\x04d\\x1e\\xa0\\xd5\\x16\\xd0\\xf4\\x86\\x90H\\xda]\\x89q\\x81\\xb8\\xdb\\xa6\\x7f<{\\x0f\\xca\\xb3\\x84\\xdc\\x1d\\xd1S\\x82\\x92\\xb3<~\\x0f\\x8a>\\x1aE\\x1b\\xde\\xf20A<\\xc2\\xb8\\xcf\\xa6wu\\xfaT\\xcb\\xf1O\\xc2\\xf2`\\x99\\xee\\x93=\\x9a\\x0e\\x9f\\x93\\x1ek\\xd6\\x0e\\x83\\xa3\\x95U:U\\x89T\\x04(\\xfb:aA\\xeb\\x8e;\\xd4m\\xe1\\x8d\\x01\\xb1\\x9d\\x13M8\\x18\\x1f\\xe8\\x91\\xf0?*\\xd7\\xeb\\x123\\xfa\\xbcQ\\xe5\\xab\\xf1C\\xc3C\\x04\\xcft\\xa0\\x9c\\x12\\xd0\\xe3o\\xd7\\xe6\\xaa\\xf7_\\x12|1,g\\x177\\x038\\xfb\\xd6\\xf8\\xe3\\xd7\\xadz\\xc7\\xfc\"\\xbe\\x1e\\xf9\\x7f\\xe2E\\xa6\\xfc\\xb9\\xc7\\xfa\"q\\x9f\\xc3\\xdc\\xd3\\x13\\xc2\\x1e\\x1b\\x8f\\x94\\xd04\\xb59\\xce~\\xc8\\x9d\\x7f*>\\xb1 \\xf6\\x11<b\\x1f\\x1c\\xe8\\x10]<\\x83PvQ\\xd8Z\\xb9\\'\\xdf\\xdb\\xe9W\\x7f\\xe1`\\xf8g\\xcc\\xdeo\\xae\\x06\\x0fCj\\xe0\\xfe\\xbd\\xab\\xd6\\x1b\\xc1\\x9e\\x18r\\x0bx\\x7fK$\\x12Fm\\x13\\xa9\\xfc=\\xa9\\x9f\\xf0\\x84\\xf8[h_\\xf8G\\xb4\\xbc\\x06\\xde?\\xd1S\\xaf\\xafJo\\x15&J\\xc2\\xc1\\x1er\\x9f\\x11|-\\x8c\\xff\\x00i\\xc9\\xc8\\xe9\\xf6Y\\x07\\xf3\\x14\\xf5\\xf8\\x8f\\xe1n\\xbf\\xda\\x92\\x01\\xd8\\xfd\\x96L\\x1f\\xa7\\x15\\xe8g\\xc1>\\x16b\\x0bx{K$6\\xec\\x9bT\\xeb\\xeb\\xd2\\x93\\xfe\\x10\\x9f\\x0b\\xe6O\\xf8\\xa7\\xb4\\xbf\\x9d\\xb76mS\\x93\\xeb\\xd2\\x97\\xd6$W\\xd5\\xe2y\\xf1\\xf8\\x87\\xe1rH\\x1a\\x93\\xf03\\xff\\x00\\x1e\\xb2s\\xf4\\xe2\\xa4_\\x1f\\xf8X\\xb1_\\xedu\\xe9\\x9c\\x88$\\xc7\\xd3;z\\xd7p\\xff\\x00\\x0f\\xfc##H\\xcd\\xe1\\xcd32}\\xec[\\x81\\xf9z~\\x14\\xef\\xf8@\\xfc)\\xff\\x00B\\xee\\x99\\xf7v\\xff\\x00\\xc7\\xb2\\xf4\\xa3\\xeb2\\x17\\xd5\\xe2p\\xe7\\xe2\\x07\\x85\\x81\\x00\\xeb(r2\\x1b\\xc9\\x93\\x03\\xeav\\xd0|}\\xe1m\\xaa\\xdf\\xdbP\\xe0\\x8c\\xff\\x00\\xaa\\x93\\x8f\\xaf\\xcb]\\xaf\\xfc \\x1e\\x12\\x0c\\x1b\\xfe\\x11\\xdd79\\xcf\\xfc{\\x8e\\xdf\\xfe\\xaa\\x89\\xfe\\x1cx>Yw\\xb7\\x87\\xacs\\xb7\\x18\\x08@\\xc7^\\x80\\xe2\\x8f\\xac\\xb0\\xfa\\xbcNA|{\\xe1b\\xa3\\xfe\\'P\\x8c\\xfa\\xc5 \\xc7\\xd7\\xe5\\xe2\\x9f\\x1f\\x8e|2\\xe4m\\xd7-A\\'\\x80C\\x8c}r\\xbc\\n\\xea\\x7f\\xe1X\\xf83\\x9f\\xf8\\xa7\\xed9\\x18?{\\xfci\\xad\\xf0\\xcf\\xc1\\x8c\\xea\\xc7\\xc3\\xd6yQ\\x80\\x00`?\\x11\\x9c\\x1a\\x7fX\\x90\\xfd\\x84Ni|q\\xe1vp\\x83]\\xb4\\xcbg\\x19\\x0e\\xa3\\x8fr\\xb8\\xa5\\x7f\\x1b\\xf8e\\x08\\xce\\xbbdGO\\x94\\xb1\\xfe\\x95\\xd2G\\xf0\\xcf\\xc1\\xb0\\xb9d\\xf0\\xfd\\xa1\\xca\\x94\\xc3\\x86e\\xc6s\\xd0\\x9e\\xbe\\xfdj?\\xf8U\\x9e\\n\\x03\\xfe@0\\x1e\\xbd^O\\\\\\xff\\x00z\\x97\\xd6$\\x1fWF\\x17\\xfc&~\\x19\\xe7\\xfe\\'\\xf6<6\\xd3\\x97=\\x7f.\\x9e\\xfd)\\x07\\x8d\\xbc3\\x97_\\xed\\xcb0c \\x13\\xb8\\xe0\\xe7\\xd0\\xe3\\x91[g\\xe1_\\x82\\xc89\\xd1S\\x93\\x93\\x99\\xa4\\xfc\\xbe\\xf7JF\\xf8S\\xe0\\xa2\\xac\\x83EU\\x0cFJ\\xcf #\\xe8wS\\xfa\\xc3\\x0f\\xab\\xa31\\xbcY\\xe1\\xe4\\xd9\\x9doO\\x1b\\xf8\\x1f\\xbe\\x1e\\x99\\xe7\\xd3\\x8fZh\\xf1g\\x87\\xa4PS]\\xd3\\x88\\'o3\\x8e\\xbe\\xf9\\xe9Zc\\xe1?\\x82\\x96M\\xc3F\\x1ft\\xa8S3\\x903\\x9eq\\x9e\\xbc\\xf0ON*\\xbb|\\x1d\\xf0i\\xce,\\xae\\x87\\xd2\\xed\\xff\\x00\\xc6\\x8f\\xac\\xb0\\xfa\\xba+\\x1f\\x14h\\x01\\xc2\\x9dsM\\xdc}.T\\xd2\\xc9\\xe2]\\x0e7\\n\\xfa\\xce\\x9f\\x92v\\x80.P\\xe4\\xfe\\x06\\xa7?\\x06\\xfc\\x1aB\\x81iv\\xbbz\\x95\\xbb|\\xb7\\xd7\\xd6\\xa3\\x7f\\x83>\\x0f\\xcf\\x10^\\xaf\\xae\\xdb\\xa6\\x19\\xe9\\xfe\\x14}e\\x8b\\xea\\xe8\\x8d\\xfcO\\xa2F\\xac\\xdf\\xda\\xf6\\x0c\\x14\\x80U\\'V9=\\x80\\x07&\\x9e5\\xed%\\xdc\\xa0\\xd5\\xb4\\xf2\\xcb\\xd4\\x0b\\xa4\\xfa\\xfa\\xf3L\\xff\\x00\\x85/\\xe0\\xf1\\x8c\\xc5~H\\xcf&\\xe8\\xf3\\xc6=(o\\x82\\xbe\\x0e\\xdc[\\xc9\\xbe\\xd9\\xb8\\x1f/\\xedGh\\x1e\\x9d3\\x8f\\xc74\\xfe\\xb2\\x1fW@|I\\xa2 b\\xda\\xcd\\x80\\n\\xfb\\x0f\\xef\\xc7\\r\\xe9R\\x8dsK&@5;\"#8s\\xf6\\x85\\xf9O\\xe7P\\xff\\x00\\xc2\\x93\\xf0v\\xfd\\xc15\\x003\\x9d\\xbfk8\\xc7\\xa7N\\x94\\xc9\\xbe\\x07xI\\xdc\\xc8\\x8f\\xa8D\\xa4\\xe4\"\\xce\\x08Q\\xe82\\xa7\\x8a>\\xb0/\\xab\\x97[U\\xb0\\x8dK\\xb5\\xfd\\x90Q\\xc9&\\xe5;\\xf1\\x9e\\xb4\\x87V\\xb1B\\xe0\\xdf\\xda\\x06@\\x19\\x83\\\\ *\\x0fBy\\xaak\\xf0C\\xc2+\\x19@u\\r\\xc7\\xa3\\x99\\xd4\\xb2\\xfd>\\\\\\x7f\\xfa\\xe9\\xaf\\xf03\\xc2o\\x9d\\xb3jhI\\xca\\xe2u;O\\xe2\\xb4}a\\x8f\\xd8\\x16\\xbf\\xb5\\xac\\xdaF\\x8b\\xed\\xb6\\xc5\\x95<\\xc6\\x02e8S\\xfcY\\xe9\\x8a\\x90\\xea6\\xb1q-\\xd5\\xb4|\\x06\\xf9\\xe6U\\xe0\\x9c\\x03\\xc9\\xe9T[\\xe0w\\x84\\x980W\\xd4\\x97x\\xc2\\xff\\x00\\xa4\\x82\\x10\\xff\\x00x|\\xbd~\\xb9\\x14\\xd6\\xf8\\x15\\xe1o+`\\xba\\xd4\\xc4\\x87\\x1f\\xbd\\xf3\\x97>\\xfcm\\xc1\\xcf\\xd2\\x8f\\xac\\x8b\\xea\\xfef\\x8f\\xf6\\x95\\xa1f\\x02\\xf6\\xd0\\x902@\\x9dz~t.\\xa3f\\x7f\\xe5\\xf2\\xd78\\xdd\\xcd\\xc2t\\xf5\\xebY\\xa7\\xe0g\\x85\\xce\\xd0.\\xf5@B\\xed\\xc8\\x99y>\\xa7\\xe5\\xff\\x00\\xebS[\\xe0W\\x86\\xcf\\x02\\xff\\x00S\\x18\\xe0\\x9f1\\x0eO\\xaf\\xdc\\xfd)\\xfdd>\\xael\\x8b\\xbbvC\"\\xdc@\\xc89.&R\\x07\\xe3\\x9fc\\xf9S\\xd2\\xe690c\\x967\\xdd\\xca\\xedps\\xf4\\xf5\\xacc\\xf0/\\xc3G\\x8f\\xb6\\xea\\x81\\x88 \\x91*\\x81\\x9e\\xa0\\xe3n09\\xe3\\xde\\xa2\\xff\\x00\\x85\\r\\xa3\\x10?\\xe2s\\xa9\\x03\\x8c\\x1d\\xbb\\x07\\xfe\\xcbK\\xeb(>\\xaen\\xbd\\xc4{\\xf6\\x19c\\x0f\\x9f\\xbad\\x00\\xd3>\\xd7\\n\\xf9\\x87\\xcc]\\xa8\\x9b\\xd9\\x87*\\x17\\xd7p\\xe0\\xf4\\xeck\\r\\xbe\\x01\\xe8\\x85\\x81:\\xc6\\xa2p9\\xc8\\x8c\\xff\\x00\\xec\\xb4\\xe4\\xf8\\x13\\xa3\\xa2\\xed\\x1a\\xe6\\xae\\x10}\\xd5GE\\x03\\xf0\\x0bG\\xd6C\\xd8\\x1b2]D\\xab\\xbd\\xe6\\x89Sn\\xed\\xcd\"\\x81\\x8e\\xb9\\xe6\\x91na\\x92$\\x95e\\x88\\xc4\\xeb\\xbd\\x18H0\\xcb\\xea9\\xe4V\\x19\\xf8\\x07\\xa57]wR$\\x1e\\tX\\xce\\x07\\xa7J{\\xfc\\x04\\xd1\\x1865}G?\\xc3\\xb8Fv\\xf3\\xfe\\xed\\x1fY\\x0f\\xab\\x9a\\xd1\\xde\\xdb\\xcabX\\xae!-0-\\x16\\x1c|\\xe0c\\xa7\\xafQ\\xf9\\xd3\\xa2\\xbb\\x82_(\\xa4\\xf0\\xb8\\x9b\"\"\\xae\\x08\\x90\\x8e\\xb8\\xf5\\xc5c?\\xc0}$\\xa9\\x1f\\xdbz\\x8e\\xf3\\xca\\x9d\\xa9\\x85=\\xce1\\xe9H\\xbf\\x02\\xac\\xa2Td\\xf1\\x1e\\xa2\\xaf\\x1f*U\\x10m>\\xa3\\x1d?\\n>\\xb2\\x1fW7^\\xe6 P\\x19#R\\xed\\xb1F\\xf0w\\x1fA\\xef\\xc1\\xe3\\xda\\x99\\xf6\\x84q\\x95`@b\\x9c\\x1e\\x8c:\\x8fcXc\\xe0V\\x9b\\x87T\\xd7o\\xd5X\\x87Q\\xb18<\\xe7>\\xa7\\x91\\xcf\\xd7\\xd6\\xa3\\x93\\xe0<2\\x06i|Q}$\\xa7\\x92\\xcd\\n\\x9c\\x91\\xd3\\xa9\\xcf\\xebG\\xd6C\\xd8\\x1b\\xbez\\x02It\\xc0\\x7f,\\x9d\\xc3\\x86\\xfe\\xef\\xd7\\xda\\xa4I\\x04\\x8c\\xe1N\\xe6C\\x86\\x00\\xfd\\xd3\\xd7\\x07\\xf3\\xfdk\\x97O\\x81\\x82I\\xd9[\\xc4\\xf7\\x0c\\x02\\xe7\\xe6\\xb5\\x07\\x9f\\xfb\\xea\\x96\\xeb\\xe0\\x82\\xc1\\x04^_\\x89ny 0{`A\\xf7\\xe1\\x87>\\x94\\xfe\\xb0\\x1fW:\\xc0rJ\\x8eY@\\xdc\\xa3\\x9d\\xbf_JG\\x93h;\\x866\\x0c\\xb1<m\\x1e\\xe6\\xb9\\t~\\x08\\xec2\\x01\\xe2YJ\\x86\\xe7u\\xaeK}N\\xfei.\\xbe\\x0cM\\x0bL\\x89\\xe2\\x9b\\x82\\xaa\\xa0a\\xed\\xb3\\x90s\\x91\\xf7\\xc0\\xc5\\x1fYA\\xf5s\\xac\\x12n\\x90\\xa2\\xfc\\xcc\\xa0eG$g\\xa6}(\\x92eV*\\xc4\\x02\\xa3,\\xa5\\x87\\xca=O\\xa7C\\\\\\xa3| \\xbbe\\x9a\\x07\\xf1e\\xd3F\\x08\\xf9~\\xcepp\\xbd\\xfe\\x7f\\xc2\\xa3\\x9b\\xe1=\\xf4+zW\\xc5\\xb7@A\\x16T\\x08\\x08\\x04d\\xf0\\x7fy\\xd3\\xdb\\xde\\x8f\\xac\\xa0\\xfa\\xb9\\xd5\\xc8\\xfb\\x98\\xae9\\xc6\\xecw\\xc7\\xaf\\xd3\\xde\\xb9\\x7f\\x11\\xc3,\\xad\\x13\\xc7\\x1e\\xf3\\xb7\\x9eH\\xca\\x9f\\xa7QT\\xe2\\xf8i\\xa8\\xb2F[\\xc5\\x97d*\\x01\\x8f-\\xba7o\\xf5\\x9d=\\xaa;\\x9f\\x86z\\x85\\x9c\\xf7(\\xbe+\\xb9aj\\x9f!\\xf2X\\x1c\\x1c|\\xbcI\\xc0\\xfazSX\\xa4\\x89\\x96\\x1b\\x99X\\xebl\\x8f\\x93e\\x1e\\xef\\x94m\\xe3=\\xfe\\x94A\\xf6\\x96\\x97$\\x90=\\x87Z\\xe4S\\xe1\\xf6\\xb1m.\\xc8<au\\x19\\x8a\\xdd\\xa4B\\xb0\\xb7\\xca0\\tQ\\xfb\\xce\\x07\\x03\\xa7\\xa5R\\xb6\\xf0v\\xb6 \\x89\\xe3\\xf1m\\xcc{#\\xf3#\\x0b\\x13\\xfc\\x99\\x1c\\xe3\\xf7\\x9cf\\x9a\\xc4\\x87\\xd5\\x8fJBQrA-\\xfc\\xa9\\xe1\\xb2I\\xc7=k\\xcc\\x9b\\xc3\\x9a\\xe5\\xab[\"x\\xaa\\xef\\x98\\xcd\\xca\\xe1\\x18m\\x7f\\x9b\\x91\\xf3\\xfd\\x7f:\\x82\\x1d#_\\xb9m67\\xf1]\\xd8\\xfbT\\x8d\\'\\xca\\x8c62\\xff\\x00\\x17\\x0f\\xc9\\xeb\\xcd\\x1fXA\\xec\\x19\\xeaL\\xfbH\\xc8\\xe7\\xb7\\x14\\xa0\\xfc\\xa3\\x00\\x9c\\xf3\\xd3\\xf5\\xaf#\\xb9_\\x11\\xe9\\xc9\\x0e\\xcf\\x14]\\x91u#\\x16\\xc2\\x95\\xe4c\\x92wrN\\x05Q\\x8a\\xef]\\xb8M\\xed\\xaf]bw\\x05\\x94\\xe7\\xef)\\\\\\x1e\\xbdz~T}a\\x0f\\xd8\\xb3\\xb0\\xf8\\x86\\x86C\\xa4\\xb2\\xc2$\\xfd\\xfb($\\x91\\x9c\\xed\\xf9x#\\xaf\\xf9\"\\xbd\\xb6\\xc3\\x8bu\\xc8\\xe7\\x15\\xf3\"\\x8dKU\\xbe\\xd3\\x1e\\xff\\x00Q7_i\\x91\\x9b\\x13\\xc7\\xbb\\x1bx#\\xaf \\x85\\x1e\\x95\\xf4\\xfd\\xaa\\x85\\x811\\xe8:W5Ys;\\x9b\\xd3\\x8f*\\xb3?\\xff\\xd9'\n"
     ]
    }
   ],
   "source": [
    "# Reading a binary file (e.g., an image)\n",
    "with open('Haris pic.jpg', 'rb') as file:\n",
    "    data = file.read()\n",
    "    print(data)\n",
    "\n",
    "# Writing to a binary file\n",
    "with open('new_image.png', 'wb') as file:\n",
    "    file.write(data)\n"
   ]
  },
  {
   "cell_type": "code",
   "execution_count": 163,
   "id": "695999a6-da90-455d-a912-e904f3de0ad3",
   "metadata": {},
   "outputs": [
    {
     "name": "stdout",
     "output_type": "stream",
     "text": [
      "File not found.\n"
     ]
    }
   ],
   "source": [
    "try:\n",
    "    with open('non_existent_file.txt', 'r') as file:\n",
    "        content = file.read()\n",
    "        print(content)\n",
    "except FileNotFoundError:\n",
    "    print(\"File not found.\")\n"
   ]
  },
  {
   "cell_type": "code",
   "execution_count": 164,
   "id": "ec6e4b22-9939-4403-a8eb-8923199bd8dc",
   "metadata": {},
   "outputs": [
    {
     "name": "stdout",
     "output_type": "stream",
     "text": [
      "This is a line written to the file.\n",
      "This line is appended to the file.\n",
      "\n"
     ]
    }
   ],
   "source": [
    "with open('file1.txt', 'r') as file:\n",
    "    content = file.read()\n",
    "    print(content)\n",
    "# File is automatically closed when the block is exited\n"
   ]
  },
  {
   "cell_type": "code",
   "execution_count": 165,
   "id": "d7d77187-5e95-45f8-9b42-d2abf84dabe6",
   "metadata": {},
   "outputs": [],
   "source": [
    "import os\n",
    "\n",
    "# Rename a file\n",
    "os.rename('file1.txt', 'new_file.txt')\n"
   ]
  },
  {
   "cell_type": "code",
   "execution_count": 166,
   "id": "cd46c90a-6e02-4a24-9125-286e0b055319",
   "metadata": {},
   "outputs": [
    {
     "ename": "FileNotFoundError",
     "evalue": "[Errno 2] No such file or directory: 'file_to_be_deleted.txt'",
     "output_type": "error",
     "traceback": [
      "\u001b[0;31m---------------------------------------------------------------------------\u001b[0m",
      "\u001b[0;31mFileNotFoundError\u001b[0m                         Traceback (most recent call last)",
      "Cell \u001b[0;32mIn[166], line 4\u001b[0m\n\u001b[1;32m      1\u001b[0m \u001b[38;5;28;01mimport\u001b[39;00m \u001b[38;5;21;01mos\u001b[39;00m\n\u001b[1;32m      3\u001b[0m \u001b[38;5;66;03m# Delete a file\u001b[39;00m\n\u001b[0;32m----> 4\u001b[0m \u001b[43mos\u001b[49m\u001b[38;5;241;43m.\u001b[39;49m\u001b[43mremove\u001b[49m\u001b[43m(\u001b[49m\u001b[38;5;124;43m'\u001b[39;49m\u001b[38;5;124;43mfile_to_be_deleted.txt\u001b[39;49m\u001b[38;5;124;43m'\u001b[39;49m\u001b[43m)\u001b[49m\n",
      "\u001b[0;31mFileNotFoundError\u001b[0m: [Errno 2] No such file or directory: 'file_to_be_deleted.txt'"
     ]
    }
   ],
   "source": [
    "import os\n",
    "\n",
    "# Delete a file\n",
    "os.remove('file_to_be_deleted.txt')\n"
   ]
  },
  {
   "cell_type": "code",
   "execution_count": 168,
   "id": "a61e941b-58aa-4f33-b5be-87467cdb8e35",
   "metadata": {},
   "outputs": [
    {
     "name": "stdout",
     "output_type": "stream",
     "text": [
      "This is a line written to the file.\n",
      "\n",
      "This line is appended to the file.\n",
      "\n"
     ]
    }
   ],
   "source": [
    "for i in open('new_file.txt'):\n",
    "    print(i)"
   ]
  },
  {
   "cell_type": "code",
   "execution_count": 169,
   "id": "3b3ed8d0-349f-4c02-9ec6-46ae5eac1920",
   "metadata": {},
   "outputs": [],
   "source": [
    "def read_file(file_name):\n",
    "    with open(file_name) as sudh :\n",
    "        for i in sudh:\n",
    "            yield i "
   ]
  },
  {
   "cell_type": "code",
   "execution_count": 172,
   "id": "6152e77f-f7c9-466f-8b14-af0daea18759",
   "metadata": {},
   "outputs": [
    {
     "data": {
      "text/plain": [
       "<generator object read_file at 0x7f1d9c2069d0>"
      ]
     },
     "execution_count": 172,
     "metadata": {},
     "output_type": "execute_result"
    }
   ],
   "source": [
    "read_file('new_file.txt')"
   ]
  },
  {
   "cell_type": "code",
   "execution_count": 171,
   "id": "932359c2-0afb-400e-9154-8ffca5b89b4c",
   "metadata": {},
   "outputs": [
    {
     "ename": "FileNotFoundError",
     "evalue": "[Errno 2] No such file or directory: 'test.txt'",
     "output_type": "error",
     "traceback": [
      "\u001b[0;31m---------------------------------------------------------------------------\u001b[0m",
      "\u001b[0;31mFileNotFoundError\u001b[0m                         Traceback (most recent call last)",
      "Cell \u001b[0;32mIn[171], line 1\u001b[0m\n\u001b[0;32m----> 1\u001b[0m \u001b[38;5;28;01mfor\u001b[39;00m i \u001b[38;5;129;01min\u001b[39;00m read_file(\u001b[38;5;124m'\u001b[39m\u001b[38;5;124mtest.txt\u001b[39m\u001b[38;5;124m'\u001b[39m):\n\u001b[1;32m      2\u001b[0m     \u001b[38;5;28mprint\u001b[39m(i)\n",
      "Cell \u001b[0;32mIn[169], line 2\u001b[0m, in \u001b[0;36mread_file\u001b[0;34m(file_name)\u001b[0m\n\u001b[1;32m      1\u001b[0m \u001b[38;5;28;01mdef\u001b[39;00m \u001b[38;5;21mread_file\u001b[39m(file_name):\n\u001b[0;32m----> 2\u001b[0m     \u001b[38;5;28;01mwith\u001b[39;00m \u001b[38;5;28;43mopen\u001b[39;49m\u001b[43m(\u001b[49m\u001b[43mfile_name\u001b[49m\u001b[43m)\u001b[49m \u001b[38;5;28;01mas\u001b[39;00m sudh :\n\u001b[1;32m      3\u001b[0m         \u001b[38;5;28;01mfor\u001b[39;00m i \u001b[38;5;129;01min\u001b[39;00m sudh:\n\u001b[1;32m      4\u001b[0m             \u001b[38;5;28;01myield\u001b[39;00m i\n",
      "File \u001b[0;32m/opt/conda/lib/python3.10/site-packages/IPython/core/interactiveshell.py:282\u001b[0m, in \u001b[0;36m_modified_open\u001b[0;34m(file, *args, **kwargs)\u001b[0m\n\u001b[1;32m    275\u001b[0m \u001b[38;5;28;01mif\u001b[39;00m file \u001b[38;5;129;01min\u001b[39;00m {\u001b[38;5;241m0\u001b[39m, \u001b[38;5;241m1\u001b[39m, \u001b[38;5;241m2\u001b[39m}:\n\u001b[1;32m    276\u001b[0m     \u001b[38;5;28;01mraise\u001b[39;00m \u001b[38;5;167;01mValueError\u001b[39;00m(\n\u001b[1;32m    277\u001b[0m         \u001b[38;5;124mf\u001b[39m\u001b[38;5;124m\"\u001b[39m\u001b[38;5;124mIPython won\u001b[39m\u001b[38;5;124m'\u001b[39m\u001b[38;5;124mt let you open fd=\u001b[39m\u001b[38;5;132;01m{\u001b[39;00mfile\u001b[38;5;132;01m}\u001b[39;00m\u001b[38;5;124m by default \u001b[39m\u001b[38;5;124m\"\u001b[39m\n\u001b[1;32m    278\u001b[0m         \u001b[38;5;124m\"\u001b[39m\u001b[38;5;124mas it is likely to crash IPython. If you know what you are doing, \u001b[39m\u001b[38;5;124m\"\u001b[39m\n\u001b[1;32m    279\u001b[0m         \u001b[38;5;124m\"\u001b[39m\u001b[38;5;124myou can use builtins\u001b[39m\u001b[38;5;124m'\u001b[39m\u001b[38;5;124m open.\u001b[39m\u001b[38;5;124m\"\u001b[39m\n\u001b[1;32m    280\u001b[0m     )\n\u001b[0;32m--> 282\u001b[0m \u001b[38;5;28;01mreturn\u001b[39;00m \u001b[43mio_open\u001b[49m\u001b[43m(\u001b[49m\u001b[43mfile\u001b[49m\u001b[43m,\u001b[49m\u001b[43m \u001b[49m\u001b[38;5;241;43m*\u001b[39;49m\u001b[43margs\u001b[49m\u001b[43m,\u001b[49m\u001b[43m \u001b[49m\u001b[38;5;241;43m*\u001b[39;49m\u001b[38;5;241;43m*\u001b[39;49m\u001b[43mkwargs\u001b[49m\u001b[43m)\u001b[49m\n",
      "\u001b[0;31mFileNotFoundError\u001b[0m: [Errno 2] No such file or directory: 'test.txt'"
     ]
    }
   ],
   "source": [
    "for i in read_file('new.txt'):\n",
    "    print(i)"
   ]
  },
  {
   "cell_type": "code",
   "execution_count": 45,
   "id": "8972a009-4ebb-40b0-acde-18e40fda5e30",
   "metadata": {},
   "outputs": [],
   "source": [
    "l = [\"sudha\", 'akshay' , 'pwskils']"
   ]
  },
  {
   "cell_type": "code",
   "execution_count": 46,
   "id": "b80764cc-ad31-4b4f-a397-456051079a6c",
   "metadata": {},
   "outputs": [
    {
     "data": {
      "text/plain": [
       "'sudha akshay pwskils'"
      ]
     },
     "execution_count": 46,
     "metadata": {},
     "output_type": "execute_result"
    }
   ],
   "source": [
    "\" \".join(l)"
   ]
  },
  {
   "cell_type": "code",
   "execution_count": 48,
   "id": "6aecf6a1-1d98-4ddd-8c16-059738d702e0",
   "metadata": {},
   "outputs": [
    {
     "name": "stdout",
     "output_type": "stream",
     "text": [
      "5\n",
      "4\n",
      "3\n",
      "2\n",
      "1\n"
     ]
    }
   ],
   "source": [
    "def countdown(n):\n",
    "    while n > 0:\n",
    "        yield n\n",
    "        n -= 1\n",
    "\n",
    "# Using the generator\n",
    "for i in countdown(5):\n",
    "    print(i)\n"
   ]
  },
  {
   "cell_type": "code",
   "execution_count": null,
   "id": "3b17aad6-0911-4187-af44-06e09393b816",
   "metadata": {},
   "outputs": [],
   "source": []
  }
 ],
 "metadata": {
  "kernelspec": {
   "display_name": "Python 3 (ipykernel)",
   "language": "python",
   "name": "python3"
  },
  "language_info": {
   "codemirror_mode": {
    "name": "ipython",
    "version": 3
   },
   "file_extension": ".py",
   "mimetype": "text/x-python",
   "name": "python",
   "nbconvert_exporter": "python",
   "pygments_lexer": "ipython3",
   "version": "3.10.8"
  }
 },
 "nbformat": 4,
 "nbformat_minor": 5
}
