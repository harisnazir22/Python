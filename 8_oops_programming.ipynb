{
 "cells": [
  {
   "cell_type": "code",
   "execution_count": 1,
   "id": "88d15ff0-a25f-41b6-9dcc-226f66bae830",
   "metadata": {},
   "outputs": [],
   "source": [
    "'''A class is a blueprint or template for creating objects. It defines the attributes (data) and methods (functions)\n",
    "   that the objects created from the class will have.\n",
    "   An object is an instance of a class. It is a concrete representation of the class's blueprint. \n",
    "   You can create multiple objects (instances) from the same class, and each object has its own\n",
    "   set of attributes and can call the class's methods.'''\n",
    "\n",
    "class Car:\n",
    "    # Class attributes\n",
    "    brand = \"\"\n",
    "    model = \"\"\n",
    "    \n",
    "    # Constructor method (usually called __init__)\n",
    "    \n",
    "    def __init__(self, brand, model):\n",
    "        self.brand = brand\n",
    "        self.model = model\n",
    "    \n",
    "    # Methods\n",
    "    def start_engine(self):\n",
    "        print(f\"{self.brand} {self.model}'s engine is running.\")\n",
    "\n",
    "        \n",
    "# Creating objects (instances) of the Car class\n",
    "car1 = Car(\"Toyota\", \"Camry\")\n",
    "car2 = Car(\"Tesla\", \"Model S\")\n"
   ]
  },
  {
   "cell_type": "code",
   "execution_count": 2,
   "id": "c0594791-6794-4683-a878-6dd4026748e3",
   "metadata": {},
   "outputs": [],
   "source": [
    "class bankaccount:\n",
    "    def openaccount(self,name,email_id):       # for function inside a class the self is compulsary\n",
    "        print('open an account by taking name and mail id')\n",
    "        return name+email_id\n",
    "    \n",
    "    def deposite(self,amount):\n",
    "        print('i am trying to deposite an amount in my account')      # self is not a keyword\n",
    "        \n",
    "    def withdraw(self,amt_wit):\n",
    "        Print('wihtdraw the amount')\n",
    "        \n",
    "    def update_details(self, name_update, email_update):\n",
    "        print('this function will update my name and mail if for account')"
   ]
  },
  {
   "cell_type": "code",
   "execution_count": 3,
   "id": "507ce946-51a8-49ff-bf10-fc79efa7e944",
   "metadata": {},
   "outputs": [
    {
     "name": "stdout",
     "output_type": "stream",
     "text": [
      "open an account by taking name and mail id\n"
     ]
    },
    {
     "data": {
      "text/plain": [
       "'harisharisnazir@gmail.com'"
      ]
     },
     "execution_count": 3,
     "metadata": {},
     "output_type": "execute_result"
    }
   ],
   "source": [
    " def openaccount(name,email_id):       # for function inside a class the self is compulsary\n",
    "        print('open an account by taking name and mail id')\n",
    "        return name+email_id\n",
    "\n",
    "openaccount('haris','harisnazir@gmail.com')"
   ]
  },
  {
   "cell_type": "code",
   "execution_count": 4,
   "id": "8518d5dc-7004-4b64-b6d6-f7dd27fbaaf8",
   "metadata": {},
   "outputs": [
    {
     "name": "stdout",
     "output_type": "stream",
     "text": [
      "open an account by taking name and mail id\n"
     ]
    },
    {
     "data": {
      "text/plain": [
       "'harisharisnazir@gmail.com'"
      ]
     },
     "execution_count": 4,
     "metadata": {},
     "output_type": "execute_result"
    }
   ],
   "source": [
    "# function inside a class can be acessed by forming an object of a class\n",
    "hari = bankaccount()\n",
    "#  variable of bankaccount class\n",
    "hari.openaccount('haris','harisnazir@gmail.com')"
   ]
  },
  {
   "cell_type": "code",
   "execution_count": 5,
   "id": "d4db4ad8-d1c2-4bad-8cac-763cd4b0d59e",
   "metadata": {},
   "outputs": [],
   "source": [
    "class list_ops:\n",
    "    \n",
    "    def extractfromindex(self,l,index):\n",
    "        return l[index]\n",
    "    \n",
    "    def extractrangedata(self,l,start,end):\n",
    "        return l[start:end]\n",
    "    \n",
    "    def extracteven(self,l):\n",
    "        l1 = []\n",
    "        for i in l:\n",
    "            if i%2 == 0:\n",
    "                l1.append(i)\n",
    "        return l1\n",
    "                "
   ]
  },
  {
   "cell_type": "code",
   "execution_count": 6,
   "id": "c1b10be0-d1a5-4f50-9982-a1cfc1596d18",
   "metadata": {},
   "outputs": [
    {
     "data": {
      "text/plain": [
       "8"
      ]
     },
     "execution_count": 6,
     "metadata": {},
     "output_type": "execute_result"
    }
   ],
   "source": [
    "first_obj = list_ops()\n",
    "first_obj.extractfromindex([2,3,4,5,8,9],4)"
   ]
  },
  {
   "cell_type": "code",
   "execution_count": 7,
   "id": "9bf0b8ad-8270-46a0-a21c-321dcd0945f4",
   "metadata": {},
   "outputs": [
    {
     "data": {
      "text/plain": [
       "[2, 3, 4, 5]"
      ]
     },
     "execution_count": 7,
     "metadata": {},
     "output_type": "execute_result"
    }
   ],
   "source": [
    "first_obj.extractrangedata([2,3,4,5,6,7,8,9.8],0,4)"
   ]
  },
  {
   "cell_type": "code",
   "execution_count": 8,
   "id": "ae54b21c-7f9d-41d1-bdb8-ffb327f109b6",
   "metadata": {},
   "outputs": [
    {
     "data": {
      "text/plain": [
       "[4, 6, 8, 0]"
      ]
     },
     "execution_count": 8,
     "metadata": {},
     "output_type": "execute_result"
    }
   ],
   "source": [
    "first_obj.extracteven([3,4,6,7,8,9,0])"
   ]
  },
  {
   "cell_type": "code",
   "execution_count": null,
   "id": "aadbd367-09a1-4284-a91c-60e799c77ced",
   "metadata": {},
   "outputs": [],
   "source": [
    "# we can use any word instead of self but the convention is to use self which binds the functions inside the class to the class\n",
    "# refrences the functions to the said class\n",
    "# what ever we use instead of self it should be followed throuhgout the class"
   ]
  },
  {
   "cell_type": "code",
   "execution_count": 9,
   "id": "ff1d4199-6a92-451a-ae3a-b0057e92c005",
   "metadata": {},
   "outputs": [],
   "source": [
    "class list_ops:\n",
    "    a = 10                     # everything we want to acess outside the class we acess it using the object\n",
    "    l = [4,5,6,7,8,9,1]\n",
    "    def extractfromindex(self,l,index):\n",
    "        return l[index]\n",
    "    \n",
    "    def extractrangedata(self,l,start,end):\n",
    "        return l[start:end]\n",
    "    \n",
    "    def extracteven(self,l):\n",
    "        l1 = []\n",
    "        for i in l:\n",
    "            if i%2 == 0:\n",
    "                l1.append(i)\n",
    "        return l1\n",
    "                "
   ]
  },
  {
   "cell_type": "code",
   "execution_count": 10,
   "id": "656f5f6d-37e8-4217-9792-13aa797dccdf",
   "metadata": {},
   "outputs": [],
   "source": [
    "obj1 = list_ops()"
   ]
  },
  {
   "cell_type": "code",
   "execution_count": 11,
   "id": "686a61d8-0f77-4afc-aa76-8687e4e7a4b2",
   "metadata": {},
   "outputs": [
    {
     "data": {
      "text/plain": [
       "10"
      ]
     },
     "execution_count": 11,
     "metadata": {},
     "output_type": "execute_result"
    }
   ],
   "source": [
    "obj1.a"
   ]
  },
  {
   "cell_type": "code",
   "execution_count": 12,
   "id": "d97da43a-fc2f-459c-9d63-15fe14af644a",
   "metadata": {},
   "outputs": [
    {
     "data": {
      "text/plain": [
       "[4, 5, 6, 7, 8, 9, 1]"
      ]
     },
     "execution_count": 12,
     "metadata": {},
     "output_type": "execute_result"
    }
   ],
   "source": [
    "obj1.l"
   ]
  },
  {
   "cell_type": "code",
   "execution_count": 13,
   "id": "12772438-5325-4058-b514-dfd2a67af43f",
   "metadata": {},
   "outputs": [
    {
     "data": {
      "text/plain": [
       "[4, 6, 8]"
      ]
     },
     "execution_count": 13,
     "metadata": {},
     "output_type": "execute_result"
    }
   ],
   "source": [
    "first_obj.extracteven(obj1.l)"
   ]
  },
  {
   "cell_type": "code",
   "execution_count": 14,
   "id": "edaaab2f-bfd0-4feb-8d75-3db2c7fdde33",
   "metadata": {},
   "outputs": [
    {
     "data": {
      "text/plain": [
       "8"
      ]
     },
     "execution_count": 14,
     "metadata": {},
     "output_type": "execute_result"
    }
   ],
   "source": [
    "first_obj.extractfromindex(obj1.l,4)"
   ]
  },
  {
   "cell_type": "code",
   "execution_count": 15,
   "id": "12b2d030-6789-4271-be40-6029acd61b6d",
   "metadata": {},
   "outputs": [
    {
     "data": {
      "text/plain": [
       "[4, 5, 6, 7, 8, 9, 1]"
      ]
     },
     "execution_count": 15,
     "metadata": {},
     "output_type": "execute_result"
    }
   ],
   "source": [
    "obj2 = list_ops()\n",
    "obj2.l"
   ]
  },
  {
   "cell_type": "code",
   "execution_count": 16,
   "id": "e0b29d3d-dc44-494b-ab2c-3407b9c07b92",
   "metadata": {},
   "outputs": [
    {
     "data": {
      "text/plain": [
       "[4, 5, 6, 7, 8, 9, 1]"
      ]
     },
     "execution_count": 16,
     "metadata": {},
     "output_type": "execute_result"
    }
   ],
   "source": [
    "obj3 = list_ops()\n",
    "obj3.l"
   ]
  },
  {
   "cell_type": "code",
   "execution_count": 17,
   "id": "eec7c0d0-073b-4d51-b188-17e488f09e0b",
   "metadata": {},
   "outputs": [],
   "source": [
    "# to pass different data for different objects\n",
    "class list_ops:\n",
    "    #a = 10                     # everything we want to acess outside the class we acess it using the object\n",
    "    #l = [4,5,6,7,8,9,1]\n",
    "    \n",
    "    def __init__(self,l):          # init means to initialize\n",
    "        self.l = l               # dunder function or inbuilt function starting with _\n",
    "                                   # self.l is a class variable \n",
    "    def extractfromindex(self,l,index):\n",
    "        return l[index]\n",
    "    \n",
    "    def extractrangedata(self,l,start,end):\n",
    "        return l[start:end]\n",
    "    \n",
    "    def extracteven(self,l):\n",
    "        l1 = []\n",
    "        for i in l:\n",
    "            if i%2 == 0:\n",
    "                l1.append(i)\n",
    "        return l1"
   ]
  },
  {
   "cell_type": "code",
   "execution_count": 18,
   "id": "3eb6cd65-883c-48be-b99a-5e4678e8aec5",
   "metadata": {},
   "outputs": [
    {
     "ename": "TypeError",
     "evalue": "list_ops.__init__() missing 1 required positional argument: 'l'",
     "output_type": "error",
     "traceback": [
      "\u001b[0;31m---------------------------------------------------------------------------\u001b[0m",
      "\u001b[0;31mTypeError\u001b[0m                                 Traceback (most recent call last)",
      "Cell \u001b[0;32mIn[18], line 1\u001b[0m\n\u001b[0;32m----> 1\u001b[0m obj4 \u001b[38;5;241m=\u001b[39m \u001b[43mlist_ops\u001b[49m\u001b[43m(\u001b[49m\u001b[43m)\u001b[49m          \u001b[38;5;66;03m# init is executed when a object is created and it is needed to fill the argument\u001b[39;00m\n",
      "\u001b[0;31mTypeError\u001b[0m: list_ops.__init__() missing 1 required positional argument: 'l'"
     ]
    }
   ],
   "source": [
    "obj4 = list_ops()          # init is executed when a object is created and it is needed to fill the argument"
   ]
  },
  {
   "cell_type": "code",
   "execution_count": 19,
   "id": "6f8369ba-f8c9-43b8-b69a-ad65e886bf8f",
   "metadata": {},
   "outputs": [
    {
     "data": {
      "text/plain": [
       "[4, 5, 6, 7, 8, 9, 8, 9, 1]"
      ]
     },
     "execution_count": 19,
     "metadata": {},
     "output_type": "execute_result"
    }
   ],
   "source": [
    "obj5 = list_ops([4,5,6,7,8,9,8,9,1])    # the list given as an argument is set as an class variable\n",
    "obj5.l"
   ]
  },
  {
   "cell_type": "code",
   "execution_count": 20,
   "id": "879069e0-d131-4105-a9e2-f6cd1e07a025",
   "metadata": {},
   "outputs": [],
   "source": [
    "# to pass different data for different objects\n",
    "# constructor -> method to provide data to your class\n",
    "class list_ops:\n",
    "    #a = 10                     # everything we want to acess outside the class we acess it using the object\n",
    "    #l = [4,5,6,7,8,9,1]\n",
    "    \n",
    "    def __init__(self,l):          # init means to initialize\n",
    "        self.l1 = l                # dunder function or inbuilt function starting with _\n",
    "        self.l3 = 50\n",
    "        self.l4 = (4,5,6,7,8,9,1)\n",
    "        self.l5 = {'key':'value'}\n",
    "                                   # self.l1 is a class variable and l is the argument given during the object creation\n",
    "    def extractfromindex(self,l,index):\n",
    "        return l[index]\n",
    "    \n",
    "    def extractrangedata(self,l,start,end):\n",
    "        return l[start:end]\n",
    "    \n",
    "    def extracteven(self,l):\n",
    "        l2 = []\n",
    "        for i in l:\n",
    "            if i%2 == 0:\n",
    "                l2.append(i)\n",
    "        return l2"
   ]
  },
  {
   "cell_type": "code",
   "execution_count": 21,
   "id": "6c9b6de3-7f4b-44d3-bc26-0b9ce3dff36b",
   "metadata": {},
   "outputs": [],
   "source": [
    "obj6 = list_ops([2,3,4,5,6,7,8,9])  # rest of the variables in the init function get initialized at the time of object creation"
   ]
  },
  {
   "cell_type": "code",
   "execution_count": 24,
   "id": "fa1b5975-9bbb-48ef-9ae4-bbc5711f7c57",
   "metadata": {},
   "outputs": [
    {
     "ename": "AttributeError",
     "evalue": "'list_ops' object has no attribute 'l'",
     "output_type": "error",
     "traceback": [
      "\u001b[0;31m---------------------------------------------------------------------------\u001b[0m",
      "\u001b[0;31mAttributeError\u001b[0m                            Traceback (most recent call last)",
      "Cell \u001b[0;32mIn[24], line 2\u001b[0m\n\u001b[1;32m      1\u001b[0m obj5 \u001b[38;5;241m=\u001b[39m list_ops([\u001b[38;5;241m4\u001b[39m,\u001b[38;5;241m5\u001b[39m,\u001b[38;5;241m6\u001b[39m,\u001b[38;5;241m7\u001b[39m,\u001b[38;5;241m8\u001b[39m,\u001b[38;5;241m9\u001b[39m,\u001b[38;5;241m8\u001b[39m,\u001b[38;5;241m9\u001b[39m,\u001b[38;5;241m1\u001b[39m])\n\u001b[0;32m----> 2\u001b[0m \u001b[43mobj5\u001b[49m\u001b[38;5;241;43m.\u001b[39;49m\u001b[43ml\u001b[49m\n",
      "\u001b[0;31mAttributeError\u001b[0m: 'list_ops' object has no attribute 'l'"
     ]
    }
   ],
   "source": [
    "obj5 = list_ops([4,5,6,7,8,9,8,9,1])\n",
    "obj5.l"
   ]
  },
  {
   "cell_type": "code",
   "execution_count": 25,
   "id": "c615de06-4775-4557-86dd-ff4b207f114a",
   "metadata": {},
   "outputs": [
    {
     "data": {
      "text/plain": [
       "[4, 5, 6, 7, 8, 9, 8, 9, 1]"
      ]
     },
     "execution_count": 25,
     "metadata": {},
     "output_type": "execute_result"
    }
   ],
   "source": [
    "obj5 = list_ops([4,5,6,7,8,9,8,9,1])\n",
    "obj5.l1"
   ]
  },
  {
   "cell_type": "code",
   "execution_count": 26,
   "id": "87fed7e2-682a-4f0b-ae27-e4356a20d142",
   "metadata": {},
   "outputs": [],
   "source": [
    "class book:\n",
    "    def __init__(self, name , title ,pageno):\n",
    "        self.name_of_book = name\n",
    "        self.title_of_book = title\n",
    "        self.page_no = pageno\n",
    "        \n",
    "    def extract_details(self):\n",
    "        print(self.name_of_book, self.title_of_book)\n",
    "        \n",
    "    def print_page_no(self):\n",
    "        print(self.page_no)"
   ]
  },
  {
   "cell_type": "code",
   "execution_count": 27,
   "id": "769861bb-091b-4ac2-afa4-d76edb3718ff",
   "metadata": {},
   "outputs": [],
   "source": [
    "hari = book('dsa','practical dsa',456)\n",
    "hari11 = book('dsa11','practical dsa11',45611)\n",
    "hari22 = book('dsa22','practical dsa22',45622)"
   ]
  },
  {
   "cell_type": "code",
   "execution_count": 28,
   "id": "1140d9bd-8e24-4375-a66d-23ac408e8411",
   "metadata": {},
   "outputs": [
    {
     "name": "stdout",
     "output_type": "stream",
     "text": [
      "dsa practical dsa\n"
     ]
    }
   ],
   "source": [
    "hari.extract_details()\n"
   ]
  },
  {
   "cell_type": "code",
   "execution_count": 29,
   "id": "31ab98e2-d95a-4d0e-8522-82a5b038dc68",
   "metadata": {},
   "outputs": [
    {
     "name": "stdout",
     "output_type": "stream",
     "text": [
      "dsa22 practical dsa22\n"
     ]
    }
   ],
   "source": [
    "hari22.extract_details()"
   ]
  },
  {
   "cell_type": "code",
   "execution_count": 30,
   "id": "4b92736a-be59-4492-8084-1f606ad71263",
   "metadata": {},
   "outputs": [
    {
     "data": {
      "text/plain": [
       "'dsa'"
      ]
     },
     "execution_count": 30,
     "metadata": {},
     "output_type": "execute_result"
    }
   ],
   "source": [
    "# to acess the class variable\n",
    "hari.name_of_book"
   ]
  },
  {
   "cell_type": "code",
   "execution_count": 31,
   "id": "58f58727-eaf5-4c75-9a0c-437f9b734828",
   "metadata": {},
   "outputs": [],
   "source": [
    "class book:\n",
    "    def __init__(self):\n",
    "        self.name_of_book = 'java'\n",
    "        self.title_of_book = 'java_basics'\n",
    "        self.page_no = 678\n",
    "        \n",
    "    def extract_details(self):\n",
    "        print(self.name_of_book, self.title_of_book)\n",
    "        \n",
    "    def print_page_no(self):\n",
    "        print(self.page_no)"
   ]
  },
  {
   "cell_type": "code",
   "execution_count": 32,
   "id": "38feaff2-5c67-49dc-ba80-eb0ab7bec804",
   "metadata": {},
   "outputs": [],
   "source": [
    "stud1 = book()"
   ]
  },
  {
   "cell_type": "code",
   "execution_count": 33,
   "id": "0b394eaf-c1e1-45c3-9f8c-8aa9be3e0ea3",
   "metadata": {},
   "outputs": [
    {
     "data": {
      "text/plain": [
       "'java'"
      ]
     },
     "execution_count": 33,
     "metadata": {},
     "output_type": "execute_result"
    }
   ],
   "source": [
    "stud1.name_of_book"
   ]
  },
  {
   "cell_type": "code",
   "execution_count": 34,
   "id": "43d620ee-be76-4f7c-931f-7fb0be524d73",
   "metadata": {},
   "outputs": [],
   "source": [
    "class gmail_ops:\n",
    "    def __init__(self,userid,password):\n",
    "        self.userid = userid\n",
    "        self.password = password\n",
    "        self.url = \"https://mail.com/mail/u/1/#inbox\"\n",
    "    def login(self):\n",
    "        print(\"take userid\" + self.userid + \"take password\" + self.password + \"hit url\" + self.url)\n",
    "        print(\"login\")\n",
    "    def read_mail(self):\n",
    "        print(\"read mail for\" + self.userid + \" \" + self.password)\n",
    "    def reply_mail(self):\n",
    "        print(\"reply mail for\" + self.userid + \" \" + self.password)\n",
    "        "
   ]
  },
  {
   "cell_type": "code",
   "execution_count": 35,
   "id": "5a7fe484-bc93-4d8a-8039-c92b91093002",
   "metadata": {},
   "outputs": [],
   "source": [
    "user1 = gmail_ops(\"user1\",\"user1pass\")"
   ]
  },
  {
   "cell_type": "code",
   "execution_count": 36,
   "id": "8dfec5d0-5269-4595-8725-6f88c2adbba1",
   "metadata": {},
   "outputs": [
    {
     "name": "stdout",
     "output_type": "stream",
     "text": [
      "take useriduser1take passworduser1passhit urlhttps://mail.com/mail/u/1/#inbox\n",
      "login\n"
     ]
    }
   ],
   "source": [
    "user1.login()"
   ]
  },
  {
   "cell_type": "code",
   "execution_count": 37,
   "id": "d92de9fb-1d5f-41da-9c76-e170f39468b2",
   "metadata": {},
   "outputs": [],
   "source": [
    "user2 = gmail_ops(\"user12\",\"user2pass\")"
   ]
  },
  {
   "cell_type": "code",
   "execution_count": 38,
   "id": "450277bf-294b-4deb-bf92-a7df0aaf3a52",
   "metadata": {},
   "outputs": [
    {
     "name": "stdout",
     "output_type": "stream",
     "text": [
      "take useriduser12take passworduser2passhit urlhttps://mail.com/mail/u/1/#inbox\n",
      "login\n"
     ]
    }
   ],
   "source": [
    "user2.login()"
   ]
  },
  {
   "cell_type": "code",
   "execution_count": 39,
   "id": "5d06f8a1-0380-4ea5-9fb1-e050b87f66e6",
   "metadata": {},
   "outputs": [],
   "source": [
    "# constructors are stored in stack so the last update remains accessable"
   ]
  },
  {
   "cell_type": "code",
   "execution_count": 40,
   "id": "7160c14f-04c8-4e51-984c-8682321181d4",
   "metadata": {},
   "outputs": [],
   "source": [
    "from functools import reduce\n",
    "class calculator:\n",
    "    \n",
    "    def add(self, *args):\n",
    "        return sum(args)\n",
    "    \n",
    "    def sub(self, *args):\n",
    "        return reduce(lambda a,b:a-b,args)\n",
    "    \n",
    "    def mul(self, *args):\n",
    "        return reduce(lambda a,b:a*b,args)\n",
    "    \n",
    "    def div(self, *args):\n",
    "        return reduce(lambda a,b:a/b,args)\n",
    "        "
   ]
  },
  {
   "cell_type": "code",
   "execution_count": 41,
   "id": "a26eafe5-6d03-4a3e-819d-9dd166fb8d0f",
   "metadata": {},
   "outputs": [],
   "source": [
    "hari = calculator()"
   ]
  },
  {
   "cell_type": "code",
   "execution_count": 42,
   "id": "a38128df-e59b-4529-928e-7e28a223fc28",
   "metadata": {},
   "outputs": [
    {
     "data": {
      "text/plain": [
       "0.03125"
      ]
     },
     "execution_count": 42,
     "metadata": {},
     "output_type": "execute_result"
    }
   ],
   "source": [
    "hari.div(3,4,4,6)"
   ]
  },
  {
   "cell_type": "code",
   "execution_count": 43,
   "id": "a776ae9d-b582-4727-8c6e-06ee5d260b95",
   "metadata": {},
   "outputs": [
    {
     "data": {
      "text/plain": [
       "11"
      ]
     },
     "execution_count": 43,
     "metadata": {},
     "output_type": "execute_result"
    }
   ],
   "source": [
    "hari.add(1,2,3,5)"
   ]
  },
  {
   "cell_type": "code",
   "execution_count": 44,
   "id": "21a47227-fe71-44c7-a8e2-6106353a9e83",
   "metadata": {},
   "outputs": [],
   "source": [
    "from functools import reduce\n",
    "class calculator:\n",
    "    \n",
    "    def __init__(self,username):\n",
    "        self.username=username\n",
    "    \n",
    "    def add(self, *args):\n",
    "        return  self.username,sum(args)\n",
    "    \n",
    "    def sub(self, *args):\n",
    "        return  self.username,reduce(lambda a,b:a-b,args)\n",
    "    \n",
    "    def mul(self, *args):\n",
    "        return  self.username,reduce(lambda a,b:a*b,args)\n",
    "    \n",
    "    def div(self, *args):\n",
    "        return  self.username,reduce(lambda a,b:a/b,args)\n",
    "        "
   ]
  },
  {
   "cell_type": "code",
   "execution_count": 45,
   "id": "debf3d86-e335-45a7-a7ed-ef7272746b92",
   "metadata": {},
   "outputs": [],
   "source": [
    "hari22 = calculator('harisnazir')"
   ]
  },
  {
   "cell_type": "code",
   "execution_count": 46,
   "id": "459da64b-67d4-4b27-9f7c-4ef1c3af0c19",
   "metadata": {},
   "outputs": [
    {
     "data": {
      "text/plain": [
       "('harisnazir', 0.15)"
      ]
     },
     "execution_count": 46,
     "metadata": {},
     "output_type": "execute_result"
    }
   ],
   "source": [
    "hari22.div(3,4,5)"
   ]
  },
  {
   "cell_type": "code",
   "execution_count": 47,
   "id": "bb4897ca-5bf1-41c2-841e-2bc6aad2e1d0",
   "metadata": {},
   "outputs": [
    {
     "data": {
      "text/plain": [
       "('harisnazir', 12)"
      ]
     },
     "execution_count": 47,
     "metadata": {},
     "output_type": "execute_result"
    }
   ],
   "source": [
    "hari22.add(3,4,5)"
   ]
  }
 ],
 "metadata": {
  "kernelspec": {
   "display_name": "Python 3 (ipykernel)",
   "language": "python",
   "name": "python3"
  },
  "language_info": {
   "codemirror_mode": {
    "name": "ipython",
    "version": 3
   },
   "file_extension": ".py",
   "mimetype": "text/x-python",
   "name": "python",
   "nbconvert_exporter": "python",
   "pygments_lexer": "ipython3",
   "version": "3.10.8"
  }
 },
 "nbformat": 4,
 "nbformat_minor": 5
}
