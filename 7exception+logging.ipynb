{
 "cells": [
  {
   "cell_type": "code",
   "execution_count": 1,
   "id": "a30b8cee-0bf4-495d-98f4-7b6ab41ccf9a",
   "metadata": {},
   "outputs": [
    {
     "ename": "ZeroDivisionError",
     "evalue": "division by zero",
     "output_type": "error",
     "traceback": [
      "\u001b[0;31m---------------------------------------------------------------------------\u001b[0m",
      "\u001b[0;31mZeroDivisionError\u001b[0m                         Traceback (most recent call last)",
      "Cell \u001b[0;32mIn[1], line 3\u001b[0m\n\u001b[1;32m      1\u001b[0m a\u001b[38;5;241m=\u001b[39m\u001b[38;5;241m10\u001b[39m\n\u001b[1;32m      2\u001b[0m b\u001b[38;5;241m=\u001b[39m\u001b[38;5;241m0\u001b[39m\n\u001b[0;32m----> 3\u001b[0m \u001b[43ma\u001b[49m\u001b[38;5;241;43m/\u001b[39;49m\u001b[43mb\u001b[49m\n",
      "\u001b[0;31mZeroDivisionError\u001b[0m: division by zero"
     ]
    }
   ],
   "source": [
    "a=10\n",
    "b=0\n",
    "a/b           # error is raised and the program execution stops\n"
   ]
  },
  {
   "cell_type": "code",
   "execution_count": 6,
   "id": "6fcede8f-3a1f-40af-8f23-2030a35fe582",
   "metadata": {},
   "outputs": [
    {
     "ename": "IndentationError",
     "evalue": "unexpected indent (1614087898.py, line 5)",
     "output_type": "error",
     "traceback": [
      "\u001b[0;36m  Cell \u001b[0;32mIn[6], line 5\u001b[0;36m\u001b[0m\n\u001b[0;31m    '''if else is not suitable to use instead of exception handling because there are many\u001b[0m\n\u001b[0m    ^\u001b[0m\n\u001b[0;31mIndentationError\u001b[0m\u001b[0;31m:\u001b[0m unexpected indent\n"
     ]
    }
   ],
   "source": [
    "a = int(input('enter a value for a'))\n",
    "b = int(input('enter a value for b'))\n",
    "a/b\n",
    "print('print something')            # execution stops and the print statement is not executed\n",
    "\n",
    "'''if else is not suitable to use instead of exception handling because there are many \n",
    "   types of errors we can get during the execution which becomes difficult to handle all error\n",
    "   conditions using if else statements'''\n",
    "\n",
    "    "
   ]
  },
  {
   "cell_type": "code",
   "execution_count": 7,
   "id": "00df95c5-9cf7-44be-b9a1-ea260b094e72",
   "metadata": {},
   "outputs": [],
   "source": [
    "l = [2,3,4,6,7,8,9]\n",
    "l1 = []\n",
    "def even_parse(l):\n",
    "    for i in l:\n",
    "        if i%2 == 0:\n",
    "            l1.append(i)\n",
    "    return l1"
   ]
  },
  {
   "cell_type": "code",
   "execution_count": 9,
   "id": "5d83bc62-6570-4357-8493-656616840774",
   "metadata": {},
   "outputs": [
    {
     "name": "stdout",
     "output_type": "stream",
     "text": [
      "something\n"
     ]
    }
   ],
   "source": [
    "even_parse(l)\n",
    "print('something')"
   ]
  },
  {
   "cell_type": "code",
   "execution_count": 10,
   "id": "3933a262-139b-4eee-b322-cb451c81adf8",
   "metadata": {},
   "outputs": [
    {
     "ename": "TypeError",
     "evalue": "'int' object is not iterable",
     "output_type": "error",
     "traceback": [
      "\u001b[0;31m---------------------------------------------------------------------------\u001b[0m",
      "\u001b[0;31mTypeError\u001b[0m                                 Traceback (most recent call last)",
      "Cell \u001b[0;32mIn[10], line 1\u001b[0m\n\u001b[0;32m----> 1\u001b[0m \u001b[43meven_parse\u001b[49m\u001b[43m(\u001b[49m\u001b[38;5;241;43m9\u001b[39;49m\u001b[43m)\u001b[49m\n\u001b[1;32m      2\u001b[0m \u001b[38;5;28mprint\u001b[39m(\u001b[38;5;124m\"\u001b[39m\u001b[38;5;124msomething\u001b[39m\u001b[38;5;124m\"\u001b[39m)\n",
      "Cell \u001b[0;32mIn[7], line 4\u001b[0m, in \u001b[0;36meven_parse\u001b[0;34m(l)\u001b[0m\n\u001b[1;32m      3\u001b[0m \u001b[38;5;28;01mdef\u001b[39;00m \u001b[38;5;21meven_parse\u001b[39m(l):\n\u001b[0;32m----> 4\u001b[0m     \u001b[38;5;28;01mfor\u001b[39;00m i \u001b[38;5;129;01min\u001b[39;00m l:\n\u001b[1;32m      5\u001b[0m         \u001b[38;5;28;01mif\u001b[39;00m i\u001b[38;5;241m%\u001b[39m\u001b[38;5;241m2\u001b[39m \u001b[38;5;241m==\u001b[39m \u001b[38;5;241m0\u001b[39m:\n\u001b[1;32m      6\u001b[0m             l1\u001b[38;5;241m.\u001b[39mappend(i)\n",
      "\u001b[0;31mTypeError\u001b[0m: 'int' object is not iterable"
     ]
    }
   ],
   "source": [
    "even_parse(9)\n",
    "print(\"something\")     # not printed as error is raised"
   ]
  },
  {
   "cell_type": "code",
   "execution_count": 1,
   "id": "f5ab1efa-eeb0-4032-b335-a4e0eeb762e1",
   "metadata": {},
   "outputs": [
    {
     "ename": "SyntaxError",
     "evalue": "incomplete input (3986418620.py, line 5)",
     "output_type": "error",
     "traceback": [
      "\u001b[0;36m  Cell \u001b[0;32mIn[1], line 5\u001b[0;36m\u001b[0m\n\u001b[0;31m    print(c)                 # compile time error as code is incomplete(syntax error)\u001b[0m\n\u001b[0m                                                                                     ^\u001b[0m\n\u001b[0;31mSyntaxError\u001b[0m\u001b[0;31m:\u001b[0m incomplete input\n"
     ]
    }
   ],
   "source": [
    "try:\n",
    "    a = int(input('enter a value for a'))\n",
    "    b = int(input('enter a value for b'))\n",
    "    c = a/b\n",
    "    print(c)                 # compile time error as code is incomplete(syntax error)"
   ]
  },
  {
   "cell_type": "code",
   "execution_count": 15,
   "id": "41d2d4b3-40e5-4a1a-bb02-8555122e1201",
   "metadata": {},
   "outputs": [
    {
     "name": "stdin",
     "output_type": "stream",
     "text": [
      "enter a value for a 6\n",
      "enter a value for b 0\n"
     ]
    },
    {
     "name": "stdout",
     "output_type": "stream",
     "text": [
      "something\n"
     ]
    }
   ],
   "source": [
    "# run time errors are handled using the exception handling\n",
    "try:\n",
    "    a = int(input('enter a value for a'))\n",
    "    b = int(input('enter a value for b'))\n",
    "    c = a/b\n",
    "    print(c) \n",
    "except:\n",
    "    pass\n",
    "print('something')"
   ]
  },
  {
   "cell_type": "code",
   "execution_count": 16,
   "id": "86d1b9df-e887-42e0-955a-c2952f3a12fb",
   "metadata": {},
   "outputs": [
    {
     "name": "stdin",
     "output_type": "stream",
     "text": [
      "enter a value for a 4\n",
      "enter a value for b 0\n"
     ]
    },
    {
     "name": "stdout",
     "output_type": "stream",
     "text": [
      "error\n",
      "something\n"
     ]
    }
   ],
   "source": [
    "# try except and finally is used in exception handling, sometimes else is also used\n",
    "try:\n",
    "    a = int(input('enter a value for a'))\n",
    "    b = int(input('enter a value for b'))\n",
    "    c = a/b\n",
    "    print(c) \n",
    "except:\n",
    "    print('error')\n",
    "print('something')"
   ]
  },
  {
   "cell_type": "code",
   "execution_count": 18,
   "id": "39237619-542b-48ee-a218-6833df76e606",
   "metadata": {},
   "outputs": [
    {
     "name": "stdin",
     "output_type": "stream",
     "text": [
      "enter a value for a haris\n"
     ]
    },
    {
     "name": "stdout",
     "output_type": "stream",
     "text": [
      "error\n",
      "something\n"
     ]
    }
   ],
   "source": [
    "# try except and finally is used in exception handling, sometimes else is also used\n",
    "try:\n",
    "    a = int(input('enter a value for a'))\n",
    "    b = int(input('enter a value for b'))\n",
    "    c = a/b\n",
    "    print(c) \n",
    "except:\n",
    "    print('error')\n",
    "print('something')"
   ]
  },
  {
   "cell_type": "code",
   "execution_count": 24,
   "id": "9f10284d-05e0-487f-9f98-d59e9eca5877",
   "metadata": {},
   "outputs": [
    {
     "ename": "TypeError",
     "evalue": "'int' object is not iterable",
     "output_type": "error",
     "traceback": [
      "\u001b[0;31m---------------------------------------------------------------------------\u001b[0m",
      "\u001b[0;31mTypeError\u001b[0m                                 Traceback (most recent call last)",
      "Cell \u001b[0;32mIn[24], line 8\u001b[0m\n\u001b[1;32m      6\u001b[0m             l1\u001b[38;5;241m.\u001b[39mappend(i)\n\u001b[1;32m      7\u001b[0m     \u001b[38;5;28;01mreturn\u001b[39;00m l1\n\u001b[0;32m----> 8\u001b[0m \u001b[43meven_parse\u001b[49m\u001b[43m(\u001b[49m\u001b[38;5;241;43m8\u001b[39;49m\u001b[43m)\u001b[49m\n\u001b[1;32m      9\u001b[0m \u001b[38;5;28mprint\u001b[39m(\u001b[38;5;124m'\u001b[39m\u001b[38;5;124mhello\u001b[39m\u001b[38;5;124m'\u001b[39m)\n",
      "Cell \u001b[0;32mIn[24], line 4\u001b[0m, in \u001b[0;36meven_parse\u001b[0;34m(l)\u001b[0m\n\u001b[1;32m      3\u001b[0m \u001b[38;5;28;01mdef\u001b[39;00m \u001b[38;5;21meven_parse\u001b[39m(l):\n\u001b[0;32m----> 4\u001b[0m     \u001b[38;5;28;01mfor\u001b[39;00m i \u001b[38;5;129;01min\u001b[39;00m l:\n\u001b[1;32m      5\u001b[0m         \u001b[38;5;28;01mif\u001b[39;00m i\u001b[38;5;241m%\u001b[39m\u001b[38;5;241m2\u001b[39m \u001b[38;5;241m==\u001b[39m \u001b[38;5;241m0\u001b[39m:\n\u001b[1;32m      6\u001b[0m             l1\u001b[38;5;241m.\u001b[39mappend(i)\n",
      "\u001b[0;31mTypeError\u001b[0m: 'int' object is not iterable"
     ]
    }
   ],
   "source": [
    "l = [2,3,4,6,7,8,9]\n",
    "l1 = []\n",
    "def even_parse(l):\n",
    "    for i in l:\n",
    "        if i%2 == 0:\n",
    "            l1.append(i)\n",
    "    return l1\n",
    "even_parse(8)\n",
    "print('hello')"
   ]
  },
  {
   "cell_type": "code",
   "execution_count": 26,
   "id": "75416bf0-49ab-4876-ae3a-156412b9e83f",
   "metadata": {},
   "outputs": [],
   "source": [
    "l = [2,3,4,6,7,8,9]             # always put the suspicious piece of code inside a try block\n",
    "l1 = []\n",
    "def even_parse(l):\n",
    "    try:\n",
    "        for i in l:\n",
    "            if i%2 == 0:\n",
    "                l1.append(i)\n",
    "        return l1\n",
    "    except:\n",
    "        pass"
   ]
  },
  {
   "cell_type": "code",
   "execution_count": 28,
   "id": "731a92bc-068b-4cce-81cc-a816e875e775",
   "metadata": {},
   "outputs": [
    {
     "name": "stdout",
     "output_type": "stream",
     "text": [
      "hello\n"
     ]
    }
   ],
   "source": [
    "even_parse(8)          # type of error is not shown or the kind of error produced is not known\n",
    "print('hello')"
   ]
  },
  {
   "cell_type": "code",
   "execution_count": 32,
   "id": "1e145dec-0f4d-49c2-bc89-3167a3bf277b",
   "metadata": {},
   "outputs": [
    {
     "name": "stdout",
     "output_type": "stream",
     "text": [
      "division by zero\n"
     ]
    }
   ],
   "source": [
    "try:\n",
    "    c = 7/0\n",
    "except Exception as e:\n",
    "    print(e)                   # Exception is a package or module or super class"
   ]
  },
  {
   "cell_type": "code",
   "execution_count": 34,
   "id": "b367f06e-86e4-484b-9b76-ef380f303c14",
   "metadata": {},
   "outputs": [
    {
     "name": "stdout",
     "output_type": "stream",
     "text": [
      "'int' object is not iterable\n"
     ]
    }
   ],
   "source": [
    "l = [2,3,4,6,7,8,9]             # always put the suspicious piece of code inside a try block\n",
    "l1 = []\n",
    "def even_parse(l):\n",
    "    try:\n",
    "        for i in l:\n",
    "            if i%2 == 0:\n",
    "                l1.append(i)\n",
    "        return l1\n",
    "    except Exception as ex:\n",
    "        print(ex)\n",
    "\n",
    "even_parse(9)"
   ]
  },
  {
   "cell_type": "code",
   "execution_count": 35,
   "id": "d377ffac-0a28-43a4-b3b0-5c4261ef3ec2",
   "metadata": {},
   "outputs": [
    {
     "name": "stdin",
     "output_type": "stream",
     "text": [
      "num1 g\n"
     ]
    },
    {
     "name": "stdout",
     "output_type": "stream",
     "text": [
      "invalid literal for int() with base 10: 'g'\n"
     ]
    }
   ],
   "source": [
    "try:\n",
    "    a = int(input('num1'))\n",
    "    b = int(input('num2'))\n",
    "    c = 7/0\n",
    "except Exception as e:\n",
    "    print(e)     "
   ]
  },
  {
   "cell_type": "code",
   "execution_count": 10,
   "id": "cea96784-041d-43cf-bbe9-11d306b04529",
   "metadata": {},
   "outputs": [
    {
     "name": "stdin",
     "output_type": "stream",
     "text": [
      "num1 5\n",
      "num2 0\n"
     ]
    },
    {
     "name": "stdout",
     "output_type": "stream",
     "text": [
      "division by zero\n"
     ]
    }
   ],
   "source": [
    "# instead of using a generic(super) class we should use specific class\n",
    "try:\n",
    "    a = int(input('num1'))\n",
    "    b = int(input('num2'))\n",
    "    c = a/b\n",
    "except TypeError as t:\n",
    "    print(t) \n",
    "except ZeroDivisionError as z:\n",
    "    print(z)"
   ]
  },
  {
   "cell_type": "code",
   "execution_count": 38,
   "id": "0dbbf5f9-ea83-4a14-a7de-fd8dff0a8876",
   "metadata": {},
   "outputs": [
    {
     "name": "stdin",
     "output_type": "stream",
     "text": [
      "num1 g\n"
     ]
    },
    {
     "name": "stdout",
     "output_type": "stream",
     "text": [
      "invalid literal for int() with base 10: 'g'\n"
     ]
    }
   ],
   "source": [
    "try:\n",
    "    a = int(input('num1'))\n",
    "    b = int(input('num2'))\n",
    "    c = 7/0\n",
    "except TypeError as t:\n",
    "    print(t) \n",
    "except ZeroDivisionError as z:        # these excep blocks work like if elif else\n",
    "    print(z)\n",
    "except ValueError as v:\n",
    "    print(v) "
   ]
  },
  {
   "cell_type": "code",
   "execution_count": 39,
   "id": "b739b500-0885-4db9-9c52-20112b195853",
   "metadata": {},
   "outputs": [
    {
     "name": "stdout",
     "output_type": "stream",
     "text": [
      "division by zero\n"
     ]
    },
    {
     "ename": "ValueError",
     "evalue": "invalid literal for int() with base 10: 'sudh'",
     "output_type": "error",
     "traceback": [
      "\u001b[0;31m---------------------------------------------------------------------------\u001b[0m",
      "\u001b[0;31mZeroDivisionError\u001b[0m                         Traceback (most recent call last)",
      "Cell \u001b[0;32mIn[39], line 2\u001b[0m\n\u001b[1;32m      1\u001b[0m \u001b[38;5;28;01mtry\u001b[39;00m :\n\u001b[0;32m----> 2\u001b[0m     x \u001b[38;5;241m=\u001b[39m \u001b[38;5;241;43m5\u001b[39;49m\u001b[38;5;241;43m/\u001b[39;49m\u001b[38;5;241;43m0\u001b[39;49m\n\u001b[1;32m      3\u001b[0m \u001b[38;5;28;01mexcept\u001b[39;00m \u001b[38;5;167;01mZeroDivisionError\u001b[39;00m \u001b[38;5;28;01mas\u001b[39;00m z:\n",
      "\u001b[0;31mZeroDivisionError\u001b[0m: division by zero",
      "\nDuring handling of the above exception, another exception occurred:\n",
      "\u001b[0;31mValueError\u001b[0m                                Traceback (most recent call last)",
      "Cell \u001b[0;32mIn[39], line 5\u001b[0m\n\u001b[1;32m      3\u001b[0m \u001b[38;5;28;01mexcept\u001b[39;00m \u001b[38;5;167;01mZeroDivisionError\u001b[39;00m \u001b[38;5;28;01mas\u001b[39;00m z:\n\u001b[1;32m      4\u001b[0m     \u001b[38;5;28mprint\u001b[39m(z)\n\u001b[0;32m----> 5\u001b[0m     y \u001b[38;5;241m=\u001b[39m \u001b[38;5;28;43mint\u001b[39;49m\u001b[43m(\u001b[49m\u001b[38;5;124;43m\"\u001b[39;49m\u001b[38;5;124;43msudh\u001b[39;49m\u001b[38;5;124;43m\"\u001b[39;49m\u001b[43m)\u001b[49m\n",
      "\u001b[0;31mValueError\u001b[0m: invalid literal for int() with base 10: 'sudh'"
     ]
    }
   ],
   "source": [
    "try :\n",
    "    x = 5/0\n",
    "except ZeroDivisionError as z:\n",
    "    print(z)\n",
    "    y = int(\"sudh\")"
   ]
  },
  {
   "cell_type": "code",
   "execution_count": 40,
   "id": "5c13ad7c-9ad5-469a-9d39-d453df95936d",
   "metadata": {},
   "outputs": [
    {
     "name": "stdout",
     "output_type": "stream",
     "text": [
      "division by zero\n",
      "invalid literal for int() with base 10: 'sudh'\n"
     ]
    }
   ],
   "source": [
    "try :\n",
    "    x = 5/0\n",
    "except ZeroDivisionError as z:\n",
    "    print(z)\n",
    "    try:\n",
    "        y = int(\"sudh\")\n",
    "    except ValueError as v:\n",
    "        print(v)"
   ]
  },
  {
   "cell_type": "code",
   "execution_count": 43,
   "id": "0afb4a2e-7011-46df-b548-57f55352b81f",
   "metadata": {},
   "outputs": [
    {
     "name": "stdout",
     "output_type": "stream",
     "text": [
      "division by zero\n",
      "executed always\n"
     ]
    }
   ],
   "source": [
    "try :\n",
    "    x = 5/0\n",
    "except ZeroDivisionError as z:\n",
    "    print(z)\n",
    "else:\n",
    "    print('this will execute itself once try will execute without an error')\n",
    "finally:\n",
    "    print('executed always')"
   ]
  },
  {
   "cell_type": "code",
   "execution_count": 44,
   "id": "29f57bf8-ae50-4807-bbae-ba0ced3a070a",
   "metadata": {},
   "outputs": [
    {
     "name": "stdout",
     "output_type": "stream",
     "text": [
      "this will execute itself once try will execute without an error\n",
      "executed always\n"
     ]
    }
   ],
   "source": [
    "try :\n",
    "    x = 5/6\n",
    "except ZeroDivisionError as z:\n",
    "    print(z)\n",
    "else:\n",
    "    print('this will execute itself once try will execute without an error')\n",
    "finally:\n",
    "    print('executed always')"
   ]
  },
  {
   "cell_type": "code",
   "execution_count": 49,
   "id": "3f01f4f5-b8cd-4417-a3c8-bb8a05c99e1e",
   "metadata": {},
   "outputs": [
    {
     "ename": "KeyError",
     "evalue": "'course'",
     "output_type": "error",
     "traceback": [
      "\u001b[0;31m---------------------------------------------------------------------------\u001b[0m",
      "\u001b[0;31mKeyError\u001b[0m                                  Traceback (most recent call last)",
      "Cell \u001b[0;32mIn[49], line 2\u001b[0m\n\u001b[1;32m      1\u001b[0m d \u001b[38;5;241m=\u001b[39m {\u001b[38;5;124m'\u001b[39m\u001b[38;5;124mname\u001b[39m\u001b[38;5;124m'\u001b[39m:\u001b[38;5;124m'\u001b[39m\u001b[38;5;124mharis\u001b[39m\u001b[38;5;124m'\u001b[39m,\u001b[38;5;124m'\u001b[39m\u001b[38;5;124mmob_no\u001b[39m\u001b[38;5;124m'\u001b[39m:\u001b[38;5;241m123\u001b[39m,\u001b[38;5;124m'\u001b[39m\u001b[38;5;124memail\u001b[39m\u001b[38;5;124m'\u001b[39m: \u001b[38;5;124m'\u001b[39m\u001b[38;5;124mharisnazir@gmail.com\u001b[39m\u001b[38;5;124m'\u001b[39m}\n\u001b[0;32m----> 2\u001b[0m \u001b[43md\u001b[49m\u001b[43m[\u001b[49m\u001b[38;5;124;43m'\u001b[39;49m\u001b[38;5;124;43mcourse\u001b[39;49m\u001b[38;5;124;43m'\u001b[39;49m\u001b[43m]\u001b[49m\n",
      "\u001b[0;31mKeyError\u001b[0m: 'course'"
     ]
    }
   ],
   "source": [
    "d = {'name':'haris','mob_no':123,'email': 'harisnazir@gmail.com'}\n",
    "d['course']\n"
   ]
  },
  {
   "cell_type": "code",
   "execution_count": 1,
   "id": "d01dcaa3-a39c-4e37-830e-b086222988a3",
   "metadata": {},
   "outputs": [
    {
     "name": "stdout",
     "output_type": "stream",
     "text": [
      "'course'\n"
     ]
    }
   ],
   "source": [
    "try:\n",
    "    d = {'name':'haris','mob_no':123,'email': 'harisnazir@gmail.com'}\n",
    "    d['course']\n",
    "except Exception as e:\n",
    "    print(e)"
   ]
  },
  {
   "cell_type": "code",
   "execution_count": 11,
   "id": "ac2ec456-ce16-4696-ae7c-e1adc90b08c5",
   "metadata": {},
   "outputs": [
    {
     "name": "stdout",
     "output_type": "stream",
     "text": [
      "this is a key error\n"
     ]
    }
   ],
   "source": [
    "try:\n",
    "    d = {'name':'haris','mob_no':123,'email': 'harisnazir@gmail.com'}\n",
    "    d['course']\n",
    "except Exception as e:\n",
    "    print('this is a key error')"
   ]
  },
  {
   "cell_type": "code",
   "execution_count": 5,
   "id": "9c733e90-385a-44e1-8a4a-9a042add0ddc",
   "metadata": {},
   "outputs": [
    {
     "name": "stdout",
     "output_type": "stream",
     "text": [
      "list index out of range\n"
     ]
    }
   ],
   "source": [
    "try:\n",
    "    l=[2,3,4,5]\n",
    "    l[10]\n",
    "except Exception as e:\n",
    "    print(e)"
   ]
  },
  {
   "cell_type": "code",
   "execution_count": 12,
   "id": "5c7b550e-084a-4849-95c9-34e65ea6e77a",
   "metadata": {},
   "outputs": [
    {
     "name": "stdout",
     "output_type": "stream",
     "text": [
      "invalid literal for int() with base 10: 'haris'\n"
     ]
    }
   ],
   "source": [
    "try:\n",
    "    a = 'haris'\n",
    "    int(a)\n",
    "except Exception as e:      # value error\n",
    "    print(e)"
   ]
  },
  {
   "cell_type": "code",
   "execution_count": 62,
   "id": "01ce8ca3-6750-4831-9966-bbe160486a1b",
   "metadata": {},
   "outputs": [
    {
     "data": {
      "text/plain": [
       "''"
      ]
     },
     "execution_count": 62,
     "metadata": {},
     "output_type": "execute_result"
    }
   ],
   "source": [
    "file_name = \"text.txt\"     # looks for file in the current working directory else path needs to be specified \n",
    "f = open(file_name)        # file_name = \"/home/jovyan/work/python_classes/text.txt\"\n",
    "f.read()"
   ]
  },
  {
   "cell_type": "code",
   "execution_count": 2,
   "id": "15d60297-54e5-4880-a9a4-ae11d125e2ca",
   "metadata": {},
   "outputs": [
    {
     "data": {
      "text/plain": [
       "'This is a line written to the file.\\nThis line is appended to the file.\\nThis line is appended to the file.\\n'"
      ]
     },
     "execution_count": 2,
     "metadata": {},
     "output_type": "execute_result"
    }
   ],
   "source": [
    "try:\n",
    "    file_name = \"file1.txt\"\n",
    "    f = open(file_name)\n",
    "    f.read()\n",
    "except exception as e:\n",
    "    print(e)"
   ]
  },
  {
   "cell_type": "code",
   "execution_count": 64,
   "id": "aadbf48d-2080-442b-a5e6-eeab6cac0cba",
   "metadata": {},
   "outputs": [
    {
     "name": "stdout",
     "output_type": "stream",
     "text": [
      "1Primitive_datatypes.ipynb    6fxns.ipynb\n",
      "2python_basic_datatype.ipynb  7exception_handling.ipynb\n",
      "3operators.ipynb              text.txt\n",
      "4loops+conditional.ipynb      Untitled.ipynb\n",
      "5fxns_intro.ipynb\n"
     ]
    }
   ],
   "source": [
    "ls"
   ]
  },
  {
   "cell_type": "code",
   "execution_count": 65,
   "id": "9e6b25f1-e121-4fc1-b5a5-dad531e1da8f",
   "metadata": {},
   "outputs": [
    {
     "name": "stdout",
     "output_type": "stream",
     "text": [
      "total 364\n",
      "-rw-r--r-- 1 jovyan users 32592 Aug 19 07:08 1Primitive_datatypes.ipynb\n",
      "-rw-r--r-- 1 jovyan users 62977 Sep 14 10:02 2python_basic_datatype.ipynb\n",
      "-rw-r--r-- 1 jovyan users 22641 Sep  6 09:56 3operators.ipynb\n",
      "-rw-r--r-- 1 jovyan users 61308 Sep 23 09:47 4loops+conditional.ipynb\n",
      "-rw-r--r-- 1 jovyan users 79132 Sep 19 09:22 5fxns_intro.ipynb\n",
      "-rw-r--r-- 1 jovyan users 72723 Sep 28 17:18 6fxns.ipynb\n",
      "-rw-r--r-- 1 jovyan users 24985 Sep 30 05:23 7exception_handling.ipynb\n",
      "-rw-r--r-- 1 jovyan users     0 Sep 30 05:21 text.txt\n",
      "-rw-r--r-- 1 jovyan users  2430 Sep 23 16:34 Untitled.ipynb\n"
     ]
    }
   ],
   "source": [
    "ls -l"
   ]
  },
  {
   "cell_type": "code",
   "execution_count": 66,
   "id": "ecda750c-25c5-4178-a326-0c86e7353d8b",
   "metadata": {},
   "outputs": [
    {
     "data": {
      "text/plain": [
       "'/home/jovyan/work/python_classes'"
      ]
     },
     "execution_count": 66,
     "metadata": {},
     "output_type": "execute_result"
    }
   ],
   "source": [
    "pwd"
   ]
  },
  {
   "cell_type": "code",
   "execution_count": 13,
   "id": "4477c6f8-14de-4aab-b814-85a2d48e0fd3",
   "metadata": {},
   "outputs": [
    {
     "data": {
      "text/plain": [
       "<_io.TextIOWrapper name='/home/jovyan/work/python_classes/text.txt' mode='r' encoding='UTF-8'>"
      ]
     },
     "execution_count": 13,
     "metadata": {},
     "output_type": "execute_result"
    }
   ],
   "source": [
    "open('/home/jovyan/work/python_classes/text.txt')"
   ]
  },
  {
   "cell_type": "code",
   "execution_count": 23,
   "id": "f952528c-3ea3-470e-98bf-5ccde5c0f22e",
   "metadata": {},
   "outputs": [
    {
     "name": "stdout",
     "output_type": "stream",
     "text": [
      "This is a line written to the file.\n",
      "This line is appended to the file.\n",
      "This line is appended to the file.\n",
      "\n"
     ]
    }
   ],
   "source": [
    "try:\n",
    "    file_name = 'file1.txt'\n",
    "    f = open(file_name)\n",
    "    print(f.read())\n",
    "except Exception as e:\n",
    "    print(e)\n",
    "    "
   ]
  },
  {
   "cell_type": "code",
   "execution_count": 20,
   "id": "8fd2c81f-fdcb-41c0-b926-a051e30fe557",
   "metadata": {},
   "outputs": [
    {
     "name": "stdout",
     "output_type": "stream",
     "text": [
      " 1Primitive_datatypes.ipynb     7exception_handling.ipynb   new_file.txt\n",
      " 2python_basic_datatype.ipynb   7exception+logging.ipynb    new_image.png\n",
      " 3operators.ipynb               8_oops_programming.ipynb    test.log\n",
      " 4loops+conditional.ipynb       9_oops_inheritance.ipynb    text.txt\n",
      " 5fxns_intro.ipynb              example.txt                 trytest.log\n",
      " 6fxns+File_handling.ipynb      file1.txt                   Untitled.ipynb\n",
      " 6fxns.ipynb                   'Haris pic.jpg'\n"
     ]
    }
   ],
   "source": [
    "ls\n"
   ]
  },
  {
   "cell_type": "code",
   "execution_count": 68,
   "id": "f8ea2f5f-6b6d-484d-8791-6abfa0e8d7e4",
   "metadata": {},
   "outputs": [
    {
     "name": "stdout",
     "output_type": "stream",
     "text": [
      "/home/jovyan\n"
     ]
    }
   ],
   "source": [
    "cd\n"
   ]
  },
  {
   "cell_type": "code",
   "execution_count": null,
   "id": "1513c3e5-21d3-4611-aff3-87b3327cebf7",
   "metadata": {},
   "outputs": [],
   "source": [
    "cd ..    # one step back"
   ]
  },
  {
   "cell_type": "code",
   "execution_count": 70,
   "id": "6e052b98-e1b7-4cfa-b229-8507fedad342",
   "metadata": {},
   "outputs": [
    {
     "name": "stdout",
     "output_type": "stream",
     "text": [
      "\u001b[0m\u001b[01;34mwork\u001b[0m/\n"
     ]
    }
   ],
   "source": [
    "ls\n"
   ]
  },
  {
   "cell_type": "code",
   "execution_count": 77,
   "id": "fa7fa5f0-92cd-4a8c-9596-9a73849dffb1",
   "metadata": {},
   "outputs": [
    {
     "name": "stdin",
     "output_type": "stream",
     "text": [
      "enter a number 0\n"
     ]
    },
    {
     "name": "stdout",
     "output_type": "stream",
     "text": [
      "user has entered zero\n"
     ]
    }
   ],
   "source": [
    "try:\n",
    "    n = int(input('enter a number'))\n",
    "    div = 234/n\n",
    "    print(div)\n",
    "except ValueError:\n",
    "    print('user has entered invalid input')\n",
    "except ZeroDivisionError:\n",
    "    print('user has entered zero')"
   ]
  },
  {
   "cell_type": "code",
   "execution_count": 78,
   "id": "6db8217e-e474-40f8-8f20-9c64a2dcb6e3",
   "metadata": {},
   "outputs": [
    {
     "name": "stdin",
     "output_type": "stream",
     "text": [
      "enter a number j\n"
     ]
    },
    {
     "name": "stdout",
     "output_type": "stream",
     "text": [
      "user has entered invalid inputor may be zero\n"
     ]
    }
   ],
   "source": [
    "try:\n",
    "    n = int(input('enter a number'))\n",
    "    div = 234/n\n",
    "    print(div)\n",
    "except (ValueError,ZeroDivisionError):\n",
    "    print('user has entered invalid inputor may be zero')\n"
   ]
  },
  {
   "cell_type": "code",
   "execution_count": 80,
   "id": "bcedadd7-20e4-4b58-99a1-bffc828c9184",
   "metadata": {},
   "outputs": [
    {
     "name": "stdin",
     "output_type": "stream",
     "text": [
      "enter a number h\n"
     ]
    },
    {
     "name": "stdout",
     "output_type": "stream",
     "text": [
      "user has entered invalid input\n"
     ]
    }
   ],
   "source": [
    "try:\n",
    "    try:\n",
    "        n = int(input('enter a number'))\n",
    "        div = 234/n\n",
    "        print(div)\n",
    "    except ZeroDivisionError:\n",
    "        print('user has entered zero')\n",
    "except ValueError:\n",
    "    print('user has entered invalid input')\n"
   ]
  },
  {
   "cell_type": "code",
   "execution_count": 81,
   "id": "857e3a14-0ef9-434a-8f2f-21885af7b213",
   "metadata": {},
   "outputs": [
    {
     "name": "stdin",
     "output_type": "stream",
     "text": [
      "enter a number 0\n"
     ]
    },
    {
     "name": "stdout",
     "output_type": "stream",
     "text": [
      "user has entered invalid inputor may be zero\n"
     ]
    }
   ],
   "source": [
    "try:\n",
    "    n = int(input('enter a number'))\n",
    "    div = 234/n\n",
    "    print(div)\n",
    "except Exception:\n",
    "    print('user has entered invalid inputor may be zero')\n"
   ]
  },
  {
   "cell_type": "code",
   "execution_count": 3,
   "id": "4d06eb95-0581-4423-a3ed-400d980e839b",
   "metadata": {},
   "outputs": [
    {
     "name": "stdin",
     "output_type": "stream",
     "text": [
      "enter a number 6\n"
     ]
    },
    {
     "name": "stdout",
     "output_type": "stream",
     "text": [
      "39.0\n"
     ]
    }
   ],
   "source": [
    "try:\n",
    "    n = int(input('enter a number'))\n",
    "    div = 234/n   \n",
    "except Exception:\n",
    "    print('user has entered invalid inputor may be zero')\n",
    "else:\n",
    "    print(div)\n"
   ]
  },
  {
   "cell_type": "code",
   "execution_count": 33,
   "id": "ac65bfb6-da4f-48f7-b2ba-2d22f6cd9d4d",
   "metadata": {},
   "outputs": [
    {
     "data": {
      "text/plain": [
       "<_io.TextIOWrapper name='/home/jovyan/work/python_classes/file1.txt' mode='r' encoding='UTF-8'>"
      ]
     },
     "execution_count": 33,
     "metadata": {},
     "output_type": "execute_result"
    }
   ],
   "source": [
    "f1 = open(\"/home/jovyan/work/python_classes/file1.txt\")\n",
    "f1"
   ]
  },
  {
   "cell_type": "code",
   "execution_count": 34,
   "id": "33fd8b8d-d9cc-484d-a40c-58a6baa5d4b7",
   "metadata": {},
   "outputs": [
    {
     "data": {
      "text/plain": [
       "'This is a line written to the file.\\nThis line is appended to the file.\\nThis line is appended to the file.\\n'"
      ]
     },
     "execution_count": 34,
     "metadata": {},
     "output_type": "execute_result"
    }
   ],
   "source": [
    "fl.read()"
   ]
  },
  {
   "cell_type": "code",
   "execution_count": 38,
   "id": "e0e08643-a562-41a3-abd5-6891eafbcf22",
   "metadata": {},
   "outputs": [],
   "source": [
    "fl.close()         # files  and database connections need to be closed after opening them"
   ]
  },
  {
   "cell_type": "code",
   "execution_count": 37,
   "id": "14f64826-91c9-45de-b230-cedc58fafa4b",
   "metadata": {},
   "outputs": [
    {
     "ename": "UnsupportedOperation",
     "evalue": "not writable",
     "output_type": "error",
     "traceback": [
      "\u001b[0;31m---------------------------------------------------------------------------\u001b[0m",
      "\u001b[0;31mUnsupportedOperation\u001b[0m                      Traceback (most recent call last)",
      "Cell \u001b[0;32mIn[37], line 3\u001b[0m\n\u001b[1;32m      1\u001b[0m fl \u001b[38;5;241m=\u001b[39m \u001b[38;5;28mopen\u001b[39m(\u001b[38;5;124m'\u001b[39m\u001b[38;5;124m/home/jovyan/work/python_classes/text.txt\u001b[39m\u001b[38;5;124m'\u001b[39m)\n\u001b[1;32m      2\u001b[0m fl\u001b[38;5;241m.\u001b[39mread()\n\u001b[0;32m----> 3\u001b[0m \u001b[43mfl\u001b[49m\u001b[38;5;241;43m.\u001b[39;49m\u001b[43mwrite\u001b[49m\u001b[43m(\u001b[49m\u001b[38;5;124;43m'\u001b[39;49m\u001b[38;5;124;43masdfg\u001b[39;49m\u001b[38;5;124;43m'\u001b[39;49m\u001b[43m)\u001b[49m\n\u001b[1;32m      4\u001b[0m fl\u001b[38;5;241m.\u001b[39mclose()\n",
      "\u001b[0;31mUnsupportedOperation\u001b[0m: not writable"
     ]
    }
   ],
   "source": [
    "fl = open('/home/jovyan/work/python_classes/text.txt')\n",
    "fl.read()\n",
    "fl.write('asdfg')\n",
    "fl.close()\n",
    "# error is due to the fact that the file is open in read mode \n",
    "# here the file is not closed as error is encountered"
   ]
  },
  {
   "cell_type": "code",
   "execution_count": 93,
   "id": "e098195c-64ec-4bf9-8ef1-0d3785eb5d49",
   "metadata": {},
   "outputs": [
    {
     "ename": "UnsupportedOperation",
     "evalue": "not writable",
     "output_type": "error",
     "traceback": [
      "\u001b[0;31m---------------------------------------------------------------------------\u001b[0m",
      "\u001b[0;31mUnsupportedOperation\u001b[0m                      Traceback (most recent call last)",
      "Cell \u001b[0;32mIn[93], line 3\u001b[0m\n\u001b[1;32m      1\u001b[0m fl \u001b[38;5;241m=\u001b[39m \u001b[38;5;28mopen\u001b[39m(\u001b[38;5;124m'\u001b[39m\u001b[38;5;124m/home/jovyan/work/python_classes/text.txt\u001b[39m\u001b[38;5;124m'\u001b[39m)\n\u001b[1;32m      2\u001b[0m fl\u001b[38;5;241m.\u001b[39mread()\n\u001b[0;32m----> 3\u001b[0m \u001b[43mfl\u001b[49m\u001b[38;5;241;43m.\u001b[39;49m\u001b[43mwrite\u001b[49m\u001b[43m(\u001b[49m\u001b[38;5;124;43m\"\u001b[39;49m\u001b[38;5;124;43msdhvjvhvhvhvh\u001b[39;49m\u001b[38;5;124;43m\"\u001b[39;49m\u001b[43m)\u001b[49m\n\u001b[1;32m      4\u001b[0m fl\u001b[38;5;241m.\u001b[39mclose()                    \u001b[38;5;66;03m# file will not be closed because of error\u001b[39;00m\n",
      "\u001b[0;31mUnsupportedOperation\u001b[0m: not writable"
     ]
    }
   ],
   "source": [
    "fl = open('/home/jovyan/work/python_classes/text.txt')\n",
    "fl.read()\n",
    "fl.write(\"sdhvjvhvhvhvh\")\n",
    "fl.close()                    # file will not be closed because of error\n"
   ]
  },
  {
   "cell_type": "code",
   "execution_count": 95,
   "id": "2a7574a6-e71e-4bec-a84d-0be38b0f2ec0",
   "metadata": {},
   "outputs": [
    {
     "name": "stdout",
     "output_type": "stream",
     "text": [
      "there is some issue\n",
      "file closed\n"
     ]
    }
   ],
   "source": [
    "try:\n",
    "    fl = open('/home/jovyan/work/python_classes/text.txt')\n",
    "    fl.read()\n",
    "    fl.write(\"sdhvjvhvhvhvh\") \n",
    "except Exception:\n",
    "    print('there is some issue')\n",
    "finally:                        \n",
    "    fl.close()\n",
    "    print('file closed')"
   ]
  },
  {
   "cell_type": "code",
   "execution_count": 96,
   "id": "55ccc509-cc26-4fa9-921e-eae26b8ab1f6",
   "metadata": {},
   "outputs": [
    {
     "name": "stdout",
     "output_type": "stream",
     "text": [
      "dfghjcvbn\n",
      "fghjk\n",
      "ghjk\n",
      "hj\n",
      "file closed\n"
     ]
    }
   ],
   "source": [
    "try:\n",
    "    fl = open('/home/jovyan/work/python_classes/text.txt')\n",
    "    data = fl.read()\n",
    "except Exception:\n",
    "    print('there is some issue')\n",
    "else:\n",
    "    print(data)\n",
    "finally:                        \n",
    "    fl.close()\n",
    "    print('file closed')"
   ]
  },
  {
   "cell_type": "code",
   "execution_count": 97,
   "id": "035c09f3-451a-4eb9-bf1b-9629072cb4ce",
   "metadata": {},
   "outputs": [
    {
     "name": "stdout",
     "output_type": "stream",
     "text": [
      "there is some issue\n",
      "file closed\n"
     ]
    }
   ],
   "source": [
    "try:\n",
    "    fl = open('/home/jovyan/work/python_classes/text.txt')\n",
    "    data = fl.write()\n",
    "except Exception:\n",
    "    print('there is some issue')\n",
    "else:\n",
    "    print(data)\n",
    "finally:                        \n",
    "    fl.close()\n",
    "    print('file closed')"
   ]
  },
  {
   "cell_type": "code",
   "execution_count": 1,
   "id": "03febac1-ab97-4199-97f2-48224c863602",
   "metadata": {},
   "outputs": [
    {
     "name": "stdout",
     "output_type": "stream",
     "text": [
      "there is some issue\n"
     ]
    },
    {
     "ename": "NameError",
     "evalue": "name 'data' is not defined",
     "output_type": "error",
     "traceback": [
      "\u001b[0;31m---------------------------------------------------------------------------\u001b[0m",
      "\u001b[0;31mNameError\u001b[0m                                 Traceback (most recent call last)",
      "Cell \u001b[0;32mIn[1], line 9\u001b[0m\n\u001b[1;32m      7\u001b[0m     \u001b[38;5;28mprint\u001b[39m(data)\n\u001b[1;32m      8\u001b[0m \u001b[38;5;28;01mfinally\u001b[39;00m:\n\u001b[0;32m----> 9\u001b[0m     \u001b[38;5;28mprint\u001b[39m(\u001b[43mdata\u001b[49m)\n\u001b[1;32m     10\u001b[0m     fl\u001b[38;5;241m.\u001b[39mclose()\n\u001b[1;32m     11\u001b[0m     \u001b[38;5;28mprint\u001b[39m(\u001b[38;5;124m'\u001b[39m\u001b[38;5;124mfile closed\u001b[39m\u001b[38;5;124m'\u001b[39m)\n",
      "\u001b[0;31mNameError\u001b[0m: name 'data' is not defined"
     ]
    }
   ],
   "source": [
    "try:\n",
    "    fl = open('/home/jovyan/work/python_classes/text.txt')\n",
    "    data = fl.write()\n",
    "except Exception:\n",
    "    print('there is some issue')\n",
    "else:\n",
    "    print(data)\n",
    "finally:\n",
    "    print(data)\n",
    "    fl.close()                        # file is not closed\n",
    "    print('file closed')"
   ]
  },
  {
   "cell_type": "code",
   "execution_count": 2,
   "id": "e2e3a7ea-e807-4a6d-8082-56726381a69e",
   "metadata": {},
   "outputs": [
    {
     "name": "stdout",
     "output_type": "stream",
     "text": [
      "there is some issue\n",
      "file closed\n"
     ]
    }
   ],
   "source": [
    "try:\n",
    "    fl = open('/home/jovyan/work/python_classes/text.txt')\n",
    "    data = fl.write()\n",
    "except Exception:\n",
    "    print('there is some issue')\n",
    "else:\n",
    "    print(data)\n",
    "finally:\n",
    "    try:\n",
    "        print(data)\n",
    "    except:\n",
    "        pass\n",
    "    fl.close()                        \n",
    "    print('file closed')"
   ]
  },
  {
   "cell_type": "code",
   "execution_count": 5,
   "id": "7ccf45ee-a004-490e-972b-0bff6da34755",
   "metadata": {},
   "outputs": [
    {
     "name": "stdin",
     "output_type": "stream",
     "text": [
      "enter the height of the wall -9\n"
     ]
    },
    {
     "name": "stdout",
     "output_type": "stream",
     "text": [
      "entered height is negative\n"
     ]
    }
   ],
   "source": [
    "# custom exception\n",
    "try:\n",
    "    a = int(input('enter the height of the wall'))     # height is non negative\n",
    "    if a<0 :\n",
    "        raise ValueError('entered height is negative')\n",
    "except ValueError as v:\n",
    "            print(v)"
   ]
  },
  {
   "cell_type": "code",
   "execution_count": 39,
   "id": "e1cb10d2-844b-4fac-97bf-41ccd83ea0dd",
   "metadata": {},
   "outputs": [
    {
     "name": "stdin",
     "output_type": "stream",
     "text": [
      "enter the height of the wall -8\n"
     ]
    },
    {
     "name": "stdout",
     "output_type": "stream",
     "text": [
      "entered height is negative\n"
     ]
    }
   ],
   "source": [
    "# custom exception\n",
    "try:\n",
    "    a = int(input('enter the height of the wall'))     # height is non negative\n",
    "    if a<0 :\n",
    "        raise Exception('entered height is negative')\n",
    "except Exception as v:\n",
    "            print(v)"
   ]
  },
  {
   "cell_type": "code",
   "execution_count": 8,
   "id": "568e0488-c49d-40f2-9fa6-403cc94e9644",
   "metadata": {},
   "outputs": [
    {
     "name": "stdin",
     "output_type": "stream",
     "text": [
      "enter your age 89\n"
     ]
    },
    {
     "name": "stdout",
     "output_type": "stream",
     "text": [
      "valid user\n"
     ]
    }
   ],
   "source": [
    "# custom exception\n",
    "try:\n",
    "    age = int(input('enter your age'))     # height is non negative\n",
    "    if age<0 :\n",
    "        raise ValueError('entered age is negative')\n",
    "    elif age<18:\n",
    "        raise ValueError('user is under age')\n",
    "    else:\n",
    "        print('valid user')\n",
    "except ValueError as v:\n",
    "            print(v)"
   ]
  },
  {
   "cell_type": "code",
   "execution_count": 1,
   "id": "b8aaaf89-07d5-46f0-aec5-5585bc2c0ce8",
   "metadata": {},
   "outputs": [
    {
     "name": "stdin",
     "output_type": "stream",
     "text": [
      "enter your age 12\n"
     ]
    },
    {
     "name": "stdout",
     "output_type": "stream",
     "text": [
      "user is under age\n"
     ]
    }
   ],
   "source": [
    "# custom exception\n",
    "try:\n",
    "    age = int(input('enter your age'))     # height is non negative\n",
    "    if age<0 :\n",
    "        raise ValueError('entered age is negative')\n",
    "    elif age<18:\n",
    "        raise ZeroDivisionError('user is under age')\n",
    "    else:\n",
    "        print('valid user')\n",
    "except Exception as v:\n",
    "            print(v)"
   ]
  },
  {
   "cell_type": "code",
   "execution_count": 12,
   "id": "25636f1f-4adc-4caa-8771-b7b9448e523a",
   "metadata": {},
   "outputs": [
    {
     "name": "stdin",
     "output_type": "stream",
     "text": [
      "enter your age 12\n"
     ]
    },
    {
     "name": "stdout",
     "output_type": "stream",
     "text": [
      "user is under age\n"
     ]
    }
   ],
   "source": [
    "# custom exception\n",
    "try:\n",
    "    age = int(input('enter your age'))     # height is non negative\n",
    "    if age<0 :\n",
    "        raise ValueError('entered age is negative')\n",
    "    elif age<18:\n",
    "        raise Exception('user is under age')\n",
    "    else:\n",
    "        print('valid user')\n",
    "except Exception as v:\n",
    "            print(v)"
   ]
  },
  {
   "cell_type": "markdown",
   "id": "3602d0e6-c794-4d30-974e-155ade28c09d",
   "metadata": {},
   "source": [
    "## logging"
   ]
  },
  {
   "cell_type": "code",
   "execution_count": 16,
   "id": "0e1afea7-f9a0-49a5-ae51-ca312e4e0631",
   "metadata": {},
   "outputs": [],
   "source": [
    "# we are trying to store the error messages in a file system so as to inspect the code\n",
    "import logging as log\n",
    "# 1.debub,2.INFO,3.warning,4.error,5.critical -> five levels\n",
    "# critical includes all five levels\n",
    "# error includes 4 levles error,warning,INFO,debug\n",
    "# warning includes warning ,INFO, debug\n",
    "# INFO includes INFO and debug\n",
    "# debug includes debug only"
   ]
  },
  {
   "cell_type": "code",
   "execution_count": 17,
   "id": "68a4f033-a4d7-48f6-9f5f-dbf3fa76f559",
   "metadata": {},
   "outputs": [],
   "source": [
    "log.basicConfig(filename = 'log_file.log',level = log.INFO)   # five levels are there in python logging\n",
    "                                                          # level defines what to put in logs based on order"
   ]
  },
  {
   "cell_type": "code",
   "execution_count": 18,
   "id": "11ba16c4-0206-48c4-b323-65dd7fc807c1",
   "metadata": {},
   "outputs": [],
   "source": [
    "log.info('store a msg')"
   ]
  },
  {
   "cell_type": "code",
   "execution_count": 19,
   "id": "7b7f0b61-f6e6-4470-b137-9e3dc7c0ea4c",
   "metadata": {},
   "outputs": [],
   "source": [
    "log.debug('this is a debug msg')"
   ]
  },
  {
   "cell_type": "code",
   "execution_count": 20,
   "id": "7b9f429f-51e7-4aab-92ae-2fa062420de6",
   "metadata": {},
   "outputs": [],
   "source": [
    "log.warning('this my warning')"
   ]
  },
  {
   "cell_type": "code",
   "execution_count": 21,
   "id": "21c466db-9b80-42f4-b330-a4bee4e39f7f",
   "metadata": {},
   "outputs": [],
   "source": [
    "log.error('this is an error')"
   ]
  },
  {
   "cell_type": "code",
   "execution_count": 22,
   "id": "9e174a17-02ef-474f-9ed9-af92b13ff3a3",
   "metadata": {},
   "outputs": [],
   "source": [
    "log.critical('this is critical')"
   ]
  },
  {
   "cell_type": "code",
   "execution_count": 3,
   "id": "1a04eef0-6a71-4b32-ae15-229909b333d2",
   "metadata": {
    "tags": []
   },
   "outputs": [
    {
     "name": "stdin",
     "output_type": "stream",
     "text": [
      "enter a number -8\n"
     ]
    },
    {
     "name": "stdout",
     "output_type": "stream",
     "text": [
      "-29.25\n"
     ]
    }
   ],
   "source": [
    "import logging\n",
    "logging.basicConfig(filename = 'log_file.log', level = logging.DEBUG, format ='%(asctime)s- %(levelname)s- %(message)s')\n",
    "try:\n",
    "    logging.info('this is a starting of the program')\n",
    "    logging.info('asking the user number')\n",
    "    n = int(input('enter a number'))\n",
    "    logging.info('user has entered the number')\n",
    "    div = 234/n\n",
    "    print(div)\n",
    "    logging.info('result printed')\n",
    "except ValueError:\n",
    "    logging.error('value error raised')\n",
    "    print('user has entered invalid input')\n",
    "except ZeroDivisionError:\n",
    "    logging.error('zero division error raised')\n",
    "    print('user has entered zero')"
   ]
  },
  {
   "cell_type": "code",
   "execution_count": 4,
   "id": "df172714-e5da-4134-bc57-f6849840a570",
   "metadata": {},
   "outputs": [
    {
     "name": "stdin",
     "output_type": "stream",
     "text": [
      "enter a number -9\n"
     ]
    }
   ],
   "source": [
    "import logging\n",
    "logging.basicConfig(filename = 'log_file.log', level = logging.DEBUG, format ='%(asctime)s- %(levelname)s- %(message)s')\n",
    "try:\n",
    "    logging.info('this is a starting of the program')\n",
    "    logging.info('asking the user number')\n",
    "    n = int(input('enter a number'))\n",
    "    logging.info('user has entered the number')\n",
    "    div = 234/n\n",
    "    logging.info('result printed')\n",
    "except ValueError:\n",
    "    logging.error('value error raised')\n",
    "except ZeroDivisionError:\n",
    "    logging.error('zero division error raised')\n",
    "   "
   ]
  },
  {
   "cell_type": "code",
   "execution_count": 5,
   "id": "b628094d-53d8-4277-83a7-89855236d161",
   "metadata": {},
   "outputs": [
    {
     "name": "stdin",
     "output_type": "stream",
     "text": [
      "enter your age 6\n"
     ]
    }
   ],
   "source": [
    "import logging\n",
    "logging.basicConfig(filename= 'log_file1.log',level = logging.DEBUG ,format= '%(asctime)s- %(levelname)s- %(message)s')\n",
    "try:\n",
    "    logging.info('this is a start of my prog')\n",
    "    logging.info('asking user to enter age')\n",
    "    age = int(input('enter your age'))     # height is non negative\n",
    "    logging.info('user has entered age = %d',age)\n",
    "    if age<0 :\n",
    "        logging.info('trying to check negative condition')\n",
    "        raise ValueError('entered age is negative')\n",
    "    elif age<18:\n",
    "        logging.info('trying to check underage condition')\n",
    "        raise Exception('user is under age')\n",
    "    else:\n",
    "         logging.info('valid user')\n",
    "        \n",
    "except Exception as e:\n",
    "             logging.error(e)"
   ]
  },
  {
   "cell_type": "code",
   "execution_count": 6,
   "id": "860de730-6c8b-4bbe-9d2f-3ec7a017fa21",
   "metadata": {},
   "outputs": [],
   "source": [
    "import logging\n",
    "logging.basicConfig(filename= 'log_file2.log',level = logging.DEBUG ,format= '%(asctime)s- %(levelname)s- %(message)s')\n",
    "l = [4,5,6,7,8,9]\n",
    "logging.info(l)\n",
    "l1 = []\n",
    "def even_parser(l):\n",
    "    try:\n",
    "        logging.info('inside try block')\n",
    "        for i in l:\n",
    "            logging.info('inside for loop i = %d',i)\n",
    "            if i%2 ==0:\n",
    "                logging.info('checking the vlaue of i')\n",
    "                l1.append(i)\n",
    "                logging.info('appending the value i = %d ',i)\n",
    "        return l1\n",
    "    except Exception as e:\n",
    "        logging.error(e)"
   ]
  },
  {
   "cell_type": "code",
   "execution_count": 7,
   "id": "e2725b5d-6349-4f1b-9b11-9d9e6eaeed69",
   "metadata": {},
   "outputs": [
    {
     "data": {
      "text/plain": [
       "[4, 6, 8]"
      ]
     },
     "execution_count": 7,
     "metadata": {},
     "output_type": "execute_result"
    }
   ],
   "source": [
    "even_parser(l)"
   ]
  },
  {
   "cell_type": "code",
   "execution_count": null,
   "id": "0a65fc08-c332-462a-87de-cf43fe9e34ba",
   "metadata": {},
   "outputs": [],
   "source": []
  },
  {
   "cell_type": "code",
   "execution_count": null,
   "id": "9e6f24b0-49ac-4008-8798-579d64cfd0c7",
   "metadata": {},
   "outputs": [],
   "source": []
  }
 ],
 "metadata": {
  "kernelspec": {
   "display_name": "Python 3 (ipykernel)",
   "language": "python",
   "name": "python3"
  },
  "language_info": {
   "codemirror_mode": {
    "name": "ipython",
    "version": 3
   },
   "file_extension": ".py",
   "mimetype": "text/x-python",
   "name": "python",
   "nbconvert_exporter": "python",
   "pygments_lexer": "ipython3",
   "version": "3.10.8"
  }
 },
 "nbformat": 4,
 "nbformat_minor": 5
}
