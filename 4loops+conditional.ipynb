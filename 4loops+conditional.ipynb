{
 "cells": [
  {
   "cell_type": "markdown",
   "id": "c6410531-b0f4-4cd4-8803-a7a1c7c8c496",
   "metadata": {},
   "source": [
    "## logical operators"
   ]
  },
  {
   "cell_type": "code",
   "execution_count": null,
   "id": "5608824d-8451-4dea-bde8-8367b20f17ad",
   "metadata": {},
   "outputs": [],
   "source": [
    "and \n",
    "or        # used to check whether expression is true or false\n",
    "not"
   ]
  },
  {
   "cell_type": "code",
   "execution_count": 1,
   "id": "a48ed906-88bd-4acd-9309-fe940b126599",
   "metadata": {},
   "outputs": [],
   "source": [
    "a = 10\n",
    "b = 20"
   ]
  },
  {
   "cell_type": "code",
   "execution_count": 2,
   "id": "e0167d3b-bf84-4dc4-af26-c8101db73f20",
   "metadata": {},
   "outputs": [
    {
     "data": {
      "text/plain": [
       "False"
      ]
     },
     "execution_count": 2,
     "metadata": {},
     "output_type": "execute_result"
    }
   ],
   "source": [
    "(a>10) and (b>20)"
   ]
  },
  {
   "cell_type": "code",
   "execution_count": 3,
   "id": "fdfeab21-89f3-4a1a-a7ad-a5f150091033",
   "metadata": {},
   "outputs": [
    {
     "data": {
      "text/plain": [
       "True"
      ]
     },
     "execution_count": 3,
     "metadata": {},
     "output_type": "execute_result"
    }
   ],
   "source": [
    "(a>5) or (b>25)"
   ]
  },
  {
   "cell_type": "code",
   "execution_count": 4,
   "id": "8adf0907-292a-44be-b768-455ec1cd3f9f",
   "metadata": {},
   "outputs": [
    {
     "data": {
      "text/plain": [
       "True"
      ]
     },
     "execution_count": 4,
     "metadata": {},
     "output_type": "execute_result"
    }
   ],
   "source": [
    "(a<20)"
   ]
  },
  {
   "cell_type": "code",
   "execution_count": 5,
   "id": "4c43bf9b-f551-49a8-b3db-19790452f870",
   "metadata": {},
   "outputs": [
    {
     "data": {
      "text/plain": [
       "False"
      ]
     },
     "execution_count": 5,
     "metadata": {},
     "output_type": "execute_result"
    }
   ],
   "source": [
    "not(a<20)"
   ]
  },
  {
   "cell_type": "markdown",
   "id": "24a3ef26-5d3b-4d67-8922-24ec1798c64c",
   "metadata": {},
   "source": [
    "## bit wise operators"
   ]
  },
  {
   "cell_type": "code",
   "execution_count": 6,
   "id": "63b1b4c7-cd90-4ae4-b094-38bfdc9a9c47",
   "metadata": {},
   "outputs": [
    {
     "ename": "SyntaxError",
     "evalue": "invalid syntax (3382923931.py, line 1)",
     "output_type": "error",
     "traceback": [
      "\u001b[0;36m  Cell \u001b[0;32mIn[6], line 1\u001b[0;36m\u001b[0m\n\u001b[0;31m    &  --- and\u001b[0m\n\u001b[0m    ^\u001b[0m\n\u001b[0;31mSyntaxError\u001b[0m\u001b[0;31m:\u001b[0m invalid syntax\n"
     ]
    }
   ],
   "source": [
    "&  --- and \n",
    "|  --- or\n",
    "^  --- xor\n",
    "~  --- negation\n",
    "<< --- left shift\n",
    ">> --- right shift"
   ]
  },
  {
   "cell_type": "code",
   "execution_count": 7,
   "id": "13b0fe0e-02dc-4d53-881f-9a6590454e2d",
   "metadata": {},
   "outputs": [
    {
     "data": {
      "text/plain": [
       "67"
      ]
     },
     "execution_count": 7,
     "metadata": {},
     "output_type": "execute_result"
    }
   ],
   "source": [
    "a = 67\n",
    "b = bin(a)\n",
    "c = int(b,2)\n",
    "c"
   ]
  },
  {
   "cell_type": "code",
   "execution_count": 8,
   "id": "1522e355-cfcb-4ce9-a4f1-cc3f49df0946",
   "metadata": {},
   "outputs": [
    {
     "data": {
      "text/plain": [
       "'0b100000'"
      ]
     },
     "execution_count": 8,
     "metadata": {},
     "output_type": "execute_result"
    }
   ],
   "source": [
    "b = 32\n",
    "bin(b)"
   ]
  },
  {
   "cell_type": "code",
   "execution_count": 9,
   "id": "90f92fd2-8d01-4540-85ea-fc1254028bce",
   "metadata": {},
   "outputs": [
    {
     "data": {
      "text/plain": [
       "0"
      ]
     },
     "execution_count": 9,
     "metadata": {},
     "output_type": "execute_result"
    }
   ],
   "source": [
    "a & b"
   ]
  },
  {
   "cell_type": "code",
   "execution_count": 10,
   "id": "b7e18b9e-f578-49dd-8667-dbbfb5837980",
   "metadata": {},
   "outputs": [
    {
     "data": {
      "text/plain": [
       "'Now, when you use the and operator (and is a logical operator, not a bitwise operator) between two binary strings,\\nPython performs a logical AND operation between them as follows:\\n\\nIf both operands are considered \"truthy\" (i.e., they are not empty or equal to zero), it returns the second operand.\\nIf any of the operands is \"falsy\" (i.e., it is empty or equal to zero), it returns the first falsy operand.'"
      ]
     },
     "execution_count": 10,
     "metadata": {},
     "output_type": "execute_result"
    }
   ],
   "source": [
    "bin(a) and bin(b)\n",
    "'''Now, when you use the and operator (and is a logical operator, not a bitwise operator) between two binary strings,\n",
    "Python performs a logical AND operation between them as follows:\n",
    "\n",
    "If both operands are considered \"truthy\" (i.e., they are not empty or equal to zero), it returns the second operand.\n",
    "If any of the operands is \"falsy\" (i.e., it is empty or equal to zero), it returns the first falsy operand.'''"
   ]
  },
  {
   "cell_type": "code",
   "execution_count": 11,
   "id": "8563a076-4c0b-4a85-a78a-4dbc6ba03749",
   "metadata": {},
   "outputs": [
    {
     "name": "stdout",
     "output_type": "stream",
     "text": [
      "<class 'str'>\n",
      "Binary representation of a: 01010\n",
      "Binary representation of b: 10101\n",
      "Result of bitwise AND operation: 0\n"
     ]
    }
   ],
   "source": [
    "# bin(a) & bin(b)\n",
    "# Step 1: Convert two integers into binary representations\n",
    "a = 10\n",
    "b = 21\n",
    "\n",
    "binary_a = bin(a)[2:]  # Convert a to binary and remove '0b' prefix\n",
    "binary_b = bin(b)[2:]  # Convert b to binary and remove '0b' prefix\n",
    "print(type(binary_a))\n",
    "\n",
    "# Step 2: Perform the bitwise AND operation on binary representations\n",
    "result_binary = \"\"\n",
    "\n",
    "# Ensure both binary strings are of the same length by padding with zeros if necessary\n",
    "max_length = max(len(binary_a), len(binary_b))\n",
    "binary_a = binary_a.zfill(max_length)\n",
    "binary_b = binary_b.zfill(max_length)\n",
    "\n",
    "for i in range(max_length):\n",
    "    if binary_a[i] == '1' and binary_b[i] == '1':\n",
    "        result_binary += '1'\n",
    "    else:\n",
    "        result_binary += '0'\n",
    "\n",
    "# Step 3: Convert the result back into an integer if needed\n",
    "result = int(result_binary, 2)\n",
    "\n",
    "# Display the result\n",
    "print(\"Binary representation of a:\", binary_a)\n",
    "print(\"Binary representation of b:\", binary_b)\n",
    "print(\"Result of bitwise AND operation:\", result)\n"
   ]
  },
  {
   "cell_type": "code",
   "execution_count": 12,
   "id": "0776da25-1477-434e-a9d1-7ca12d422d6e",
   "metadata": {},
   "outputs": [
    {
     "name": "stdout",
     "output_type": "stream",
     "text": [
      "Result of bitwise AND operation: 0\n"
     ]
    }
   ],
   "source": [
    "# Two integers\n",
    "a = 10\n",
    "b = 21\n",
    "\n",
    "# Bitwise AND operation on binary representations\n",
    "result = a & b\n",
    "\n",
    "# Display the result\n",
    "print(\"Result of bitwise AND operation:\", result)\n"
   ]
  },
  {
   "cell_type": "code",
   "execution_count": 13,
   "id": "1c88be4a-b755-4b7c-a592-beae220edd93",
   "metadata": {},
   "outputs": [
    {
     "name": "stdout",
     "output_type": "stream",
     "text": [
      "42\n"
     ]
    }
   ],
   "source": [
    "#int(100000,2)\n",
    "binary_string = '101010'  # Replace with your binary string\n",
    "decimal_number = int(binary_string, 2)\n",
    "print(decimal_number)\n"
   ]
  },
  {
   "cell_type": "code",
   "execution_count": 14,
   "id": "474f774f-bbff-4f50-a888-d04736d17015",
   "metadata": {},
   "outputs": [
    {
     "data": {
      "text/plain": [
       "31"
      ]
     },
     "execution_count": 14,
     "metadata": {},
     "output_type": "execute_result"
    }
   ],
   "source": [
    "a | b"
   ]
  },
  {
   "cell_type": "code",
   "execution_count": 15,
   "id": "d1aaa047-22c5-4d69-a68d-c3ee4934b8db",
   "metadata": {},
   "outputs": [
    {
     "data": {
      "text/plain": [
       "31"
      ]
     },
     "execution_count": 15,
     "metadata": {},
     "output_type": "execute_result"
    }
   ],
   "source": [
    "a ^ b"
   ]
  },
  {
   "cell_type": "code",
   "execution_count": 16,
   "id": "06222022-5b61-4f26-a10f-9a501997fd7c",
   "metadata": {},
   "outputs": [
    {
     "ename": "SyntaxError",
     "evalue": "invalid syntax (2247933247.py, line 1)",
     "output_type": "error",
     "traceback": [
      "\u001b[0;36m  Cell \u001b[0;32mIn[16], line 1\u001b[0;36m\u001b[0m\n\u001b[0;31m    1 1 0           # xor truth table\u001b[0m\n\u001b[0m      ^\u001b[0m\n\u001b[0;31mSyntaxError\u001b[0m\u001b[0;31m:\u001b[0m invalid syntax\n"
     ]
    }
   ],
   "source": [
    "1 1 0           # xor truth table\n",
    "1 0 1\n",
    "0 1 1 \n",
    "0 0 0"
   ]
  },
  {
   "cell_type": "code",
   "execution_count": 17,
   "id": "ff97c62e-259e-4d0b-b595-795aa90e4356",
   "metadata": {},
   "outputs": [
    {
     "data": {
      "text/plain": [
       "-11"
      ]
     },
     "execution_count": 17,
     "metadata": {},
     "output_type": "execute_result"
    }
   ],
   "source": [
    "a = 10\n",
    "~a"
   ]
  },
  {
   "cell_type": "code",
   "execution_count": 18,
   "id": "0d5dc4a2-2be7-44b4-b37e-1e721f2b990d",
   "metadata": {},
   "outputs": [
    {
     "ename": "SyntaxError",
     "evalue": "invalid syntax (886713874.py, line 1)",
     "output_type": "error",
     "traceback": [
      "\u001b[0;36m  Cell \u001b[0;32mIn[18], line 1\u001b[0;36m\u001b[0m\n\u001b[0;31m    0     1 0 1 0    # negate it\u001b[0m\n\u001b[0m          ^\u001b[0m\n\u001b[0;31mSyntaxError\u001b[0m\u001b[0;31m:\u001b[0m invalid syntax\n"
     ]
    }
   ],
   "source": [
    "0     1 0 1 0    # negate it\n",
    "1     0 1 0 1    # taking two's compliment\n",
    "0     1 0 0 1    # equals 11"
   ]
  },
  {
   "cell_type": "code",
   "execution_count": 19,
   "id": "a55325cf-dce4-47e6-80d4-b9464f499ce5",
   "metadata": {},
   "outputs": [
    {
     "data": {
      "text/plain": [
       "10"
      ]
     },
     "execution_count": 19,
     "metadata": {},
     "output_type": "execute_result"
    }
   ],
   "source": [
    "a = -11\n",
    "~a"
   ]
  },
  {
   "cell_type": "code",
   "execution_count": 20,
   "id": "46150752-663d-47b6-a577-440c1b4ae633",
   "metadata": {},
   "outputs": [
    {
     "data": {
      "text/plain": [
       "11"
      ]
     },
     "execution_count": 20,
     "metadata": {},
     "output_type": "execute_result"
    }
   ],
   "source": [
    "a = 45     # divided by 4\n",
    "a >> 2"
   ]
  },
  {
   "cell_type": "code",
   "execution_count": 21,
   "id": "4de6b4e6-a8b5-4ca0-9582-1b2f51dad386",
   "metadata": {},
   "outputs": [
    {
     "data": {
      "text/plain": [
       "45"
      ]
     },
     "execution_count": 21,
     "metadata": {},
     "output_type": "execute_result"
    }
   ],
   "source": [
    "a"
   ]
  },
  {
   "cell_type": "code",
   "execution_count": 22,
   "id": "59452579-41ce-4ea7-be65-b5e7ac4e7668",
   "metadata": {},
   "outputs": [
    {
     "data": {
      "text/plain": [
       "180"
      ]
     },
     "execution_count": 22,
     "metadata": {},
     "output_type": "execute_result"
    }
   ],
   "source": [
    "a = 45       # multiplied by 4\n",
    "a << 2"
   ]
  },
  {
   "cell_type": "markdown",
   "id": "a5951c1f-ad76-4cfc-947d-25cc59044dc5",
   "metadata": {},
   "source": [
    "## special operators"
   ]
  },
  {
   "cell_type": "code",
   "execution_count": 23,
   "id": "4ce59bca-f53b-4f58-bb8a-4f58f35af805",
   "metadata": {},
   "outputs": [
    {
     "data": {
      "text/plain": [
       "False"
      ]
     },
     "execution_count": 23,
     "metadata": {},
     "output_type": "execute_result"
    }
   ],
   "source": [
    "x = [1,4,5]\n",
    "2 in x"
   ]
  },
  {
   "cell_type": "markdown",
   "id": "010ea2e5-ca3e-404f-8f7c-ddf1c0799105",
   "metadata": {},
   "source": [
    "## control statements"
   ]
  },
  {
   "cell_type": "code",
   "execution_count": 24,
   "id": "d799d243-f12c-46a4-b89a-643451d2d7e4",
   "metadata": {},
   "outputs": [
    {
     "ename": "SyntaxError",
     "evalue": "invalid syntax (301999026.py, line 1)",
     "output_type": "error",
     "traceback": [
      "\u001b[0;36m  Cell \u001b[0;32mIn[24], line 1\u001b[0;36m\u001b[0m\n\u001b[0;31m    if\u001b[0m\n\u001b[0m      ^\u001b[0m\n\u001b[0;31mSyntaxError\u001b[0m\u001b[0;31m:\u001b[0m invalid syntax\n"
     ]
    }
   ],
   "source": [
    "if\n",
    "if else\n",
    "if elif else"
   ]
  },
  {
   "cell_type": "code",
   "execution_count": 25,
   "id": "cb6a1ff2-a7f3-4fef-8da2-f84077847052",
   "metadata": {},
   "outputs": [],
   "source": [
    "age = 23"
   ]
  },
  {
   "cell_type": "code",
   "execution_count": 26,
   "id": "70f7d1e3-df94-446b-a53d-32bfe0c574ff",
   "metadata": {},
   "outputs": [
    {
     "name": "stdout",
     "output_type": "stream",
     "text": [
      "you can drive\n"
     ]
    }
   ],
   "source": [
    "if age >= 18:\n",
    "    print(\"you can drive\")"
   ]
  },
  {
   "cell_type": "code",
   "execution_count": 27,
   "id": "eecf1835-5b11-43e1-864c-89a4abc0b566",
   "metadata": {},
   "outputs": [],
   "source": [
    "age = 12"
   ]
  },
  {
   "cell_type": "code",
   "execution_count": 28,
   "id": "fe721189-49ca-4d62-b98e-de387085da86",
   "metadata": {},
   "outputs": [
    {
     "name": "stdout",
     "output_type": "stream",
     "text": [
      "you cannot drive\n"
     ]
    }
   ],
   "source": [
    "if age >= 18:\n",
    "    print(\"you can drive\")\n",
    "else:\n",
    "    print(\"you cannot drive\")"
   ]
  },
  {
   "cell_type": "code",
   "execution_count": 29,
   "id": "7dbb6db5-362c-474c-8092-47afe0262349",
   "metadata": {},
   "outputs": [
    {
     "name": "stdout",
     "output_type": "stream",
     "text": [
      "you are inside the if block\n"
     ]
    }
   ],
   "source": [
    "x = 23\n",
    "if x >= 23:\n",
    "    print(\"you are inside the if block\")"
   ]
  },
  {
   "cell_type": "code",
   "execution_count": 30,
   "id": "8fa0aa46-10df-46ad-bc55-36e87ad459e3",
   "metadata": {},
   "outputs": [],
   "source": [
    "age = 10"
   ]
  },
  {
   "cell_type": "code",
   "execution_count": 31,
   "id": "ac89200c-ad64-463e-8af5-c3ada3f64a31",
   "metadata": {},
   "outputs": [
    {
     "name": "stdout",
     "output_type": "stream",
     "text": [
      "you cannot drive\n"
     ]
    }
   ],
   "source": [
    "if age >= 18:\n",
    "    print(\"you can drive\")\n",
    "elif age <= 14:\n",
    "    print(\"you cannot drive\")\n",
    "else:\n",
    "    print(\"wait for some more time\")"
   ]
  },
  {
   "cell_type": "code",
   "execution_count": 32,
   "id": "631ecb10-4b04-40ba-a25a-ed2825657ac5",
   "metadata": {},
   "outputs": [
    {
     "name": "stdout",
     "output_type": "stream",
     "text": [
      "failed\n"
     ]
    }
   ],
   "source": [
    "score = 50\n",
    "\n",
    "if score >= 90:\n",
    "    print(\"90\")\n",
    "elif score >= 80:\n",
    "    print(\"80\")\n",
    "elif score >= 70:\n",
    "    print(\"70\")\n",
    "else:\n",
    "    print(\"failed\")"
   ]
  },
  {
   "cell_type": "code",
   "execution_count": 33,
   "id": "484f08ea-f67f-4ee4-964f-f90cd4b258e4",
   "metadata": {},
   "outputs": [
    {
     "name": "stdout",
     "output_type": "stream",
     "text": [
      "night\n"
     ]
    }
   ],
   "source": [
    "time = 5\n",
    "if time<0:\n",
    "    print(\"invalid\")\n",
    "elif 0 <= time <= 5:\n",
    "    print(\"night\")\n",
    "elif 6 <= time <= 11:\n",
    "    print(\"morning\")\n",
    "elif 12 <= time <= 17:\n",
    "    print(\"afternoon\")\n",
    "elif 18 <= time <= 23:\n",
    "    print(\"evening\")\n",
    "else:\n",
    "    print(\"invalid\")\n",
    "    \n",
    "    "
   ]
  },
  {
   "cell_type": "code",
   "execution_count": 34,
   "id": "7ea4e210-42ea-4c54-b4ce-01022ddc4b06",
   "metadata": {},
   "outputs": [],
   "source": [
    "# find the largest no. from three given numbers"
   ]
  },
  {
   "cell_type": "code",
   "execution_count": 35,
   "id": "213848d1-24ca-459c-b445-6c298ab93782",
   "metadata": {},
   "outputs": [
    {
     "name": "stdout",
     "output_type": "stream",
     "text": [
      "largest number is: 30\n"
     ]
    }
   ],
   "source": [
    "num1 = 10 \n",
    "num2 = 20 \n",
    "num3 = 30\n",
    "\n",
    "if (num1 >= num2) and (num1 >= num3):\n",
    "    largest = num1\n",
    "    print(\"largest number is:\",largest)\n",
    "elif (num2 >= num1) and (num2 >= num3):\n",
    "    largest = num2\n",
    "    print(\"largest number is:\",largest)\n",
    "else:\n",
    "    largest = num3\n",
    "    print(\"largest number is:\",largest)\n"
   ]
  },
  {
   "cell_type": "code",
   "execution_count": 36,
   "id": "f6e2df4e-58e8-470d-bc5c-8b95986157e6",
   "metadata": {},
   "outputs": [
    {
     "name": "stdin",
     "output_type": "stream",
     "text": [
      "enter first number : 7\n",
      "enter operator (+,-,*,/,%) :  +\n",
      "enter second number : 8\n"
     ]
    },
    {
     "name": "stdout",
     "output_type": "stream",
     "text": [
      "15\n"
     ]
    }
   ],
   "source": [
    "first = input(\"enter first number :\")\n",
    "op = input(\"enter operator (+,-,*,/,%) : \")\n",
    "second = input(\"enter second number :\")\n",
    "\n",
    "first = int(first)\n",
    "second = int(second)\n",
    "\n",
    "if op == '+':\n",
    "    print(first + second)\n",
    "elif op == '-':\n",
    "    print(first - second)\n",
    "elif op == '/':\n",
    "    print(first / second)\n",
    "elif op == '*':\n",
    "    print(first * second)\n",
    "elif op == '%':\n",
    "    print(first % second)\n",
    "else:\n",
    "    print('invalid operator')"
   ]
  },
  {
   "cell_type": "code",
   "execution_count": 37,
   "id": "33fde499-4824-4f77-acd1-1f04fec250c8",
   "metadata": {},
   "outputs": [
    {
     "name": "stdout",
     "output_type": "stream",
     "text": [
      "number is positive\n"
     ]
    }
   ],
   "source": [
    "num = 8\n",
    "\n",
    "if (num >= 0):\n",
    "    if num == 0:\n",
    "        print(\"number is 0\")\n",
    "    else:\n",
    "        print(\"number is positive\")\n",
    "else:\n",
    "    print(\"number is negative\")\n",
    "    "
   ]
  },
  {
   "cell_type": "code",
   "execution_count": 38,
   "id": "aa78dcb5-4e76-4c9d-a5ae-a4874d9f3c7f",
   "metadata": {},
   "outputs": [
    {
     "ename": "SyntaxError",
     "evalue": "incomplete input (1492246849.py, line 2)",
     "output_type": "error",
     "traceback": [
      "\u001b[0;36m  Cell \u001b[0;32mIn[38], line 2\u001b[0;36m\u001b[0m\n\u001b[0;31m    (range(5)\u001b[0m\n\u001b[0m             ^\u001b[0m\n\u001b[0;31mSyntaxError\u001b[0m\u001b[0;31m:\u001b[0m incomplete input\n"
     ]
    }
   ],
   "source": [
    "# range functions\n",
    "(range(5)\n"
   ]
  },
  {
   "cell_type": "code",
   "execution_count": 39,
   "id": "c158d5fd-e86f-4723-a23b-2ff873a95277",
   "metadata": {},
   "outputs": [
    {
     "data": {
      "text/plain": [
       "[0, 1, 2, 3, 4, 5]"
      ]
     },
     "execution_count": 39,
     "metadata": {},
     "output_type": "execute_result"
    }
   ],
   "source": [
    "list(range(6))"
   ]
  },
  {
   "cell_type": "code",
   "execution_count": 40,
   "id": "9ce6d1e8-ac2c-49d2-b086-9fdf75beba16",
   "metadata": {},
   "outputs": [
    {
     "ename": "NameError",
     "evalue": "name 'start' is not defined",
     "output_type": "error",
     "traceback": [
      "\u001b[0;31m---------------------------------------------------------------------------\u001b[0m",
      "\u001b[0;31mNameError\u001b[0m                                 Traceback (most recent call last)",
      "Cell \u001b[0;32mIn[40], line 1\u001b[0m\n\u001b[0;32m----> 1\u001b[0m \u001b[38;5;28mrange\u001b[39m(\u001b[43mstart\u001b[49m,stop,step)      \u001b[38;5;66;03m# stop is exclusive\u001b[39;00m\n",
      "\u001b[0;31mNameError\u001b[0m: name 'start' is not defined"
     ]
    }
   ],
   "source": [
    "range(start,stop,step)      # stop is exclusive"
   ]
  },
  {
   "cell_type": "code",
   "execution_count": 41,
   "id": "fb17609f-924d-45e9-b4c3-437472815019",
   "metadata": {},
   "outputs": [
    {
     "data": {
      "text/plain": [
       "[-6, -4, -2, 0, 2, 4, 6]"
      ]
     },
     "execution_count": 41,
     "metadata": {},
     "output_type": "execute_result"
    }
   ],
   "source": [
    "list(range(-6,8,2))"
   ]
  },
  {
   "cell_type": "markdown",
   "id": "dd3b79ea-61cd-4878-8d92-8f81b9f8cad3",
   "metadata": {},
   "source": [
    "## loops"
   ]
  },
  {
   "cell_type": "code",
   "execution_count": 42,
   "id": "eed21eb9-5e5d-42f2-92fa-f1abfc4f36c1",
   "metadata": {},
   "outputs": [
    {
     "ename": "SyntaxError",
     "evalue": "invalid syntax (4053736554.py, line 1)",
     "output_type": "error",
     "traceback": [
      "\u001b[0;36m  Cell \u001b[0;32mIn[42], line 1\u001b[0;36m\u001b[0m\n\u001b[0;31m    for loop\u001b[0m\n\u001b[0m            ^\u001b[0m\n\u001b[0;31mSyntaxError\u001b[0m\u001b[0;31m:\u001b[0m invalid syntax\n"
     ]
    }
   ],
   "source": [
    "for loop\n",
    "while loop"
   ]
  },
  {
   "cell_type": "code",
   "execution_count": 43,
   "id": "24d18486-0036-4cb5-807f-f84bf87c0740",
   "metadata": {},
   "outputs": [
    {
     "name": "stdout",
     "output_type": "stream",
     "text": [
      "0\n",
      "1\n",
      "2\n",
      "3\n",
      "4\n"
     ]
    }
   ],
   "source": [
    "for i in range (5):\n",
    "    print(i)"
   ]
  },
  {
   "cell_type": "code",
   "execution_count": 44,
   "id": "cf4a20f1-d712-4bf3-9ab7-8cf50bc7ccc1",
   "metadata": {},
   "outputs": [
    {
     "name": "stdout",
     "output_type": "stream",
     "text": [
      "-11\n",
      "-9\n",
      "-7\n",
      "-5\n",
      "-3\n",
      "-1\n"
     ]
    }
   ],
   "source": [
    "for i in range(-11,0,2):\n",
    "    print(i)"
   ]
  },
  {
   "cell_type": "code",
   "execution_count": 45,
   "id": "f989f12c-36be-47fc-9085-54b0e71eaac2",
   "metadata": {},
   "outputs": [
    {
     "name": "stdout",
     "output_type": "stream",
     "text": [
      "a\n",
      "b\n",
      "c\n",
      "d\n"
     ]
    }
   ],
   "source": [
    "for k in ['a','b','c','d']:\n",
    "    print(k)"
   ]
  },
  {
   "cell_type": "code",
   "execution_count": 46,
   "id": "bf28ffa9-6558-4fcf-9c72-664531626ad2",
   "metadata": {},
   "outputs": [
    {
     "name": "stdout",
     "output_type": "stream",
     "text": [
      "h\n",
      "a\n",
      "r\n",
      "i\n",
      "s\n",
      " \n",
      "n\n",
      "a\n",
      "z\n",
      "i\n",
      "r\n"
     ]
    }
   ],
   "source": [
    "for z in \"haris nazir\":\n",
    "    print(z)"
   ]
  },
  {
   "cell_type": "code",
   "execution_count": 47,
   "id": "0ddc04ea-f4cf-42a5-8a15-70f0468cac4b",
   "metadata": {},
   "outputs": [
    {
     "name": "stdout",
     "output_type": "stream",
     "text": [
      "haris nazir"
     ]
    }
   ],
   "source": [
    "st = \"haris nazir\"\n",
    "for z in st:\n",
    "    print(z,end='')"
   ]
  },
  {
   "cell_type": "code",
   "execution_count": 48,
   "id": "04e7f732-9647-4e90-baba-ca3fe675fc7a",
   "metadata": {},
   "outputs": [
    {
     "ename": "TypeError",
     "evalue": "'int' object is not iterable",
     "output_type": "error",
     "traceback": [
      "\u001b[0;31m---------------------------------------------------------------------------\u001b[0m",
      "\u001b[0;31mTypeError\u001b[0m                                 Traceback (most recent call last)",
      "Cell \u001b[0;32mIn[48], line 1\u001b[0m\n\u001b[0;32m----> 1\u001b[0m \u001b[38;5;28;01mfor\u001b[39;00m i \u001b[38;5;129;01min\u001b[39;00m \u001b[38;5;241m234\u001b[39m:\n\u001b[1;32m      2\u001b[0m     \u001b[38;5;28mprint\u001b[39m(i)\n",
      "\u001b[0;31mTypeError\u001b[0m: 'int' object is not iterable"
     ]
    }
   ],
   "source": [
    "for i in 234:\n",
    "    print(i)"
   ]
  },
  {
   "cell_type": "code",
   "execution_count": 49,
   "id": "29000223-8a0b-43d8-bbc8-10ec420c08f0",
   "metadata": {},
   "outputs": [
    {
     "name": "stdout",
     "output_type": "stream",
     "text": [
      "haris\n",
      "srinagar\n"
     ]
    }
   ],
   "source": [
    "x = {\"name\":\"haris\",\"city\":\"srinagar\"}\n",
    "for i in x.values():\n",
    "    print(i)"
   ]
  },
  {
   "cell_type": "code",
   "execution_count": 50,
   "id": "edc7af7d-bf33-4933-bf30-a0c41b9b9c94",
   "metadata": {},
   "outputs": [
    {
     "name": "stdout",
     "output_type": "stream",
     "text": [
      "india\n",
      "uk\n",
      "germany\n"
     ]
    }
   ],
   "source": [
    "country = [\"india\",\"uk\",\"germany\"]\n",
    "\n",
    "for index in range(len(country)):\n",
    "    print(country[index])\n",
    "    "
   ]
  },
  {
   "cell_type": "code",
   "execution_count": 51,
   "id": "af03e30a-93e6-411c-908d-06d63d974b74",
   "metadata": {},
   "outputs": [
    {
     "name": "stdout",
     "output_type": "stream",
     "text": [
      "india\n",
      "uk\n",
      "germany\n"
     ]
    }
   ],
   "source": [
    "country = [\"india\",\"uk\",\"germany\"]\n",
    "\n",
    "for ct in country:\n",
    "    print(ct)"
   ]
  },
  {
   "cell_type": "code",
   "execution_count": 52,
   "id": "e182c124-d44b-45c3-a029-d9637c85ab19",
   "metadata": {},
   "outputs": [
    {
     "data": {
      "text/plain": [
       "dict_keys(['x1', 'x2', 'x3'])"
      ]
     },
     "execution_count": 52,
     "metadata": {},
     "output_type": "execute_result"
    }
   ],
   "source": [
    "dict1 = {\"x1\":1,\"x2\":2,\"x3\":3}\n",
    "dict1.keys()"
   ]
  },
  {
   "cell_type": "code",
   "execution_count": 53,
   "id": "dd1b633f-838b-4c1c-a4d0-c8d4b549bd91",
   "metadata": {},
   "outputs": [
    {
     "data": {
      "text/plain": [
       "dict_values([1, 2, 3])"
      ]
     },
     "execution_count": 53,
     "metadata": {},
     "output_type": "execute_result"
    }
   ],
   "source": [
    "dict1.values()"
   ]
  },
  {
   "cell_type": "code",
   "execution_count": 54,
   "id": "f144c776-c908-4e3b-87fa-c8e27893af4d",
   "metadata": {},
   "outputs": [
    {
     "name": "stdout",
     "output_type": "stream",
     "text": [
      "x1 1\n",
      "x2 2\n",
      "x3 3\n"
     ]
    }
   ],
   "source": [
    "for key in dict1:\n",
    "    print(key,dict1[key])"
   ]
  },
  {
   "cell_type": "code",
   "execution_count": 55,
   "id": "6c7067b9-77bc-41d3-8208-bd0e7935b409",
   "metadata": {},
   "outputs": [
    {
     "data": {
      "text/plain": [
       "1"
      ]
     },
     "execution_count": 55,
     "metadata": {},
     "output_type": "execute_result"
    }
   ],
   "source": [
    "dict1[\"x1\"]"
   ]
  },
  {
   "cell_type": "code",
   "execution_count": 56,
   "id": "c84584ce-0681-436d-9810-b368fd2fc27d",
   "metadata": {},
   "outputs": [
    {
     "name": "stdout",
     "output_type": "stream",
     "text": [
      "x1\n",
      "x2\n",
      "x3\n"
     ]
    }
   ],
   "source": [
    "for i in dict1:         # the for loop in dictionary by default takes keys into consideration\n",
    "    print(i)"
   ]
  },
  {
   "cell_type": "code",
   "execution_count": 57,
   "id": "a75ac0b8-c8fc-47d0-a3c1-14ba4fa0939e",
   "metadata": {},
   "outputs": [
    {
     "name": "stdout",
     "output_type": "stream",
     "text": [
      "1\n",
      "2\n",
      "3\n"
     ]
    }
   ],
   "source": [
    "for i in dict1.values():\n",
    "    print(i)"
   ]
  },
  {
   "cell_type": "code",
   "execution_count": 58,
   "id": "1f6f1d18-a5d0-4684-89b2-7b01fa483b69",
   "metadata": {},
   "outputs": [
    {
     "name": "stdout",
     "output_type": "stream",
     "text": [
      "1\n",
      "3\n",
      "5\n"
     ]
    }
   ],
   "source": [
    "for i in {1,3,5}:\n",
    "    print(i)"
   ]
  },
  {
   "cell_type": "code",
   "execution_count": 59,
   "id": "6e2a3e93-f7a8-43fe-9206-689b84aad1d5",
   "metadata": {},
   "outputs": [
    {
     "name": "stdout",
     "output_type": "stream",
     "text": [
      "h\n",
      "a\n",
      "r\n",
      "i\n",
      "s\n",
      "n\n",
      "a\n",
      "z\n",
      "i\n",
      "r\n"
     ]
    }
   ],
   "source": [
    "x = \"harisnazir\"\n",
    "for i in x:\n",
    "    print(i)"
   ]
  },
  {
   "cell_type": "code",
   "execution_count": 60,
   "id": "d072e956-4dac-440e-8d76-790d9b0ff15f",
   "metadata": {},
   "outputs": [
    {
     "name": "stdout",
     "output_type": "stream",
     "text": [
      "[0, 1, 2, 3, 4, 5, 6, 7, 8, 9]\n"
     ]
    }
   ],
   "source": [
    "print(list(range(10)))"
   ]
  },
  {
   "cell_type": "code",
   "execution_count": 61,
   "id": "43431545-58ee-4efe-b603-f78e8b52b075",
   "metadata": {},
   "outputs": [
    {
     "name": "stdout",
     "output_type": "stream",
     "text": [
      "hi\n",
      "hi23 hi45   @hi67\n"
     ]
    }
   ],
   "source": [
    "print(\"hi\")\n",
    "print(\"hi23\",end =' ')\n",
    "print(\"hi45\",end = '   @')\n",
    "print(\"hi67\")\n"
   ]
  },
  {
   "cell_type": "code",
   "execution_count": 62,
   "id": "69941789-1ce8-46cd-9782-f510fe2bb0e2",
   "metadata": {},
   "outputs": [
    {
     "name": "stdout",
     "output_type": "stream",
     "text": [
      "0123456789"
     ]
    }
   ],
   "source": [
    "for i in range(10):\n",
    "    print(i,end='')"
   ]
  },
  {
   "cell_type": "code",
   "execution_count": 63,
   "id": "b4a12fa5-40fd-4642-bf5f-9d7440deea3a",
   "metadata": {},
   "outputs": [
    {
     "name": "stdout",
     "output_type": "stream",
     "text": [
      "0\n",
      "1\n",
      "2\n",
      "3\n",
      "4\n",
      "done\n"
     ]
    }
   ],
   "source": [
    "for i in range(5):\n",
    "    print(i)\n",
    "else:\n",
    "    print(\"done\")"
   ]
  },
  {
   "cell_type": "code",
   "execution_count": 64,
   "id": "1bc99779-2da8-427f-89c4-61d7143a1626",
   "metadata": {},
   "outputs": [
    {
     "name": "stdout",
     "output_type": "stream",
     "text": [
      "* * * * * * * * * * * * * * * 15\n"
     ]
    }
   ],
   "source": [
    "count = 0\n",
    "for i in range(5):\n",
    "    for j in range(i+1):         # range(1) = 0\n",
    "        print(\"*\",end =' ')\n",
    "        count += 1\n",
    "print(count)"
   ]
  },
  {
   "cell_type": "code",
   "execution_count": 65,
   "id": "755b9c7c-bdf4-4c5b-a16f-5028fb4dea88",
   "metadata": {},
   "outputs": [
    {
     "name": "stdout",
     "output_type": "stream",
     "text": [
      "*\n",
      "*\n",
      "*\n",
      "*\n",
      "*\n",
      "*\n",
      "*\n",
      "*\n",
      "*\n",
      "*\n",
      "*\n",
      "*\n",
      "*\n",
      "*\n",
      "*\n"
     ]
    }
   ],
   "source": [
    "for i in range(5):\n",
    "    for j in range(i+1):         # range(1) = 0\n",
    "        print(\"*\")"
   ]
  },
  {
   "cell_type": "code",
   "execution_count": 66,
   "id": "51f242cc-968b-412a-a131-cfc827448eab",
   "metadata": {},
   "outputs": [
    {
     "name": "stdout",
     "output_type": "stream",
     "text": [
      "*\n",
      "\n",
      "*\n",
      "*\n",
      "\n",
      "*\n",
      "*\n",
      "*\n",
      "\n",
      "*\n",
      "*\n",
      "*\n",
      "*\n",
      "\n",
      "*\n",
      "*\n",
      "*\n",
      "*\n",
      "*\n",
      "\n"
     ]
    }
   ],
   "source": [
    "for i in range(5):\n",
    "    for j in range(i+1):         # range(1) = 0\n",
    "        print(\"*\")\n",
    "    print()"
   ]
  },
  {
   "cell_type": "code",
   "execution_count": 67,
   "id": "398ecb07-2387-4f7b-8748-fddb995e8368",
   "metadata": {},
   "outputs": [
    {
     "name": "stdout",
     "output_type": "stream",
     "text": [
      "* \n",
      "* * \n",
      "* * * \n",
      "* * * * \n",
      "* * * * * \n"
     ]
    }
   ],
   "source": [
    "for i in range(5):\n",
    "    for j in range(i+1):\n",
    "        print(\"*\",end =' ')\n",
    "    print()"
   ]
  },
  {
   "cell_type": "code",
   "execution_count": 68,
   "id": "5e21d702-3338-473d-bf42-fdbede058c33",
   "metadata": {},
   "outputs": [
    {
     "name": "stdout",
     "output_type": "stream",
     "text": [
      "* * * * * * \n",
      "* * * * * \n",
      "* * * * \n",
      "* * * \n",
      "* * \n"
     ]
    }
   ],
   "source": [
    "for i in range(5,0,-1):\n",
    "    for j in range(i+1):\n",
    "        print(\"*\",end =' ')\n",
    "    print()"
   ]
  },
  {
   "cell_type": "code",
   "execution_count": 69,
   "id": "914ff8b0-dab4-48b5-ae52-74755aec8b23",
   "metadata": {},
   "outputs": [
    {
     "name": "stdout",
     "output_type": "stream",
     "text": [
      "* * * * * \n",
      "* * * * \n",
      "* * * \n",
      "* * \n",
      "* \n"
     ]
    }
   ],
   "source": [
    "for i in range(4,-1,-1):\n",
    "    for j in range(i+1):\n",
    "        print(\"*\",end =' ')\n",
    "    print()"
   ]
  },
  {
   "cell_type": "code",
   "execution_count": 71,
   "id": "51c2cccd-8f94-4711-adaf-58016033cf0c",
   "metadata": {},
   "outputs": [
    {
     "name": "stdout",
     "output_type": "stream",
     "text": [
      "0\n",
      "\n",
      "0\n",
      "1\n",
      "\n",
      "0\n",
      "2\n",
      "4\n",
      "\n",
      "0\n",
      "3\n",
      "6\n",
      "9\n",
      "\n",
      "0\n",
      "4\n",
      "8\n",
      "12\n",
      "16\n",
      "\n"
     ]
    }
   ],
   "source": [
    "for i in range(5):\n",
    "    for j in range(i+1):          # for loop is used when the no.of iterations are known\n",
    "        print(i*j)\n",
    "    print()"
   ]
  },
  {
   "cell_type": "code",
   "execution_count": 72,
   "id": "dd2a656f-8171-4176-b30e-85c346c1c17d",
   "metadata": {},
   "outputs": [
    {
     "name": "stdout",
     "output_type": "stream",
     "text": [
      "1 2 3 4 5 \n",
      "2 4 6 8 10 \n",
      "3 6 9 12 15 \n",
      "4 8 12 16 20 \n",
      "5 10 15 20 25 \n"
     ]
    }
   ],
   "source": [
    "for i in range(1,6):\n",
    "    for j in range(1,6):\n",
    "        print(i*j,end=' ')\n",
    "    print()"
   ]
  },
  {
   "cell_type": "code",
   "execution_count": 73,
   "id": "0e787f39-240d-4003-9108-452ac709ee50",
   "metadata": {},
   "outputs": [
    {
     "name": "stdout",
     "output_type": "stream",
     "text": [
      "1\n",
      "2\n",
      "3\n",
      "4\n",
      "5\n"
     ]
    }
   ],
   "source": [
    "count = 1\n",
    "                                        # while loop is used when the no.of iterations are not known\n",
    "while count <= 5:\n",
    "    print(count)\n",
    "    count += 1           # count = count + 1"
   ]
  },
  {
   "cell_type": "code",
   "execution_count": 75,
   "id": "189127ea-da60-4a69-9a23-b95e476d8d00",
   "metadata": {},
   "outputs": [
    {
     "name": "stdin",
     "output_type": "stream",
     "text": [
      "enter a word haris\n"
     ]
    },
    {
     "name": "stdout",
     "output_type": "stream",
     "text": [
      "you entered  haris\n"
     ]
    },
    {
     "name": "stdin",
     "output_type": "stream",
     "text": [
      "enter a word quite\n"
     ]
    },
    {
     "name": "stdout",
     "output_type": "stream",
     "text": [
      "you entered  quite\n"
     ]
    }
   ],
   "source": [
    "text = \" \"\n",
    "\n",
    "while text != \"quite\":\n",
    "    text = input(\"enter a word\")\n",
    "    print(\"you entered \", text)"
   ]
  },
  {
   "cell_type": "code",
   "execution_count": null,
   "id": "32fcc213-c535-4644-a2ed-b15a1402ac79",
   "metadata": {},
   "outputs": [],
   "source": [
    "# age guess\n"
   ]
  },
  {
   "cell_type": "code",
   "execution_count": 76,
   "id": "b5faf3da-0bb1-4eba-b3a8-712c0ac81320",
   "metadata": {},
   "outputs": [
    {
     "name": "stdin",
     "output_type": "stream",
     "text": [
      "enter age 67\n"
     ]
    },
    {
     "name": "stdout",
     "output_type": "stream",
     "text": [
      "you entered  67\n"
     ]
    },
    {
     "name": "stdin",
     "output_type": "stream",
     "text": [
      "enter age 89\n"
     ]
    },
    {
     "name": "stdout",
     "output_type": "stream",
     "text": [
      "you entered  89\n"
     ]
    },
    {
     "name": "stdin",
     "output_type": "stream",
     "text": [
      "enter age 30\n"
     ]
    },
    {
     "name": "stdout",
     "output_type": "stream",
     "text": [
      "you entered  30\n"
     ]
    }
   ],
   "source": [
    "age = 0\n",
    "while age != 30:\n",
    "    age = int(input(\"enter age\"))\n",
    "    print(\"you entered \", age)\n"
   ]
  },
  {
   "cell_type": "code",
   "execution_count": 79,
   "id": "2e4a34d8-0f2e-44d3-88fd-410579fbaf19",
   "metadata": {},
   "outputs": [
    {
     "name": "stdin",
     "output_type": "stream",
     "text": [
      "enter your age 89\n"
     ]
    },
    {
     "name": "stdout",
     "output_type": "stream",
     "text": [
      "invalid age\n"
     ]
    },
    {
     "name": "stdin",
     "output_type": "stream",
     "text": [
      "enter your age 23\n"
     ]
    },
    {
     "name": "stdout",
     "output_type": "stream",
     "text": [
      "age from the list\n"
     ]
    }
   ],
   "source": [
    "list1 = [23,34,45,30]\n",
    "age = int(input(\"enter your age\"))\n",
    "while age not in list1:\n",
    "    print(\"invalid age\")\n",
    "    age = int(input(\"enter your age\"))\n",
    "else:\n",
    "    print(\"age from the list\")"
   ]
  },
  {
   "cell_type": "code",
   "execution_count": 80,
   "id": "7bc02ca2-0681-4d21-ba0e-22f38892f6ca",
   "metadata": {},
   "outputs": [
    {
     "name": "stdin",
     "output_type": "stream",
     "text": [
      "Enter your age:  67\n"
     ]
    },
    {
     "name": "stdout",
     "output_type": "stream",
     "text": [
      "Invalid age\n"
     ]
    },
    {
     "name": "stdin",
     "output_type": "stream",
     "text": [
      "Enter your age:  89\n"
     ]
    },
    {
     "name": "stdout",
     "output_type": "stream",
     "text": [
      "Invalid age\n"
     ]
    },
    {
     "name": "stdin",
     "output_type": "stream",
     "text": [
      "Enter your age:  09\n"
     ]
    },
    {
     "name": "stdout",
     "output_type": "stream",
     "text": [
      "Invalid age\n"
     ]
    },
    {
     "name": "stdin",
     "output_type": "stream",
     "text": [
      "Enter your age:  23\n"
     ]
    },
    {
     "name": "stdout",
     "output_type": "stream",
     "text": [
      "Age from the list\n"
     ]
    }
   ],
   "source": [
    "list1 = [23, 34, 45, 30]\n",
    "\n",
    "while True:\n",
    "    age = int(input(\"Enter your age: \"))\n",
    "    if age in list1:\n",
    "        print(\"Age from the list\")\n",
    "        break\n",
    "    else:\n",
    "        print(\"Invalid age\")\n"
   ]
  },
  {
   "cell_type": "code",
   "execution_count": 81,
   "id": "c2d23688-0d52-48d7-9d69-fd902d83f5f2",
   "metadata": {},
   "outputs": [
    {
     "name": "stdin",
     "output_type": "stream",
     "text": [
      "Enter your age:  89\n"
     ]
    },
    {
     "name": "stdout",
     "output_type": "stream",
     "text": [
      "Invalid age\n"
     ]
    },
    {
     "name": "stdin",
     "output_type": "stream",
     "text": [
      "Enter your age:  78\n"
     ]
    },
    {
     "name": "stdout",
     "output_type": "stream",
     "text": [
      "Invalid age\n"
     ]
    },
    {
     "name": "stdin",
     "output_type": "stream",
     "text": [
      "Enter your age:  23\n"
     ]
    },
    {
     "name": "stdout",
     "output_type": "stream",
     "text": [
      "Age from the list: 23\n"
     ]
    }
   ],
   "source": [
    "list1 = [23, 34, 45, 30]\n",
    "age = 0\n",
    "found = False  # Flag to check if age is in list1\n",
    "\n",
    "while age not in list1:\n",
    "    age = int(input(\"Enter your age: \"))\n",
    "    if age not in list1:\n",
    "        print(\"Invalid age\")\n",
    "\n",
    "# This part will only be executed when age is found in list1\n",
    "print(\"Age from the list:\", age)\n"
   ]
  },
  {
   "cell_type": "code",
   "execution_count": 82,
   "id": "a56ef063-881c-4f0b-abde-2177f080e82e",
   "metadata": {},
   "outputs": [
    {
     "name": "stdout",
     "output_type": "stream",
     "text": [
      "It's a float.\n"
     ]
    }
   ],
   "source": [
    "number = 5.0  # Replace with the number you want to check\n",
    "\n",
    "if isinstance(number, int):\n",
    "    print(\"It's an integer.\")\n",
    "elif isinstance(number, float):\n",
    "    print(\"It's a float.\")\n",
    "else:\n",
    "    print(\"It's neither an integer nor a float.\")\n"
   ]
  },
  {
   "cell_type": "code",
   "execution_count": null,
   "id": "9ec4b226-9f1b-44b1-8ee7-a2adb6bc2dbb",
   "metadata": {},
   "outputs": [],
   "source": []
  }
 ],
 "metadata": {
  "kernelspec": {
   "display_name": "Python 3 (ipykernel)",
   "language": "python",
   "name": "python3"
  },
  "language_info": {
   "codemirror_mode": {
    "name": "ipython",
    "version": 3
   },
   "file_extension": ".py",
   "mimetype": "text/x-python",
   "name": "python",
   "nbconvert_exporter": "python",
   "pygments_lexer": "ipython3",
   "version": "3.10.8"
  }
 },
 "nbformat": 4,
 "nbformat_minor": 5
}
