{
 "cells": [
  {
   "cell_type": "code",
   "execution_count": 1,
   "id": "413d7591-57fb-4ce7-a045-f4456967fdbb",
   "metadata": {},
   "outputs": [
    {
     "name": "stdout",
     "output_type": "stream",
     "text": [
      "zero\n",
      "this is always prints\n"
     ]
    }
   ],
   "source": [
    "number = 0\n",
    "\n",
    "if number > 0:\n",
    "    print(\"positive number\")\n",
    "elif number ==0:\n",
    "    print(\"zero\")\n",
    "else:\n",
    "    print(\"negative number\")\n",
    "\n",
    "print(\"this is always prints\")"
   ]
  },
  {
   "cell_type": "code",
   "execution_count": 2,
   "id": "c3205611-eaa9-435f-aef5-4097c9647c07",
   "metadata": {},
   "outputs": [
    {
     "name": "stdout",
     "output_type": "stream",
     "text": [
      "0\n",
      "1\n",
      "2\n",
      "3\n",
      "4\n"
     ]
    }
   ],
   "source": [
    "for i in range(5):\n",
    "    print(i)"
   ]
  },
  {
   "cell_type": "code",
   "execution_count": 3,
   "id": "a71d7507-02b3-413d-89fe-73c83dd415c2",
   "metadata": {},
   "outputs": [
    {
     "name": "stdout",
     "output_type": "stream",
     "text": [
      "today is mon\n",
      "today is tue\n",
      "today is wed\n",
      "today is thu\n",
      "today is fri\n",
      "today is sat\n",
      "today is sun\n"
     ]
    }
   ],
   "source": [
    "days = 0 \n",
    "week = ['mon','tue','wed','thu','fri','sat','sun']\n",
    "\n",
    "while days < 7:\n",
    "    print(\"today is \" + week[days])\n",
    "    days +=1"
   ]
  },
  {
   "cell_type": "code",
   "execution_count": 4,
   "id": "04b7be17-78c3-4a18-b492-61ebaf44c493",
   "metadata": {},
   "outputs": [
    {
     "data": {
      "text/plain": [
       "['i', 'write', 'code']"
      ]
     },
     "execution_count": 4,
     "metadata": {},
     "output_type": "execute_result"
    }
   ],
   "source": [
    "# split\n",
    "text = \" i write code\"\n",
    "text.split()"
   ]
  },
  {
   "cell_type": "code",
   "execution_count": 5,
   "id": "7b91efcb-255d-4b3c-8363-0e8b9b7ce9ea",
   "metadata": {},
   "outputs": [
    {
     "name": "stdin",
     "output_type": "stream",
     "text": [
      "enter three word message asd fgh jkl\n"
     ]
    }
   ],
   "source": [
    "x = input(\"enter three word message\")\n",
    "word1,word2,word3 = x.split()"
   ]
  },
  {
   "cell_type": "code",
   "execution_count": 6,
   "id": "8dbaceee-ea02-4415-a476-78f68b3bdba3",
   "metadata": {},
   "outputs": [
    {
     "data": {
      "text/plain": [
       "'asd'"
      ]
     },
     "execution_count": 6,
     "metadata": {},
     "output_type": "execute_result"
    }
   ],
   "source": [
    "word1"
   ]
  },
  {
   "cell_type": "code",
   "execution_count": 7,
   "id": "3cdd48be-4cef-403d-b724-0b3dc4b9f741",
   "metadata": {},
   "outputs": [],
   "source": [
    "y,w = [2,3]"
   ]
  },
  {
   "cell_type": "code",
   "execution_count": 8,
   "id": "12ed9df6-b773-4205-9f45-bf1a066d72fb",
   "metadata": {},
   "outputs": [
    {
     "data": {
      "text/plain": [
       "2"
      ]
     },
     "execution_count": 8,
     "metadata": {},
     "output_type": "execute_result"
    }
   ],
   "source": [
    "y"
   ]
  },
  {
   "cell_type": "code",
   "execution_count": 9,
   "id": "041283e4-219d-4bd0-b831-304de9b2a863",
   "metadata": {},
   "outputs": [
    {
     "data": {
      "text/plain": [
       "'fgh'"
      ]
     },
     "execution_count": 9,
     "metadata": {},
     "output_type": "execute_result"
    }
   ],
   "source": [
    "word2"
   ]
  },
  {
   "cell_type": "code",
   "execution_count": 10,
   "id": "abd7fc86-bae1-434e-9845-844fbc7de07b",
   "metadata": {},
   "outputs": [
    {
     "data": {
      "text/plain": [
       "'jkl'"
      ]
     },
     "execution_count": 10,
     "metadata": {},
     "output_type": "execute_result"
    }
   ],
   "source": [
    "word3"
   ]
  },
  {
   "cell_type": "code",
   "execution_count": 11,
   "id": "2e917a89-6cca-4076-b9bd-a6ea974aed1a",
   "metadata": {},
   "outputs": [
    {
     "name": "stdin",
     "output_type": "stream",
     "text": [
      "enter ist number 4\n",
      "enter 2nd number 8\n"
     ]
    },
    {
     "name": "stdout",
     "output_type": "stream",
     "text": [
      "12\n"
     ]
    }
   ],
   "source": [
    "a = int(input(\"enter ist number\"))\n",
    "b = int(input(\"enter 2nd number\"))\n",
    "print(a+b)"
   ]
  },
  {
   "cell_type": "code",
   "execution_count": 12,
   "id": "e66e7af8-fc6b-4721-a3a7-5dffc956332f",
   "metadata": {},
   "outputs": [
    {
     "name": "stdin",
     "output_type": "stream",
     "text": [
      "enter two numbers 5 6\n"
     ]
    },
    {
     "data": {
      "text/plain": [
       "11"
      ]
     },
     "execution_count": 12,
     "metadata": {},
     "output_type": "execute_result"
    }
   ],
   "source": [
    "a,b = input(\"enter two numbers\").split()\n",
    "c = int(a) + int(b)\n",
    "c"
   ]
  },
  {
   "cell_type": "code",
   "execution_count": 13,
   "id": "98931bdb-a185-4391-b8c0-6079d3528cff",
   "metadata": {},
   "outputs": [
    {
     "name": "stdin",
     "output_type": "stream",
     "text": [
      "enter two number seprated by spaces 7 9\n"
     ]
    },
    {
     "name": "stdout",
     "output_type": "stream",
     "text": [
      "16\n"
     ]
    }
   ],
   "source": [
    "x = input(\"enter two number seprated by spaces\")\n",
    "sum = int(x.split()[0]) + int(x.split()[1])\n",
    "print(sum)\n"
   ]
  },
  {
   "cell_type": "code",
   "execution_count": 15,
   "id": "04e23000-605a-40ec-8f4c-83dd95d9d401",
   "metadata": {},
   "outputs": [
    {
     "name": "stdin",
     "output_type": "stream",
     "text": [
      "enter roll no, name and percentage 3 asir 89\n"
     ]
    },
    {
     "name": "stdout",
     "output_type": "stream",
     "text": [
      "<class 'list'>\n",
      "3\n",
      "asir\n",
      "89\n"
     ]
    }
   ],
   "source": [
    "s = input(\"enter roll no, name and percentage\")\n",
    "print(type(s.split()))\n",
    "roll,name,percent = s.split()\n",
    "print(roll)\n",
    "print(name)\n",
    "print(percent)\n"
   ]
  },
  {
   "cell_type": "code",
   "execution_count": 16,
   "id": "fa142b6f-7b0e-4797-a7f4-1f5808defd1a",
   "metadata": {},
   "outputs": [
    {
     "name": "stdout",
     "output_type": "stream",
     "text": [
      "['A', 'B', 'C', 'D', 'E F']\n"
     ]
    }
   ],
   "source": [
    "s1 = \"A B C D E F\"\n",
    "print(s1.split(' ',4))             # max(takes n+1) seperator is the no of containers "
   ]
  },
  {
   "cell_type": "code",
   "execution_count": 17,
   "id": "486dac28-d9e6-44b9-bbb2-d8bcab00440e",
   "metadata": {},
   "outputs": [
    {
     "data": {
      "text/plain": [
       "['HI', 'HI', 'HI', 'HI@hi']"
      ]
     },
     "execution_count": 17,
     "metadata": {},
     "output_type": "execute_result"
    }
   ],
   "source": [
    "s1 = \"HI@HI@HI@HI@hi\"\n",
    "s1.split('@',3)\n"
   ]
  },
  {
   "cell_type": "code",
   "execution_count": 18,
   "id": "6c51cb92-6728-4eb4-afda-b26a02d7449c",
   "metadata": {},
   "outputs": [
    {
     "name": "stdout",
     "output_type": "stream",
     "text": [
      "letter p\n",
      "letter w\n",
      "letter s\n",
      "letter k\n",
      "letter i\n",
      "letter l\n",
      "letter l\n",
      "letter s\n"
     ]
    }
   ],
   "source": [
    "for letter in \"pwskills\":\n",
    "    print('letter',letter)"
   ]
  },
  {
   "cell_type": "code",
   "execution_count": 19,
   "id": "4e14affa-c1b7-49a0-9a14-3b1a376661ad",
   "metadata": {},
   "outputs": [
    {
     "name": "stdout",
     "output_type": "stream",
     "text": [
      "letter p\n",
      "letter w\n",
      "letter s\n",
      "letter k\n",
      "letter i\n"
     ]
    }
   ],
   "source": [
    "for letter in \"pwskills\":\n",
    "    if letter == 'l':\n",
    "        break\n",
    "    print('letter',letter)"
   ]
  },
  {
   "cell_type": "code",
   "execution_count": 20,
   "id": "322d095a-d3d4-4f25-875c-e2f475fb0779",
   "metadata": {},
   "outputs": [
    {
     "name": "stdout",
     "output_type": "stream",
     "text": [
      "letter p\n",
      "letter w\n",
      "letter s\n",
      "letter k\n",
      "letter i\n",
      "letter s\n"
     ]
    }
   ],
   "source": [
    "for letter in \"pwskills\":\n",
    "    if letter == 'l':\n",
    "        continue\n",
    "    print('letter',letter)"
   ]
  },
  {
   "cell_type": "code",
   "execution_count": 21,
   "id": "0f202eb1-84a1-407f-8e37-a625c1053315",
   "metadata": {},
   "outputs": [
    {
     "name": "stdout",
     "output_type": "stream",
     "text": [
      "0\n",
      "1\n",
      "2\n"
     ]
    }
   ],
   "source": [
    "for i in range(5):\n",
    "    if i==3:\n",
    "        break\n",
    "    print(i)"
   ]
  },
  {
   "cell_type": "code",
   "execution_count": 22,
   "id": "362260cd-1ece-46b2-8dde-3ee3817c4cd8",
   "metadata": {},
   "outputs": [
    {
     "data": {
      "text/plain": [
       "[0, 1, 2, 3, 4]"
      ]
     },
     "execution_count": 22,
     "metadata": {},
     "output_type": "execute_result"
    }
   ],
   "source": [
    "list(range(5))\n",
    "   "
   ]
  },
  {
   "cell_type": "code",
   "execution_count": 23,
   "id": "1a9c8002-cb61-401e-99be-f68af5ce03c7",
   "metadata": {},
   "outputs": [
    {
     "name": "stdout",
     "output_type": "stream",
     "text": [
      "1\n",
      "2\n",
      "3\n",
      "4\n",
      "5\n"
     ]
    }
   ],
   "source": [
    "i = 1\n",
    "while i<=10:\n",
    "    print(i)\n",
    "    \n",
    "    if i >= 5:\n",
    "        break\n",
    "    i =i+1"
   ]
  },
  {
   "cell_type": "code",
   "execution_count": 24,
   "id": "42dd5742-a676-42ca-84c5-9be7a1f903e0",
   "metadata": {},
   "outputs": [
    {
     "name": "stdout",
     "output_type": "stream",
     "text": [
      "10\n",
      "20\n",
      "30\n",
      "40\n"
     ]
    }
   ],
   "source": [
    "numbers = [10,20,30,40,120,230]\n",
    "\n",
    "for i in numbers:\n",
    "    if i>100:\n",
    "        break\n",
    "    print(i)"
   ]
  },
  {
   "cell_type": "code",
   "execution_count": 25,
   "id": "00fb971b-757a-4741-a6ae-7f440896f0d7",
   "metadata": {},
   "outputs": [
    {
     "name": "stdout",
     "output_type": "stream",
     "text": [
      "h\n",
      "e\n",
      "l\n",
      "l\n",
      "o\n",
      ",\n"
     ]
    }
   ],
   "source": [
    "s = \"hello, world\"\n",
    "for char in s:\n",
    "    print(char)\n",
    "    if char == ',':\n",
    "        break"
   ]
  },
  {
   "cell_type": "code",
   "execution_count": 26,
   "id": "6b2219f6-05bc-4203-81ba-db109eafa975",
   "metadata": {},
   "outputs": [
    {
     "name": "stdout",
     "output_type": "stream",
     "text": [
      "p\n",
      "w\n",
      "s\n",
      "k\n",
      "l\n",
      "l\n",
      "s\n"
     ]
    }
   ],
   "source": [
    "for letter in \"pwskills\":\n",
    "    if letter == 'i':\n",
    "        continue\n",
    "    print(letter)\n",
    "    "
   ]
  },
  {
   "cell_type": "code",
   "execution_count": 27,
   "id": "82e74c49-fd8a-4ddf-90a7-040dce881000",
   "metadata": {},
   "outputs": [
    {
     "name": "stdout",
     "output_type": "stream",
     "text": [
      "0\n",
      "1\n",
      "2\n",
      "4\n"
     ]
    }
   ],
   "source": [
    "for i in range(5):              # break ends, continue skips\n",
    "    if i == 3:\n",
    "        continue\n",
    "    print(i)"
   ]
  },
  {
   "cell_type": "code",
   "execution_count": 28,
   "id": "1a1c3aa0-028c-44b0-ba5f-f969c8502381",
   "metadata": {},
   "outputs": [
    {
     "name": "stdout",
     "output_type": "stream",
     "text": [
      "1\n",
      "3\n",
      "5\n",
      "7\n",
      "9\n"
     ]
    }
   ],
   "source": [
    "for i in range(1,11):\n",
    "    if i%2 == 0:\n",
    "        continue\n",
    "    print(i)"
   ]
  },
  {
   "cell_type": "code",
   "execution_count": 29,
   "id": "de9cfcee-aa81-4a47-babd-50d7164be26d",
   "metadata": {},
   "outputs": [
    {
     "name": "stdout",
     "output_type": "stream",
     "text": [
      "1\n",
      "2\n",
      "3\n",
      "4\n",
      "5\n",
      "6\n",
      "7\n",
      "8\n",
      "9\n",
      "10\n"
     ]
    }
   ],
   "source": [
    "for i in range(1,11):\n",
    "    if i%2 == 0:\n",
    "        pass\n",
    "    print(i)"
   ]
  },
  {
   "cell_type": "code",
   "execution_count": 30,
   "id": "83be58b7-4ae6-4a46-86cf-3e0462573066",
   "metadata": {},
   "outputs": [
    {
     "name": "stdout",
     "output_type": "stream",
     "text": [
      "hello\n"
     ]
    }
   ],
   "source": [
    "n = 10\n",
    "if n > 10:\n",
    "    pass\n",
    "print('hello')\n"
   ]
  },
  {
   "cell_type": "code",
   "execution_count": 31,
   "id": "08226f83-a737-41bd-9a0e-a16afbafaeb4",
   "metadata": {},
   "outputs": [],
   "source": [
    "for i in range(5):\n",
    "    pass"
   ]
  },
  {
   "cell_type": "markdown",
   "id": "4d297f3a-77b5-4050-b52d-6704b1d4599e",
   "metadata": {},
   "source": [
    "## FUNCTIOS"
   ]
  },
  {
   "cell_type": "code",
   "execution_count": 32,
   "id": "06f4fcf5-06a8-474d-89f5-d533eeacf095",
   "metadata": {},
   "outputs": [
    {
     "name": "stdout",
     "output_type": "stream",
     "text": [
      "30\n"
     ]
    }
   ],
   "source": [
    "a = 10\n",
    "b = 20\n",
    "print(a+b)"
   ]
  },
  {
   "cell_type": "code",
   "execution_count": 33,
   "id": "08ef3f0b-b2e1-4674-9496-95965ef0a542",
   "metadata": {},
   "outputs": [
    {
     "name": "stdout",
     "output_type": "stream",
     "text": [
      "79\n"
     ]
    }
   ],
   "source": [
    "a = 56\n",
    "b = 23\n",
    "print(a+b)\n"
   ]
  },
  {
   "cell_type": "code",
   "execution_count": 34,
   "id": "c8a4f27c-49f5-4614-a282-1842805c3886",
   "metadata": {},
   "outputs": [
    {
     "name": "stdout",
     "output_type": "stream",
     "text": [
      "10\n"
     ]
    }
   ],
   "source": [
    "a = 4\n",
    "b = 6\n",
    "print(a+b)"
   ]
  },
  {
   "cell_type": "code",
   "execution_count": 35,
   "id": "50dd8a35-7e28-4364-8077-021040c75bc8",
   "metadata": {},
   "outputs": [],
   "source": [
    "# instead of writing it many times with different values of a and b\n",
    "def add_nums(a,b):\n",
    "    return a + b"
   ]
  },
  {
   "cell_type": "code",
   "execution_count": 36,
   "id": "4f233725-6eba-46a2-b3cb-ef30a6ef3f50",
   "metadata": {},
   "outputs": [
    {
     "ename": "NameError",
     "evalue": "name 'functionname' is not defined",
     "output_type": "error",
     "traceback": [
      "\u001b[0;31m---------------------------------------------------------------------------\u001b[0m",
      "\u001b[0;31mNameError\u001b[0m                                 Traceback (most recent call last)",
      "Cell \u001b[0;32mIn[36], line 7\u001b[0m\n\u001b[1;32m      4\u001b[0m     \u001b[38;5;28;01mreturn\u001b[39;00m\n\u001b[1;32m      6\u001b[0m \u001b[38;5;66;03m# function call\u001b[39;00m\n\u001b[0;32m----> 7\u001b[0m \u001b[43mfunctionname\u001b[49m()\n",
      "\u001b[0;31mNameError\u001b[0m: name 'functionname' is not defined"
     ]
    }
   ],
   "source": [
    "def add():                      #function template\n",
    "    # function body\n",
    "    \n",
    "    return\n",
    "\n",
    "# function call\n",
    "functionname()"
   ]
  },
  {
   "cell_type": "code",
   "execution_count": 37,
   "id": "9f52179b-b896-4ca1-9699-f875aa243493",
   "metadata": {},
   "outputs": [],
   "source": [
    "def greet():\n",
    "    print(\"hello world\")"
   ]
  },
  {
   "cell_type": "code",
   "execution_count": 38,
   "id": "79068377-ba6b-4382-81ea-73c5915b7b18",
   "metadata": {},
   "outputs": [
    {
     "name": "stdout",
     "output_type": "stream",
     "text": [
      "hello world\n"
     ]
    }
   ],
   "source": [
    "greet()"
   ]
  },
  {
   "cell_type": "code",
   "execution_count": 39,
   "id": "fc61e67e-166c-4924-8c3f-212dc9352c2a",
   "metadata": {},
   "outputs": [],
   "source": [
    "def addnum():\n",
    "    a = 23\n",
    "    b = 56\n",
    "    c = 65\n",
    "    d = a+b+c\n",
    "    print(d)"
   ]
  },
  {
   "cell_type": "code",
   "execution_count": 40,
   "id": "f99ed9e3-b423-41f6-942f-0e3210ee16b2",
   "metadata": {},
   "outputs": [
    {
     "name": "stdout",
     "output_type": "stream",
     "text": [
      "144\n"
     ]
    }
   ],
   "source": [
    "addnum()"
   ]
  },
  {
   "cell_type": "code",
   "execution_count": 41,
   "id": "1625c07f-9415-4fc2-bad7-15827bcec2ea",
   "metadata": {},
   "outputs": [],
   "source": [
    "def addnum():\n",
    "    a = 23\n",
    "    b = 56\n",
    "    c = 65\n",
    "    d = a+b+c\n",
    "    return d"
   ]
  },
  {
   "cell_type": "code",
   "execution_count": 42,
   "id": "a47a3217-b046-4a2d-8d51-3328f0041627",
   "metadata": {},
   "outputs": [
    {
     "data": {
      "text/plain": [
       "144"
      ]
     },
     "execution_count": 42,
     "metadata": {},
     "output_type": "execute_result"
    }
   ],
   "source": [
    "addnum()"
   ]
  },
  {
   "cell_type": "code",
   "execution_count": 43,
   "id": "cb71cedb-6719-4f33-9081-36d65ca8ad86",
   "metadata": {},
   "outputs": [],
   "source": [
    "def add_numbers():\n",
    "    a = input(\"enter the first\")\n",
    "    b = input(\"enter the secong\")\n",
    "    c = int(a)+int(b)\n",
    "    print(c)"
   ]
  },
  {
   "cell_type": "code",
   "execution_count": 44,
   "id": "1f9458a3-db0f-4d68-a8b6-39bb9199c0c6",
   "metadata": {},
   "outputs": [
    {
     "name": "stdin",
     "output_type": "stream",
     "text": [
      "enter the first 7 \n",
      "enter the secong 9\n"
     ]
    },
    {
     "name": "stdout",
     "output_type": "stream",
     "text": [
      "16\n"
     ]
    }
   ],
   "source": [
    "add_numbers()"
   ]
  },
  {
   "cell_type": "code",
   "execution_count": 45,
   "id": "dba3f49c-5eba-4907-9dd0-7702a9322e90",
   "metadata": {},
   "outputs": [],
   "source": [
    "def mul_numbers(x,y):\n",
    "    a = x\n",
    "    b = y\n",
    "    c = a*b\n",
    "    print(c)"
   ]
  },
  {
   "cell_type": "code",
   "execution_count": 46,
   "id": "2d41610a-0696-4753-bdc4-42f3e904fdf7",
   "metadata": {},
   "outputs": [
    {
     "ename": "TypeError",
     "evalue": "mul_numbers() missing 2 required positional arguments: 'x' and 'y'",
     "output_type": "error",
     "traceback": [
      "\u001b[0;31m---------------------------------------------------------------------------\u001b[0m",
      "\u001b[0;31mTypeError\u001b[0m                                 Traceback (most recent call last)",
      "Cell \u001b[0;32mIn[46], line 1\u001b[0m\n\u001b[0;32m----> 1\u001b[0m \u001b[43mmul_numbers\u001b[49m\u001b[43m(\u001b[49m\u001b[43m)\u001b[49m\n",
      "\u001b[0;31mTypeError\u001b[0m: mul_numbers() missing 2 required positional arguments: 'x' and 'y'"
     ]
    }
   ],
   "source": [
    "mul_numbers()"
   ]
  },
  {
   "cell_type": "code",
   "execution_count": 47,
   "id": "2d0d85d9-b3fd-4fda-ab4a-60718e2afab8",
   "metadata": {},
   "outputs": [
    {
     "name": "stdout",
     "output_type": "stream",
     "text": [
      "18\n"
     ]
    }
   ],
   "source": [
    "mul_numbers(3,6)"
   ]
  },
  {
   "cell_type": "code",
   "execution_count": 48,
   "id": "3e3ff207-5059-468c-a6b9-e8ad038f1e6a",
   "metadata": {},
   "outputs": [],
   "source": [
    "def introduction(name):\n",
    "    print(\"hi\",name)\n",
    "    "
   ]
  },
  {
   "cell_type": "code",
   "execution_count": 49,
   "id": "635f8aa2-4507-44f6-9a58-bbf8e154cc35",
   "metadata": {},
   "outputs": [
    {
     "name": "stdout",
     "output_type": "stream",
     "text": [
      "hi haris\n"
     ]
    }
   ],
   "source": [
    "introduction('haris')"
   ]
  },
  {
   "cell_type": "code",
   "execution_count": 50,
   "id": "ce3d1b24-ba48-4a33-be8e-d1335fcfd003",
   "metadata": {},
   "outputs": [],
   "source": [
    "def introduction(fname,lname):\n",
    "    print(\"hi\",fname+lname)\n",
    "    "
   ]
  },
  {
   "cell_type": "code",
   "execution_count": 51,
   "id": "1572a1f3-1dfe-44c6-ba65-8814a38fb754",
   "metadata": {},
   "outputs": [
    {
     "name": "stdout",
     "output_type": "stream",
     "text": [
      "hi harisnazir\n"
     ]
    }
   ],
   "source": [
    "introduction('haris','nazir')"
   ]
  },
  {
   "cell_type": "code",
   "execution_count": null,
   "id": "c31e9f66-8770-4b04-8a55-c5680dc5fda3",
   "metadata": {},
   "outputs": [],
   "source": [
    "-21   21\n",
    "23   -23"
   ]
  },
  {
   "cell_type": "code",
   "execution_count": 52,
   "id": "802de3e5-7ab6-4a91-b846-2c873471ba90",
   "metadata": {},
   "outputs": [],
   "source": [
    "def absolute(x):\n",
    "    a = -x\n",
    "    print(a)"
   ]
  },
  {
   "cell_type": "code",
   "execution_count": 53,
   "id": "bb5724cc-920a-4c8d-aca7-9cac00f9d7a3",
   "metadata": {},
   "outputs": [
    {
     "name": "stdout",
     "output_type": "stream",
     "text": [
      "-4\n"
     ]
    }
   ],
   "source": [
    "absolute(4)"
   ]
  },
  {
   "cell_type": "code",
   "execution_count": 54,
   "id": "1de97b89-1ce8-4dae-86fa-f9ddc0e31c71",
   "metadata": {},
   "outputs": [],
   "source": [
    "def absolute(n):\n",
    "    if n>0:\n",
    "        print(n)\n",
    "    else:\n",
    "        print(-n)"
   ]
  },
  {
   "cell_type": "code",
   "execution_count": 55,
   "id": "466b2a17-2500-4ab6-ba3c-fae5bf48db6c",
   "metadata": {},
   "outputs": [
    {
     "name": "stdout",
     "output_type": "stream",
     "text": [
      "67\n"
     ]
    }
   ],
   "source": [
    "absolute(-67)"
   ]
  },
  {
   "cell_type": "code",
   "execution_count": 56,
   "id": "6912c615-8a17-4bb7-b678-739f161ae1cb",
   "metadata": {},
   "outputs": [],
   "source": [
    "def fullname(a,b):\n",
    "    c = a+b\n",
    "    print(c)"
   ]
  },
  {
   "cell_type": "code",
   "execution_count": 57,
   "id": "411e0bc2-f6eb-4943-85d5-8553a3766ed6",
   "metadata": {},
   "outputs": [
    {
     "name": "stdout",
     "output_type": "stream",
     "text": [
      "harisname\n"
     ]
    }
   ],
   "source": [
    "x = fullname('haris','name')"
   ]
  },
  {
   "cell_type": "code",
   "execution_count": 58,
   "id": "e370bbb8-d80f-45a2-8ac7-406284cded54",
   "metadata": {},
   "outputs": [],
   "source": [
    "x                           # no output"
   ]
  },
  {
   "cell_type": "code",
   "execution_count": 59,
   "id": "ad8b56e4-32fd-46dc-bda7-e0c93bc4c4f0",
   "metadata": {},
   "outputs": [],
   "source": [
    "def fullname(a,b):\n",
    "    c = a+b\n",
    "    return c"
   ]
  },
  {
   "cell_type": "code",
   "execution_count": 60,
   "id": "c7592949-8866-4c2f-96b2-e9e752f7da0f",
   "metadata": {},
   "outputs": [],
   "source": [
    "x = fullname('haris','name')"
   ]
  },
  {
   "cell_type": "code",
   "execution_count": 61,
   "id": "90bdddc3-4988-4e4b-ac19-f0ddaa1dd1e9",
   "metadata": {},
   "outputs": [
    {
     "data": {
      "text/plain": [
       "'harisname'"
      ]
     },
     "execution_count": 61,
     "metadata": {},
     "output_type": "execute_result"
    }
   ],
   "source": [
    "x"
   ]
  },
  {
   "cell_type": "code",
   "execution_count": 62,
   "id": "670867dd-ee1f-46de-bfe2-295f739e91ca",
   "metadata": {},
   "outputs": [],
   "source": [
    "def fullname(a,b):\n",
    "    c = a+b\n",
    "    return"
   ]
  },
  {
   "cell_type": "code",
   "execution_count": 63,
   "id": "ca83395c-56eb-43c5-8f42-1312b704e4b2",
   "metadata": {},
   "outputs": [],
   "source": [
    "x = fullname('haris','name')"
   ]
  },
  {
   "cell_type": "code",
   "execution_count": 64,
   "id": "890eaf43-1e92-4ba7-8b58-5285043171bb",
   "metadata": {},
   "outputs": [],
   "source": [
    "x"
   ]
  },
  {
   "cell_type": "code",
   "execution_count": 65,
   "id": "80d6949f-a1ef-4334-a0ac-ce97e655216c",
   "metadata": {},
   "outputs": [
    {
     "data": {
      "text/plain": [
       "NoneType"
      ]
     },
     "execution_count": 65,
     "metadata": {},
     "output_type": "execute_result"
    }
   ],
   "source": [
    "type(x)"
   ]
  },
  {
   "cell_type": "code",
   "execution_count": 66,
   "id": "6f31b9ae-8dbe-453b-ad34-9e536f4ef2f5",
   "metadata": {},
   "outputs": [],
   "source": [
    "def calculator(a,b):\n",
    "    c = a+b\n",
    "    d = a-b\n",
    "    e = a*b\n",
    "    \n",
    "    return c,d,e"
   ]
  },
  {
   "cell_type": "code",
   "execution_count": 67,
   "id": "af0eda00-a04b-4bb5-adf6-c7aa762275d7",
   "metadata": {},
   "outputs": [
    {
     "data": {
      "text/plain": [
       "(5, -1, 6)"
      ]
     },
     "execution_count": 67,
     "metadata": {},
     "output_type": "execute_result"
    }
   ],
   "source": [
    "x = calculator(2,3)\n",
    "x"
   ]
  },
  {
   "cell_type": "code",
   "execution_count": 68,
   "id": "3fcd1ada-0af5-45ca-8abe-f0d2624596cd",
   "metadata": {},
   "outputs": [
    {
     "data": {
      "text/plain": [
       "tuple"
      ]
     },
     "execution_count": 68,
     "metadata": {},
     "output_type": "execute_result"
    }
   ],
   "source": [
    "type(x)"
   ]
  },
  {
   "cell_type": "code",
   "execution_count": 69,
   "id": "a40f8ac3-2c74-4542-8d8d-bc532e1911f9",
   "metadata": {},
   "outputs": [],
   "source": [
    "def calculator(a,b):\n",
    "    a = int(input(\"enter first number: \"))\n",
    "    b = int(input(\"enter second number: \"))\n",
    "    summ = a+b\n",
    "    subtract = a-b\n",
    "    divide = a//b\n",
    "    return summ, subtract, divide"
   ]
  },
  {
   "cell_type": "code",
   "execution_count": 70,
   "id": "801df0c4-d8fe-4cc4-8b51-8f8bd9102435",
   "metadata": {},
   "outputs": [
    {
     "name": "stdin",
     "output_type": "stream",
     "text": [
      "enter first number:  6\n",
      "enter second number:  9\n"
     ]
    },
    {
     "data": {
      "text/plain": [
       "(15, -3, 0)"
      ]
     },
     "execution_count": 70,
     "metadata": {},
     "output_type": "execute_result"
    }
   ],
   "source": [
    "calculator(4,6)"
   ]
  },
  {
   "cell_type": "code",
   "execution_count": 72,
   "id": "35f7c51d-d3d3-4e08-b38b-dffabdcd2bf8",
   "metadata": {},
   "outputs": [],
   "source": [
    "def cal(a,b):\n",
    "    op = input(\"enter a operator\")\n",
    "    if(op == 'add'):\n",
    "        return a+b\n",
    "    elif(op == 'sub'):\n",
    "        return a-b\n",
    "    elif(op == 'mul'):\n",
    "        return a*b\n",
    "    else:\n",
    "        a/b\n",
    "        "
   ]
  },
  {
   "cell_type": "code",
   "execution_count": 73,
   "id": "18a20621-0265-4fd7-bf7e-b78b75fc01b4",
   "metadata": {},
   "outputs": [
    {
     "name": "stdin",
     "output_type": "stream",
     "text": [
      "enter a operator mul\n"
     ]
    },
    {
     "data": {
      "text/plain": [
       "8"
      ]
     },
     "execution_count": 73,
     "metadata": {},
     "output_type": "execute_result"
    }
   ],
   "source": [
    "cal(2,4)"
   ]
  },
  {
   "cell_type": "code",
   "execution_count": 74,
   "id": "8b80614a-e6ec-4ffb-b55e-9e2fb0bad70c",
   "metadata": {},
   "outputs": [],
   "source": [
    "def area(radius):\n",
    "    return 3.14*radius*radius"
   ]
  },
  {
   "cell_type": "code",
   "execution_count": 75,
   "id": "31a0a340-eedb-413b-83ef-f75f28bb06ff",
   "metadata": {},
   "outputs": [
    {
     "data": {
      "text/plain": [
       "50.24"
      ]
     },
     "execution_count": 75,
     "metadata": {},
     "output_type": "execute_result"
    }
   ],
   "source": [
    "area(4)"
   ]
  },
  {
   "cell_type": "code",
   "execution_count": 76,
   "id": "247817a6-0762-4e78-9be7-153791ee2654",
   "metadata": {},
   "outputs": [],
   "source": [
    "def area_rect(l,b):\n",
    "    return l*b"
   ]
  },
  {
   "cell_type": "code",
   "execution_count": 77,
   "id": "a33fdf53-336a-45fc-a0fc-55dc9eb9f218",
   "metadata": {},
   "outputs": [
    {
     "data": {
      "text/plain": [
       "6"
      ]
     },
     "execution_count": 77,
     "metadata": {},
     "output_type": "execute_result"
    }
   ],
   "source": [
    "area_rect(2,3)"
   ]
  },
  {
   "cell_type": "code",
   "execution_count": 78,
   "id": "ea1989e5-013f-45f1-a488-d9b0f2041fab",
   "metadata": {},
   "outputs": [],
   "source": [
    "def area_tri(b,a):\n",
    "    return 1/2*b*a"
   ]
  },
  {
   "cell_type": "code",
   "execution_count": 79,
   "id": "706e68fe-95ff-4a63-8abb-c922ca0b16f0",
   "metadata": {},
   "outputs": [
    {
     "data": {
      "text/plain": [
       "6.0"
      ]
     },
     "execution_count": 79,
     "metadata": {},
     "output_type": "execute_result"
    }
   ],
   "source": [
    "area_tri(3,4)"
   ]
  },
  {
   "cell_type": "code",
   "execution_count": 82,
   "id": "d3ab3733-9493-4c05-9c14-b2e346c98fcb",
   "metadata": {},
   "outputs": [],
   "source": [
    "def fun1():\n",
    "    a, b = map(int, input('Enter two numbers separated by a space: ').split())\n",
    "    for i in range(a,b):\n",
    "        print(i)"
   ]
  },
  {
   "cell_type": "code",
   "execution_count": 83,
   "id": "5bf91887-43c3-42e1-9d3e-09c210f9c8db",
   "metadata": {},
   "outputs": [
    {
     "name": "stdin",
     "output_type": "stream",
     "text": [
      "Enter two numbers separated by a space:  6 12\n"
     ]
    },
    {
     "name": "stdout",
     "output_type": "stream",
     "text": [
      "6\n",
      "7\n",
      "8\n",
      "9\n",
      "10\n",
      "11\n"
     ]
    }
   ],
   "source": [
    "fun1()"
   ]
  },
  {
   "cell_type": "code",
   "execution_count": 84,
   "id": "b9142230-0580-45a3-9ec2-2ca290e5f4d2",
   "metadata": {},
   "outputs": [],
   "source": [
    "def fun2():\n",
    "    for i in range(1,6):\n",
    "        print(i*'*')"
   ]
  },
  {
   "cell_type": "code",
   "execution_count": 85,
   "id": "0f1e6831-6fa3-4b07-b674-10438453f354",
   "metadata": {},
   "outputs": [
    {
     "name": "stdout",
     "output_type": "stream",
     "text": [
      "*\n",
      "**\n",
      "***\n",
      "****\n",
      "*****\n"
     ]
    }
   ],
   "source": [
    "fun2()"
   ]
  },
  {
   "cell_type": "code",
   "execution_count": 86,
   "id": "61e6c0e1-1761-4ee2-830d-9278bee8a8ac",
   "metadata": {},
   "outputs": [],
   "source": [
    "\n",
    "def sq_fxn():\n",
    "    a=int(input('enter a number'))\n",
    "    print('square of the number is:',a*a)"
   ]
  },
  {
   "cell_type": "code",
   "execution_count": 87,
   "id": "7aed3349-6f51-4340-975b-1705c80c8ced",
   "metadata": {},
   "outputs": [
    {
     "name": "stdin",
     "output_type": "stream",
     "text": [
      "enter a number 9\n"
     ]
    },
    {
     "name": "stdout",
     "output_type": "stream",
     "text": [
      "square of the number is: 81\n"
     ]
    }
   ],
   "source": [
    "sq_fxn()"
   ]
  },
  {
   "cell_type": "code",
   "execution_count": 88,
   "id": "2795e38b-66e9-49dd-98ed-bfd9014edcbf",
   "metadata": {},
   "outputs": [],
   "source": [
    " def fun3():\n",
    "        a, b = map(int, input('Enter two numbers separated by a space: ').split())\n",
    "        print(\"sum is:\",a+b)"
   ]
  },
  {
   "cell_type": "code",
   "execution_count": 89,
   "id": "39b4142e-0e96-42ab-88ae-38c0c25cc92f",
   "metadata": {},
   "outputs": [
    {
     "name": "stdin",
     "output_type": "stream",
     "text": [
      "Enter two numbers separated by a space:  9 8\n"
     ]
    },
    {
     "name": "stdout",
     "output_type": "stream",
     "text": [
      "sum is: 17\n"
     ]
    }
   ],
   "source": [
    "fun3()"
   ]
  },
  {
   "cell_type": "code",
   "execution_count": 90,
   "id": "02b96331-ab7f-4a76-8aec-7acb97667544",
   "metadata": {},
   "outputs": [],
   "source": [
    "def fun4():\n",
    "    a, b = input('Enter two strings separated by a space: ').split()\n",
    "    print(a + ' ' + b)"
   ]
  },
  {
   "cell_type": "code",
   "execution_count": 91,
   "id": "9fda4a10-1f13-465f-9fc5-19f86626f6ee",
   "metadata": {},
   "outputs": [
    {
     "name": "stdin",
     "output_type": "stream",
     "text": [
      "Enter two strings separated by a space:  haris nazir\n"
     ]
    },
    {
     "name": "stdout",
     "output_type": "stream",
     "text": [
      "haris nazir\n"
     ]
    }
   ],
   "source": [
    "fun4()"
   ]
  },
  {
   "cell_type": "code",
   "execution_count": 92,
   "id": "5494548c-9874-416b-a0f4-5e40022f2813",
   "metadata": {},
   "outputs": [],
   "source": [
    "def print_even_number():\n",
    "    limit1=int(input('Enter the first limit of even numbers'))\n",
    "    limit2=int(input('Enter the second limit of even numbers'))\n",
    "    for i in range(limit1,limit2+1):\n",
    "        if i%2==0:\n",
    "            print(i,end=' ')"
   ]
  },
  {
   "cell_type": "code",
   "execution_count": 93,
   "id": "06f2c0d2-dd9d-4a3b-b22e-14631b3dd01a",
   "metadata": {},
   "outputs": [
    {
     "name": "stdin",
     "output_type": "stream",
     "text": [
      "Enter the first limit of even numbers 7\n",
      "Enter the second limit of even numbers 23\n"
     ]
    },
    {
     "name": "stdout",
     "output_type": "stream",
     "text": [
      "8 10 12 14 16 18 20 22 "
     ]
    }
   ],
   "source": [
    "print_even_number()"
   ]
  },
  {
   "cell_type": "code",
   "execution_count": 94,
   "id": "a643f207-8ee4-4f54-8f20-5972e7c0db6b",
   "metadata": {},
   "outputs": [
    {
     "name": "stdin",
     "output_type": "stream",
     "text": [
      "Enter 2 numbers between which you want the even number 6 34\n"
     ]
    },
    {
     "name": "stdout",
     "output_type": "stream",
     "text": [
      "6\n",
      "8\n",
      "10\n",
      "12\n",
      "14\n",
      "16\n",
      "18\n",
      "20\n",
      "22\n",
      "24\n",
      "26\n",
      "28\n",
      "30\n",
      "32\n"
     ]
    }
   ],
   "source": [
    "def print_even_numbers():\n",
    "    a , b = input(\"Enter 2 numbers between which you want the even number\").split()\n",
    "    \n",
    "    for i in range( int(a), int(b)):\n",
    "        if i%2 == 0:\n",
    "            print(i)\n",
    "            \n",
    "print_even_numbers()"
   ]
  },
  {
   "cell_type": "code",
   "execution_count": 95,
   "id": "a869d14b-178d-4510-8f49-a26fc3d151e4",
   "metadata": {},
   "outputs": [],
   "source": [
    "def fun5():\n",
    "    a, b, c = map(int, input('Enter three numbers separated by a space: ').split())\n",
    "    if a**2+b**2==c**2 or a**2+c**2==b**2 or c**2+b**2==a**2:\n",
    "        print(\"these sides for the sides of an rt angled triangle\")\n",
    "    else:\n",
    "        print(\"do not form\")"
   ]
  },
  {
   "cell_type": "code",
   "execution_count": 96,
   "id": "c2651bf4-7df2-434d-bcec-7891ed8aacb3",
   "metadata": {},
   "outputs": [
    {
     "name": "stdin",
     "output_type": "stream",
     "text": [
      "Enter three numbers separated by a space:  2 3 4\n"
     ]
    },
    {
     "name": "stdout",
     "output_type": "stream",
     "text": [
      "do not form\n"
     ]
    }
   ],
   "source": [
    "fun5()"
   ]
  },
  {
   "cell_type": "code",
   "execution_count": 97,
   "id": "264a2d82-c3c1-4b26-8a34-f1622595a0fc",
   "metadata": {},
   "outputs": [
    {
     "name": "stdin",
     "output_type": "stream",
     "text": [
      "Enter the first side of triangle :  4\n",
      "Enter the second side of triangle :  5\n",
      "Enter the third side of triangle :  6\n"
     ]
    },
    {
     "name": "stdout",
     "output_type": "stream",
     "text": [
      "It is not a right angled triangle\n"
     ]
    }
   ],
   "source": [
    "def checkRightTriangle(a,b,c):\n",
    "    if a**2 == b**2 + c**2 or b**2 == c**2 + a**2 or c**2 == a**2 + b**2:\n",
    "        print('It is a right angled triangle')\n",
    "    else:\n",
    "        print('It is not a right angled triangle')\n",
    "a = int(input('Enter the first side of triangle : '))\n",
    "b = int(input('Enter the second side of triangle : '))\n",
    "c = int(input('Enter the third side of triangle : '))\n",
    "checkRightTriangle(a,b,c)"
   ]
  },
  {
   "cell_type": "code",
   "execution_count": 98,
   "id": "eac30073-f7b8-478e-ba21-bb7a0975398a",
   "metadata": {},
   "outputs": [
    {
     "ename": "TypeError",
     "evalue": "type() takes 1 or 3 arguments",
     "output_type": "error",
     "traceback": [
      "\u001b[0;31m---------------------------------------------------------------------------\u001b[0m",
      "\u001b[0;31mTypeError\u001b[0m                                 Traceback (most recent call last)",
      "Cell \u001b[0;32mIn[98], line 1\u001b[0m\n\u001b[0;32m----> 1\u001b[0m \u001b[38;5;28;43mtype\u001b[39;49m\u001b[43m(\u001b[49m\u001b[43m)\u001b[49m\n\u001b[1;32m      2\u001b[0m \u001b[38;5;28mprint\u001b[39m()\n\u001b[1;32m      3\u001b[0m \u001b[38;5;28mlen\u001b[39m()\n",
      "\u001b[0;31mTypeError\u001b[0m: type() takes 1 or 3 arguments"
     ]
    }
   ],
   "source": [
    "type()\n",
    "print()\n",
    "len()\n",
    "range()\n"
   ]
  },
  {
   "cell_type": "code",
   "execution_count": 99,
   "id": "56ac0081-6e48-4a20-942e-6437d68793c4",
   "metadata": {},
   "outputs": [],
   "source": [
    "def test():\n",
    "    print('this is my first function')"
   ]
  },
  {
   "cell_type": "code",
   "execution_count": 100,
   "id": "9c4424ed-6fb1-4a76-83c3-0795135b962f",
   "metadata": {},
   "outputs": [
    {
     "name": "stdout",
     "output_type": "stream",
     "text": [
      "this is my first function\n"
     ]
    }
   ],
   "source": [
    "test()"
   ]
  },
  {
   "cell_type": "code",
   "execution_count": 101,
   "id": "3ec61777-2f67-4fa1-881a-d51f2aaf8823",
   "metadata": {},
   "outputs": [],
   "source": [
    "def test1():\n",
    "    print('test')"
   ]
  },
  {
   "cell_type": "code",
   "execution_count": 102,
   "id": "9f84563d-34b9-4dd5-a281-f79791a79860",
   "metadata": {},
   "outputs": [
    {
     "name": "stdout",
     "output_type": "stream",
     "text": [
      "test\n"
     ]
    }
   ],
   "source": [
    "test1()"
   ]
  },
  {
   "cell_type": "code",
   "execution_count": 103,
   "id": "75865a87-6e3b-4e3f-b8fa-c2af27e88375",
   "metadata": {},
   "outputs": [
    {
     "name": "stdout",
     "output_type": "stream",
     "text": [
      "test\n"
     ]
    },
    {
     "ename": "TypeError",
     "evalue": "unsupported operand type(s) for +: 'NoneType' and 'str'",
     "output_type": "error",
     "traceback": [
      "\u001b[0;31m---------------------------------------------------------------------------\u001b[0m",
      "\u001b[0;31mTypeError\u001b[0m                                 Traceback (most recent call last)",
      "Cell \u001b[0;32mIn[103], line 1\u001b[0m\n\u001b[0;32m----> 1\u001b[0m \u001b[43mtest1\u001b[49m\u001b[43m(\u001b[49m\u001b[43m)\u001b[49m\u001b[38;5;241;43m+\u001b[39;49m\u001b[38;5;124;43m'\u001b[39;49m\u001b[38;5;124;43mharis\u001b[39;49m\u001b[38;5;124;43m'\u001b[39;49m                 \u001b[38;5;66;03m# type of print statement is nonetype\u001b[39;00m\n",
      "\u001b[0;31mTypeError\u001b[0m: unsupported operand type(s) for +: 'NoneType' and 'str'"
     ]
    }
   ],
   "source": [
    "test1()+'haris'                 # type of print statement is nonetype"
   ]
  },
  {
   "cell_type": "code",
   "execution_count": 104,
   "id": "fe0bac95-4a77-4d01-947c-d8341b43f211",
   "metadata": {},
   "outputs": [
    {
     "name": "stdout",
     "output_type": "stream",
     "text": [
      "test\n"
     ]
    },
    {
     "data": {
      "text/plain": [
       "NoneType"
      ]
     },
     "execution_count": 104,
     "metadata": {},
     "output_type": "execute_result"
    }
   ],
   "source": [
    "type(test1())"
   ]
  },
  {
   "cell_type": "code",
   "execution_count": 105,
   "id": "23e2e85c-1f8c-4452-b548-5fda0b93f65f",
   "metadata": {},
   "outputs": [
    {
     "data": {
      "text/plain": [
       "'testharis'"
      ]
     },
     "execution_count": 105,
     "metadata": {},
     "output_type": "execute_result"
    }
   ],
   "source": [
    "def test1():                          # so return keyword is used not print statement\n",
    "    return 'test'\n",
    "test1()+'haris' "
   ]
  },
  {
   "cell_type": "code",
   "execution_count": 106,
   "id": "66dac89d-fdbe-4bc2-8219-a2be99314247",
   "metadata": {},
   "outputs": [
    {
     "data": {
      "text/plain": [
       "function"
      ]
     },
     "execution_count": 106,
     "metadata": {},
     "output_type": "execute_result"
    }
   ],
   "source": [
    "type(test1)"
   ]
  },
  {
   "cell_type": "code",
   "execution_count": 107,
   "id": "8319f0c8-5c5c-40c6-9291-1d4ccb6e9ccf",
   "metadata": {},
   "outputs": [
    {
     "data": {
      "text/plain": [
       "int"
      ]
     },
     "execution_count": 107,
     "metadata": {},
     "output_type": "execute_result"
    }
   ],
   "source": [
    "def test3():\n",
    "    return 1+3\n",
    "type(test3())"
   ]
  },
  {
   "cell_type": "code",
   "execution_count": 108,
   "id": "5e2be130-0611-4685-b7f8-6438933b1f08",
   "metadata": {},
   "outputs": [
    {
     "data": {
      "text/plain": [
       "('haris', True, [1, 2, 3])"
      ]
     },
     "execution_count": 108,
     "metadata": {},
     "output_type": "execute_result"
    }
   ],
   "source": [
    "def test4():\n",
    "    return \"haris\", True,[1,2,3,]         # it is possible to return multiple varialbe from a function \n",
    "test4()                                   # for multiple returns the result is wrapped int a tuple"
   ]
  },
  {
   "cell_type": "code",
   "execution_count": 109,
   "id": "d4b0315d-411e-49f9-a0fc-5842410532ad",
   "metadata": {},
   "outputs": [
    {
     "data": {
      "text/plain": [
       "tuple"
      ]
     },
     "execution_count": 109,
     "metadata": {},
     "output_type": "execute_result"
    }
   ],
   "source": [
    "type(test4())"
   ]
  },
  {
   "cell_type": "code",
   "execution_count": 110,
   "id": "77acee72-84d1-467b-9d6d-681ab8257de7",
   "metadata": {},
   "outputs": [],
   "source": [
    "a,b,c,d = 1,'haris',23,78"
   ]
  },
  {
   "cell_type": "code",
   "execution_count": 111,
   "id": "3be060dd-6557-41f2-94fa-f676a4ff138d",
   "metadata": {},
   "outputs": [],
   "source": [
    "m,n,o=test4()"
   ]
  },
  {
   "cell_type": "code",
   "execution_count": 112,
   "id": "c8c95fd7-406c-4d1e-972c-8c395485b79c",
   "metadata": {},
   "outputs": [
    {
     "name": "stdout",
     "output_type": "stream",
     "text": [
      "haris\n",
      "True\n",
      "[1, 2, 3]\n"
     ]
    }
   ],
   "source": [
    "print(m)\n",
    "print(n)\n",
    "print(o)"
   ]
  },
  {
   "cell_type": "code",
   "execution_count": 113,
   "id": "6db82588-a02e-4767-a30c-f1a11fc27b81",
   "metadata": {},
   "outputs": [],
   "source": [
    "def test5(x):\n",
    "    return x\n",
    "    "
   ]
  },
  {
   "cell_type": "code",
   "execution_count": 114,
   "id": "5bb10753-8286-4052-a96f-4c90467bdcb6",
   "metadata": {},
   "outputs": [
    {
     "data": {
      "text/plain": [
       "5"
      ]
     },
     "execution_count": 114,
     "metadata": {},
     "output_type": "execute_result"
    }
   ],
   "source": [
    "test5(5)"
   ]
  },
  {
   "cell_type": "code",
   "execution_count": 115,
   "id": "46b5854d-2caa-4ba2-8a00-a645f66430ee",
   "metadata": {},
   "outputs": [
    {
     "data": {
      "text/plain": [
       "'haris'"
      ]
     },
     "execution_count": 115,
     "metadata": {},
     "output_type": "execute_result"
    }
   ],
   "source": [
    "test5('haris')"
   ]
  },
  {
   "cell_type": "code",
   "execution_count": 116,
   "id": "e000c80d-3921-495c-9f4e-83909e6635d3",
   "metadata": {},
   "outputs": [
    {
     "data": {
      "text/plain": [
       "[1, 7, 25, 7]"
      ]
     },
     "execution_count": 116,
     "metadata": {},
     "output_type": "execute_result"
    }
   ],
   "source": [
    "test5([1,7,25,7])"
   ]
  },
  {
   "cell_type": "code",
   "execution_count": 117,
   "id": "afa6752b-fd07-46b1-ba6d-edaf0b3be462",
   "metadata": {},
   "outputs": [
    {
     "ename": "TypeError",
     "evalue": "test5() takes 1 positional argument but 2 were given",
     "output_type": "error",
     "traceback": [
      "\u001b[0;31m---------------------------------------------------------------------------\u001b[0m",
      "\u001b[0;31mTypeError\u001b[0m                                 Traceback (most recent call last)",
      "Cell \u001b[0;32mIn[117], line 1\u001b[0m\n\u001b[0;32m----> 1\u001b[0m \u001b[43mtest5\u001b[49m\u001b[43m(\u001b[49m\u001b[38;5;241;43m4\u001b[39;49m\u001b[43m,\u001b[49m\u001b[38;5;241;43m6\u001b[39;49m\u001b[43m)\u001b[49m\n",
      "\u001b[0;31mTypeError\u001b[0m: test5() takes 1 positional argument but 2 were given"
     ]
    }
   ],
   "source": [
    "test5(4,6)"
   ]
  },
  {
   "cell_type": "code",
   "execution_count": 118,
   "id": "30819df6-398c-4c3d-873e-523d8120f647",
   "metadata": {},
   "outputs": [
    {
     "ename": "TypeError",
     "evalue": "test5() missing 1 required positional argument: 'x'",
     "output_type": "error",
     "traceback": [
      "\u001b[0;31m---------------------------------------------------------------------------\u001b[0m",
      "\u001b[0;31mTypeError\u001b[0m                                 Traceback (most recent call last)",
      "Cell \u001b[0;32mIn[118], line 1\u001b[0m\n\u001b[0;32m----> 1\u001b[0m \u001b[43mtest5\u001b[49m\u001b[43m(\u001b[49m\u001b[43m)\u001b[49m\n",
      "\u001b[0;31mTypeError\u001b[0m: test5() missing 1 required positional argument: 'x'"
     ]
    }
   ],
   "source": [
    "test5()\n"
   ]
  },
  {
   "cell_type": "code",
   "execution_count": 119,
   "id": "cc9b0ea7-9ab8-403d-be06-e5df86944a08",
   "metadata": {},
   "outputs": [],
   "source": [
    "def test6(x,y):\n",
    "    return x,y"
   ]
  },
  {
   "cell_type": "code",
   "execution_count": 120,
   "id": "9149f3d5-49e2-4506-9734-e932fe8d864c",
   "metadata": {},
   "outputs": [
    {
     "data": {
      "text/plain": [
       "(3, 5)"
      ]
     },
     "execution_count": 120,
     "metadata": {},
     "output_type": "execute_result"
    }
   ],
   "source": [
    "test6(3,5)"
   ]
  },
  {
   "cell_type": "code",
   "execution_count": 121,
   "id": "cd2d64cb-088a-450e-86f2-f99e54f3e033",
   "metadata": {},
   "outputs": [
    {
     "name": "stdout",
     "output_type": "stream",
     "text": [
      "4\n",
      "5\n"
     ]
    }
   ],
   "source": [
    "a,b = test6(4,5)\n",
    "print(a)\n",
    "print(b)"
   ]
  },
  {
   "cell_type": "code",
   "execution_count": 122,
   "id": "9083e9a3-db93-4b74-a5fb-3e0ad9322bfd",
   "metadata": {},
   "outputs": [],
   "source": [
    "# data type of the argument given to the function\n",
    "def test7(a:int, b:int):\n",
    "    return a,b"
   ]
  },
  {
   "cell_type": "code",
   "execution_count": 123,
   "id": "3ae4d631-ba0f-4b89-8873-7016f89fdc50",
   "metadata": {},
   "outputs": [
    {
     "data": {
      "text/plain": [
       "(2, 7)"
      ]
     },
     "execution_count": 123,
     "metadata": {},
     "output_type": "execute_result"
    }
   ],
   "source": [
    "test7(2,7)"
   ]
  },
  {
   "cell_type": "code",
   "execution_count": 124,
   "id": "f0229883-8ba2-430b-ac9b-ce4bc799f9ef",
   "metadata": {},
   "outputs": [
    {
     "data": {
      "text/plain": [
       "('haris', [4, 6, 0])"
      ]
     },
     "execution_count": 124,
     "metadata": {},
     "output_type": "execute_result"
    }
   ],
   "source": [
    "test7('haris',[4,6,0])            # python is self typed language no need to specify the data types\n",
    "                                  # user can't be ristricted"
   ]
  },
  {
   "cell_type": "code",
   "execution_count": 125,
   "id": "addcf9ae-a4a8-402f-8f53-a8aaa9b4b33c",
   "metadata": {},
   "outputs": [
    {
     "data": {
      "text/plain": [
       "0.05"
      ]
     },
     "execution_count": 125,
     "metadata": {},
     "output_type": "execute_result"
    }
   ],
   "source": [
    "def test8(x:int,y:int):\n",
    "    return x/y\n",
    "test8(2,40)"
   ]
  },
  {
   "cell_type": "code",
   "execution_count": 126,
   "id": "d96cc98f-2cab-4c71-b529-9810a9c49982",
   "metadata": {},
   "outputs": [
    {
     "ename": "TypeError",
     "evalue": "unsupported operand type(s) for /: 'str' and 'str'",
     "output_type": "error",
     "traceback": [
      "\u001b[0;31m---------------------------------------------------------------------------\u001b[0m",
      "\u001b[0;31mTypeError\u001b[0m                                 Traceback (most recent call last)",
      "Cell \u001b[0;32mIn[126], line 1\u001b[0m\n\u001b[0;32m----> 1\u001b[0m \u001b[43mtest8\u001b[49m\u001b[43m(\u001b[49m\u001b[38;5;124;43m'\u001b[39;49m\u001b[38;5;124;43mhari\u001b[39;49m\u001b[38;5;124;43m'\u001b[39;49m\u001b[43m,\u001b[49m\u001b[38;5;124;43m'\u001b[39;49m\u001b[38;5;124;43mnazir\u001b[39;49m\u001b[38;5;124;43m'\u001b[39;49m\u001b[43m)\u001b[49m\n",
      "Cell \u001b[0;32mIn[125], line 2\u001b[0m, in \u001b[0;36mtest8\u001b[0;34m(x, y)\u001b[0m\n\u001b[1;32m      1\u001b[0m \u001b[38;5;28;01mdef\u001b[39;00m \u001b[38;5;21mtest8\u001b[39m(x:\u001b[38;5;28mint\u001b[39m,y:\u001b[38;5;28mint\u001b[39m):\n\u001b[0;32m----> 2\u001b[0m     \u001b[38;5;28;01mreturn\u001b[39;00m \u001b[43mx\u001b[49m\u001b[38;5;241;43m/\u001b[39;49m\u001b[43my\u001b[49m\n",
      "\u001b[0;31mTypeError\u001b[0m: unsupported operand type(s) for /: 'str' and 'str'"
     ]
    }
   ],
   "source": [
    "test8('hari','nazir')"
   ]
  },
  {
   "cell_type": "code",
   "execution_count": 127,
   "id": "1e5677c0-cffd-4a37-90da-9b6e2b8e2398",
   "metadata": {},
   "outputs": [
    {
     "data": {
      "text/plain": [
       "8"
      ]
     },
     "execution_count": 127,
     "metadata": {},
     "output_type": "execute_result"
    }
   ],
   "source": [
    "def test9(c,d):    # for functions we write a doc string to give difinition to the function by entering shift+tab\n",
    "    '''this is my function that takes two inputs and return addition or concatination'''\n",
    "    return c+d\n",
    "test9(3,5)                        "
   ]
  },
  {
   "cell_type": "code",
   "execution_count": 128,
   "id": "18a44167-2254-4f37-aad1-39e811b0adca",
   "metadata": {},
   "outputs": [
    {
     "data": {
      "text/plain": [
       "'harisnazir'"
      ]
     },
     "execution_count": 128,
     "metadata": {},
     "output_type": "execute_result"
    }
   ],
   "source": [
    "test9('haris','nazir')"
   ]
  },
  {
   "cell_type": "code",
   "execution_count": 129,
   "id": "d63f679c-972f-495d-b814-cefb7b63ad8e",
   "metadata": {},
   "outputs": [
    {
     "data": {
      "text/plain": [
       "()"
      ]
     },
     "execution_count": 129,
     "metadata": {},
     "output_type": "execute_result"
    }
   ],
   "source": [
    "def test10(*args):\n",
    "    return args                # for any no of arguments to pass to a function\n",
    "test10()                       "
   ]
  },
  {
   "cell_type": "code",
   "execution_count": 130,
   "id": "1e00b0b9-0563-4ed8-87dc-cd251620a9b7",
   "metadata": {},
   "outputs": [
    {
     "data": {
      "text/plain": [
       "(4, 5, 23, 1, 3, [2, 3], 'haris')"
      ]
     },
     "execution_count": 130,
     "metadata": {},
     "output_type": "execute_result"
    }
   ],
   "source": [
    "test10(a,b,c,1,3,[2,3],'haris')"
   ]
  },
  {
   "cell_type": "code",
   "execution_count": 131,
   "id": "d7a945d0-9387-4595-b29a-e4ae2c082f4d",
   "metadata": {},
   "outputs": [
    {
     "data": {
      "text/plain": [
       "(4, 5, 23, 1, 3, [2, 3], 'haris')"
      ]
     },
     "execution_count": 131,
     "metadata": {},
     "output_type": "execute_result"
    }
   ],
   "source": [
    "def test11(*haris):\n",
    "    return haris\n",
    "test11(a,b,c,1,3,[2,3],'haris')"
   ]
  },
  {
   "cell_type": "code",
   "execution_count": 132,
   "id": "3b9dd5dc-369c-4c4f-9f0e-cfb5cd889f40",
   "metadata": {},
   "outputs": [
    {
     "ename": "TypeError",
     "evalue": "test12() takes 0 positional arguments but 2 were given",
     "output_type": "error",
     "traceback": [
      "\u001b[0;31m---------------------------------------------------------------------------\u001b[0m",
      "\u001b[0;31mTypeError\u001b[0m                                 Traceback (most recent call last)",
      "Cell \u001b[0;32mIn[132], line 4\u001b[0m\n\u001b[1;32m      2\u001b[0m \u001b[38;5;28;01mdef\u001b[39;00m \u001b[38;5;21mtest12\u001b[39m(\u001b[38;5;241m*\u001b[39m\u001b[38;5;241m*\u001b[39mkwargs):\n\u001b[1;32m      3\u001b[0m     \u001b[38;5;28;01mreturn\u001b[39;00m kwargs\n\u001b[0;32m----> 4\u001b[0m \u001b[43mtest12\u001b[49m\u001b[43m(\u001b[49m\u001b[38;5;241;43m2\u001b[39;49m\u001b[43m,\u001b[49m\u001b[38;5;241;43m4\u001b[39;49m\u001b[43m)\u001b[49m\n",
      "\u001b[0;31mTypeError\u001b[0m: test12() takes 0 positional arguments but 2 were given"
     ]
    }
   ],
   "source": [
    "# for entering the data in key value \n",
    "def test12(**kwargs):\n",
    "    return kwargs\n",
    "test12(2,4)"
   ]
  },
  {
   "cell_type": "code",
   "execution_count": 133,
   "id": "a7b8ff68-e2fd-44fb-acbc-b86000ca23d6",
   "metadata": {},
   "outputs": [
    {
     "data": {
      "text/plain": [
       "{'a': 4, 'b': 5, 'c': 7}"
      ]
     },
     "execution_count": 133,
     "metadata": {},
     "output_type": "execute_result"
    }
   ],
   "source": [
    "test12(a=4,b=5,c=7)           # returns a dictionary"
   ]
  },
  {
   "cell_type": "code",
   "execution_count": 134,
   "id": "a37f9f35-5fd1-4e81-894d-dc2c794cdfc5",
   "metadata": {},
   "outputs": [
    {
     "data": {
      "text/plain": [
       "dict"
      ]
     },
     "execution_count": 134,
     "metadata": {},
     "output_type": "execute_result"
    }
   ],
   "source": [
    "type(test12(a=4,b=5,c=7))           # returns a dictionary"
   ]
  },
  {
   "cell_type": "code",
   "execution_count": 135,
   "id": "df8c1772-eaaa-4d9c-95a1-80247a902246",
   "metadata": {},
   "outputs": [
    {
     "data": {
      "text/plain": [
       "{'n': {'a': 4, 'b': 5, 'c': 7}}"
      ]
     },
     "execution_count": 135,
     "metadata": {},
     "output_type": "execute_result"
    }
   ],
   "source": [
    "test12(n = {'a': 4, 'b': 5, 'c': 7})"
   ]
  },
  {
   "cell_type": "code",
   "execution_count": 136,
   "id": "779850f6-832f-4ba7-8a97-cf6406264619",
   "metadata": {},
   "outputs": [],
   "source": [
    "def test13(b,a=10,c=20):             # default arguments specified at the time of creating of the function\n",
    "    return a,b,c"
   ]
  },
  {
   "cell_type": "code",
   "execution_count": 137,
   "id": "8fdd939d-61cc-43ee-a82d-80bddb14540a",
   "metadata": {},
   "outputs": [
    {
     "data": {
      "text/plain": [
       "(10, 56, 20)"
      ]
     },
     "execution_count": 137,
     "metadata": {},
     "output_type": "execute_result"
    }
   ],
   "source": [
    "test13(56)"
   ]
  },
  {
   "cell_type": "code",
   "execution_count": 138,
   "id": "6d46c931-5b06-4461-b495-bbc13eb4c970",
   "metadata": {},
   "outputs": [
    {
     "data": {
      "text/plain": [
       "(45, 34, 20)"
      ]
     },
     "execution_count": 138,
     "metadata": {},
     "output_type": "execute_result"
    }
   ],
   "source": [
    "test13(34,a=45)                        # non default arguments given at the begining"
   ]
  },
  {
   "cell_type": "code",
   "execution_count": 139,
   "id": "b695fe96-33a9-411b-b39f-e9acd3f521ac",
   "metadata": {},
   "outputs": [
    {
     "data": {
      "text/plain": [
       "(45, 34, 20)"
      ]
     },
     "execution_count": 139,
     "metadata": {},
     "output_type": "execute_result"
    }
   ],
   "source": [
    "v = test13(34,a=45)  # non default arguments given at the begining\n",
    "v"
   ]
  },
  {
   "cell_type": "code",
   "execution_count": 140,
   "id": "3e81b7b4-46cb-47e1-a605-9cdaf839af98",
   "metadata": {},
   "outputs": [],
   "source": [
    "# lambda function or function without name or anonymous function\n",
    "def test14(a,b):\n",
    "    return a+b"
   ]
  },
  {
   "cell_type": "code",
   "execution_count": 141,
   "id": "0aa11b0d-3884-4e87-a662-f2c54d485d7e",
   "metadata": {},
   "outputs": [
    {
     "data": {
      "text/plain": [
       "94"
      ]
     },
     "execution_count": 141,
     "metadata": {},
     "output_type": "execute_result"
    }
   ],
   "source": [
    "test14(90,4)"
   ]
  },
  {
   "cell_type": "code",
   "execution_count": 142,
   "id": "97c83233-060e-4c09-8c96-615eccda8781",
   "metadata": {},
   "outputs": [],
   "source": [
    "m = lambda a,b :a+b        "
   ]
  },
  {
   "cell_type": "code",
   "execution_count": 143,
   "id": "40598eb5-85f7-4f5c-bae7-03d2f4ee6d23",
   "metadata": {},
   "outputs": [
    {
     "data": {
      "text/plain": [
       "<function __main__.<lambda>(a, b)>"
      ]
     },
     "execution_count": 143,
     "metadata": {},
     "output_type": "execute_result"
    }
   ],
   "source": [
    "m"
   ]
  },
  {
   "cell_type": "code",
   "execution_count": 144,
   "id": "a7c61cbc-31fc-4a6f-8e2f-e0bed7f86bdc",
   "metadata": {},
   "outputs": [
    {
     "data": {
      "text/plain": [
       "7"
      ]
     },
     "execution_count": 144,
     "metadata": {},
     "output_type": "execute_result"
    }
   ],
   "source": [
    "test14(3,4)"
   ]
  },
  {
   "cell_type": "code",
   "execution_count": 145,
   "id": "f9f888e8-b35c-4c54-a87b-a1100a075583",
   "metadata": {},
   "outputs": [
    {
     "data": {
      "text/plain": [
       "11"
      ]
     },
     "execution_count": 145,
     "metadata": {},
     "output_type": "execute_result"
    }
   ],
   "source": [
    "m(5,6)"
   ]
  },
  {
   "cell_type": "code",
   "execution_count": 146,
   "id": "7bd0c177-85b9-458c-8b51-05ffae051d4c",
   "metadata": {},
   "outputs": [],
   "source": [
    "def check_even(n):\n",
    "    if n%2 ==0:\n",
    "        return \"even\"\n",
    "    else:\n",
    "        return \"odd\""
   ]
  },
  {
   "cell_type": "code",
   "execution_count": 147,
   "id": "20321b6c-f099-4b77-8bb4-0675e768635f",
   "metadata": {},
   "outputs": [
    {
     "data": {
      "text/plain": [
       "'even'"
      ]
     },
     "execution_count": 147,
     "metadata": {},
     "output_type": "execute_result"
    }
   ],
   "source": [
    "check_even(6)"
   ]
  },
  {
   "cell_type": "code",
   "execution_count": 148,
   "id": "0985c8f8-c3fa-4ca7-9442-dc5b439509af",
   "metadata": {},
   "outputs": [
    {
     "data": {
      "text/plain": [
       "'odd'"
      ]
     },
     "execution_count": 148,
     "metadata": {},
     "output_type": "execute_result"
    }
   ],
   "source": [
    "check_even = lambda x : \"even\" if x%2==0 else \"odd\"\n",
    "check_even(7)"
   ]
  },
  {
   "cell_type": "code",
   "execution_count": 149,
   "id": "13f037ce-8ea5-4cc0-a105-1f6d95c016cf",
   "metadata": {},
   "outputs": [
    {
     "data": {
      "text/plain": [
       "3"
      ]
     },
     "execution_count": 149,
     "metadata": {},
     "output_type": "execute_result"
    }
   ],
   "source": [
    "l = [3,4,5,6,9,8]\n",
    "min1 = lambda li : min(li)\n",
    "min1(l)"
   ]
  },
  {
   "cell_type": "code",
   "execution_count": 150,
   "id": "d5fc0425-8f73-49a7-8a74-cbd3b6c7bc1f",
   "metadata": {},
   "outputs": [
    {
     "data": {
      "text/plain": [
       "2.5"
      ]
     },
     "execution_count": 150,
     "metadata": {},
     "output_type": "execute_result"
    }
   ],
   "source": [
    "div = lambda a,b: a/b\n",
    "div(5,2)"
   ]
  },
  {
   "cell_type": "code",
   "execution_count": 151,
   "id": "8f426ce3-f3c7-4fd3-afdf-81508b50163f",
   "metadata": {},
   "outputs": [
    {
     "data": {
      "text/plain": [
       "'HARIS'"
      ]
     },
     "execution_count": 151,
     "metadata": {},
     "output_type": "execute_result"
    }
   ],
   "source": [
    "upper = lambda s : s.upper()\n",
    "upper('haris')"
   ]
  },
  {
   "cell_type": "code",
   "execution_count": 1,
   "id": "df1bfa5e-4295-4ae2-8d2d-4d45a186200b",
   "metadata": {},
   "outputs": [],
   "source": [
    "l = [3,4,5,6,9,8]\n",
    "def sum_odd(b):\n",
    "    l1 = []\n",
    "    for i in b:\n",
    "        if i%2 != 0:\n",
    "            l1.append(i)\n",
    "    return sum(l1)"
   ]
  },
  {
   "cell_type": "code",
   "execution_count": 2,
   "id": "dd8eafa1-8a90-45d2-b4c7-eeee0847d506",
   "metadata": {},
   "outputs": [
    {
     "data": {
      "text/plain": [
       "17"
      ]
     },
     "execution_count": 2,
     "metadata": {},
     "output_type": "execute_result"
    }
   ],
   "source": [
    "sum_odd(l)"
   ]
  },
  {
   "cell_type": "code",
   "execution_count": 3,
   "id": "260cdfef-f3f8-4e55-915f-80b5f91e7af9",
   "metadata": {},
   "outputs": [
    {
     "name": "stdout",
     "output_type": "stream",
     "text": [
      "17\n"
     ]
    }
   ],
   "source": [
    "\n",
    "l = [3, 4, 5, 6, 9, 8]\n",
    "\n",
    "sum_odd = lambda x: sum(filter(lambda y: y % 2 != 0, x))\n",
    "\n",
    "result = sum_odd(l)\n",
    "print(result)  # This will print the sum of odd numbers in the list\n"
   ]
  },
  {
   "cell_type": "code",
   "execution_count": 4,
   "id": "37a04a78-e3ff-480e-882b-4b4b03eaf355",
   "metadata": {},
   "outputs": [
    {
     "data": {
      "text/plain": [
       "[3, 5, 9]"
      ]
     },
     "execution_count": 4,
     "metadata": {},
     "output_type": "execute_result"
    }
   ],
   "source": [
    "[i for i in l if i%2 !=0]"
   ]
  },
  {
   "cell_type": "code",
   "execution_count": 5,
   "id": "d64bf8ce-42ac-4ed5-8390-419e0521c422",
   "metadata": {},
   "outputs": [
    {
     "data": {
      "text/plain": [
       "17"
      ]
     },
     "execution_count": 5,
     "metadata": {},
     "output_type": "execute_result"
    }
   ],
   "source": [
    "sum([i for i in l if i%2 !=0])"
   ]
  },
  {
   "cell_type": "code",
   "execution_count": 6,
   "id": "d0787b01-e4ca-41c4-bee2-57c3d28af867",
   "metadata": {},
   "outputs": [],
   "source": [
    "sum_odd = lambda b : sum([i for i in l if i%2 !=0])"
   ]
  },
  {
   "cell_type": "code",
   "execution_count": 7,
   "id": "afd86878-8201-469c-bb1b-0176f14257c6",
   "metadata": {},
   "outputs": [
    {
     "data": {
      "text/plain": [
       "17"
      ]
     },
     "execution_count": 7,
     "metadata": {},
     "output_type": "execute_result"
    }
   ],
   "source": [
    "sum_odd(l)"
   ]
  },
  {
   "cell_type": "code",
   "execution_count": 8,
   "id": "d4d6a209-1a7a-43c4-b743-06a0ca0dc495",
   "metadata": {},
   "outputs": [],
   "source": [
    "\n",
    "def factorial(n):\n",
    "    if n==0 :\n",
    "        return 1\n",
    "    else:\n",
    "        return n*factorial(n-1)"
   ]
  },
  {
   "cell_type": "code",
   "execution_count": 9,
   "id": "7b6903f4-ac88-4c93-a3ee-8310c45cd63f",
   "metadata": {},
   "outputs": [
    {
     "data": {
      "text/plain": [
       "6"
      ]
     },
     "execution_count": 9,
     "metadata": {},
     "output_type": "execute_result"
    }
   ],
   "source": [
    "factorial(3)"
   ]
  },
  {
   "cell_type": "code",
   "execution_count": 10,
   "id": "c982c6ca-b91a-4b23-840d-1274892f1939",
   "metadata": {},
   "outputs": [
    {
     "name": "stdout",
     "output_type": "stream",
     "text": [
      "The factorial of 5 is 120\n"
     ]
    }
   ],
   "source": [
    "def factorial(n):\n",
    "    if n < 0:\n",
    "        return \"Factorial is not defined for negative numbers\"\n",
    "    elif n == 0 or n == 1:\n",
    "        return 1\n",
    "    else:\n",
    "        result = 1\n",
    "        while n > 1:\n",
    "            result *= n\n",
    "            n -= 1\n",
    "        return result\n",
    "\n",
    "# Example usage:\n",
    "num = 5\n",
    "print(f\"The factorial of {num} is {factorial(num)}\")\n"
   ]
  },
  {
   "cell_type": "code",
   "execution_count": 11,
   "id": "c8635c5c-79f2-48e9-bfdf-ae95ab19162a",
   "metadata": {},
   "outputs": [
    {
     "name": "stdout",
     "output_type": "stream",
     "text": [
      "The factorial of 5 is 120\n"
     ]
    }
   ],
   "source": [
    "def factorial(n):\n",
    "    if n < 0:\n",
    "        return \"Factorial is not defined for negative numbers\"\n",
    "    elif n == 0 or n == 1:\n",
    "        return 1\n",
    "    else:\n",
    "        result = 1\n",
    "        for i in range(2, n + 1):\n",
    "            result *= i\n",
    "        return result\n",
    "\n",
    "# Example usage:\n",
    "num = 5\n",
    "print(f\"The factorial of {num} is {factorial(num)}\")\n"
   ]
  },
  {
   "cell_type": "code",
   "execution_count": 12,
   "id": "623312bb-bd2b-4f51-8673-2c365c5ecbd9",
   "metadata": {},
   "outputs": [],
   "source": [
    "def fact_num(n):\n",
    "    a = 1 \n",
    "    for i in range(1,n+1):\n",
    "        a = a*i\n",
    "    return a"
   ]
  },
  {
   "cell_type": "code",
   "execution_count": 13,
   "id": "c88c8f33-b9a8-4c5e-a1f1-465737595584",
   "metadata": {},
   "outputs": [
    {
     "data": {
      "text/plain": [
       "120"
      ]
     },
     "execution_count": 13,
     "metadata": {},
     "output_type": "execute_result"
    }
   ],
   "source": [
    "fact_num(5)"
   ]
  },
  {
   "cell_type": "code",
   "execution_count": 14,
   "id": "24e2936d-50fa-4317-bb69-fcc2078b2d35",
   "metadata": {},
   "outputs": [],
   "source": [
    "fact_num = lambda n : 1 if n==0 else n*fact_num(n-1)"
   ]
  },
  {
   "cell_type": "code",
   "execution_count": 15,
   "id": "337ad495-2858-4e6d-8ab0-e6637450bc27",
   "metadata": {},
   "outputs": [
    {
     "data": {
      "text/plain": [
       "120"
      ]
     },
     "execution_count": 15,
     "metadata": {},
     "output_type": "execute_result"
    }
   ],
   "source": [
    "fact_num(5)"
   ]
  },
  {
   "cell_type": "code",
   "execution_count": 16,
   "id": "94f811c9-53f1-4364-81cd-405d9c7aed9f",
   "metadata": {},
   "outputs": [
    {
     "data": {
      "text/plain": [
       "[10, 12, 16, 4]"
      ]
     },
     "execution_count": 16,
     "metadata": {},
     "output_type": "execute_result"
    }
   ],
   "source": [
    "l = [5,6,8,2]\n",
    "l1 = []\n",
    "for i in l:\n",
    "    l1.append(i*2)\n",
    "l1"
   ]
  },
  {
   "cell_type": "code",
   "execution_count": 17,
   "id": "b8199264-d7c4-4b95-b718-bff7ddae43b1",
   "metadata": {},
   "outputs": [],
   "source": [
    "def add_list(l):\n",
    "    l1 = []\n",
    "    for i in l:\n",
    "        l1.append(i+2)\n",
    "    return l1\n",
    "        "
   ]
  },
  {
   "cell_type": "code",
   "execution_count": 18,
   "id": "102b6948-987f-478f-a67d-ee99b320ddde",
   "metadata": {},
   "outputs": [
    {
     "data": {
      "text/plain": [
       "[7, 8, 10, 4]"
      ]
     },
     "execution_count": 18,
     "metadata": {},
     "output_type": "execute_result"
    }
   ],
   "source": [
    "add_list(l)\n"
   ]
  },
  {
   "cell_type": "code",
   "execution_count": 19,
   "id": "63a300c5-acca-4123-b3e0-752e8f554f85",
   "metadata": {},
   "outputs": [
    {
     "data": {
      "text/plain": [
       "[9, 10, 12, 6]"
      ]
     },
     "execution_count": 19,
     "metadata": {},
     "output_type": "execute_result"
    }
   ],
   "source": [
    "add_list([7, 8, 10, 4])"
   ]
  },
  {
   "cell_type": "code",
   "execution_count": 20,
   "id": "bd20a540-3f45-4ff3-9b76-437ec01c7ee3",
   "metadata": {},
   "outputs": [
    {
     "ename": "TypeError",
     "evalue": "can only concatenate list (not \"int\") to list",
     "output_type": "error",
     "traceback": [
      "\u001b[0;31m---------------------------------------------------------------------------\u001b[0m",
      "\u001b[0;31mTypeError\u001b[0m                                 Traceback (most recent call last)",
      "Cell \u001b[0;32mIn[20], line 2\u001b[0m\n\u001b[1;32m      1\u001b[0m v \u001b[38;5;241m=\u001b[39m \u001b[38;5;28;01mlambda\u001b[39;00m a :a\u001b[38;5;241m+\u001b[39m\u001b[38;5;241m2\u001b[39m                \u001b[38;5;66;03m# cannot be straight away used for list so we use map\u001b[39;00m\n\u001b[0;32m----> 2\u001b[0m \u001b[43mv\u001b[49m\u001b[43m(\u001b[49m\u001b[43ml\u001b[49m\u001b[43m)\u001b[49m\n",
      "Cell \u001b[0;32mIn[20], line 1\u001b[0m, in \u001b[0;36m<lambda>\u001b[0;34m(a)\u001b[0m\n\u001b[0;32m----> 1\u001b[0m v \u001b[38;5;241m=\u001b[39m \u001b[38;5;28;01mlambda\u001b[39;00m a :\u001b[43ma\u001b[49m\u001b[38;5;241;43m+\u001b[39;49m\u001b[38;5;241;43m2\u001b[39;49m                \u001b[38;5;66;03m# cannot be straight away used for list so we use map\u001b[39;00m\n\u001b[1;32m      2\u001b[0m v(l)\n",
      "\u001b[0;31mTypeError\u001b[0m: can only concatenate list (not \"int\") to list"
     ]
    }
   ],
   "source": [
    "v = lambda a :a+2                # cannot be straight away used for list so we use map\n",
    "v(l)"
   ]
  },
  {
   "cell_type": "code",
   "execution_count": 21,
   "id": "65dad366-63d0-4a2a-a8d9-bb9f5642f9b3",
   "metadata": {},
   "outputs": [
    {
     "data": {
      "text/plain": [
       "<map at 0x7f001043ef50>"
      ]
     },
     "execution_count": 21,
     "metadata": {},
     "output_type": "execute_result"
    }
   ],
   "source": [
    "map(lambda a : a+2,l)"
   ]
  },
  {
   "cell_type": "code",
   "execution_count": 22,
   "id": "7e4ec380-77bb-46d1-b1a9-4ee8002c140f",
   "metadata": {},
   "outputs": [
    {
     "data": {
      "text/plain": [
       "[7, 8, 10, 4]"
      ]
     },
     "execution_count": 22,
     "metadata": {},
     "output_type": "execute_result"
    }
   ],
   "source": [
    "list(map(lambda a : a+2,l))           # map takes two arguments one is function and other is iterables"
   ]
  },
  {
   "cell_type": "code",
   "execution_count": 23,
   "id": "7c807ddc-31dc-471a-ac92-ee8140adf210",
   "metadata": {},
   "outputs": [],
   "source": [
    "def test22(c):\n",
    "    return c+2\n"
   ]
  },
  {
   "cell_type": "code",
   "execution_count": 24,
   "id": "5c8d6f26-0c34-4a05-9486-13e27f2370f0",
   "metadata": {},
   "outputs": [
    {
     "data": {
      "text/plain": [
       "[7, 8, 10, 4]"
      ]
     },
     "execution_count": 24,
     "metadata": {},
     "output_type": "execute_result"
    }
   ],
   "source": [
    "list(map(test22,l))"
   ]
  },
  {
   "cell_type": "code",
   "execution_count": 25,
   "id": "f18cf8ae-33fd-4fe7-a0fb-c549fdecd72d",
   "metadata": {},
   "outputs": [
    {
     "data": {
      "text/plain": [
       "9"
      ]
     },
     "execution_count": 25,
     "metadata": {},
     "output_type": "execute_result"
    }
   ],
   "source": [
    "test22(7)"
   ]
  },
  {
   "cell_type": "code",
   "execution_count": 26,
   "id": "3ad5c34c-a340-4dca-83a1-33ca9cc8657f",
   "metadata": {},
   "outputs": [
    {
     "data": {
      "text/plain": [
       "[5, 5, 5]"
      ]
     },
     "execution_count": 26,
     "metadata": {},
     "output_type": "execute_result"
    }
   ],
   "source": [
    "l = ['haris','haris','skill']\n",
    "list(map(len,l))"
   ]
  },
  {
   "cell_type": "code",
   "execution_count": 27,
   "id": "12069e49-6afa-4540-baea-af426941f35c",
   "metadata": {},
   "outputs": [
    {
     "ename": "TypeError",
     "evalue": "len() takes exactly one argument (0 given)",
     "output_type": "error",
     "traceback": [
      "\u001b[0;31m---------------------------------------------------------------------------\u001b[0m",
      "\u001b[0;31mTypeError\u001b[0m                                 Traceback (most recent call last)",
      "Cell \u001b[0;32mIn[27], line 2\u001b[0m\n\u001b[1;32m      1\u001b[0m l \u001b[38;5;241m=\u001b[39m [\u001b[38;5;124m'\u001b[39m\u001b[38;5;124mharis\u001b[39m\u001b[38;5;124m'\u001b[39m,\u001b[38;5;124m'\u001b[39m\u001b[38;5;124mharis\u001b[39m\u001b[38;5;124m'\u001b[39m,\u001b[38;5;124m'\u001b[39m\u001b[38;5;124mskill\u001b[39m\u001b[38;5;124m'\u001b[39m]\n\u001b[0;32m----> 2\u001b[0m \u001b[38;5;28mlist\u001b[39m(\u001b[38;5;28mmap\u001b[39m(\u001b[38;5;28;43mlen\u001b[39;49m\u001b[43m(\u001b[49m\u001b[43m)\u001b[49m,l))\n",
      "\u001b[0;31mTypeError\u001b[0m: len() takes exactly one argument (0 given)"
     ]
    }
   ],
   "source": [
    "l = ['haris','haris','skill']\n",
    "list(map(len(),l))"
   ]
  },
  {
   "cell_type": "code",
   "execution_count": 28,
   "id": "7047fe37-7d7a-4220-a4f6-905961edff87",
   "metadata": {},
   "outputs": [],
   "source": [
    "def test34(l):\n",
    "    l1 = []\n",
    "    for i in l:\n",
    "        l1.append(len(i))\n",
    "    return l1"
   ]
  },
  {
   "cell_type": "code",
   "execution_count": 29,
   "id": "dbc32eb2-eb1b-46c4-89c9-2bdc8181c26c",
   "metadata": {},
   "outputs": [
    {
     "data": {
      "text/plain": [
       "[5, 5, 5]"
      ]
     },
     "execution_count": 29,
     "metadata": {},
     "output_type": "execute_result"
    }
   ],
   "source": [
    "test34(l)"
   ]
  },
  {
   "cell_type": "code",
   "execution_count": 30,
   "id": "1fd77bfc-30f8-4fa1-af2e-118bf55c976f",
   "metadata": {},
   "outputs": [
    {
     "data": {
      "text/plain": [
       "[5, 5, 5]"
      ]
     },
     "execution_count": 30,
     "metadata": {},
     "output_type": "execute_result"
    }
   ],
   "source": [
    "list(map(lambda c :len(c) ,l))"
   ]
  },
  {
   "cell_type": "code",
   "execution_count": 31,
   "id": "9b0260bc-5bf0-46e1-b366-1d4bc92938ac",
   "metadata": {},
   "outputs": [
    {
     "data": {
      "text/plain": [
       "['sirah', 'sirah', 'lliks']"
      ]
     },
     "execution_count": 31,
     "metadata": {},
     "output_type": "execute_result"
    }
   ],
   "source": [
    "list(map(lambda d : d[::-1],l))             # mapper also works on mutable objects"
   ]
  },
  {
   "cell_type": "code",
   "execution_count": 32,
   "id": "18646763-b7a5-46ae-84ab-cf7ddd221ea4",
   "metadata": {},
   "outputs": [],
   "source": [
    "l = [3,5,7,8,9]\n",
    "from functools import reduce\n"
   ]
  },
  {
   "cell_type": "code",
   "execution_count": 125,
   "id": "c18bf50d-a858-4565-aa25-01401d7d751a",
   "metadata": {},
   "outputs": [
    {
     "data": {
      "text/plain": [
       "7560"
      ]
     },
     "execution_count": 125,
     "metadata": {},
     "output_type": "execute_result"
    }
   ],
   "source": [
    "reduce(lambda a,b: a*b,l)"
   ]
  },
  {
   "cell_type": "code",
   "execution_count": 128,
   "id": "b1fc4e63-9059-4372-91d7-0301c63d22d6",
   "metadata": {},
   "outputs": [
    {
     "data": {
      "text/plain": [
       "9"
      ]
     },
     "execution_count": 128,
     "metadata": {},
     "output_type": "execute_result"
    }
   ],
   "source": [
    "reduce(lambda a,b:a if a>b else b,l)"
   ]
  },
  {
   "cell_type": "code",
   "execution_count": 129,
   "id": "38ae02ff-0e71-410e-9733-f593ac5141c9",
   "metadata": {},
   "outputs": [
    {
     "data": {
      "text/plain": [
       "3"
      ]
     },
     "execution_count": 129,
     "metadata": {},
     "output_type": "execute_result"
    }
   ],
   "source": [
    "reduce(lambda a,b:a if a<b else b,l)"
   ]
  },
  {
   "cell_type": "code",
   "execution_count": 132,
   "id": "31f4a667-3dca-4ee1-968a-6b2a1ff2cc75",
   "metadata": {},
   "outputs": [
    {
     "data": {
      "text/plain": [
       "720"
      ]
     },
     "execution_count": 132,
     "metadata": {},
     "output_type": "execute_result"
    }
   ],
   "source": [
    "n = 6\n",
    "fact = reduce(lambda a,b: a*b,range(1,n+1))\n",
    "fact"
   ]
  },
  {
   "cell_type": "code",
   "execution_count": 136,
   "id": "f2a6a88e-9578-47e0-95b5-0be8c513dd9f",
   "metadata": {},
   "outputs": [
    {
     "ename": "SyntaxError",
     "evalue": "expected 'else' after 'if' expression (3378683632.py, line 1)",
     "output_type": "error",
     "traceback": [
      "\u001b[0;36m  Cell \u001b[0;32mIn[136], line 1\u001b[0;36m\u001b[0m\n\u001b[0;31m    reduce(lambda a,b: a*b  if a%2==0 and b%2==0,l)\u001b[0m\n\u001b[0m                       ^\u001b[0m\n\u001b[0;31mSyntaxError\u001b[0m\u001b[0;31m:\u001b[0m expected 'else' after 'if' expression\n"
     ]
    }
   ],
   "source": [
    "reduce(lambda a,b: a*b  if a%2==0 and b%2==0,l)\n"
   ]
  },
  {
   "cell_type": "code",
   "execution_count": 140,
   "id": "87069c0d-fb17-4547-9a40-22aafb36a121",
   "metadata": {},
   "outputs": [
    {
     "data": {
      "text/plain": [
       "8"
      ]
     },
     "execution_count": 140,
     "metadata": {},
     "output_type": "execute_result"
    }
   ],
   "source": [
    "reduce(lambda a,b: a*b, [i for i in l if i%2==0])"
   ]
  },
  {
   "cell_type": "code",
   "execution_count": 142,
   "id": "1432ea1e-aae5-4622-aca7-878a18bddc57",
   "metadata": {},
   "outputs": [
    {
     "data": {
      "text/plain": [
       "[8]"
      ]
     },
     "execution_count": 142,
     "metadata": {},
     "output_type": "execute_result"
    }
   ],
   "source": [
    "l = [3,5,7,8,9,1]\n",
    "list(filter(lambda a: a%2==0,l))"
   ]
  },
  {
   "cell_type": "code",
   "execution_count": 143,
   "id": "1888f039-eaa9-43c0-a980-dcab145d5ff5",
   "metadata": {},
   "outputs": [
    {
     "data": {
      "text/plain": [
       "[3, 5, 7, 9, 1]"
      ]
     },
     "execution_count": 143,
     "metadata": {},
     "output_type": "execute_result"
    }
   ],
   "source": [
    "list(filter(lambda a: a%2!=0,l))"
   ]
  },
  {
   "cell_type": "code",
   "execution_count": 147,
   "id": "e41149e0-273d-4a1f-8cfa-b05a253ddb84",
   "metadata": {},
   "outputs": [
    {
     "data": {
      "text/plain": [
       "['a', 'r', 'i', 's', 'a', 'z', 'i', 'r']"
      ]
     },
     "execution_count": 147,
     "metadata": {},
     "output_type": "execute_result"
    }
   ],
   "source": [
    "s = \"Haris Nazir\"\n",
    "list(filter(lambda a: a.islower(),s))"
   ]
  },
  {
   "cell_type": "code",
   "execution_count": 150,
   "id": "f5d85632-1052-4c54-bc0b-fc96b9581caf",
   "metadata": {},
   "outputs": [
    {
     "data": {
      "text/plain": [
       "['why', 'is']"
      ]
     },
     "execution_count": 150,
     "metadata": {},
     "output_type": "execute_result"
    }
   ],
   "source": [
    "l = ['haris','nazir','why','is']\n",
    "list(filter(lambda a: len(a)<=4,l))"
   ]
  },
  {
   "cell_type": "code",
   "execution_count": 152,
   "id": "9c31a922-75c5-4d3a-9381-73f0b68d20a9",
   "metadata": {},
   "outputs": [
    {
     "data": {
      "text/plain": [
       "['nazir']"
      ]
     },
     "execution_count": 152,
     "metadata": {},
     "output_type": "execute_result"
    }
   ],
   "source": [
    "l = ['haris','nazir','why','is']\n",
    "list(filter(lambda a: a[0] =='n',l))"
   ]
  },
  {
   "cell_type": "code",
   "execution_count": 157,
   "id": "5cc2ef11-6c9b-486a-b5c9-bd275caab324",
   "metadata": {},
   "outputs": [
    {
     "data": {
      "text/plain": [
       "2"
      ]
     },
     "execution_count": 157,
     "metadata": {},
     "output_type": "execute_result"
    }
   ],
   "source": [
    "def fib(n):\n",
    "    if n<0:\n",
    "        print(\"invalid input\")\n",
    "    elif n==0:\n",
    "        return 0\n",
    "    elif n==1:\n",
    "        return 1\n",
    "    else:\n",
    "        return fib(n-2)+fib(n-1)\n",
    "fib(3)"
   ]
  },
  {
   "cell_type": "code",
   "execution_count": 156,
   "id": "cca64257-9210-4979-9622-9e9f3a48e150",
   "metadata": {},
   "outputs": [
    {
     "data": {
      "text/plain": [
       "2"
      ]
     },
     "execution_count": 156,
     "metadata": {},
     "output_type": "execute_result"
    }
   ],
   "source": [
    "def fib1(n):\n",
    "    if n<=1:\n",
    "        return n\n",
    "    else:\n",
    "        return fib1(n-1) + fib1(n-2)\n",
    "fib1(3)"
   ]
  },
  {
   "cell_type": "code",
   "execution_count": 158,
   "id": "c5a1e303-d8a3-4787-af83-dc15c5a6e551",
   "metadata": {},
   "outputs": [],
   "source": [
    "def sum1(n):\n",
    "    if n==1:\n",
    "        return 1\n",
    "    else:\n",
    "        return n+sum1(n-1)"
   ]
  },
  {
   "cell_type": "code",
   "execution_count": 160,
   "id": "86d8053a-6b7d-44ed-b168-510c1a2b847b",
   "metadata": {},
   "outputs": [
    {
     "data": {
      "text/plain": [
       "15"
      ]
     },
     "execution_count": 160,
     "metadata": {},
     "output_type": "execute_result"
    }
   ],
   "source": [
    "sum1(5)"
   ]
  },
  {
   "cell_type": "code",
   "execution_count": null,
   "id": "71d5281d-433b-4915-84f1-f66f7fe3abf3",
   "metadata": {},
   "outputs": [],
   "source": []
  }
 ],
 "metadata": {
  "kernelspec": {
   "display_name": "Python 3 (ipykernel)",
   "language": "python",
   "name": "python3"
  },
  "language_info": {
   "codemirror_mode": {
    "name": "ipython",
    "version": 3
   },
   "file_extension": ".py",
   "mimetype": "text/x-python",
   "name": "python",
   "nbconvert_exporter": "python",
   "pygments_lexer": "ipython3",
   "version": "3.10.8"
  }
 },
 "nbformat": 4,
 "nbformat_minor": 5
}
