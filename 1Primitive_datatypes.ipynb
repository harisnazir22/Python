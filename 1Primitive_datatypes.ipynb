{
 "cells": [
  {
   "cell_type": "markdown",
   "id": "c5abcecd-901f-4e99-b0fd-eda78f49b163",
   "metadata": {},
   "source": [
    "# variables"
   ]
  },
  {
   "cell_type": "code",
   "execution_count": 2,
   "id": "5a4275f6-b70f-477c-8747-31a7e35f1f47",
   "metadata": {},
   "outputs": [
    {
     "data": {
      "text/plain": [
       "10"
      ]
     },
     "execution_count": 2,
     "metadata": {},
     "output_type": "execute_result"
    }
   ],
   "source": [
    "a = 10  # integer \n",
    "a"
   ]
  },
  {
   "cell_type": "code",
   "execution_count": 3,
   "id": "52350064-5f4e-427d-8e7a-a0b59f890a1e",
   "metadata": {},
   "outputs": [
    {
     "data": {
      "text/plain": [
       "'haris'"
      ]
     },
     "execution_count": 3,
     "metadata": {},
     "output_type": "execute_result"
    }
   ],
   "source": [
    "b = 'haris'  # string or b = \"haris\"\n",
    "b"
   ]
  },
  {
   "cell_type": "code",
   "execution_count": 4,
   "id": "db97999a-1b31-4c20-a45f-a27367626a56",
   "metadata": {},
   "outputs": [
    {
     "data": {
      "text/plain": [
       "4.2"
      ]
     },
     "execution_count": 4,
     "metadata": {},
     "output_type": "execute_result"
    }
   ],
   "source": [
    "c = 4.2  # floating point no.\n",
    "c"
   ]
  },
  {
   "cell_type": "code",
   "execution_count": 5,
   "id": "0e7501a2-b803-4426-9cdc-cd2b69376a5d",
   "metadata": {},
   "outputs": [
    {
     "data": {
      "text/plain": [
       "float"
      ]
     },
     "execution_count": 5,
     "metadata": {},
     "output_type": "execute_result"
    }
   ],
   "source": [
    "type(c)\n"
   ]
  },
  {
   "cell_type": "code",
   "execution_count": 6,
   "id": "b1105ef7-6f6b-441f-b2b2-3849601ed7b2",
   "metadata": {},
   "outputs": [
    {
     "data": {
      "text/plain": [
       "str"
      ]
     },
     "execution_count": 6,
     "metadata": {},
     "output_type": "execute_result"
    }
   ],
   "source": [
    "type(b)"
   ]
  },
  {
   "cell_type": "code",
   "execution_count": 7,
   "id": "ed0420b5-0fd9-4001-baac-b9a5b34a9d34",
   "metadata": {},
   "outputs": [],
   "source": [
    "# python is self typed language"
   ]
  },
  {
   "cell_type": "code",
   "execution_count": 8,
   "id": "1fe6bd46-0ef4-4b21-93c2-fb3c4844e682",
   "metadata": {},
   "outputs": [
    {
     "data": {
      "text/plain": [
       "bool"
      ]
     },
     "execution_count": 8,
     "metadata": {},
     "output_type": "execute_result"
    }
   ],
   "source": [
    "d = True # \"T\" capital , Boolean variable\n",
    "type(d)"
   ]
  },
  {
   "cell_type": "code",
   "execution_count": 9,
   "id": "9a62ca5f-efff-4f1d-9a59-7a948a6e3f6f",
   "metadata": {},
   "outputs": [
    {
     "data": {
      "text/plain": [
       "complex"
      ]
     },
     "execution_count": 9,
     "metadata": {},
     "output_type": "execute_result"
    }
   ],
   "source": [
    "h = 3 + 4j    # j represents ioata  , Complex no.\n",
    "type(h)"
   ]
  },
  {
   "cell_type": "code",
   "execution_count": null,
   "id": "83375021-0e92-4bdd-a9a1-105fe2485387",
   "metadata": {},
   "outputs": [],
   "source": []
  },
  {
   "cell_type": "code",
   "execution_count": 10,
   "id": "25d1438d-09e6-42a3-86e9-07f3d4038ad0",
   "metadata": {},
   "outputs": [
    {
     "data": {
      "text/plain": [
       "3.0"
      ]
     },
     "execution_count": 10,
     "metadata": {},
     "output_type": "execute_result"
    }
   ],
   "source": [
    "h.real"
   ]
  },
  {
   "cell_type": "code",
   "execution_count": 11,
   "id": "6c302a32-c9e3-4b7f-be90-fe174c387597",
   "metadata": {},
   "outputs": [
    {
     "data": {
      "text/plain": [
       "4.0"
      ]
     },
     "execution_count": 11,
     "metadata": {},
     "output_type": "execute_result"
    }
   ],
   "source": [
    "h.imag"
   ]
  },
  {
   "cell_type": "code",
   "execution_count": 12,
   "id": "9367dec8-75a2-4e01-8ee7-0fcfd0e4bb2c",
   "metadata": {},
   "outputs": [
    {
     "data": {
      "text/plain": [
       "0.5769230769230769"
      ]
     },
     "execution_count": 12,
     "metadata": {},
     "output_type": "execute_result"
    }
   ],
   "source": [
    "a1 = 45\n",
    "b1 = 78\n",
    "a1 + b1\n",
    "a1 * b1\n",
    "a1 - b1\n",
    "a1 / b1"
   ]
  },
  {
   "cell_type": "code",
   "execution_count": 13,
   "id": "86830dee-31b0-4419-b289-5cd2d169f1ad",
   "metadata": {},
   "outputs": [
    {
     "data": {
      "text/plain": [
       "123"
      ]
     },
     "execution_count": 13,
     "metadata": {},
     "output_type": "execute_result"
    }
   ],
   "source": [
    "a1 + b1"
   ]
  },
  {
   "cell_type": "code",
   "execution_count": 14,
   "id": "36d7760c-60b5-47b2-ae96-aa590be81c58",
   "metadata": {},
   "outputs": [
    {
     "data": {
      "text/plain": [
       "3510"
      ]
     },
     "execution_count": 14,
     "metadata": {},
     "output_type": "execute_result"
    }
   ],
   "source": [
    "a1 * b1"
   ]
  },
  {
   "cell_type": "code",
   "execution_count": 15,
   "id": "c5028603-eee2-42e5-a114-30320780083b",
   "metadata": {},
   "outputs": [
    {
     "data": {
      "text/plain": [
       "-33"
      ]
     },
     "execution_count": 15,
     "metadata": {},
     "output_type": "execute_result"
    }
   ],
   "source": [
    "a1 - b1"
   ]
  },
  {
   "cell_type": "code",
   "execution_count": 16,
   "id": "6170e737-f78c-4b23-b2ae-77f8c3bb108f",
   "metadata": {},
   "outputs": [
    {
     "data": {
      "text/plain": [
       "0.5769230769230769"
      ]
     },
     "execution_count": 16,
     "metadata": {},
     "output_type": "execute_result"
    }
   ],
   "source": [
    "a1 / b1"
   ]
  },
  {
   "cell_type": "code",
   "execution_count": 17,
   "id": "bc0bb299-2357-48ef-9827-6d0bcb4a6d05",
   "metadata": {},
   "outputs": [],
   "source": [
    "a1 , b1 , c1 = 23 , 34 , 'haris'\n"
   ]
  },
  {
   "cell_type": "code",
   "execution_count": 18,
   "id": "ce153027-dfff-459e-ba32-97f50b064a0f",
   "metadata": {},
   "outputs": [
    {
     "name": "stderr",
     "output_type": "stream",
     "text": [
      "UsageError: Line magic function `%g` not found.\n"
     ]
    }
   ],
   "source": [
    "# Rules for naming variables\n",
    "# variable name should not start with a special character\n",
    "%g = 2"
   ]
  },
  {
   "cell_type": "code",
   "execution_count": 19,
   "id": "a1714928-9c8e-449e-b90c-a931f06489ef",
   "metadata": {},
   "outputs": [
    {
     "ename": "SyntaxError",
     "evalue": "invalid decimal literal (648393601.py, line 1)",
     "output_type": "error",
     "traceback": [
      "\u001b[0;36m  Cell \u001b[0;32mIn[19], line 1\u001b[0;36m\u001b[0m\n\u001b[0;31m    2n = 8\u001b[0m\n\u001b[0m    ^\u001b[0m\n\u001b[0;31mSyntaxError\u001b[0m\u001b[0;31m:\u001b[0m invalid decimal literal\n"
     ]
    }
   ],
   "source": [
    "2n = 8\n",
    "2n"
   ]
  },
  {
   "cell_type": "code",
   "execution_count": 20,
   "id": "4f19a227-d9ea-45fa-9db5-4c8ed67aaace",
   "metadata": {},
   "outputs": [
    {
     "data": {
      "text/plain": [
       "8"
      ]
     },
     "execution_count": 20,
     "metadata": {},
     "output_type": "execute_result"
    }
   ],
   "source": [
    "n2 = 8\n",
    "n2"
   ]
  },
  {
   "cell_type": "code",
   "execution_count": 21,
   "id": "0985630d-4c3d-43ab-8c27-3a30bc757368",
   "metadata": {},
   "outputs": [],
   "source": [
    "_y2 = 7   # underscore is valid at the begining of the variable"
   ]
  },
  {
   "cell_type": "code",
   "execution_count": 22,
   "id": "cce8018e-e3ea-421f-897c-17906e762542",
   "metadata": {},
   "outputs": [
    {
     "ename": "SyntaxError",
     "evalue": "cannot assign to True (3084564292.py, line 1)",
     "output_type": "error",
     "traceback": [
      "\u001b[0;36m  Cell \u001b[0;32mIn[22], line 1\u001b[0;36m\u001b[0m\n\u001b[0;31m    True = 78  # reserved keywords cannot be used as the variable name\u001b[0m\n\u001b[0m    ^\u001b[0m\n\u001b[0;31mSyntaxError\u001b[0m\u001b[0;31m:\u001b[0m cannot assign to True\n"
     ]
    }
   ],
   "source": [
    "True = 78  # reserved keywords cannot be used as the variable name"
   ]
  },
  {
   "cell_type": "code",
   "execution_count": 23,
   "id": "2855a7ae-5000-4187-8660-893a9fa27b61",
   "metadata": {},
   "outputs": [
    {
     "data": {
      "text/plain": [
       "45"
      ]
     },
     "execution_count": 23,
     "metadata": {},
     "output_type": "execute_result"
    }
   ],
   "source": [
    "int = 45    # not recommended creates problem while type casting to integer\n",
    "int"
   ]
  },
  {
   "cell_type": "code",
   "execution_count": 24,
   "id": "165562e9-f50c-4764-b6ce-e7c6f877c656",
   "metadata": {},
   "outputs": [
    {
     "data": {
      "text/plain": [
       "1"
      ]
     },
     "execution_count": 24,
     "metadata": {},
     "output_type": "execute_result"
    }
   ],
   "source": [
    "m1 = True     # as internally True is treated as 1 and False as 0 \n",
    "m2 = False\n",
    "m1 - m2"
   ]
  },
  {
   "cell_type": "code",
   "execution_count": 25,
   "id": "67eb92b5-f39d-4670-87d1-b399444a9771",
   "metadata": {},
   "outputs": [
    {
     "data": {
      "text/plain": [
       "-1"
      ]
     },
     "execution_count": 25,
     "metadata": {},
     "output_type": "execute_result"
    }
   ],
   "source": [
    "m2 - m1"
   ]
  },
  {
   "cell_type": "code",
   "execution_count": 26,
   "id": "4aa51960-2970-47d2-b1e2-ebf3dc9b13fe",
   "metadata": {},
   "outputs": [
    {
     "ename": "ZeroDivisionError",
     "evalue": "division by zero",
     "output_type": "error",
     "traceback": [
      "\u001b[0;31m---------------------------------------------------------------------------\u001b[0m",
      "\u001b[0;31mZeroDivisionError\u001b[0m                         Traceback (most recent call last)",
      "Cell \u001b[0;32mIn[26], line 1\u001b[0m\n\u001b[0;32m----> 1\u001b[0m \u001b[43mm1\u001b[49m\u001b[43m \u001b[49m\u001b[38;5;241;43m/\u001b[39;49m\u001b[43m \u001b[49m\u001b[43mm2\u001b[49m\n",
      "\u001b[0;31mZeroDivisionError\u001b[0m: division by zero"
     ]
    }
   ],
   "source": [
    "m1 / m2"
   ]
  },
  {
   "cell_type": "code",
   "execution_count": 27,
   "id": "d559fa8b-680b-4d3b-9b14-27de3d241b52",
   "metadata": {},
   "outputs": [
    {
     "data": {
      "text/plain": [
       "0.0"
      ]
     },
     "execution_count": 27,
     "metadata": {},
     "output_type": "execute_result"
    }
   ],
   "source": [
    "m2 / m1"
   ]
  },
  {
   "cell_type": "code",
   "execution_count": 28,
   "id": "01172171-c481-4843-8d4a-50b6feb6bd2f",
   "metadata": {},
   "outputs": [
    {
     "data": {
      "text/plain": [
       "float"
      ]
     },
     "execution_count": 28,
     "metadata": {},
     "output_type": "execute_result"
    }
   ],
   "source": [
    "type(m2/m1)"
   ]
  },
  {
   "cell_type": "code",
   "execution_count": 29,
   "id": "6d60bc93-aee7-4960-84a5-8ca02539755b",
   "metadata": {},
   "outputs": [
    {
     "data": {
      "text/plain": [
       "'my name is haris'"
      ]
     },
     "execution_count": 29,
     "metadata": {},
     "output_type": "execute_result"
    }
   ],
   "source": [
    "s1 = 'my name is haris'\n",
    "s1"
   ]
  },
  {
   "cell_type": "code",
   "execution_count": 30,
   "id": "510b6782-7ffc-4296-9194-f4619c2ad18c",
   "metadata": {},
   "outputs": [
    {
     "ename": "SyntaxError",
     "evalue": "unterminated string literal (detected at line 1) (1525217424.py, line 1)",
     "output_type": "error",
     "traceback": [
      "\u001b[0;36m  Cell \u001b[0;32mIn[30], line 1\u001b[0;36m\u001b[0m\n\u001b[0;31m    s2 = 'i am from pulwama's sirnoo'\u001b[0m\n\u001b[0m                                    ^\u001b[0m\n\u001b[0;31mSyntaxError\u001b[0m\u001b[0;31m:\u001b[0m unterminated string literal (detected at line 1)\n"
     ]
    }
   ],
   "source": [
    "s2 = 'i am from pulwama's sirnoo'\n",
    "s2"
   ]
  },
  {
   "cell_type": "code",
   "execution_count": 31,
   "id": "41e0efe0-57e9-4ac8-aa3d-6ce5a44bb07f",
   "metadata": {},
   "outputs": [
    {
     "data": {
      "text/plain": [
       "\"i am from pulwama's sirnoo\""
      ]
     },
     "execution_count": 31,
     "metadata": {},
     "output_type": "execute_result"
    }
   ],
   "source": [
    "s2 = \"i am from pulwama's sirnoo\"\n",
    "s2"
   ]
  },
  {
   "cell_type": "code",
   "execution_count": 32,
   "id": "c7154f55-2060-435b-bffc-36d9a4487c79",
   "metadata": {},
   "outputs": [
    {
     "data": {
      "text/plain": [
       "'i am from pulwama\"s sirnoo'"
      ]
     },
     "execution_count": 32,
     "metadata": {},
     "output_type": "execute_result"
    }
   ],
   "source": [
    "s2 = 'i am from pulwama\"s sirnoo'\n",
    "s2"
   ]
  },
  {
   "cell_type": "code",
   "execution_count": 33,
   "id": "057f9afe-895f-471c-ae50-d1221e09fd87",
   "metadata": {},
   "outputs": [
    {
     "data": {
      "text/plain": [
       "'my name is harisi am from pulwama\"s sirnoo'"
      ]
     },
     "execution_count": 33,
     "metadata": {},
     "output_type": "execute_result"
    }
   ],
   "source": [
    "s1 + s2"
   ]
  },
  {
   "cell_type": "code",
   "execution_count": 34,
   "id": "0b4f195e-2723-4728-99b7-5c13d58576da",
   "metadata": {},
   "outputs": [
    {
     "data": {
      "text/plain": [
       "' This is a multiline comment\\n    and learning python is fun '"
      ]
     },
     "execution_count": 34,
     "metadata": {},
     "output_type": "execute_result"
    }
   ],
   "source": [
    "# This is a single line comment\n",
    "''' This is a multiline comment\n",
    "    and learning python is fun '''"
   ]
  },
  {
   "cell_type": "code",
   "execution_count": 35,
   "id": "b033121f-57b0-4163-8974-ceeda40dd890",
   "metadata": {},
   "outputs": [],
   "source": [
    "# This is a single line comment\n",
    "''' This is a multiline comment\n",
    "    and learning python is fun '''\n",
    "u1 = True"
   ]
  },
  {
   "cell_type": "code",
   "execution_count": 36,
   "id": "175778cd-6180-4843-9641-5eb117685430",
   "metadata": {},
   "outputs": [
    {
     "ename": "TypeError",
     "evalue": "can only concatenate str (not \"int\") to str",
     "output_type": "error",
     "traceback": [
      "\u001b[0;31m---------------------------------------------------------------------------\u001b[0m",
      "\u001b[0;31mTypeError\u001b[0m                                 Traceback (most recent call last)",
      "Cell \u001b[0;32mIn[36], line 3\u001b[0m\n\u001b[1;32m      1\u001b[0m s1 \u001b[38;5;241m=\u001b[39m \u001b[38;5;124m'\u001b[39m\u001b[38;5;124mharis\u001b[39m\u001b[38;5;124m'\u001b[39m\n\u001b[1;32m      2\u001b[0m a \u001b[38;5;241m=\u001b[39m \u001b[38;5;241m67\u001b[39m\n\u001b[0;32m----> 3\u001b[0m \u001b[43ms1\u001b[49m\u001b[43m \u001b[49m\u001b[38;5;241;43m+\u001b[39;49m\u001b[43m \u001b[49m\u001b[43ma\u001b[49m\n",
      "\u001b[0;31mTypeError\u001b[0m: can only concatenate str (not \"int\") to str"
     ]
    }
   ],
   "source": [
    "s1 = 'haris'\n",
    "a = 67\n",
    "s1 + a"
   ]
  },
  {
   "cell_type": "code",
   "execution_count": 50,
   "id": "7295d6c7-eb26-4cf6-a148-088665cff491",
   "metadata": {},
   "outputs": [
    {
     "ename": "TypeError",
     "evalue": "can only concatenate str (not \"int\") to str",
     "output_type": "error",
     "traceback": [
      "\u001b[0;31m---------------------------------------------------------------------------\u001b[0m",
      "\u001b[0;31mTypeError\u001b[0m                                 Traceback (most recent call last)",
      "Cell \u001b[0;32mIn[50], line 4\u001b[0m\n\u001b[1;32m      2\u001b[0m a \u001b[38;5;241m=\u001b[39m \u001b[38;5;241m67\u001b[39m\n\u001b[1;32m      3\u001b[0m \u001b[38;5;28mstr\u001b[39m(a)  \u001b[38;5;66;03m# or a = '67'\u001b[39;00m\n\u001b[0;32m----> 4\u001b[0m \u001b[43ms1\u001b[49m\u001b[43m \u001b[49m\u001b[38;5;241;43m+\u001b[39;49m\u001b[43m \u001b[49m\u001b[43ma\u001b[49m\n",
      "\u001b[0;31mTypeError\u001b[0m: can only concatenate str (not \"int\") to str"
     ]
    }
   ],
   "source": [
    "s1 = 'haris'\n",
    "a = 67\n",
    "str(a)  # or a = '67'\n",
    "s1 + a"
   ]
  },
  {
   "cell_type": "code",
   "execution_count": 51,
   "id": "7d9d76da-3830-4219-ae74-a80149b45e58",
   "metadata": {},
   "outputs": [
    {
     "data": {
      "text/plain": [
       "'haris    nazir'"
      ]
     },
     "execution_count": 51,
     "metadata": {},
     "output_type": "execute_result"
    }
   ],
   "source": [
    "s2 = '    nazir'   # spaces can be included\n",
    "s1 + s2"
   ]
  },
  {
   "cell_type": "code",
   "execution_count": 52,
   "id": "01e9b52c-9e40-42ae-b72a-24bfa1db51aa",
   "metadata": {},
   "outputs": [
    {
     "data": {
      "text/plain": [
       "'haris  67'"
      ]
     },
     "execution_count": 52,
     "metadata": {},
     "output_type": "execute_result"
    }
   ],
   "source": [
    "s1 + \"  \" + str(a)"
   ]
  },
  {
   "cell_type": "code",
   "execution_count": 53,
   "id": "465feda8-8260-41cd-b402-65866c11339c",
   "metadata": {},
   "outputs": [],
   "source": [
    "b = str(a)\n"
   ]
  },
  {
   "cell_type": "code",
   "execution_count": 54,
   "id": "a4c62a93-a0b7-467c-a1c4-6b791f9476ab",
   "metadata": {},
   "outputs": [
    {
     "ename": "TypeError",
     "evalue": "'int' object is not callable",
     "output_type": "error",
     "traceback": [
      "\u001b[0;31m---------------------------------------------------------------------------\u001b[0m",
      "\u001b[0;31mTypeError\u001b[0m                                 Traceback (most recent call last)",
      "Cell \u001b[0;32mIn[54], line 1\u001b[0m\n\u001b[0;32m----> 1\u001b[0m \u001b[38;5;28;43mint\u001b[39;49m\u001b[43m(\u001b[49m\u001b[43mb\u001b[49m\u001b[43m)\u001b[49m\n",
      "\u001b[0;31mTypeError\u001b[0m: 'int' object is not callable"
     ]
    }
   ],
   "source": [
    "int(b)\n"
   ]
  },
  {
   "cell_type": "code",
   "execution_count": 55,
   "id": "f3e6f3f7-c0e5-45fe-aa67-1235acafbb06",
   "metadata": {},
   "outputs": [],
   "source": [
    "# numeric value in a sting can be convertied into integer rest not"
   ]
  },
  {
   "cell_type": "markdown",
   "id": "f0f5d34b-d8a5-4b4f-96ad-c067996f1fb2",
   "metadata": {},
   "source": [
    "# Taking an input\n"
   ]
  },
  {
   "cell_type": "code",
   "execution_count": 57,
   "id": "e7e62390-64b0-4157-b9f4-9b41ea463808",
   "metadata": {},
   "outputs": [
    {
     "name": "stdin",
     "output_type": "stream",
     "text": [
      " j\n"
     ]
    }
   ],
   "source": [
    "b = input()   # takes string as an imput"
   ]
  },
  {
   "cell_type": "code",
   "execution_count": 58,
   "id": "a1759846-f8b3-4c1a-b112-61f474203f34",
   "metadata": {},
   "outputs": [
    {
     "data": {
      "text/plain": [
       "str"
      ]
     },
     "execution_count": 58,
     "metadata": {},
     "output_type": "execute_result"
    }
   ],
   "source": [
    "type(b)"
   ]
  },
  {
   "cell_type": "code",
   "execution_count": 59,
   "id": "46a9c624-0b09-4d2e-ab3d-7dc2ea425100",
   "metadata": {},
   "outputs": [
    {
     "ename": "TypeError",
     "evalue": "'int' object is not callable",
     "output_type": "error",
     "traceback": [
      "\u001b[0;31m---------------------------------------------------------------------------\u001b[0m",
      "\u001b[0;31mTypeError\u001b[0m                                 Traceback (most recent call last)",
      "Cell \u001b[0;32mIn[59], line 1\u001b[0m\n\u001b[0;32m----> 1\u001b[0m \u001b[38;5;28mtype\u001b[39m(\u001b[38;5;28;43mint\u001b[39;49m\u001b[43m(\u001b[49m\u001b[43mb\u001b[49m\u001b[43m)\u001b[49m)\n",
      "\u001b[0;31mTypeError\u001b[0m: 'int' object is not callable"
     ]
    }
   ],
   "source": [
    "type(int(b))"
   ]
  },
  {
   "cell_type": "code",
   "execution_count": 60,
   "id": "01e965b6-fff0-4ab9-80ae-a6caa090c260",
   "metadata": {},
   "outputs": [
    {
     "data": {
      "text/plain": [
       "'j'"
      ]
     },
     "execution_count": 60,
     "metadata": {},
     "output_type": "execute_result"
    }
   ],
   "source": [
    "b"
   ]
  },
  {
   "cell_type": "code",
   "execution_count": 61,
   "id": "7cd5c969-9476-48e9-9730-1997246b4763",
   "metadata": {},
   "outputs": [
    {
     "name": "stdin",
     "output_type": "stream",
     "text": [
      " 78\n"
     ]
    }
   ],
   "source": [
    "b = float(input())"
   ]
  },
  {
   "cell_type": "code",
   "execution_count": 62,
   "id": "4d50151f-a608-4a5b-955b-ea34efac2146",
   "metadata": {},
   "outputs": [
    {
     "data": {
      "text/plain": [
       "float"
      ]
     },
     "execution_count": 62,
     "metadata": {},
     "output_type": "execute_result"
    }
   ],
   "source": [
    "type(b)"
   ]
  },
  {
   "cell_type": "code",
   "execution_count": 63,
   "id": "cc7725f2-49b5-4ca1-b53d-9ad61bf8395c",
   "metadata": {},
   "outputs": [
    {
     "name": "stdin",
     "output_type": "stream",
     "text": [
      " 8\n"
     ]
    }
   ],
   "source": [
    "r = bool(input())   # cannot give 0 or 1 as input\n"
   ]
  },
  {
   "cell_type": "code",
   "execution_count": 64,
   "id": "7474ed4e-0c96-4843-9aa7-dfd335c7de6c",
   "metadata": {},
   "outputs": [
    {
     "data": {
      "text/plain": [
       "bool"
      ]
     },
     "execution_count": 64,
     "metadata": {},
     "output_type": "execute_result"
    }
   ],
   "source": [
    "type(r)"
   ]
  },
  {
   "cell_type": "code",
   "execution_count": 65,
   "id": "127a59f5-20ed-4cb8-b3bc-c7613d72e79d",
   "metadata": {},
   "outputs": [
    {
     "data": {
      "text/plain": [
       "True"
      ]
     },
     "execution_count": 65,
     "metadata": {},
     "output_type": "execute_result"
    }
   ],
   "source": [
    "r"
   ]
  },
  {
   "cell_type": "markdown",
   "id": "9a920f20-a6a1-49a6-9c2d-e375e15108cd",
   "metadata": {},
   "source": [
    "String operations  , Indexing and Slicing"
   ]
  },
  {
   "cell_type": "code",
   "execution_count": 66,
   "id": "4e9bccb1-e658-4cdf-8de3-e65c3fcebf0c",
   "metadata": {},
   "outputs": [
    {
     "data": {
      "text/plain": [
       "'h'"
      ]
     },
     "execution_count": 66,
     "metadata": {},
     "output_type": "execute_result"
    }
   ],
   "source": [
    "s = 'haris'\n",
    "s[0]               # forward indexing "
   ]
  },
  {
   "cell_type": "code",
   "execution_count": 67,
   "id": "5722ae50-9891-4967-b580-4ea6329d8de1",
   "metadata": {},
   "outputs": [
    {
     "data": {
      "text/plain": [
       "'i'"
      ]
     },
     "execution_count": 67,
     "metadata": {},
     "output_type": "execute_result"
    }
   ],
   "source": [
    "s[-2]             # backward indexing"
   ]
  },
  {
   "cell_type": "code",
   "execution_count": 68,
   "id": "591b3166-77d6-4ef5-be71-54d8714cc748",
   "metadata": {},
   "outputs": [
    {
     "data": {
      "text/plain": [
       "'ar'"
      ]
     },
     "execution_count": 68,
     "metadata": {},
     "output_type": "execute_result"
    }
   ],
   "source": [
    "s[1:3]            # data is not extracted from upper bound"
   ]
  },
  {
   "cell_type": "code",
   "execution_count": 69,
   "id": "84fa78bc-fa94-49b3-aa19-1d5e35459fc3",
   "metadata": {},
   "outputs": [
    {
     "data": {
      "text/plain": [
       "'haris'"
      ]
     },
     "execution_count": 69,
     "metadata": {},
     "output_type": "execute_result"
    }
   ],
   "source": [
    "s[:]"
   ]
  },
  {
   "cell_type": "code",
   "execution_count": 70,
   "id": "3710d743-d2c0-4244-882b-94b22911d94e",
   "metadata": {},
   "outputs": [
    {
     "data": {
      "text/plain": [
       "'is'"
      ]
     },
     "execution_count": 70,
     "metadata": {},
     "output_type": "execute_result"
    }
   ],
   "source": [
    "s[3:]"
   ]
  },
  {
   "cell_type": "code",
   "execution_count": 71,
   "id": "a712d6c7-7f34-4b00-80b9-4575b83c8ed1",
   "metadata": {},
   "outputs": [
    {
     "data": {
      "text/plain": [
       "'har'"
      ]
     },
     "execution_count": 71,
     "metadata": {},
     "output_type": "execute_result"
    }
   ],
   "source": [
    "s[:3]"
   ]
  },
  {
   "cell_type": "code",
   "execution_count": 72,
   "id": "557b2321-b278-45d7-b4dc-80b7152e2abe",
   "metadata": {},
   "outputs": [
    {
     "data": {
      "text/plain": [
       "'ri'"
      ]
     },
     "execution_count": 72,
     "metadata": {},
     "output_type": "execute_result"
    }
   ],
   "source": [
    "s[-3:-1]"
   ]
  },
  {
   "cell_type": "code",
   "execution_count": 73,
   "id": "3f506070-0959-4ba4-b584-8be968f70ca2",
   "metadata": {},
   "outputs": [
    {
     "data": {
      "text/plain": [
       "'ha'"
      ]
     },
     "execution_count": 73,
     "metadata": {},
     "output_type": "execute_result"
    }
   ],
   "source": [
    "s[:-3]"
   ]
  },
  {
   "cell_type": "code",
   "execution_count": 74,
   "id": "e76d857c-10e0-47a4-b8ea-ff085d5a0a6c",
   "metadata": {},
   "outputs": [
    {
     "data": {
      "text/plain": [
       "'i'"
      ]
     },
     "execution_count": 74,
     "metadata": {},
     "output_type": "execute_result"
    }
   ],
   "source": [
    "s[-2:-1]"
   ]
  },
  {
   "cell_type": "code",
   "execution_count": 75,
   "id": "0bd54c42-595e-4c66-b532-a78b478a2061",
   "metadata": {},
   "outputs": [
    {
     "data": {
      "text/plain": [
       "'is'"
      ]
     },
     "execution_count": 75,
     "metadata": {},
     "output_type": "execute_result"
    }
   ],
   "source": [
    "s[-2:]"
   ]
  },
  {
   "cell_type": "code",
   "execution_count": 76,
   "id": "7b4a98c1-42fb-4ea6-8676-d06bb5d11671",
   "metadata": {},
   "outputs": [
    {
     "data": {
      "text/plain": [
       "'haris'"
      ]
     },
     "execution_count": 76,
     "metadata": {},
     "output_type": "execute_result"
    }
   ],
   "source": [
    "s[::1]"
   ]
  },
  {
   "cell_type": "code",
   "execution_count": 77,
   "id": "0719403d-17c3-4bd9-968c-ad64de8b2007",
   "metadata": {},
   "outputs": [
    {
     "data": {
      "text/plain": [
       "'hrs'"
      ]
     },
     "execution_count": 77,
     "metadata": {},
     "output_type": "execute_result"
    }
   ],
   "source": [
    "s[::2]              # Slicing using skip value"
   ]
  },
  {
   "cell_type": "code",
   "execution_count": 78,
   "id": "219e6780-a90f-4461-bdf7-04e27620c176",
   "metadata": {},
   "outputs": [],
   "source": [
    "s = 'harisnazirlone'"
   ]
  },
  {
   "cell_type": "code",
   "execution_count": 39,
   "id": "baca81d5-4d89-447b-9244-20f9ab6242b0",
   "metadata": {},
   "outputs": [
    {
     "data": {
      "text/plain": [
       "'rsai'"
      ]
     },
     "execution_count": 39,
     "metadata": {},
     "output_type": "execute_result"
    }
   ],
   "source": [
    "s[2:10:2]"
   ]
  },
  {
   "cell_type": "code",
   "execution_count": 40,
   "id": "7a43dfed-fc93-45fd-88d7-c08828a6efa2",
   "metadata": {},
   "outputs": [
    {
     "data": {
      "text/plain": [
       "'iar'"
      ]
     },
     "execution_count": 40,
     "metadata": {},
     "output_type": "execute_result"
    }
   ],
   "source": [
    "s[3:12:3]"
   ]
  },
  {
   "cell_type": "code",
   "execution_count": 41,
   "id": "97806d18-1bfe-48ad-804e-b2f9d708842d",
   "metadata": {},
   "outputs": [
    {
     "data": {
      "text/plain": [
       "'nlias'"
      ]
     },
     "execution_count": 41,
     "metadata": {},
     "output_type": "execute_result"
    }
   ],
   "source": [
    "s[12:3:-2]"
   ]
  },
  {
   "cell_type": "code",
   "execution_count": 42,
   "id": "8ccea1a6-604c-4201-896d-a33ee65c6397",
   "metadata": {},
   "outputs": [
    {
     "data": {
      "text/plain": [
       "'nolrizans'"
      ]
     },
     "execution_count": 42,
     "metadata": {},
     "output_type": "execute_result"
    }
   ],
   "source": [
    "s[12:3:-1]"
   ]
  },
  {
   "cell_type": "code",
   "execution_count": 80,
   "id": "06936aaf-5860-408f-a7c3-a06bf3afc312",
   "metadata": {},
   "outputs": [
    {
     "data": {
      "text/plain": [
       "''"
      ]
     },
     "execution_count": 80,
     "metadata": {},
     "output_type": "execute_result"
    }
   ],
   "source": [
    "s[3:12:-1]"
   ]
  },
  {
   "cell_type": "code",
   "execution_count": 81,
   "id": "cf168125-071d-4765-84be-1d55c69b7a76",
   "metadata": {},
   "outputs": [
    {
     "data": {
      "text/plain": [
       "''"
      ]
     },
     "execution_count": 81,
     "metadata": {},
     "output_type": "execute_result"
    }
   ],
   "source": [
    "s[12:3]"
   ]
  },
  {
   "cell_type": "code",
   "execution_count": 82,
   "id": "da6a8946-956f-4047-b2f2-d21206c8c426",
   "metadata": {},
   "outputs": [
    {
     "data": {
      "text/plain": [
       "'olrizan'"
      ]
     },
     "execution_count": 82,
     "metadata": {},
     "output_type": "execute_result"
    }
   ],
   "source": [
    "s[-3:-10:-1]"
   ]
  },
  {
   "cell_type": "code",
   "execution_count": 83,
   "id": "3d5618b3-d458-4ed1-a6f4-fdc065137b0b",
   "metadata": {},
   "outputs": [
    {
     "data": {
      "text/plain": [
       "'orzn'"
      ]
     },
     "execution_count": 83,
     "metadata": {},
     "output_type": "execute_result"
    }
   ],
   "source": [
    "s[-3:-10:-2]"
   ]
  },
  {
   "cell_type": "code",
   "execution_count": 84,
   "id": "57facb9d-7b29-4aef-8437-05dd86d9ec09",
   "metadata": {},
   "outputs": [
    {
     "data": {
      "text/plain": [
       "''"
      ]
     },
     "execution_count": 84,
     "metadata": {},
     "output_type": "execute_result"
    }
   ],
   "source": [
    "s[-1:-13]"
   ]
  },
  {
   "cell_type": "code",
   "execution_count": 53,
   "id": "40f66b38-23c6-46d5-a121-51922f036c9d",
   "metadata": {},
   "outputs": [
    {
     "data": {
      "text/plain": [
       "'enolrizansirah'"
      ]
     },
     "execution_count": 53,
     "metadata": {},
     "output_type": "execute_result"
    }
   ],
   "source": [
    "s[-1:-15:-1]           #  Reversing a string"
   ]
  },
  {
   "cell_type": "code",
   "execution_count": null,
   "id": "bfc9ab09-2d75-42fe-a7f8-3b0d98bc1f63",
   "metadata": {},
   "outputs": [
    {
     "data": {
      "text/plain": [
       "'enolrizansirah'"
      ]
     },
     "execution_count": 58,
     "metadata": {},
     "output_type": "execute_result"
    }
   ],
   "source": [
    "s[-1:-45:-1]           #  Reversing a string   , MORE THAN UPPER BOUND IS ALLOWED"
   ]
  },
  {
   "cell_type": "code",
   "execution_count": 87,
   "id": "8911737f-c867-4a30-8d28-cfb7c9bf3133",
   "metadata": {},
   "outputs": [
    {
     "data": {
      "text/plain": [
       "'enolrizansirah'"
      ]
     },
     "execution_count": 87,
     "metadata": {},
     "output_type": "execute_result"
    }
   ],
   "source": [
    "s[16::-1]              # OR"
   ]
  },
  {
   "cell_type": "code",
   "execution_count": 88,
   "id": "e5362a1f-9e06-4889-85ab-3470930e6d6a",
   "metadata": {},
   "outputs": [
    {
     "data": {
      "text/plain": [
       "'enolrizansirah'"
      ]
     },
     "execution_count": 88,
     "metadata": {},
     "output_type": "execute_result"
    }
   ],
   "source": [
    "s[::-1]                 #OR"
   ]
  },
  {
   "cell_type": "code",
   "execution_count": 89,
   "id": "635d9816-3f48-44eb-bf81-841b439a7e0a",
   "metadata": {},
   "outputs": [
    {
     "data": {
      "text/plain": [
       "'h'"
      ]
     },
     "execution_count": 89,
     "metadata": {},
     "output_type": "execute_result"
    }
   ],
   "source": [
    "s[0]"
   ]
  },
  {
   "cell_type": "code",
   "execution_count": 90,
   "id": "210aaabe-67ed-4d3f-b8ff-b265a769df49",
   "metadata": {},
   "outputs": [
    {
     "ename": "TypeError",
     "evalue": "'str' object does not support item assignment",
     "output_type": "error",
     "traceback": [
      "\u001b[0;31m---------------------------------------------------------------------------\u001b[0m",
      "\u001b[0;31mTypeError\u001b[0m                                 Traceback (most recent call last)",
      "Cell \u001b[0;32mIn[90], line 1\u001b[0m\n\u001b[0;32m----> 1\u001b[0m \u001b[43ms\u001b[49m\u001b[43m[\u001b[49m\u001b[38;5;241;43m0\u001b[39;49m\u001b[43m]\u001b[49m \u001b[38;5;241m=\u001b[39m \u001b[38;5;124m'\u001b[39m\u001b[38;5;124mm\u001b[39m\u001b[38;5;124m'\u001b[39m           \u001b[38;5;66;03m#  String item  reassignment is not allowed  ,strings are immutable\u001b[39;00m\n",
      "\u001b[0;31mTypeError\u001b[0m: 'str' object does not support item assignment"
     ]
    }
   ],
   "source": [
    "s[0] = 'm'           #  String item  reassignment is not allowed  ,strings are immutable"
   ]
  },
  {
   "cell_type": "code",
   "execution_count": 91,
   "id": "1a5c3813-f118-46d0-8d18-0613cc60c55a",
   "metadata": {},
   "outputs": [
    {
     "name": "stdin",
     "output_type": "stream",
     "text": [
      " hj\n"
     ]
    }
   ],
   "source": [
    "d = bool(input())"
   ]
  },
  {
   "cell_type": "code",
   "execution_count": 92,
   "id": "35e8fd32-9a5f-458c-953e-af9a1e2b0dca",
   "metadata": {},
   "outputs": [
    {
     "data": {
      "text/plain": [
       "True"
      ]
     },
     "execution_count": 92,
     "metadata": {},
     "output_type": "execute_result"
    }
   ],
   "source": [
    "d"
   ]
  },
  {
   "cell_type": "code",
   "execution_count": 93,
   "id": "649e0b44-c525-40b0-9a63-1ff5c9844fa4",
   "metadata": {},
   "outputs": [],
   "source": [
    "# triple quotes can also be used a string"
   ]
  },
  {
   "cell_type": "code",
   "execution_count": null,
   "id": "fa899768-6221-4328-8eb2-ea8e63ce3c9d",
   "metadata": {},
   "outputs": [],
   "source": []
  }
 ],
 "metadata": {
  "kernelspec": {
   "display_name": "Python 3 (ipykernel)",
   "language": "python",
   "name": "python3"
  },
  "language_info": {
   "codemirror_mode": {
    "name": "ipython",
    "version": 3
   },
   "file_extension": ".py",
   "mimetype": "text/x-python",
   "name": "python",
   "nbconvert_exporter": "python",
   "pygments_lexer": "ipython3",
   "version": "3.10.8"
  }
 },
 "nbformat": 4,
 "nbformat_minor": 5
}
